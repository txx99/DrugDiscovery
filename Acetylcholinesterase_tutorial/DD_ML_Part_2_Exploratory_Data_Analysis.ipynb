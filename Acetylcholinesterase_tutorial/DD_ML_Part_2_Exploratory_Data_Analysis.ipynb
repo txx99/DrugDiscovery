{
  "cells": [
    {
      "cell_type": "markdown",
      "metadata": {
        "colab_type": "text",
        "id": "l0Y7_lgN4jzM"
      },
      "source": [
        "# **Computational Drug Discovery [Part 2]: Exploratory Data Analysis**\n",
        "\n",
        "Based on tutorial by Chanin Nantasenamat, [*'Data Professor' YouTube channel*](http://youtube.com/dataprofessor)\n",
        "\n",
        "In **Part 2**, we will be performing Descriptor Calculation and Exploratory Data Analysis.\n",
        "\n",
        "---"
      ]
    },
    {
      "cell_type": "markdown",
      "metadata": {
        "colab_type": "text",
        "id": "o-4IOizard4P"
      },
      "source": [
        "## **Install rdkit**"
      ]
    },
    {
      "cell_type": "code",
      "execution_count": 95,
      "metadata": {
        "vscode": {
          "languageId": "powershell"
        }
      },
      "outputs": [
        {
          "name": "stdout",
          "output_type": "stream",
          "text": [
            "Requirement already satisfied: rdkit in c:\\users\\liv_u\\appdata\\local\\programs\\python\\python312\\lib\\site-packages (2025.3.5)\n",
            "Requirement already satisfied: numpy in c:\\users\\liv_u\\appdata\\local\\programs\\python\\python312\\lib\\site-packages (from rdkit) (2.1.1)\n",
            "Requirement already satisfied: Pillow in c:\\users\\liv_u\\appdata\\local\\programs\\python\\python312\\lib\\site-packages (from rdkit) (10.4.0)\n"
          ]
        }
      ],
      "source": [
        "! pip install rdkit\n",
        "import sys\n",
        "sys.path.append('/usr/local/lib/python3.7/site-packages/')"
      ]
    },
    {
      "cell_type": "markdown",
      "metadata": {
        "colab_type": "text",
        "id": "QmxXXFa4wTNG"
      },
      "source": [
        "## **Load bioactivity data**"
      ]
    },
    {
      "cell_type": "code",
      "execution_count": 135,
      "metadata": {
        "colab": {},
        "colab_type": "code",
        "id": "Fpu5C7HlwV9s"
      },
      "outputs": [],
      "source": [
        "import pandas as pd"
      ]
    },
    {
      "cell_type": "code",
      "execution_count": 136,
      "metadata": {
        "colab": {},
        "colab_type": "code",
        "id": "GCcE8J5XwjtB"
      },
      "outputs": [
        {
          "data": {
            "application/vnd.microsoft.datawrangler.viewer.v0+json": {
              "columns": [
                {
                  "name": "index",
                  "rawType": "int64",
                  "type": "integer"
                },
                {
                  "name": "molecule_chembl_id",
                  "rawType": "object",
                  "type": "string"
                },
                {
                  "name": "canonical_smiles",
                  "rawType": "object",
                  "type": "string"
                },
                {
                  "name": "standard_value",
                  "rawType": "float64",
                  "type": "float"
                },
                {
                  "name": "bioactivity_class",
                  "rawType": "object",
                  "type": "string"
                }
              ],
              "ref": "47d4aeb7-1a7a-4319-9791-07e597f4105d",
              "rows": [
                [
                  "0",
                  "CHEMBL1834807",
                  "CCCCC/C=C\\C/C=C\\CCCCCCCC(=O)OCCCc1ccc2oc(-c3ccc4c(c3)OCO4)cc2c1",
                  "2700.0",
                  "intermediate"
                ],
                [
                  "1",
                  "CHEMBL5188500",
                  "CC(=O)N1N=C(c2ccc(-c3ccccc3)cc2)CC1c1ccc2c(c1)OCO2",
                  "988.0",
                  "active"
                ],
                [
                  "2",
                  "CHEMBL491358",
                  "CCOC(=O)C1=C(C)Nc2nc3c(c(N)c2C1c1ccc(OC)c(OC)c1)CCCC3",
                  "45.0",
                  "active"
                ],
                [
                  "3",
                  "CHEMBL5199361",
                  "CN1CCN(c2c3c(nc4ccc([N+](=O)[O-])cc24)CCCC3)CC1",
                  "245.0",
                  "active"
                ],
                [
                  "4",
                  "CHEMBL2158994",
                  "CN(C)CCOc1ccc(C(=O)/C=C/c2ccccc2)cc1",
                  "4680.0",
                  "intermediate"
                ],
                [
                  "5",
                  "CHEMBL1098479",
                  "C[C@H](CC[C@@H](O)C(C)(C)O)[C@H]1CC[C@@]2(C)C3=CC[C@H]4C(C)(C)C(=O)CC[C@]4(C)C3=CC[C@]12C",
                  "25080.0",
                  "inactive"
                ],
                [
                  "6",
                  "CHEMBL392385",
                  "CN(C(=O)Oc1ccc(Oc2ccc(C(F)(F)F)cn2)cc1)c1cccc(Cl)c1",
                  "50000.0",
                  "inactive"
                ],
                [
                  "7",
                  "CHEMBL574261",
                  "CCCSc1nc2nc3c(c(N)c2s1)C1CC(C)=CC(C3)C1",
                  "7690.0",
                  "intermediate"
                ],
                [
                  "8",
                  "CHEMBL130112",
                  "CSc1nc(-c2ccc(C)cc2)nn1C(=O)N(C)c1ccccc1",
                  "2400.0",
                  "intermediate"
                ],
                [
                  "9",
                  "CHEMBL4778690",
                  "COc1cc2c(cc1OC)C(=O)/C(=C/c1ccc(N3CC[N+](C)(Cc4cccc(Br)c4)CC3)cc1)C2.[Br-]",
                  "1990.0",
                  "intermediate"
                ],
                [
                  "10",
                  "CHEMBL4743162",
                  "O=[N+]([O-])c1ccccc1-c1nnc(Nc2ncccn2)o1",
                  "3388.44",
                  "intermediate"
                ],
                [
                  "11",
                  "CHEMBL990",
                  "CN(Cc1ccc(C(C)(C)C)cc1)Cc1cccc2ccccc12",
                  "6907.1",
                  "intermediate"
                ],
                [
                  "12",
                  "CHEMBL1257412",
                  "CCCCCCCCCCCCCCNc1c2c(nc3ccc(OC)cc13)CCCC2.Cl",
                  "46000.0",
                  "inactive"
                ],
                [
                  "13",
                  "CHEMBL3415565",
                  "O=C1c2ccccc2C(=O)N1CCCCCCCNCc1ccccc1F",
                  "329.0",
                  "active"
                ],
                [
                  "14",
                  "CHEMBL372491",
                  "COc1cc2cc(C(=O)C3CCC[N+](C)(CC4CCCCO4)CC3)sc2cc1OC",
                  "28.0",
                  "active"
                ],
                [
                  "15",
                  "CHEMBL4063663",
                  "COc1cc(/C=C/C(=O)Nc2ccccc2)ccc1OCCCCN1CCCC1",
                  "24350.0",
                  "inactive"
                ],
                [
                  "16",
                  "CHEMBL4205651",
                  "O=C(CNCc1ccccc1F)Nc1ccc2nc3n(c(=O)c2c1)CCC3",
                  "528.0",
                  "active"
                ],
                [
                  "17",
                  "CHEMBL4292192",
                  "CCN(CC)c1ccc(/C=C/c2cc(N3CCCCC3)c3ccccc3n2)cc1",
                  "64100.0",
                  "inactive"
                ],
                [
                  "18",
                  "CHEMBL4287340",
                  "CCN1CCN(C2CCN(C(=O)COc3ccc4c(c3)CCC4=O)CC2)CC1",
                  "4900.0",
                  "intermediate"
                ],
                [
                  "19",
                  "CHEMBL5273978",
                  "Cc1cccc(C(=O)N2Cc3ccc(N4C(=O)c5ccccc5C4=O)cc3CC2=O)c1",
                  "25.48",
                  "active"
                ],
                [
                  "20",
                  "CHEMBL4580216",
                  "S=C(NNc1c2c(nc3ccccc13)CCCC2)Nc1ccccc1",
                  "610.0",
                  "active"
                ],
                [
                  "21",
                  "CHEMBL2380667",
                  "O=C1/C(=C/c2cccc3ccccc23)CN(C(=O)[C@H]2C[C@H]3CCCN3[C@]23C(=O)Nc2cc(Cl)ccc23)C/C1=C\\c1cccc2ccccc12",
                  "5810.0",
                  "intermediate"
                ],
                [
                  "22",
                  "CHEMBL422971",
                  "O=C1/C(=C/c2cc[nH]c2)CN(Cc2ccccc2)C/C1=C\\c1cc[nH]c1",
                  "6000.0",
                  "intermediate"
                ],
                [
                  "23",
                  "CHEMBL4466829",
                  "C(=N/Nc1c2c(nc3ccccc13)CCCC2)\\c1ccc(OCc2cn(Cc3ccccc3)nn2)cc1.Cl",
                  "1050.0",
                  "intermediate"
                ],
                [
                  "24",
                  "CHEMBL4634371",
                  "COc1c2c(cc3c1OCO3)[C@]13C=C[C@H](OC)C[C@@H]1[N@](C2)C[C@H]3OC(=O)c1ccco1",
                  "100000.0",
                  "inactive"
                ],
                [
                  "25",
                  "CHEMBL496",
                  "Oc1c(Cl)cc(Cl)c(Cl)c1Cc1c(O)c(Cl)cc(Cl)c1Cl",
                  "3014.9",
                  "intermediate"
                ],
                [
                  "26",
                  "CHEMBL3623554",
                  "CC(C)(C)c1cccc(C(=O)C(F)F)c1",
                  "6.05",
                  "active"
                ],
                [
                  "27",
                  "CHEMBL171048",
                  "COc1cc2c(cc1OC)C(=O)C(CC1CCN(Cc3ccc([N+](=O)[O-])cc3)CC1)C2",
                  "1910.0",
                  "intermediate"
                ],
                [
                  "28",
                  "CHEMBL195241",
                  "Cc1c(N2CCN(C)CC2)nc2ccccc2c1C(=O)NCCCCCCCNc1c2c(nc3ccccc13)CCCC2",
                  "4.1",
                  "active"
                ],
                [
                  "29",
                  "CHEMBL14638",
                  "O=C(c1ccc(OCCCc2c[nH]cn2)cc1)C1CC1",
                  "86100.0",
                  "inactive"
                ],
                [
                  "30",
                  "CHEMBL4878578",
                  "Clc1ccc(CN2CCC(c3cc4ccccc4o3)CC2)cc1",
                  "98550.0",
                  "inactive"
                ],
                [
                  "31",
                  "CHEMBL1195259",
                  "C#CCNC1CCc2c(OC(=O)N(C)C)cccc21",
                  "86000.0",
                  "inactive"
                ],
                [
                  "32",
                  "CHEMBL24519",
                  "C[C@]12CC[C@H](O)[C@@](C)(CO)C1C[C@H](O)[C@@]1(C)Oc3cc(-c4ccncc4)oc(=O)c3C(=O)C21",
                  "7900.0",
                  "intermediate"
                ],
                [
                  "33",
                  "CHEMBL1083064",
                  "CNC(=O)Oc1cccc(-c2cn3ccccc3[n+]2C)c1.[I-]",
                  "350.0",
                  "active"
                ],
                [
                  "34",
                  "CHEMBL542749",
                  "CCN(C)C(=O)Oc1cccc2c1C(N)CC2.Cl",
                  "10500.0",
                  "inactive"
                ],
                [
                  "35",
                  "CHEMBL1929421",
                  "C#CCN(C)Cc1cc2cc(OCCCC3CCN(Cc4ccccc4)CC3)ccc2n1C",
                  "380.0",
                  "active"
                ],
                [
                  "36",
                  "CHEMBL136719",
                  "CC(=O)Oc1cccc([N+](C)(C)C)c1C",
                  "40831.94",
                  "inactive"
                ],
                [
                  "37",
                  "CHEMBL502",
                  "COc1cc2c(cc1OC)C(=O)C(CC1CCN(Cc3ccccc3)CC1)C2",
                  "2.33",
                  "active"
                ],
                [
                  "38",
                  "CHEMBL2234518",
                  "CC1(C)CC(=O)C2=C(C1)Oc1nc3c(c(N)c1[C@H]2c1ccccc1C(F)(F)F)CCCC3",
                  "17782.79",
                  "inactive"
                ],
                [
                  "39",
                  "CHEMBL2425418",
                  "NC(=S)NNC=C1C(=O)NC(=O)NC1=O",
                  "119110.0",
                  "inactive"
                ],
                [
                  "40",
                  "CHEMBL383663",
                  "O=C(CCCCCNc1c2c(nc3cc(Cl)ccc13)CCCC2)NCCc1c[nH]c2ccccc12",
                  "5e-06",
                  "active"
                ],
                [
                  "41",
                  "CHEMBL4286799",
                  "O=C(NCCC1CCN(Cc2ccccc2)CC1)c1cc(=O)c2ccccc2o1",
                  "110.0",
                  "active"
                ],
                [
                  "42",
                  "CHEMBL4439928",
                  "CC(C)Cc1ccc(C(C)C(=O)NS(=O)(=O)c2ccc(N)cc2)cc1",
                  "600000.0",
                  "inactive"
                ],
                [
                  "43",
                  "CHEMBL421601",
                  "CN(C)Cc1ccc(CSCCNc2cccc(F)c2C#N)o1",
                  "2100.0",
                  "intermediate"
                ],
                [
                  "44",
                  "CHEMBL1669481",
                  "[Br-].[Br-].c1ccc2c[n+](CCC[n+]3ccc4ccccc4c3)ccc2c1",
                  "446000.0",
                  "inactive"
                ],
                [
                  "45",
                  "CHEMBL2323351",
                  "COc1ccc(/C=N/NC(=O)CN2CCN(Cc3ccccc3)CC2)cc1OC",
                  "81100.0",
                  "inactive"
                ],
                [
                  "46",
                  "CHEMBL101518",
                  "CN(CCOCCNC(=S)NC(=O)c1ccc(Cl)cc1)Cc1ccccc1",
                  "30.0",
                  "active"
                ],
                [
                  "47",
                  "CHEMBL4216666",
                  "O/N=C/c1nc(CCCCNc2c3c(nc4ccc(Cl)cc24)CCCC3)ccc1O",
                  "2300.0",
                  "intermediate"
                ],
                [
                  "48",
                  "CHEMBL4170331",
                  "CC(=O)c1c[n+](Cc2cccc(Cl)c2)ccc1CC1Cc2cc(O)ccc2C1=O.[Br-]",
                  "116.5",
                  "active"
                ],
                [
                  "49",
                  "CHEMBL367571",
                  "COC1=CC(=O)[C@]2(C)[C@]3(O)Cc4c(cc(-c5cc(OC)c(OC)c(OC)c5)oc4=O)O[C@]3(C)CC[C@]2(O)C1(C)C",
                  "420.0",
                  "active"
                ]
              ],
              "shape": {
                "columns": 4,
                "rows": 6614
              }
            },
            "text/html": [
              "<div>\n",
              "<style scoped>\n",
              "    .dataframe tbody tr th:only-of-type {\n",
              "        vertical-align: middle;\n",
              "    }\n",
              "\n",
              "    .dataframe tbody tr th {\n",
              "        vertical-align: top;\n",
              "    }\n",
              "\n",
              "    .dataframe thead th {\n",
              "        text-align: right;\n",
              "    }\n",
              "</style>\n",
              "<table border=\"1\" class=\"dataframe\">\n",
              "  <thead>\n",
              "    <tr style=\"text-align: right;\">\n",
              "      <th></th>\n",
              "      <th>molecule_chembl_id</th>\n",
              "      <th>canonical_smiles</th>\n",
              "      <th>standard_value</th>\n",
              "      <th>bioactivity_class</th>\n",
              "    </tr>\n",
              "  </thead>\n",
              "  <tbody>\n",
              "    <tr>\n",
              "      <th>0</th>\n",
              "      <td>CHEMBL1834807</td>\n",
              "      <td>CCCCC/C=C\\C/C=C\\CCCCCCCC(=O)OCCCc1ccc2oc(-c3cc...</td>\n",
              "      <td>2700.0</td>\n",
              "      <td>intermediate</td>\n",
              "    </tr>\n",
              "    <tr>\n",
              "      <th>1</th>\n",
              "      <td>CHEMBL5188500</td>\n",
              "      <td>CC(=O)N1N=C(c2ccc(-c3ccccc3)cc2)CC1c1ccc2c(c1)...</td>\n",
              "      <td>988.0</td>\n",
              "      <td>active</td>\n",
              "    </tr>\n",
              "    <tr>\n",
              "      <th>2</th>\n",
              "      <td>CHEMBL491358</td>\n",
              "      <td>CCOC(=O)C1=C(C)Nc2nc3c(c(N)c2C1c1ccc(OC)c(OC)c...</td>\n",
              "      <td>45.0</td>\n",
              "      <td>active</td>\n",
              "    </tr>\n",
              "    <tr>\n",
              "      <th>3</th>\n",
              "      <td>CHEMBL5199361</td>\n",
              "      <td>CN1CCN(c2c3c(nc4ccc([N+](=O)[O-])cc24)CCCC3)CC1</td>\n",
              "      <td>245.0</td>\n",
              "      <td>active</td>\n",
              "    </tr>\n",
              "    <tr>\n",
              "      <th>4</th>\n",
              "      <td>CHEMBL2158994</td>\n",
              "      <td>CN(C)CCOc1ccc(C(=O)/C=C/c2ccccc2)cc1</td>\n",
              "      <td>4680.0</td>\n",
              "      <td>intermediate</td>\n",
              "    </tr>\n",
              "    <tr>\n",
              "      <th>...</th>\n",
              "      <td>...</td>\n",
              "      <td>...</td>\n",
              "      <td>...</td>\n",
              "      <td>...</td>\n",
              "    </tr>\n",
              "    <tr>\n",
              "      <th>6609</th>\n",
              "      <td>CHEMBL310918</td>\n",
              "      <td>O=C(CCC1CCN(Cc2cccc([N+](=O)[O-])c2)CC1)c1ccc2...</td>\n",
              "      <td>64.0</td>\n",
              "      <td>active</td>\n",
              "    </tr>\n",
              "    <tr>\n",
              "      <th>6610</th>\n",
              "      <td>CHEMBL539571</td>\n",
              "      <td>C#CCNC1CCc2ccc(OC(=O)N(CC)CCCC)cc21.Cl</td>\n",
              "      <td>72400.0</td>\n",
              "      <td>inactive</td>\n",
              "    </tr>\n",
              "    <tr>\n",
              "      <th>6611</th>\n",
              "      <td>CHEMBL130738</td>\n",
              "      <td>Cc1[nH]c(C)c(/C=C2\\CN(Cc3ccccc3)CCC2=O)c1C=O</td>\n",
              "      <td>30000.0</td>\n",
              "      <td>inactive</td>\n",
              "    </tr>\n",
              "    <tr>\n",
              "      <th>6612</th>\n",
              "      <td>CHEMBL4453051</td>\n",
              "      <td>c1ccc(CNC2CCN(Cc3ccccc3)CC2)cc1</td>\n",
              "      <td>1700.0</td>\n",
              "      <td>intermediate</td>\n",
              "    </tr>\n",
              "    <tr>\n",
              "      <th>6613</th>\n",
              "      <td>CHEMBL3771233</td>\n",
              "      <td>O=C(CCc1ccccc1)N1c2ccccc2[Se]c2ccccc21</td>\n",
              "      <td>6700.0</td>\n",
              "      <td>intermediate</td>\n",
              "    </tr>\n",
              "  </tbody>\n",
              "</table>\n",
              "<p>6614 rows × 4 columns</p>\n",
              "</div>"
            ],
            "text/plain": [
              "     molecule_chembl_id                                   canonical_smiles  \\\n",
              "0         CHEMBL1834807  CCCCC/C=C\\C/C=C\\CCCCCCCC(=O)OCCCc1ccc2oc(-c3cc...   \n",
              "1         CHEMBL5188500  CC(=O)N1N=C(c2ccc(-c3ccccc3)cc2)CC1c1ccc2c(c1)...   \n",
              "2          CHEMBL491358  CCOC(=O)C1=C(C)Nc2nc3c(c(N)c2C1c1ccc(OC)c(OC)c...   \n",
              "3         CHEMBL5199361    CN1CCN(c2c3c(nc4ccc([N+](=O)[O-])cc24)CCCC3)CC1   \n",
              "4         CHEMBL2158994               CN(C)CCOc1ccc(C(=O)/C=C/c2ccccc2)cc1   \n",
              "...                 ...                                                ...   \n",
              "6609       CHEMBL310918  O=C(CCC1CCN(Cc2cccc([N+](=O)[O-])c2)CC1)c1ccc2...   \n",
              "6610       CHEMBL539571             C#CCNC1CCc2ccc(OC(=O)N(CC)CCCC)cc21.Cl   \n",
              "6611       CHEMBL130738       Cc1[nH]c(C)c(/C=C2\\CN(Cc3ccccc3)CCC2=O)c1C=O   \n",
              "6612      CHEMBL4453051                    c1ccc(CNC2CCN(Cc3ccccc3)CC2)cc1   \n",
              "6613      CHEMBL3771233             O=C(CCc1ccccc1)N1c2ccccc2[Se]c2ccccc21   \n",
              "\n",
              "      standard_value bioactivity_class  \n",
              "0             2700.0      intermediate  \n",
              "1              988.0            active  \n",
              "2               45.0            active  \n",
              "3              245.0            active  \n",
              "4             4680.0      intermediate  \n",
              "...              ...               ...  \n",
              "6609            64.0            active  \n",
              "6610         72400.0          inactive  \n",
              "6611         30000.0          inactive  \n",
              "6612          1700.0      intermediate  \n",
              "6613          6700.0      intermediate  \n",
              "\n",
              "[6614 rows x 4 columns]"
            ]
          },
          "execution_count": 136,
          "metadata": {},
          "output_type": "execute_result"
        }
      ],
      "source": [
        "df_preprocessed = pd.read_csv('./data/bioactivity_preprocessed_data.csv')\n",
        "df_preprocessed"
      ]
    },
    {
      "cell_type": "markdown",
      "metadata": {},
      "source": [
        "Clean the smiles data by removing salts/ions that are attached to the molecule, separated from the molecule by '.'. Of the multiple resulting compounds after splitting, we will assume the lrgest compund is the molecule of interest."
      ]
    },
    {
      "cell_type": "code",
      "execution_count": 140,
      "metadata": {},
      "outputs": [
        {
          "data": {
            "application/vnd.microsoft.datawrangler.viewer.v0+json": {
              "columns": [
                {
                  "name": "index",
                  "rawType": "int64",
                  "type": "integer"
                },
                {
                  "name": "molecule_chembl_id",
                  "rawType": "object",
                  "type": "string"
                },
                {
                  "name": "standard_value",
                  "rawType": "float64",
                  "type": "float"
                },
                {
                  "name": "bioactivity_class",
                  "rawType": "object",
                  "type": "string"
                },
                {
                  "name": "canonical_smiles",
                  "rawType": "object",
                  "type": "string"
                }
              ],
              "ref": "90cf20dc-7db3-499e-bcfd-737e045f87eb",
              "rows": [
                [
                  "0",
                  "CHEMBL1834807",
                  "2700.0",
                  "intermediate",
                  "CCCCC/C=C\\C/C=C\\CCCCCCCC(=O)OCCCc1ccc2oc(-c3ccc4c(c3)OCO4)cc2c1"
                ],
                [
                  "1",
                  "CHEMBL5188500",
                  "988.0",
                  "active",
                  "CC(=O)N1N=C(c2ccc(-c3ccccc3)cc2)CC1c1ccc2c(c1)OCO2"
                ],
                [
                  "2",
                  "CHEMBL491358",
                  "45.0",
                  "active",
                  "CCOC(=O)C1=C(C)Nc2nc3c(c(N)c2C1c1ccc(OC)c(OC)c1)CCCC3"
                ],
                [
                  "3",
                  "CHEMBL5199361",
                  "245.0",
                  "active",
                  "CN1CCN(c2c3c(nc4ccc([N+](=O)[O-])cc24)CCCC3)CC1"
                ],
                [
                  "4",
                  "CHEMBL2158994",
                  "4680.0",
                  "intermediate",
                  "CN(C)CCOc1ccc(C(=O)/C=C/c2ccccc2)cc1"
                ],
                [
                  "5",
                  "CHEMBL1098479",
                  "25080.0",
                  "inactive",
                  "C[C@H](CC[C@@H](O)C(C)(C)O)[C@H]1CC[C@@]2(C)C3=CC[C@H]4C(C)(C)C(=O)CC[C@]4(C)C3=CC[C@]12C"
                ],
                [
                  "6",
                  "CHEMBL392385",
                  "50000.0",
                  "inactive",
                  "CN(C(=O)Oc1ccc(Oc2ccc(C(F)(F)F)cn2)cc1)c1cccc(Cl)c1"
                ],
                [
                  "7",
                  "CHEMBL574261",
                  "7690.0",
                  "intermediate",
                  "CCCSc1nc2nc3c(c(N)c2s1)C1CC(C)=CC(C3)C1"
                ],
                [
                  "8",
                  "CHEMBL130112",
                  "2400.0",
                  "intermediate",
                  "CSc1nc(-c2ccc(C)cc2)nn1C(=O)N(C)c1ccccc1"
                ],
                [
                  "9",
                  "CHEMBL4778690",
                  "1990.0",
                  "intermediate",
                  "COc1cc2c(cc1OC)C(=O)/C(=C/c1ccc(N3CC[N+](C)(Cc4cccc(Br)c4)CC3)cc1)C2"
                ],
                [
                  "10",
                  "CHEMBL4743162",
                  "3388.44",
                  "intermediate",
                  "O=[N+]([O-])c1ccccc1-c1nnc(Nc2ncccn2)o1"
                ],
                [
                  "11",
                  "CHEMBL990",
                  "6907.1",
                  "intermediate",
                  "CN(Cc1ccc(C(C)(C)C)cc1)Cc1cccc2ccccc12"
                ],
                [
                  "12",
                  "CHEMBL1257412",
                  "46000.0",
                  "inactive",
                  "CCCCCCCCCCCCCCNc1c2c(nc3ccc(OC)cc13)CCCC2"
                ],
                [
                  "13",
                  "CHEMBL3415565",
                  "329.0",
                  "active",
                  "O=C1c2ccccc2C(=O)N1CCCCCCCNCc1ccccc1F"
                ],
                [
                  "14",
                  "CHEMBL372491",
                  "28.0",
                  "active",
                  "COc1cc2cc(C(=O)C3CCC[N+](C)(CC4CCCCO4)CC3)sc2cc1OC"
                ],
                [
                  "15",
                  "CHEMBL4063663",
                  "24350.0",
                  "inactive",
                  "COc1cc(/C=C/C(=O)Nc2ccccc2)ccc1OCCCCN1CCCC1"
                ],
                [
                  "16",
                  "CHEMBL4205651",
                  "528.0",
                  "active",
                  "O=C(CNCc1ccccc1F)Nc1ccc2nc3n(c(=O)c2c1)CCC3"
                ],
                [
                  "17",
                  "CHEMBL4292192",
                  "64100.0",
                  "inactive",
                  "CCN(CC)c1ccc(/C=C/c2cc(N3CCCCC3)c3ccccc3n2)cc1"
                ],
                [
                  "18",
                  "CHEMBL4287340",
                  "4900.0",
                  "intermediate",
                  "CCN1CCN(C2CCN(C(=O)COc3ccc4c(c3)CCC4=O)CC2)CC1"
                ],
                [
                  "19",
                  "CHEMBL5273978",
                  "25.48",
                  "active",
                  "Cc1cccc(C(=O)N2Cc3ccc(N4C(=O)c5ccccc5C4=O)cc3CC2=O)c1"
                ],
                [
                  "20",
                  "CHEMBL4580216",
                  "610.0",
                  "active",
                  "S=C(NNc1c2c(nc3ccccc13)CCCC2)Nc1ccccc1"
                ],
                [
                  "21",
                  "CHEMBL2380667",
                  "5810.0",
                  "intermediate",
                  "O=C1/C(=C/c2cccc3ccccc23)CN(C(=O)[C@H]2C[C@H]3CCCN3[C@]23C(=O)Nc2cc(Cl)ccc23)C/C1=C\\c1cccc2ccccc12"
                ],
                [
                  "22",
                  "CHEMBL422971",
                  "6000.0",
                  "intermediate",
                  "O=C1/C(=C/c2cc[nH]c2)CN(Cc2ccccc2)C/C1=C\\c1cc[nH]c1"
                ],
                [
                  "23",
                  "CHEMBL4466829",
                  "1050.0",
                  "intermediate",
                  "C(=N/Nc1c2c(nc3ccccc13)CCCC2)\\c1ccc(OCc2cn(Cc3ccccc3)nn2)cc1"
                ],
                [
                  "24",
                  "CHEMBL4634371",
                  "100000.0",
                  "inactive",
                  "COc1c2c(cc3c1OCO3)[C@]13C=C[C@H](OC)C[C@@H]1[N@](C2)C[C@H]3OC(=O)c1ccco1"
                ],
                [
                  "25",
                  "CHEMBL496",
                  "3014.9",
                  "intermediate",
                  "Oc1c(Cl)cc(Cl)c(Cl)c1Cc1c(O)c(Cl)cc(Cl)c1Cl"
                ],
                [
                  "26",
                  "CHEMBL3623554",
                  "6.05",
                  "active",
                  "CC(C)(C)c1cccc(C(=O)C(F)F)c1"
                ],
                [
                  "27",
                  "CHEMBL171048",
                  "1910.0",
                  "intermediate",
                  "COc1cc2c(cc1OC)C(=O)C(CC1CCN(Cc3ccc([N+](=O)[O-])cc3)CC1)C2"
                ],
                [
                  "28",
                  "CHEMBL195241",
                  "4.1",
                  "active",
                  "Cc1c(N2CCN(C)CC2)nc2ccccc2c1C(=O)NCCCCCCCNc1c2c(nc3ccccc13)CCCC2"
                ],
                [
                  "29",
                  "CHEMBL14638",
                  "86100.0",
                  "inactive",
                  "O=C(c1ccc(OCCCc2c[nH]cn2)cc1)C1CC1"
                ],
                [
                  "30",
                  "CHEMBL4878578",
                  "98550.0",
                  "inactive",
                  "Clc1ccc(CN2CCC(c3cc4ccccc4o3)CC2)cc1"
                ],
                [
                  "31",
                  "CHEMBL1195259",
                  "86000.0",
                  "inactive",
                  "C#CCNC1CCc2c(OC(=O)N(C)C)cccc21"
                ],
                [
                  "32",
                  "CHEMBL24519",
                  "7900.0",
                  "intermediate",
                  "C[C@]12CC[C@H](O)[C@@](C)(CO)C1C[C@H](O)[C@@]1(C)Oc3cc(-c4ccncc4)oc(=O)c3C(=O)C21"
                ],
                [
                  "33",
                  "CHEMBL1083064",
                  "350.0",
                  "active",
                  "CNC(=O)Oc1cccc(-c2cn3ccccc3[n+]2C)c1"
                ],
                [
                  "34",
                  "CHEMBL542749",
                  "10500.0",
                  "inactive",
                  "CCN(C)C(=O)Oc1cccc2c1C(N)CC2"
                ],
                [
                  "35",
                  "CHEMBL1929421",
                  "380.0",
                  "active",
                  "C#CCN(C)Cc1cc2cc(OCCCC3CCN(Cc4ccccc4)CC3)ccc2n1C"
                ],
                [
                  "36",
                  "CHEMBL136719",
                  "40831.94",
                  "inactive",
                  "CC(=O)Oc1cccc([N+](C)(C)C)c1C"
                ],
                [
                  "37",
                  "CHEMBL502",
                  "2.33",
                  "active",
                  "COc1cc2c(cc1OC)C(=O)C(CC1CCN(Cc3ccccc3)CC1)C2"
                ],
                [
                  "38",
                  "CHEMBL2234518",
                  "17782.79",
                  "inactive",
                  "CC1(C)CC(=O)C2=C(C1)Oc1nc3c(c(N)c1[C@H]2c1ccccc1C(F)(F)F)CCCC3"
                ],
                [
                  "39",
                  "CHEMBL2425418",
                  "119110.0",
                  "inactive",
                  "NC(=S)NNC=C1C(=O)NC(=O)NC1=O"
                ],
                [
                  "40",
                  "CHEMBL383663",
                  "5e-06",
                  "active",
                  "O=C(CCCCCNc1c2c(nc3cc(Cl)ccc13)CCCC2)NCCc1c[nH]c2ccccc12"
                ],
                [
                  "41",
                  "CHEMBL4286799",
                  "110.0",
                  "active",
                  "O=C(NCCC1CCN(Cc2ccccc2)CC1)c1cc(=O)c2ccccc2o1"
                ],
                [
                  "42",
                  "CHEMBL4439928",
                  "600000.0",
                  "inactive",
                  "CC(C)Cc1ccc(C(C)C(=O)NS(=O)(=O)c2ccc(N)cc2)cc1"
                ],
                [
                  "43",
                  "CHEMBL421601",
                  "2100.0",
                  "intermediate",
                  "CN(C)Cc1ccc(CSCCNc2cccc(F)c2C#N)o1"
                ],
                [
                  "44",
                  "CHEMBL1669481",
                  "446000.0",
                  "inactive",
                  "c1ccc2c[n+](CCC[n+]3ccc4ccccc4c3)ccc2c1"
                ],
                [
                  "45",
                  "CHEMBL2323351",
                  "81100.0",
                  "inactive",
                  "COc1ccc(/C=N/NC(=O)CN2CCN(Cc3ccccc3)CC2)cc1OC"
                ],
                [
                  "46",
                  "CHEMBL101518",
                  "30.0",
                  "active",
                  "CN(CCOCCNC(=S)NC(=O)c1ccc(Cl)cc1)Cc1ccccc1"
                ],
                [
                  "47",
                  "CHEMBL4216666",
                  "2300.0",
                  "intermediate",
                  "O/N=C/c1nc(CCCCNc2c3c(nc4ccc(Cl)cc24)CCCC3)ccc1O"
                ],
                [
                  "48",
                  "CHEMBL4170331",
                  "116.5",
                  "active",
                  "CC(=O)c1c[n+](Cc2cccc(Cl)c2)ccc1CC1Cc2cc(O)ccc2C1=O"
                ],
                [
                  "49",
                  "CHEMBL367571",
                  "420.0",
                  "active",
                  "COC1=CC(=O)[C@]2(C)[C@]3(O)Cc4c(cc(-c5cc(OC)c(OC)c(OC)c5)oc4=O)O[C@]3(C)CC[C@]2(O)C1(C)C"
                ]
              ],
              "shape": {
                "columns": 4,
                "rows": 6614
              }
            },
            "text/html": [
              "<div>\n",
              "<style scoped>\n",
              "    .dataframe tbody tr th:only-of-type {\n",
              "        vertical-align: middle;\n",
              "    }\n",
              "\n",
              "    .dataframe tbody tr th {\n",
              "        vertical-align: top;\n",
              "    }\n",
              "\n",
              "    .dataframe thead th {\n",
              "        text-align: right;\n",
              "    }\n",
              "</style>\n",
              "<table border=\"1\" class=\"dataframe\">\n",
              "  <thead>\n",
              "    <tr style=\"text-align: right;\">\n",
              "      <th></th>\n",
              "      <th>molecule_chembl_id</th>\n",
              "      <th>standard_value</th>\n",
              "      <th>bioactivity_class</th>\n",
              "      <th>canonical_smiles</th>\n",
              "    </tr>\n",
              "  </thead>\n",
              "  <tbody>\n",
              "    <tr>\n",
              "      <th>0</th>\n",
              "      <td>CHEMBL1834807</td>\n",
              "      <td>2700.0</td>\n",
              "      <td>intermediate</td>\n",
              "      <td>CCCCC/C=C\\C/C=C\\CCCCCCCC(=O)OCCCc1ccc2oc(-c3cc...</td>\n",
              "    </tr>\n",
              "    <tr>\n",
              "      <th>1</th>\n",
              "      <td>CHEMBL5188500</td>\n",
              "      <td>988.0</td>\n",
              "      <td>active</td>\n",
              "      <td>CC(=O)N1N=C(c2ccc(-c3ccccc3)cc2)CC1c1ccc2c(c1)...</td>\n",
              "    </tr>\n",
              "    <tr>\n",
              "      <th>2</th>\n",
              "      <td>CHEMBL491358</td>\n",
              "      <td>45.0</td>\n",
              "      <td>active</td>\n",
              "      <td>CCOC(=O)C1=C(C)Nc2nc3c(c(N)c2C1c1ccc(OC)c(OC)c...</td>\n",
              "    </tr>\n",
              "    <tr>\n",
              "      <th>3</th>\n",
              "      <td>CHEMBL5199361</td>\n",
              "      <td>245.0</td>\n",
              "      <td>active</td>\n",
              "      <td>CN1CCN(c2c3c(nc4ccc([N+](=O)[O-])cc24)CCCC3)CC1</td>\n",
              "    </tr>\n",
              "    <tr>\n",
              "      <th>4</th>\n",
              "      <td>CHEMBL2158994</td>\n",
              "      <td>4680.0</td>\n",
              "      <td>intermediate</td>\n",
              "      <td>CN(C)CCOc1ccc(C(=O)/C=C/c2ccccc2)cc1</td>\n",
              "    </tr>\n",
              "    <tr>\n",
              "      <th>...</th>\n",
              "      <td>...</td>\n",
              "      <td>...</td>\n",
              "      <td>...</td>\n",
              "      <td>...</td>\n",
              "    </tr>\n",
              "    <tr>\n",
              "      <th>6609</th>\n",
              "      <td>CHEMBL310918</td>\n",
              "      <td>64.0</td>\n",
              "      <td>active</td>\n",
              "      <td>O=C(CCC1CCN(Cc2cccc([N+](=O)[O-])c2)CC1)c1ccc2...</td>\n",
              "    </tr>\n",
              "    <tr>\n",
              "      <th>6610</th>\n",
              "      <td>CHEMBL539571</td>\n",
              "      <td>72400.0</td>\n",
              "      <td>inactive</td>\n",
              "      <td>C#CCNC1CCc2ccc(OC(=O)N(CC)CCCC)cc21</td>\n",
              "    </tr>\n",
              "    <tr>\n",
              "      <th>6611</th>\n",
              "      <td>CHEMBL130738</td>\n",
              "      <td>30000.0</td>\n",
              "      <td>inactive</td>\n",
              "      <td>Cc1[nH]c(C)c(/C=C2\\CN(Cc3ccccc3)CCC2=O)c1C=O</td>\n",
              "    </tr>\n",
              "    <tr>\n",
              "      <th>6612</th>\n",
              "      <td>CHEMBL4453051</td>\n",
              "      <td>1700.0</td>\n",
              "      <td>intermediate</td>\n",
              "      <td>c1ccc(CNC2CCN(Cc3ccccc3)CC2)cc1</td>\n",
              "    </tr>\n",
              "    <tr>\n",
              "      <th>6613</th>\n",
              "      <td>CHEMBL3771233</td>\n",
              "      <td>6700.0</td>\n",
              "      <td>intermediate</td>\n",
              "      <td>O=C(CCc1ccccc1)N1c2ccccc2[Se]c2ccccc21</td>\n",
              "    </tr>\n",
              "  </tbody>\n",
              "</table>\n",
              "<p>6614 rows × 4 columns</p>\n",
              "</div>"
            ],
            "text/plain": [
              "     molecule_chembl_id  standard_value bioactivity_class  \\\n",
              "0         CHEMBL1834807          2700.0      intermediate   \n",
              "1         CHEMBL5188500           988.0            active   \n",
              "2          CHEMBL491358            45.0            active   \n",
              "3         CHEMBL5199361           245.0            active   \n",
              "4         CHEMBL2158994          4680.0      intermediate   \n",
              "...                 ...             ...               ...   \n",
              "6609       CHEMBL310918            64.0            active   \n",
              "6610       CHEMBL539571         72400.0          inactive   \n",
              "6611       CHEMBL130738         30000.0          inactive   \n",
              "6612      CHEMBL4453051          1700.0      intermediate   \n",
              "6613      CHEMBL3771233          6700.0      intermediate   \n",
              "\n",
              "                                       canonical_smiles  \n",
              "0     CCCCC/C=C\\C/C=C\\CCCCCCCC(=O)OCCCc1ccc2oc(-c3cc...  \n",
              "1     CC(=O)N1N=C(c2ccc(-c3ccccc3)cc2)CC1c1ccc2c(c1)...  \n",
              "2     CCOC(=O)C1=C(C)Nc2nc3c(c(N)c2C1c1ccc(OC)c(OC)c...  \n",
              "3       CN1CCN(c2c3c(nc4ccc([N+](=O)[O-])cc24)CCCC3)CC1  \n",
              "4                  CN(C)CCOc1ccc(C(=O)/C=C/c2ccccc2)cc1  \n",
              "...                                                 ...  \n",
              "6609  O=C(CCC1CCN(Cc2cccc([N+](=O)[O-])c2)CC1)c1ccc2...  \n",
              "6610                C#CCNC1CCc2ccc(OC(=O)N(CC)CCCC)cc21  \n",
              "6611       Cc1[nH]c(C)c(/C=C2\\CN(Cc3ccccc3)CCC2=O)c1C=O  \n",
              "6612                    c1ccc(CNC2CCN(Cc3ccccc3)CC2)cc1  \n",
              "6613             O=C(CCc1ccccc1)N1c2ccccc2[Se]c2ccccc21  \n",
              "\n",
              "[6614 rows x 4 columns]"
            ]
          },
          "execution_count": 140,
          "metadata": {},
          "output_type": "execute_result"
        }
      ],
      "source": [
        "clean_smiles = []\n",
        "for i in df_preprocessed.canonical_smiles.tolist():\n",
        "    compounds = str(i).split('.')\n",
        "    longest_compound= max(compounds, key=len) # max length element after splitting compounds \n",
        "    clean_smiles.append(longest_compound)\n",
        "clean_smiles = pd.Series(clean_smiles, name = 'canonical_smiles') # series = 1D array w label\n",
        "df_clean_smiles = pd.concat([df_preprocessed.drop(columns='canonical_smiles'), clean_smiles], axis=1)\n",
        "df_clean_smiles"
      ]
    },
    {
      "cell_type": "markdown",
      "metadata": {
        "colab_type": "text",
        "id": "YzN_S4Quro5S"
      },
      "source": [
        "## **Calculate Lipinski descriptors**\n",
        "Christopher Lipinski, a scientist at Pfizer, came up with a set of rule-of-thumb for evaluating the **druglikeness** of compounds. Such druglikeness is based on the Absorption, Distribution, Metabolism and Excretion (ADME) that is also known as the pharmacokinetic profile. Lipinski analyzed all orally active FDA-approved drugs in the formulation of what is to be known as the **Rule-of-Five** (all values are multiples of five) or **Lipinski's Rule**.\n",
        "\n",
        "The Lipinski's Rule stated the following:\n",
        "* Molecular weight < 500 Dalton\n",
        "* Octanol-water partition coefficient (LogP) < 5\n",
        "* Hydrogen bond donors < 5\n",
        "* Hydrogen bond acceptors < 10 "
      ]
    },
    {
      "cell_type": "markdown",
      "metadata": {
        "colab_type": "text",
        "id": "9qn_eQcnxY7C"
      },
      "source": [
        "### **Import libraries**"
      ]
    },
    {
      "cell_type": "code",
      "execution_count": 99,
      "metadata": {
        "colab": {},
        "colab_type": "code",
        "id": "CgBjIdT-rnRU"
      },
      "outputs": [],
      "source": [
        "import numpy as np\n",
        "from rdkit import Chem\n",
        "from rdkit.Chem import Descriptors, Lipinski"
      ]
    },
    {
      "cell_type": "markdown",
      "metadata": {
        "colab_type": "text",
        "id": "JsgTV-ByxdMa"
      },
      "source": [
        "### **Calculate descriptors**\n",
        "Input 'SMILES' notation of chemical information --> tells us exact atomic details of the molecule, from which we compute molecular descriptors\n",
        "\n",
        "SMILES: Simplified Molecular Input Line Entry System; ASCII strings for line notation of chemical's structure"
      ]
    },
    {
      "cell_type": "code",
      "execution_count": 100,
      "metadata": {
        "colab": {},
        "colab_type": "code",
        "id": "bCXEY7a9ugO_"
      },
      "outputs": [],
      "source": [
        "# Inspired by: https://codeocean.com/explore/capsules?query=tag:data-curation\n",
        "\n",
        "def lipinski(smiles, verbose=False):\n",
        "\n",
        "    moldata= []\n",
        "    for elem in smiles:\n",
        "        mol=Chem.MolFromSmiles(elem) # returns RDKit molecule object based on SMILES string\n",
        "        moldata.append(mol)\n",
        "       \n",
        "    baseData= np.arange(1,1) # create empty numpy array (based on range (1,1) = [])\n",
        "    i=0  \n",
        "    for mol in moldata:        \n",
        "       \n",
        "        desc_MolWt = Descriptors.MolWt(mol)\n",
        "        desc_MolLogP = Descriptors.MolLogP(mol)\n",
        "        desc_NumHDonors = Lipinski.NumHDonors(mol)\n",
        "        desc_NumHAcceptors = Lipinski.NumHAcceptors(mol)\n",
        "           \n",
        "        # store molecule's descriptors together as 1D array\n",
        "        row = np.array([desc_MolWt,\n",
        "                        desc_MolLogP,\n",
        "                        desc_NumHDonors,\n",
        "                        desc_NumHAcceptors])   \n",
        "    \n",
        "        if(i==0):\n",
        "            baseData=row\n",
        "        else:\n",
        "            baseData=np.vstack([baseData, row]) # vertical stacking of new array element (row) to priors (baseData) --> 2D array object \n",
        "        i=i+1      \n",
        "    \n",
        "    #save lipinski rule array into a df \n",
        "    columnNames=[\"MW\",\"LogP\",\"NumHDonors\",\"NumHAcceptors\"]   \n",
        "    descriptors = pd.DataFrame(data=baseData,columns=columnNames)\n",
        "    \n",
        "    return descriptors"
      ]
    },
    {
      "cell_type": "code",
      "execution_count": 101,
      "metadata": {
        "colab": {},
        "colab_type": "code",
        "id": "ThFIFw8IukMY"
      },
      "outputs": [],
      "source": [
        "\n",
        "df_lipinski = lipinski(df_clean_smiles.canonical_smiles)"
      ]
    },
    {
      "cell_type": "markdown",
      "metadata": {
        "colab_type": "text",
        "id": "gUMlPfFrxicj"
      },
      "source": [
        "### **Combine DataFrames**\n",
        "\n",
        "Let's take a look at the 2 DataFrames that will be combined."
      ]
    },
    {
      "cell_type": "code",
      "execution_count": 102,
      "metadata": {
        "colab": {
          "base_uri": "https://localhost:8080/",
          "height": 415
        },
        "colab_type": "code",
        "id": "DaezyM5vwp9n",
        "outputId": "fb750119-b086-4d9d-e9f7-190833e4dc74"
      },
      "outputs": [
        {
          "data": {
            "application/vnd.microsoft.datawrangler.viewer.v0+json": {
              "columns": [
                {
                  "name": "index",
                  "rawType": "int64",
                  "type": "integer"
                },
                {
                  "name": "MW",
                  "rawType": "float64",
                  "type": "float"
                },
                {
                  "name": "LogP",
                  "rawType": "float64",
                  "type": "float"
                },
                {
                  "name": "NumHDonors",
                  "rawType": "float64",
                  "type": "float"
                },
                {
                  "name": "NumHAcceptors",
                  "rawType": "float64",
                  "type": "float"
                }
              ],
              "ref": "b6c58778-b145-4abd-94b7-13e320f95180",
              "rows": [
                [
                  "0",
                  "558.7590000000002",
                  "10.117799999999994",
                  "0.0",
                  "5.0"
                ],
                [
                  "1",
                  "384.4350000000002",
                  "4.779900000000004",
                  "0.0",
                  "4.0"
                ],
                [
                  "2",
                  "423.5130000000003",
                  "3.9543000000000026",
                  "2.0",
                  "7.0"
                ],
                [
                  "3",
                  "326.4000000000002",
                  "2.773600000000001",
                  "0.0",
                  "5.0"
                ],
                [
                  "4",
                  "295.382",
                  "3.523100000000002",
                  "0.0",
                  "3.0"
                ],
                [
                  "5",
                  "456.7110000000003",
                  "6.628900000000008",
                  "2.0",
                  "3.0"
                ],
                [
                  "6",
                  "422.7900000000001",
                  "6.181300000000004",
                  "0.0",
                  "4.0"
                ],
                [
                  "7",
                  "331.5100000000001",
                  "4.771600000000004",
                  "1.0",
                  "5.0"
                ],
                [
                  "8",
                  "338.43600000000004",
                  "4.079920000000002",
                  "0.0",
                  "5.0"
                ],
                [
                  "9",
                  "548.5010000000002",
                  "5.755500000000006",
                  "0.0",
                  "4.0"
                ],
                [
                  "10",
                  "284.235",
                  "2.1784",
                  "1.0",
                  "8.0"
                ],
                [
                  "11",
                  "317.476",
                  "5.769300000000006",
                  "0.0",
                  "1.0"
                ],
                [
                  "12",
                  "424.67300000000023",
                  "8.235200000000008",
                  "1.0",
                  "3.0"
                ],
                [
                  "13",
                  "368.45199999999994",
                  "4.1620000000000035",
                  "1.0",
                  "3.0"
                ],
                [
                  "14",
                  "432.6060000000003",
                  "4.917000000000005",
                  "0.0",
                  "5.0"
                ],
                [
                  "15",
                  "394.5150000000004",
                  "4.601900000000004",
                  "1.0",
                  "4.0"
                ],
                [
                  "16",
                  "366.39600000000024",
                  "2.2100999999999997",
                  "2.0",
                  "5.0"
                ],
                [
                  "17",
                  "385.55500000000006",
                  "6.241700000000006",
                  "0.0",
                  "3.0"
                ],
                [
                  "18",
                  "385.5080000000003",
                  "1.8227999999999998",
                  "0.0",
                  "5.0"
                ],
                [
                  "19",
                  "410.4290000000002",
                  "3.5207200000000016",
                  "0.0",
                  "4.0"
                ],
                [
                  "20",
                  "348.475",
                  "4.427100000000003",
                  "3.0",
                  "3.0"
                ],
                [
                  "21",
                  "664.2050000000002",
                  "7.856600000000007",
                  "1.0",
                  "4.0"
                ],
                [
                  "22",
                  "343.43",
                  "3.894700000000002",
                  "2.0",
                  "2.0"
                ],
                [
                  "23",
                  "488.5950000000002",
                  "5.778400000000006",
                  "1.0",
                  "7.0"
                ],
                [
                  "24",
                  "425.4370000000002",
                  "2.6530000000000014",
                  "0.0",
                  "8.0"
                ],
                [
                  "25",
                  "406.90700000000004",
                  "6.609000000000001",
                  "2.0",
                  "2.0"
                ],
                [
                  "26",
                  "212.23899999999995",
                  "3.4319000000000024",
                  "0.0",
                  "1.0"
                ],
                [
                  "27",
                  "424.49700000000024",
                  "4.269300000000004",
                  "0.0",
                  "6.0"
                ],
                [
                  "28",
                  "578.8050000000002",
                  "6.5144200000000065",
                  "2.0",
                  "6.0"
                ],
                [
                  "29",
                  "270.33200000000005",
                  "3.014000000000001",
                  "1.0",
                  "3.0"
                ],
                [
                  "30",
                  "325.8390000000001",
                  "5.465800000000004",
                  "0.0",
                  "2.0"
                ],
                [
                  "31",
                  "258.321",
                  "1.9571",
                  "1.0",
                  "3.0"
                ],
                [
                  "32",
                  "455.5070000000002",
                  "2.1921999999999997",
                  "3.0",
                  "8.0"
                ],
                [
                  "33",
                  "282.32300000000004",
                  "2.149",
                  "1.0",
                  "3.0"
                ],
                [
                  "34",
                  "234.29899999999995",
                  "2.0831",
                  "1.0",
                  "3.0"
                ],
                [
                  "35",
                  "443.63500000000016",
                  "5.314500000000006",
                  "0.0",
                  "4.0"
                ],
                [
                  "36",
                  "208.28099999999995",
                  "2.11702",
                  "0.0",
                  "2.0"
                ],
                [
                  "37",
                  "379.50000000000017",
                  "4.361100000000004",
                  "0.0",
                  "4.0"
                ],
                [
                  "38",
                  "442.48100000000017",
                  "5.728900000000005",
                  "1.0",
                  "4.0"
                ],
                [
                  "39",
                  "229.221",
                  "-2.4259000000000004",
                  "5.0",
                  "5.0"
                ],
                [
                  "40",
                  "489.0630000000004",
                  "6.579500000000005",
                  "3.0",
                  "3.0"
                ],
                [
                  "41",
                  "390.4830000000002",
                  "3.8251000000000026",
                  "1.0",
                  "4.0"
                ],
                [
                  "42",
                  "360.47900000000004",
                  "3.0759000000000007",
                  "2.0",
                  "4.0"
                ],
                [
                  "43",
                  "333.4320000000001",
                  "3.697280000000003",
                  "1.0",
                  "5.0"
                ],
                [
                  "44",
                  "300.40500000000003",
                  "3.6583000000000023",
                  "0.0",
                  "0.0"
                ],
                [
                  "45",
                  "396.4910000000001",
                  "1.9716999999999996",
                  "1.0",
                  "6.0"
                ],
                [
                  "46",
                  "405.95100000000014",
                  "3.092900000000002",
                  "2.0",
                  "4.0"
                ],
                [
                  "47",
                  "424.9320000000003",
                  "5.1105000000000045",
                  "3.0",
                  "6.0"
                ],
                [
                  "48",
                  "406.88900000000024",
                  "4.181700000000004",
                  "1.0",
                  "3.0"
                ],
                [
                  "49",
                  "556.6080000000004",
                  "3.4277000000000024",
                  "2.0",
                  "10.0"
                ]
              ],
              "shape": {
                "columns": 4,
                "rows": 6614
              }
            },
            "text/html": [
              "<div>\n",
              "<style scoped>\n",
              "    .dataframe tbody tr th:only-of-type {\n",
              "        vertical-align: middle;\n",
              "    }\n",
              "\n",
              "    .dataframe tbody tr th {\n",
              "        vertical-align: top;\n",
              "    }\n",
              "\n",
              "    .dataframe thead th {\n",
              "        text-align: right;\n",
              "    }\n",
              "</style>\n",
              "<table border=\"1\" class=\"dataframe\">\n",
              "  <thead>\n",
              "    <tr style=\"text-align: right;\">\n",
              "      <th></th>\n",
              "      <th>MW</th>\n",
              "      <th>LogP</th>\n",
              "      <th>NumHDonors</th>\n",
              "      <th>NumHAcceptors</th>\n",
              "    </tr>\n",
              "  </thead>\n",
              "  <tbody>\n",
              "    <tr>\n",
              "      <th>0</th>\n",
              "      <td>558.759</td>\n",
              "      <td>10.11780</td>\n",
              "      <td>0.0</td>\n",
              "      <td>5.0</td>\n",
              "    </tr>\n",
              "    <tr>\n",
              "      <th>1</th>\n",
              "      <td>384.435</td>\n",
              "      <td>4.77990</td>\n",
              "      <td>0.0</td>\n",
              "      <td>4.0</td>\n",
              "    </tr>\n",
              "    <tr>\n",
              "      <th>2</th>\n",
              "      <td>423.513</td>\n",
              "      <td>3.95430</td>\n",
              "      <td>2.0</td>\n",
              "      <td>7.0</td>\n",
              "    </tr>\n",
              "    <tr>\n",
              "      <th>3</th>\n",
              "      <td>326.400</td>\n",
              "      <td>2.77360</td>\n",
              "      <td>0.0</td>\n",
              "      <td>5.0</td>\n",
              "    </tr>\n",
              "    <tr>\n",
              "      <th>4</th>\n",
              "      <td>295.382</td>\n",
              "      <td>3.52310</td>\n",
              "      <td>0.0</td>\n",
              "      <td>3.0</td>\n",
              "    </tr>\n",
              "    <tr>\n",
              "      <th>...</th>\n",
              "      <td>...</td>\n",
              "      <td>...</td>\n",
              "      <td>...</td>\n",
              "      <td>...</td>\n",
              "    </tr>\n",
              "    <tr>\n",
              "      <th>6609</th>\n",
              "      <td>393.487</td>\n",
              "      <td>4.43790</td>\n",
              "      <td>1.0</td>\n",
              "      <td>5.0</td>\n",
              "    </tr>\n",
              "    <tr>\n",
              "      <th>6610</th>\n",
              "      <td>314.429</td>\n",
              "      <td>3.51750</td>\n",
              "      <td>1.0</td>\n",
              "      <td>3.0</td>\n",
              "    </tr>\n",
              "    <tr>\n",
              "      <th>6611</th>\n",
              "      <td>322.408</td>\n",
              "      <td>3.30244</td>\n",
              "      <td>1.0</td>\n",
              "      <td>3.0</td>\n",
              "    </tr>\n",
              "    <tr>\n",
              "      <th>6612</th>\n",
              "      <td>280.415</td>\n",
              "      <td>3.44080</td>\n",
              "      <td>1.0</td>\n",
              "      <td>2.0</td>\n",
              "    </tr>\n",
              "    <tr>\n",
              "      <th>6613</th>\n",
              "      <td>378.333</td>\n",
              "      <td>2.95250</td>\n",
              "      <td>0.0</td>\n",
              "      <td>1.0</td>\n",
              "    </tr>\n",
              "  </tbody>\n",
              "</table>\n",
              "<p>6614 rows × 4 columns</p>\n",
              "</div>"
            ],
            "text/plain": [
              "           MW      LogP  NumHDonors  NumHAcceptors\n",
              "0     558.759  10.11780         0.0            5.0\n",
              "1     384.435   4.77990         0.0            4.0\n",
              "2     423.513   3.95430         2.0            7.0\n",
              "3     326.400   2.77360         0.0            5.0\n",
              "4     295.382   3.52310         0.0            3.0\n",
              "...       ...       ...         ...            ...\n",
              "6609  393.487   4.43790         1.0            5.0\n",
              "6610  314.429   3.51750         1.0            3.0\n",
              "6611  322.408   3.30244         1.0            3.0\n",
              "6612  280.415   3.44080         1.0            2.0\n",
              "6613  378.333   2.95250         0.0            1.0\n",
              "\n",
              "[6614 rows x 4 columns]"
            ]
          },
          "execution_count": 102,
          "metadata": {},
          "output_type": "execute_result"
        }
      ],
      "source": [
        "df_lipinski"
      ]
    },
    {
      "cell_type": "code",
      "execution_count": 103,
      "metadata": {
        "colab": {
          "base_uri": "https://localhost:8080/",
          "height": 415
        },
        "colab_type": "code",
        "id": "9-ChzM8_wuq_",
        "outputId": "5f5be1ae-c757-44af-cace-5a4c083a81af"
      },
      "outputs": [
        {
          "data": {
            "application/vnd.microsoft.datawrangler.viewer.v0+json": {
              "columns": [
                {
                  "name": "index",
                  "rawType": "int64",
                  "type": "integer"
                },
                {
                  "name": "molecule_chembl_id",
                  "rawType": "object",
                  "type": "string"
                },
                {
                  "name": "standard_value",
                  "rawType": "float64",
                  "type": "float"
                },
                {
                  "name": "bioactivity_class",
                  "rawType": "object",
                  "type": "string"
                },
                {
                  "name": "canonical_smiles",
                  "rawType": "object",
                  "type": "string"
                }
              ],
              "ref": "b4e6a0e9-f8cf-49fe-a795-8b025ab4695b",
              "rows": [
                [
                  "0",
                  "CHEMBL1834807",
                  "2700.0",
                  "intermediate",
                  "CCCCC/C=C\\C/C=C\\CCCCCCCC(=O)OCCCc1ccc2oc(-c3ccc4c(c3)OCO4)cc2c1"
                ],
                [
                  "1",
                  "CHEMBL5188500",
                  "988.0",
                  "active",
                  "CC(=O)N1N=C(c2ccc(-c3ccccc3)cc2)CC1c1ccc2c(c1)OCO2"
                ],
                [
                  "2",
                  "CHEMBL491358",
                  "45.0",
                  "active",
                  "CCOC(=O)C1=C(C)Nc2nc3c(c(N)c2C1c1ccc(OC)c(OC)c1)CCCC3"
                ],
                [
                  "3",
                  "CHEMBL5199361",
                  "245.0",
                  "active",
                  "CN1CCN(c2c3c(nc4ccc([N+](=O)[O-])cc24)CCCC3)CC1"
                ],
                [
                  "4",
                  "CHEMBL2158994",
                  "4680.0",
                  "intermediate",
                  "CN(C)CCOc1ccc(C(=O)/C=C/c2ccccc2)cc1"
                ],
                [
                  "5",
                  "CHEMBL1098479",
                  "25080.0",
                  "inactive",
                  "C[C@H](CC[C@@H](O)C(C)(C)O)[C@H]1CC[C@@]2(C)C3=CC[C@H]4C(C)(C)C(=O)CC[C@]4(C)C3=CC[C@]12C"
                ],
                [
                  "6",
                  "CHEMBL392385",
                  "50000.0",
                  "inactive",
                  "CN(C(=O)Oc1ccc(Oc2ccc(C(F)(F)F)cn2)cc1)c1cccc(Cl)c1"
                ],
                [
                  "7",
                  "CHEMBL574261",
                  "7690.0",
                  "intermediate",
                  "CCCSc1nc2nc3c(c(N)c2s1)C1CC(C)=CC(C3)C1"
                ],
                [
                  "8",
                  "CHEMBL130112",
                  "2400.0",
                  "intermediate",
                  "CSc1nc(-c2ccc(C)cc2)nn1C(=O)N(C)c1ccccc1"
                ],
                [
                  "9",
                  "CHEMBL4778690",
                  "1990.0",
                  "intermediate",
                  "COc1cc2c(cc1OC)C(=O)/C(=C/c1ccc(N3CC[N+](C)(Cc4cccc(Br)c4)CC3)cc1)C2"
                ],
                [
                  "10",
                  "CHEMBL4743162",
                  "3388.44",
                  "intermediate",
                  "O=[N+]([O-])c1ccccc1-c1nnc(Nc2ncccn2)o1"
                ],
                [
                  "11",
                  "CHEMBL990",
                  "6907.1",
                  "intermediate",
                  "CN(Cc1ccc(C(C)(C)C)cc1)Cc1cccc2ccccc12"
                ],
                [
                  "12",
                  "CHEMBL1257412",
                  "46000.0",
                  "inactive",
                  "CCCCCCCCCCCCCCNc1c2c(nc3ccc(OC)cc13)CCCC2"
                ],
                [
                  "13",
                  "CHEMBL3415565",
                  "329.0",
                  "active",
                  "O=C1c2ccccc2C(=O)N1CCCCCCCNCc1ccccc1F"
                ],
                [
                  "14",
                  "CHEMBL372491",
                  "28.0",
                  "active",
                  "COc1cc2cc(C(=O)C3CCC[N+](C)(CC4CCCCO4)CC3)sc2cc1OC"
                ],
                [
                  "15",
                  "CHEMBL4063663",
                  "24350.0",
                  "inactive",
                  "COc1cc(/C=C/C(=O)Nc2ccccc2)ccc1OCCCCN1CCCC1"
                ],
                [
                  "16",
                  "CHEMBL4205651",
                  "528.0",
                  "active",
                  "O=C(CNCc1ccccc1F)Nc1ccc2nc3n(c(=O)c2c1)CCC3"
                ],
                [
                  "17",
                  "CHEMBL4292192",
                  "64100.0",
                  "inactive",
                  "CCN(CC)c1ccc(/C=C/c2cc(N3CCCCC3)c3ccccc3n2)cc1"
                ],
                [
                  "18",
                  "CHEMBL4287340",
                  "4900.0",
                  "intermediate",
                  "CCN1CCN(C2CCN(C(=O)COc3ccc4c(c3)CCC4=O)CC2)CC1"
                ],
                [
                  "19",
                  "CHEMBL5273978",
                  "25.48",
                  "active",
                  "Cc1cccc(C(=O)N2Cc3ccc(N4C(=O)c5ccccc5C4=O)cc3CC2=O)c1"
                ],
                [
                  "20",
                  "CHEMBL4580216",
                  "610.0",
                  "active",
                  "S=C(NNc1c2c(nc3ccccc13)CCCC2)Nc1ccccc1"
                ],
                [
                  "21",
                  "CHEMBL2380667",
                  "5810.0",
                  "intermediate",
                  "O=C1/C(=C/c2cccc3ccccc23)CN(C(=O)[C@H]2C[C@H]3CCCN3[C@]23C(=O)Nc2cc(Cl)ccc23)C/C1=C\\c1cccc2ccccc12"
                ],
                [
                  "22",
                  "CHEMBL422971",
                  "6000.0",
                  "intermediate",
                  "O=C1/C(=C/c2cc[nH]c2)CN(Cc2ccccc2)C/C1=C\\c1cc[nH]c1"
                ],
                [
                  "23",
                  "CHEMBL4466829",
                  "1050.0",
                  "intermediate",
                  "C(=N/Nc1c2c(nc3ccccc13)CCCC2)\\c1ccc(OCc2cn(Cc3ccccc3)nn2)cc1"
                ],
                [
                  "24",
                  "CHEMBL4634371",
                  "100000.0",
                  "inactive",
                  "COc1c2c(cc3c1OCO3)[C@]13C=C[C@H](OC)C[C@@H]1[N@](C2)C[C@H]3OC(=O)c1ccco1"
                ],
                [
                  "25",
                  "CHEMBL496",
                  "3014.9",
                  "intermediate",
                  "Oc1c(Cl)cc(Cl)c(Cl)c1Cc1c(O)c(Cl)cc(Cl)c1Cl"
                ],
                [
                  "26",
                  "CHEMBL3623554",
                  "6.05",
                  "active",
                  "CC(C)(C)c1cccc(C(=O)C(F)F)c1"
                ],
                [
                  "27",
                  "CHEMBL171048",
                  "1910.0",
                  "intermediate",
                  "COc1cc2c(cc1OC)C(=O)C(CC1CCN(Cc3ccc([N+](=O)[O-])cc3)CC1)C2"
                ],
                [
                  "28",
                  "CHEMBL195241",
                  "4.1",
                  "active",
                  "Cc1c(N2CCN(C)CC2)nc2ccccc2c1C(=O)NCCCCCCCNc1c2c(nc3ccccc13)CCCC2"
                ],
                [
                  "29",
                  "CHEMBL14638",
                  "86100.0",
                  "inactive",
                  "O=C(c1ccc(OCCCc2c[nH]cn2)cc1)C1CC1"
                ],
                [
                  "30",
                  "CHEMBL4878578",
                  "98550.0",
                  "inactive",
                  "Clc1ccc(CN2CCC(c3cc4ccccc4o3)CC2)cc1"
                ],
                [
                  "31",
                  "CHEMBL1195259",
                  "86000.0",
                  "inactive",
                  "C#CCNC1CCc2c(OC(=O)N(C)C)cccc21"
                ],
                [
                  "32",
                  "CHEMBL24519",
                  "7900.0",
                  "intermediate",
                  "C[C@]12CC[C@H](O)[C@@](C)(CO)C1C[C@H](O)[C@@]1(C)Oc3cc(-c4ccncc4)oc(=O)c3C(=O)C21"
                ],
                [
                  "33",
                  "CHEMBL1083064",
                  "350.0",
                  "active",
                  "CNC(=O)Oc1cccc(-c2cn3ccccc3[n+]2C)c1"
                ],
                [
                  "34",
                  "CHEMBL542749",
                  "10500.0",
                  "inactive",
                  "CCN(C)C(=O)Oc1cccc2c1C(N)CC2"
                ],
                [
                  "35",
                  "CHEMBL1929421",
                  "380.0",
                  "active",
                  "C#CCN(C)Cc1cc2cc(OCCCC3CCN(Cc4ccccc4)CC3)ccc2n1C"
                ],
                [
                  "36",
                  "CHEMBL136719",
                  "40831.94",
                  "inactive",
                  "CC(=O)Oc1cccc([N+](C)(C)C)c1C"
                ],
                [
                  "37",
                  "CHEMBL502",
                  "2.33",
                  "active",
                  "COc1cc2c(cc1OC)C(=O)C(CC1CCN(Cc3ccccc3)CC1)C2"
                ],
                [
                  "38",
                  "CHEMBL2234518",
                  "17782.79",
                  "inactive",
                  "CC1(C)CC(=O)C2=C(C1)Oc1nc3c(c(N)c1[C@H]2c1ccccc1C(F)(F)F)CCCC3"
                ],
                [
                  "39",
                  "CHEMBL2425418",
                  "119110.0",
                  "inactive",
                  "NC(=S)NNC=C1C(=O)NC(=O)NC1=O"
                ],
                [
                  "40",
                  "CHEMBL383663",
                  "5e-06",
                  "active",
                  "O=C(CCCCCNc1c2c(nc3cc(Cl)ccc13)CCCC2)NCCc1c[nH]c2ccccc12"
                ],
                [
                  "41",
                  "CHEMBL4286799",
                  "110.0",
                  "active",
                  "O=C(NCCC1CCN(Cc2ccccc2)CC1)c1cc(=O)c2ccccc2o1"
                ],
                [
                  "42",
                  "CHEMBL4439928",
                  "600000.0",
                  "inactive",
                  "CC(C)Cc1ccc(C(C)C(=O)NS(=O)(=O)c2ccc(N)cc2)cc1"
                ],
                [
                  "43",
                  "CHEMBL421601",
                  "2100.0",
                  "intermediate",
                  "CN(C)Cc1ccc(CSCCNc2cccc(F)c2C#N)o1"
                ],
                [
                  "44",
                  "CHEMBL1669481",
                  "446000.0",
                  "inactive",
                  "c1ccc2c[n+](CCC[n+]3ccc4ccccc4c3)ccc2c1"
                ],
                [
                  "45",
                  "CHEMBL2323351",
                  "81100.0",
                  "inactive",
                  "COc1ccc(/C=N/NC(=O)CN2CCN(Cc3ccccc3)CC2)cc1OC"
                ],
                [
                  "46",
                  "CHEMBL101518",
                  "30.0",
                  "active",
                  "CN(CCOCCNC(=S)NC(=O)c1ccc(Cl)cc1)Cc1ccccc1"
                ],
                [
                  "47",
                  "CHEMBL4216666",
                  "2300.0",
                  "intermediate",
                  "O/N=C/c1nc(CCCCNc2c3c(nc4ccc(Cl)cc24)CCCC3)ccc1O"
                ],
                [
                  "48",
                  "CHEMBL4170331",
                  "116.5",
                  "active",
                  "CC(=O)c1c[n+](Cc2cccc(Cl)c2)ccc1CC1Cc2cc(O)ccc2C1=O"
                ],
                [
                  "49",
                  "CHEMBL367571",
                  "420.0",
                  "active",
                  "COC1=CC(=O)[C@]2(C)[C@]3(O)Cc4c(cc(-c5cc(OC)c(OC)c(OC)c5)oc4=O)O[C@]3(C)CC[C@]2(O)C1(C)C"
                ]
              ],
              "shape": {
                "columns": 4,
                "rows": 6614
              }
            },
            "text/html": [
              "<div>\n",
              "<style scoped>\n",
              "    .dataframe tbody tr th:only-of-type {\n",
              "        vertical-align: middle;\n",
              "    }\n",
              "\n",
              "    .dataframe tbody tr th {\n",
              "        vertical-align: top;\n",
              "    }\n",
              "\n",
              "    .dataframe thead th {\n",
              "        text-align: right;\n",
              "    }\n",
              "</style>\n",
              "<table border=\"1\" class=\"dataframe\">\n",
              "  <thead>\n",
              "    <tr style=\"text-align: right;\">\n",
              "      <th></th>\n",
              "      <th>molecule_chembl_id</th>\n",
              "      <th>standard_value</th>\n",
              "      <th>bioactivity_class</th>\n",
              "      <th>canonical_smiles</th>\n",
              "    </tr>\n",
              "  </thead>\n",
              "  <tbody>\n",
              "    <tr>\n",
              "      <th>0</th>\n",
              "      <td>CHEMBL1834807</td>\n",
              "      <td>2700.0</td>\n",
              "      <td>intermediate</td>\n",
              "      <td>CCCCC/C=C\\C/C=C\\CCCCCCCC(=O)OCCCc1ccc2oc(-c3cc...</td>\n",
              "    </tr>\n",
              "    <tr>\n",
              "      <th>1</th>\n",
              "      <td>CHEMBL5188500</td>\n",
              "      <td>988.0</td>\n",
              "      <td>active</td>\n",
              "      <td>CC(=O)N1N=C(c2ccc(-c3ccccc3)cc2)CC1c1ccc2c(c1)...</td>\n",
              "    </tr>\n",
              "    <tr>\n",
              "      <th>2</th>\n",
              "      <td>CHEMBL491358</td>\n",
              "      <td>45.0</td>\n",
              "      <td>active</td>\n",
              "      <td>CCOC(=O)C1=C(C)Nc2nc3c(c(N)c2C1c1ccc(OC)c(OC)c...</td>\n",
              "    </tr>\n",
              "    <tr>\n",
              "      <th>3</th>\n",
              "      <td>CHEMBL5199361</td>\n",
              "      <td>245.0</td>\n",
              "      <td>active</td>\n",
              "      <td>CN1CCN(c2c3c(nc4ccc([N+](=O)[O-])cc24)CCCC3)CC1</td>\n",
              "    </tr>\n",
              "    <tr>\n",
              "      <th>4</th>\n",
              "      <td>CHEMBL2158994</td>\n",
              "      <td>4680.0</td>\n",
              "      <td>intermediate</td>\n",
              "      <td>CN(C)CCOc1ccc(C(=O)/C=C/c2ccccc2)cc1</td>\n",
              "    </tr>\n",
              "    <tr>\n",
              "      <th>...</th>\n",
              "      <td>...</td>\n",
              "      <td>...</td>\n",
              "      <td>...</td>\n",
              "      <td>...</td>\n",
              "    </tr>\n",
              "    <tr>\n",
              "      <th>6609</th>\n",
              "      <td>CHEMBL310918</td>\n",
              "      <td>64.0</td>\n",
              "      <td>active</td>\n",
              "      <td>O=C(CCC1CCN(Cc2cccc([N+](=O)[O-])c2)CC1)c1ccc2...</td>\n",
              "    </tr>\n",
              "    <tr>\n",
              "      <th>6610</th>\n",
              "      <td>CHEMBL539571</td>\n",
              "      <td>72400.0</td>\n",
              "      <td>inactive</td>\n",
              "      <td>C#CCNC1CCc2ccc(OC(=O)N(CC)CCCC)cc21</td>\n",
              "    </tr>\n",
              "    <tr>\n",
              "      <th>6611</th>\n",
              "      <td>CHEMBL130738</td>\n",
              "      <td>30000.0</td>\n",
              "      <td>inactive</td>\n",
              "      <td>Cc1[nH]c(C)c(/C=C2\\CN(Cc3ccccc3)CCC2=O)c1C=O</td>\n",
              "    </tr>\n",
              "    <tr>\n",
              "      <th>6612</th>\n",
              "      <td>CHEMBL4453051</td>\n",
              "      <td>1700.0</td>\n",
              "      <td>intermediate</td>\n",
              "      <td>c1ccc(CNC2CCN(Cc3ccccc3)CC2)cc1</td>\n",
              "    </tr>\n",
              "    <tr>\n",
              "      <th>6613</th>\n",
              "      <td>CHEMBL3771233</td>\n",
              "      <td>6700.0</td>\n",
              "      <td>intermediate</td>\n",
              "      <td>O=C(CCc1ccccc1)N1c2ccccc2[Se]c2ccccc21</td>\n",
              "    </tr>\n",
              "  </tbody>\n",
              "</table>\n",
              "<p>6614 rows × 4 columns</p>\n",
              "</div>"
            ],
            "text/plain": [
              "     molecule_chembl_id  standard_value bioactivity_class  \\\n",
              "0         CHEMBL1834807          2700.0      intermediate   \n",
              "1         CHEMBL5188500           988.0            active   \n",
              "2          CHEMBL491358            45.0            active   \n",
              "3         CHEMBL5199361           245.0            active   \n",
              "4         CHEMBL2158994          4680.0      intermediate   \n",
              "...                 ...             ...               ...   \n",
              "6609       CHEMBL310918            64.0            active   \n",
              "6610       CHEMBL539571         72400.0          inactive   \n",
              "6611       CHEMBL130738         30000.0          inactive   \n",
              "6612      CHEMBL4453051          1700.0      intermediate   \n",
              "6613      CHEMBL3771233          6700.0      intermediate   \n",
              "\n",
              "                                       canonical_smiles  \n",
              "0     CCCCC/C=C\\C/C=C\\CCCCCCCC(=O)OCCCc1ccc2oc(-c3cc...  \n",
              "1     CC(=O)N1N=C(c2ccc(-c3ccccc3)cc2)CC1c1ccc2c(c1)...  \n",
              "2     CCOC(=O)C1=C(C)Nc2nc3c(c(N)c2C1c1ccc(OC)c(OC)c...  \n",
              "3       CN1CCN(c2c3c(nc4ccc([N+](=O)[O-])cc24)CCCC3)CC1  \n",
              "4                  CN(C)CCOc1ccc(C(=O)/C=C/c2ccccc2)cc1  \n",
              "...                                                 ...  \n",
              "6609  O=C(CCC1CCN(Cc2cccc([N+](=O)[O-])c2)CC1)c1ccc2...  \n",
              "6610                C#CCNC1CCc2ccc(OC(=O)N(CC)CCCC)cc21  \n",
              "6611       Cc1[nH]c(C)c(/C=C2\\CN(Cc3ccccc3)CCC2=O)c1C=O  \n",
              "6612                    c1ccc(CNC2CCN(Cc3ccccc3)CC2)cc1  \n",
              "6613             O=C(CCc1ccccc1)N1c2ccccc2[Se]c2ccccc21  \n",
              "\n",
              "[6614 rows x 4 columns]"
            ]
          },
          "execution_count": 103,
          "metadata": {},
          "output_type": "execute_result"
        }
      ],
      "source": [
        "df_clean_smiles"
      ]
    },
    {
      "cell_type": "markdown",
      "metadata": {
        "colab_type": "text",
        "id": "eET6iZ1Aw3oe"
      },
      "source": [
        "Now, let's combine the 2 DataFrame"
      ]
    },
    {
      "cell_type": "code",
      "execution_count": 104,
      "metadata": {
        "colab": {},
        "colab_type": "code",
        "id": "L9nUZC0Ww3gp"
      },
      "outputs": [],
      "source": [
        "df_combined = pd.concat([df_clean_smiles,df_lipinski], axis=1)"
      ]
    },
    {
      "cell_type": "code",
      "execution_count": 105,
      "metadata": {
        "colab": {
          "base_uri": "https://localhost:8080/",
          "height": 487
        },
        "colab_type": "code",
        "id": "FRBfBP3QxFJp",
        "outputId": "18e69e90-6b93-4b8f-fc86-24924f6eb00c"
      },
      "outputs": [
        {
          "data": {
            "application/vnd.microsoft.datawrangler.viewer.v0+json": {
              "columns": [
                {
                  "name": "index",
                  "rawType": "int64",
                  "type": "integer"
                },
                {
                  "name": "molecule_chembl_id",
                  "rawType": "object",
                  "type": "string"
                },
                {
                  "name": "standard_value",
                  "rawType": "float64",
                  "type": "float"
                },
                {
                  "name": "bioactivity_class",
                  "rawType": "object",
                  "type": "string"
                },
                {
                  "name": "canonical_smiles",
                  "rawType": "object",
                  "type": "string"
                },
                {
                  "name": "MW",
                  "rawType": "float64",
                  "type": "float"
                },
                {
                  "name": "LogP",
                  "rawType": "float64",
                  "type": "float"
                },
                {
                  "name": "NumHDonors",
                  "rawType": "float64",
                  "type": "float"
                },
                {
                  "name": "NumHAcceptors",
                  "rawType": "float64",
                  "type": "float"
                }
              ],
              "ref": "c7a86edc-dfe7-484b-aa12-fb880e636630",
              "rows": [
                [
                  "0",
                  "CHEMBL1834807",
                  "2700.0",
                  "intermediate",
                  "CCCCC/C=C\\C/C=C\\CCCCCCCC(=O)OCCCc1ccc2oc(-c3ccc4c(c3)OCO4)cc2c1",
                  "558.7590000000002",
                  "10.117799999999994",
                  "0.0",
                  "5.0"
                ],
                [
                  "1",
                  "CHEMBL5188500",
                  "988.0",
                  "active",
                  "CC(=O)N1N=C(c2ccc(-c3ccccc3)cc2)CC1c1ccc2c(c1)OCO2",
                  "384.4350000000002",
                  "4.779900000000004",
                  "0.0",
                  "4.0"
                ],
                [
                  "2",
                  "CHEMBL491358",
                  "45.0",
                  "active",
                  "CCOC(=O)C1=C(C)Nc2nc3c(c(N)c2C1c1ccc(OC)c(OC)c1)CCCC3",
                  "423.5130000000003",
                  "3.9543000000000026",
                  "2.0",
                  "7.0"
                ],
                [
                  "3",
                  "CHEMBL5199361",
                  "245.0",
                  "active",
                  "CN1CCN(c2c3c(nc4ccc([N+](=O)[O-])cc24)CCCC3)CC1",
                  "326.4000000000002",
                  "2.773600000000001",
                  "0.0",
                  "5.0"
                ],
                [
                  "4",
                  "CHEMBL2158994",
                  "4680.0",
                  "intermediate",
                  "CN(C)CCOc1ccc(C(=O)/C=C/c2ccccc2)cc1",
                  "295.382",
                  "3.523100000000002",
                  "0.0",
                  "3.0"
                ],
                [
                  "5",
                  "CHEMBL1098479",
                  "25080.0",
                  "inactive",
                  "C[C@H](CC[C@@H](O)C(C)(C)O)[C@H]1CC[C@@]2(C)C3=CC[C@H]4C(C)(C)C(=O)CC[C@]4(C)C3=CC[C@]12C",
                  "456.7110000000003",
                  "6.628900000000008",
                  "2.0",
                  "3.0"
                ],
                [
                  "6",
                  "CHEMBL392385",
                  "50000.0",
                  "inactive",
                  "CN(C(=O)Oc1ccc(Oc2ccc(C(F)(F)F)cn2)cc1)c1cccc(Cl)c1",
                  "422.7900000000001",
                  "6.181300000000004",
                  "0.0",
                  "4.0"
                ],
                [
                  "7",
                  "CHEMBL574261",
                  "7690.0",
                  "intermediate",
                  "CCCSc1nc2nc3c(c(N)c2s1)C1CC(C)=CC(C3)C1",
                  "331.5100000000001",
                  "4.771600000000004",
                  "1.0",
                  "5.0"
                ],
                [
                  "8",
                  "CHEMBL130112",
                  "2400.0",
                  "intermediate",
                  "CSc1nc(-c2ccc(C)cc2)nn1C(=O)N(C)c1ccccc1",
                  "338.43600000000004",
                  "4.079920000000002",
                  "0.0",
                  "5.0"
                ],
                [
                  "9",
                  "CHEMBL4778690",
                  "1990.0",
                  "intermediate",
                  "COc1cc2c(cc1OC)C(=O)/C(=C/c1ccc(N3CC[N+](C)(Cc4cccc(Br)c4)CC3)cc1)C2",
                  "548.5010000000002",
                  "5.755500000000006",
                  "0.0",
                  "4.0"
                ],
                [
                  "10",
                  "CHEMBL4743162",
                  "3388.44",
                  "intermediate",
                  "O=[N+]([O-])c1ccccc1-c1nnc(Nc2ncccn2)o1",
                  "284.235",
                  "2.1784",
                  "1.0",
                  "8.0"
                ],
                [
                  "11",
                  "CHEMBL990",
                  "6907.1",
                  "intermediate",
                  "CN(Cc1ccc(C(C)(C)C)cc1)Cc1cccc2ccccc12",
                  "317.476",
                  "5.769300000000006",
                  "0.0",
                  "1.0"
                ],
                [
                  "12",
                  "CHEMBL1257412",
                  "46000.0",
                  "inactive",
                  "CCCCCCCCCCCCCCNc1c2c(nc3ccc(OC)cc13)CCCC2",
                  "424.67300000000023",
                  "8.235200000000008",
                  "1.0",
                  "3.0"
                ],
                [
                  "13",
                  "CHEMBL3415565",
                  "329.0",
                  "active",
                  "O=C1c2ccccc2C(=O)N1CCCCCCCNCc1ccccc1F",
                  "368.45199999999994",
                  "4.1620000000000035",
                  "1.0",
                  "3.0"
                ],
                [
                  "14",
                  "CHEMBL372491",
                  "28.0",
                  "active",
                  "COc1cc2cc(C(=O)C3CCC[N+](C)(CC4CCCCO4)CC3)sc2cc1OC",
                  "432.6060000000003",
                  "4.917000000000005",
                  "0.0",
                  "5.0"
                ],
                [
                  "15",
                  "CHEMBL4063663",
                  "24350.0",
                  "inactive",
                  "COc1cc(/C=C/C(=O)Nc2ccccc2)ccc1OCCCCN1CCCC1",
                  "394.5150000000004",
                  "4.601900000000004",
                  "1.0",
                  "4.0"
                ],
                [
                  "16",
                  "CHEMBL4205651",
                  "528.0",
                  "active",
                  "O=C(CNCc1ccccc1F)Nc1ccc2nc3n(c(=O)c2c1)CCC3",
                  "366.39600000000024",
                  "2.2100999999999997",
                  "2.0",
                  "5.0"
                ],
                [
                  "17",
                  "CHEMBL4292192",
                  "64100.0",
                  "inactive",
                  "CCN(CC)c1ccc(/C=C/c2cc(N3CCCCC3)c3ccccc3n2)cc1",
                  "385.55500000000006",
                  "6.241700000000006",
                  "0.0",
                  "3.0"
                ],
                [
                  "18",
                  "CHEMBL4287340",
                  "4900.0",
                  "intermediate",
                  "CCN1CCN(C2CCN(C(=O)COc3ccc4c(c3)CCC4=O)CC2)CC1",
                  "385.5080000000003",
                  "1.8227999999999998",
                  "0.0",
                  "5.0"
                ],
                [
                  "19",
                  "CHEMBL5273978",
                  "25.48",
                  "active",
                  "Cc1cccc(C(=O)N2Cc3ccc(N4C(=O)c5ccccc5C4=O)cc3CC2=O)c1",
                  "410.4290000000002",
                  "3.5207200000000016",
                  "0.0",
                  "4.0"
                ],
                [
                  "20",
                  "CHEMBL4580216",
                  "610.0",
                  "active",
                  "S=C(NNc1c2c(nc3ccccc13)CCCC2)Nc1ccccc1",
                  "348.475",
                  "4.427100000000003",
                  "3.0",
                  "3.0"
                ],
                [
                  "21",
                  "CHEMBL2380667",
                  "5810.0",
                  "intermediate",
                  "O=C1/C(=C/c2cccc3ccccc23)CN(C(=O)[C@H]2C[C@H]3CCCN3[C@]23C(=O)Nc2cc(Cl)ccc23)C/C1=C\\c1cccc2ccccc12",
                  "664.2050000000002",
                  "7.856600000000007",
                  "1.0",
                  "4.0"
                ],
                [
                  "22",
                  "CHEMBL422971",
                  "6000.0",
                  "intermediate",
                  "O=C1/C(=C/c2cc[nH]c2)CN(Cc2ccccc2)C/C1=C\\c1cc[nH]c1",
                  "343.43",
                  "3.894700000000002",
                  "2.0",
                  "2.0"
                ],
                [
                  "23",
                  "CHEMBL4466829",
                  "1050.0",
                  "intermediate",
                  "C(=N/Nc1c2c(nc3ccccc13)CCCC2)\\c1ccc(OCc2cn(Cc3ccccc3)nn2)cc1",
                  "488.5950000000002",
                  "5.778400000000006",
                  "1.0",
                  "7.0"
                ],
                [
                  "24",
                  "CHEMBL4634371",
                  "100000.0",
                  "inactive",
                  "COc1c2c(cc3c1OCO3)[C@]13C=C[C@H](OC)C[C@@H]1[N@](C2)C[C@H]3OC(=O)c1ccco1",
                  "425.4370000000002",
                  "2.6530000000000014",
                  "0.0",
                  "8.0"
                ],
                [
                  "25",
                  "CHEMBL496",
                  "3014.9",
                  "intermediate",
                  "Oc1c(Cl)cc(Cl)c(Cl)c1Cc1c(O)c(Cl)cc(Cl)c1Cl",
                  "406.90700000000004",
                  "6.609000000000001",
                  "2.0",
                  "2.0"
                ],
                [
                  "26",
                  "CHEMBL3623554",
                  "6.05",
                  "active",
                  "CC(C)(C)c1cccc(C(=O)C(F)F)c1",
                  "212.23899999999995",
                  "3.4319000000000024",
                  "0.0",
                  "1.0"
                ],
                [
                  "27",
                  "CHEMBL171048",
                  "1910.0",
                  "intermediate",
                  "COc1cc2c(cc1OC)C(=O)C(CC1CCN(Cc3ccc([N+](=O)[O-])cc3)CC1)C2",
                  "424.49700000000024",
                  "4.269300000000004",
                  "0.0",
                  "6.0"
                ],
                [
                  "28",
                  "CHEMBL195241",
                  "4.1",
                  "active",
                  "Cc1c(N2CCN(C)CC2)nc2ccccc2c1C(=O)NCCCCCCCNc1c2c(nc3ccccc13)CCCC2",
                  "578.8050000000002",
                  "6.5144200000000065",
                  "2.0",
                  "6.0"
                ],
                [
                  "29",
                  "CHEMBL14638",
                  "86100.0",
                  "inactive",
                  "O=C(c1ccc(OCCCc2c[nH]cn2)cc1)C1CC1",
                  "270.33200000000005",
                  "3.014000000000001",
                  "1.0",
                  "3.0"
                ],
                [
                  "30",
                  "CHEMBL4878578",
                  "98550.0",
                  "inactive",
                  "Clc1ccc(CN2CCC(c3cc4ccccc4o3)CC2)cc1",
                  "325.8390000000001",
                  "5.465800000000004",
                  "0.0",
                  "2.0"
                ],
                [
                  "31",
                  "CHEMBL1195259",
                  "86000.0",
                  "inactive",
                  "C#CCNC1CCc2c(OC(=O)N(C)C)cccc21",
                  "258.321",
                  "1.9571",
                  "1.0",
                  "3.0"
                ],
                [
                  "32",
                  "CHEMBL24519",
                  "7900.0",
                  "intermediate",
                  "C[C@]12CC[C@H](O)[C@@](C)(CO)C1C[C@H](O)[C@@]1(C)Oc3cc(-c4ccncc4)oc(=O)c3C(=O)C21",
                  "455.5070000000002",
                  "2.1921999999999997",
                  "3.0",
                  "8.0"
                ],
                [
                  "33",
                  "CHEMBL1083064",
                  "350.0",
                  "active",
                  "CNC(=O)Oc1cccc(-c2cn3ccccc3[n+]2C)c1",
                  "282.32300000000004",
                  "2.149",
                  "1.0",
                  "3.0"
                ],
                [
                  "34",
                  "CHEMBL542749",
                  "10500.0",
                  "inactive",
                  "CCN(C)C(=O)Oc1cccc2c1C(N)CC2",
                  "234.29899999999995",
                  "2.0831",
                  "1.0",
                  "3.0"
                ],
                [
                  "35",
                  "CHEMBL1929421",
                  "380.0",
                  "active",
                  "C#CCN(C)Cc1cc2cc(OCCCC3CCN(Cc4ccccc4)CC3)ccc2n1C",
                  "443.63500000000016",
                  "5.314500000000006",
                  "0.0",
                  "4.0"
                ],
                [
                  "36",
                  "CHEMBL136719",
                  "40831.94",
                  "inactive",
                  "CC(=O)Oc1cccc([N+](C)(C)C)c1C",
                  "208.28099999999995",
                  "2.11702",
                  "0.0",
                  "2.0"
                ],
                [
                  "37",
                  "CHEMBL502",
                  "2.33",
                  "active",
                  "COc1cc2c(cc1OC)C(=O)C(CC1CCN(Cc3ccccc3)CC1)C2",
                  "379.50000000000017",
                  "4.361100000000004",
                  "0.0",
                  "4.0"
                ],
                [
                  "38",
                  "CHEMBL2234518",
                  "17782.79",
                  "inactive",
                  "CC1(C)CC(=O)C2=C(C1)Oc1nc3c(c(N)c1[C@H]2c1ccccc1C(F)(F)F)CCCC3",
                  "442.48100000000017",
                  "5.728900000000005",
                  "1.0",
                  "4.0"
                ],
                [
                  "39",
                  "CHEMBL2425418",
                  "119110.0",
                  "inactive",
                  "NC(=S)NNC=C1C(=O)NC(=O)NC1=O",
                  "229.221",
                  "-2.4259000000000004",
                  "5.0",
                  "5.0"
                ],
                [
                  "40",
                  "CHEMBL383663",
                  "5e-06",
                  "active",
                  "O=C(CCCCCNc1c2c(nc3cc(Cl)ccc13)CCCC2)NCCc1c[nH]c2ccccc12",
                  "489.0630000000004",
                  "6.579500000000005",
                  "3.0",
                  "3.0"
                ],
                [
                  "41",
                  "CHEMBL4286799",
                  "110.0",
                  "active",
                  "O=C(NCCC1CCN(Cc2ccccc2)CC1)c1cc(=O)c2ccccc2o1",
                  "390.4830000000002",
                  "3.8251000000000026",
                  "1.0",
                  "4.0"
                ],
                [
                  "42",
                  "CHEMBL4439928",
                  "600000.0",
                  "inactive",
                  "CC(C)Cc1ccc(C(C)C(=O)NS(=O)(=O)c2ccc(N)cc2)cc1",
                  "360.47900000000004",
                  "3.0759000000000007",
                  "2.0",
                  "4.0"
                ],
                [
                  "43",
                  "CHEMBL421601",
                  "2100.0",
                  "intermediate",
                  "CN(C)Cc1ccc(CSCCNc2cccc(F)c2C#N)o1",
                  "333.4320000000001",
                  "3.697280000000003",
                  "1.0",
                  "5.0"
                ],
                [
                  "44",
                  "CHEMBL1669481",
                  "446000.0",
                  "inactive",
                  "c1ccc2c[n+](CCC[n+]3ccc4ccccc4c3)ccc2c1",
                  "300.40500000000003",
                  "3.6583000000000023",
                  "0.0",
                  "0.0"
                ],
                [
                  "45",
                  "CHEMBL2323351",
                  "81100.0",
                  "inactive",
                  "COc1ccc(/C=N/NC(=O)CN2CCN(Cc3ccccc3)CC2)cc1OC",
                  "396.4910000000001",
                  "1.9716999999999996",
                  "1.0",
                  "6.0"
                ],
                [
                  "46",
                  "CHEMBL101518",
                  "30.0",
                  "active",
                  "CN(CCOCCNC(=S)NC(=O)c1ccc(Cl)cc1)Cc1ccccc1",
                  "405.95100000000014",
                  "3.092900000000002",
                  "2.0",
                  "4.0"
                ],
                [
                  "47",
                  "CHEMBL4216666",
                  "2300.0",
                  "intermediate",
                  "O/N=C/c1nc(CCCCNc2c3c(nc4ccc(Cl)cc24)CCCC3)ccc1O",
                  "424.9320000000003",
                  "5.1105000000000045",
                  "3.0",
                  "6.0"
                ],
                [
                  "48",
                  "CHEMBL4170331",
                  "116.5",
                  "active",
                  "CC(=O)c1c[n+](Cc2cccc(Cl)c2)ccc1CC1Cc2cc(O)ccc2C1=O",
                  "406.88900000000024",
                  "4.181700000000004",
                  "1.0",
                  "3.0"
                ],
                [
                  "49",
                  "CHEMBL367571",
                  "420.0",
                  "active",
                  "COC1=CC(=O)[C@]2(C)[C@]3(O)Cc4c(cc(-c5cc(OC)c(OC)c(OC)c5)oc4=O)O[C@]3(C)CC[C@]2(O)C1(C)C",
                  "556.6080000000004",
                  "3.4277000000000024",
                  "2.0",
                  "10.0"
                ]
              ],
              "shape": {
                "columns": 8,
                "rows": 6614
              }
            },
            "text/html": [
              "<div>\n",
              "<style scoped>\n",
              "    .dataframe tbody tr th:only-of-type {\n",
              "        vertical-align: middle;\n",
              "    }\n",
              "\n",
              "    .dataframe tbody tr th {\n",
              "        vertical-align: top;\n",
              "    }\n",
              "\n",
              "    .dataframe thead th {\n",
              "        text-align: right;\n",
              "    }\n",
              "</style>\n",
              "<table border=\"1\" class=\"dataframe\">\n",
              "  <thead>\n",
              "    <tr style=\"text-align: right;\">\n",
              "      <th></th>\n",
              "      <th>molecule_chembl_id</th>\n",
              "      <th>standard_value</th>\n",
              "      <th>bioactivity_class</th>\n",
              "      <th>canonical_smiles</th>\n",
              "      <th>MW</th>\n",
              "      <th>LogP</th>\n",
              "      <th>NumHDonors</th>\n",
              "      <th>NumHAcceptors</th>\n",
              "    </tr>\n",
              "  </thead>\n",
              "  <tbody>\n",
              "    <tr>\n",
              "      <th>0</th>\n",
              "      <td>CHEMBL1834807</td>\n",
              "      <td>2700.0</td>\n",
              "      <td>intermediate</td>\n",
              "      <td>CCCCC/C=C\\C/C=C\\CCCCCCCC(=O)OCCCc1ccc2oc(-c3cc...</td>\n",
              "      <td>558.759</td>\n",
              "      <td>10.11780</td>\n",
              "      <td>0.0</td>\n",
              "      <td>5.0</td>\n",
              "    </tr>\n",
              "    <tr>\n",
              "      <th>1</th>\n",
              "      <td>CHEMBL5188500</td>\n",
              "      <td>988.0</td>\n",
              "      <td>active</td>\n",
              "      <td>CC(=O)N1N=C(c2ccc(-c3ccccc3)cc2)CC1c1ccc2c(c1)...</td>\n",
              "      <td>384.435</td>\n",
              "      <td>4.77990</td>\n",
              "      <td>0.0</td>\n",
              "      <td>4.0</td>\n",
              "    </tr>\n",
              "    <tr>\n",
              "      <th>2</th>\n",
              "      <td>CHEMBL491358</td>\n",
              "      <td>45.0</td>\n",
              "      <td>active</td>\n",
              "      <td>CCOC(=O)C1=C(C)Nc2nc3c(c(N)c2C1c1ccc(OC)c(OC)c...</td>\n",
              "      <td>423.513</td>\n",
              "      <td>3.95430</td>\n",
              "      <td>2.0</td>\n",
              "      <td>7.0</td>\n",
              "    </tr>\n",
              "    <tr>\n",
              "      <th>3</th>\n",
              "      <td>CHEMBL5199361</td>\n",
              "      <td>245.0</td>\n",
              "      <td>active</td>\n",
              "      <td>CN1CCN(c2c3c(nc4ccc([N+](=O)[O-])cc24)CCCC3)CC1</td>\n",
              "      <td>326.400</td>\n",
              "      <td>2.77360</td>\n",
              "      <td>0.0</td>\n",
              "      <td>5.0</td>\n",
              "    </tr>\n",
              "    <tr>\n",
              "      <th>4</th>\n",
              "      <td>CHEMBL2158994</td>\n",
              "      <td>4680.0</td>\n",
              "      <td>intermediate</td>\n",
              "      <td>CN(C)CCOc1ccc(C(=O)/C=C/c2ccccc2)cc1</td>\n",
              "      <td>295.382</td>\n",
              "      <td>3.52310</td>\n",
              "      <td>0.0</td>\n",
              "      <td>3.0</td>\n",
              "    </tr>\n",
              "    <tr>\n",
              "      <th>...</th>\n",
              "      <td>...</td>\n",
              "      <td>...</td>\n",
              "      <td>...</td>\n",
              "      <td>...</td>\n",
              "      <td>...</td>\n",
              "      <td>...</td>\n",
              "      <td>...</td>\n",
              "      <td>...</td>\n",
              "    </tr>\n",
              "    <tr>\n",
              "      <th>6609</th>\n",
              "      <td>CHEMBL310918</td>\n",
              "      <td>64.0</td>\n",
              "      <td>active</td>\n",
              "      <td>O=C(CCC1CCN(Cc2cccc([N+](=O)[O-])c2)CC1)c1ccc2...</td>\n",
              "      <td>393.487</td>\n",
              "      <td>4.43790</td>\n",
              "      <td>1.0</td>\n",
              "      <td>5.0</td>\n",
              "    </tr>\n",
              "    <tr>\n",
              "      <th>6610</th>\n",
              "      <td>CHEMBL539571</td>\n",
              "      <td>72400.0</td>\n",
              "      <td>inactive</td>\n",
              "      <td>C#CCNC1CCc2ccc(OC(=O)N(CC)CCCC)cc21</td>\n",
              "      <td>314.429</td>\n",
              "      <td>3.51750</td>\n",
              "      <td>1.0</td>\n",
              "      <td>3.0</td>\n",
              "    </tr>\n",
              "    <tr>\n",
              "      <th>6611</th>\n",
              "      <td>CHEMBL130738</td>\n",
              "      <td>30000.0</td>\n",
              "      <td>inactive</td>\n",
              "      <td>Cc1[nH]c(C)c(/C=C2\\CN(Cc3ccccc3)CCC2=O)c1C=O</td>\n",
              "      <td>322.408</td>\n",
              "      <td>3.30244</td>\n",
              "      <td>1.0</td>\n",
              "      <td>3.0</td>\n",
              "    </tr>\n",
              "    <tr>\n",
              "      <th>6612</th>\n",
              "      <td>CHEMBL4453051</td>\n",
              "      <td>1700.0</td>\n",
              "      <td>intermediate</td>\n",
              "      <td>c1ccc(CNC2CCN(Cc3ccccc3)CC2)cc1</td>\n",
              "      <td>280.415</td>\n",
              "      <td>3.44080</td>\n",
              "      <td>1.0</td>\n",
              "      <td>2.0</td>\n",
              "    </tr>\n",
              "    <tr>\n",
              "      <th>6613</th>\n",
              "      <td>CHEMBL3771233</td>\n",
              "      <td>6700.0</td>\n",
              "      <td>intermediate</td>\n",
              "      <td>O=C(CCc1ccccc1)N1c2ccccc2[Se]c2ccccc21</td>\n",
              "      <td>378.333</td>\n",
              "      <td>2.95250</td>\n",
              "      <td>0.0</td>\n",
              "      <td>1.0</td>\n",
              "    </tr>\n",
              "  </tbody>\n",
              "</table>\n",
              "<p>6614 rows × 8 columns</p>\n",
              "</div>"
            ],
            "text/plain": [
              "     molecule_chembl_id  standard_value bioactivity_class  \\\n",
              "0         CHEMBL1834807          2700.0      intermediate   \n",
              "1         CHEMBL5188500           988.0            active   \n",
              "2          CHEMBL491358            45.0            active   \n",
              "3         CHEMBL5199361           245.0            active   \n",
              "4         CHEMBL2158994          4680.0      intermediate   \n",
              "...                 ...             ...               ...   \n",
              "6609       CHEMBL310918            64.0            active   \n",
              "6610       CHEMBL539571         72400.0          inactive   \n",
              "6611       CHEMBL130738         30000.0          inactive   \n",
              "6612      CHEMBL4453051          1700.0      intermediate   \n",
              "6613      CHEMBL3771233          6700.0      intermediate   \n",
              "\n",
              "                                       canonical_smiles       MW      LogP  \\\n",
              "0     CCCCC/C=C\\C/C=C\\CCCCCCCC(=O)OCCCc1ccc2oc(-c3cc...  558.759  10.11780   \n",
              "1     CC(=O)N1N=C(c2ccc(-c3ccccc3)cc2)CC1c1ccc2c(c1)...  384.435   4.77990   \n",
              "2     CCOC(=O)C1=C(C)Nc2nc3c(c(N)c2C1c1ccc(OC)c(OC)c...  423.513   3.95430   \n",
              "3       CN1CCN(c2c3c(nc4ccc([N+](=O)[O-])cc24)CCCC3)CC1  326.400   2.77360   \n",
              "4                  CN(C)CCOc1ccc(C(=O)/C=C/c2ccccc2)cc1  295.382   3.52310   \n",
              "...                                                 ...      ...       ...   \n",
              "6609  O=C(CCC1CCN(Cc2cccc([N+](=O)[O-])c2)CC1)c1ccc2...  393.487   4.43790   \n",
              "6610                C#CCNC1CCc2ccc(OC(=O)N(CC)CCCC)cc21  314.429   3.51750   \n",
              "6611       Cc1[nH]c(C)c(/C=C2\\CN(Cc3ccccc3)CCC2=O)c1C=O  322.408   3.30244   \n",
              "6612                    c1ccc(CNC2CCN(Cc3ccccc3)CC2)cc1  280.415   3.44080   \n",
              "6613             O=C(CCc1ccccc1)N1c2ccccc2[Se]c2ccccc21  378.333   2.95250   \n",
              "\n",
              "      NumHDonors  NumHAcceptors  \n",
              "0            0.0            5.0  \n",
              "1            0.0            4.0  \n",
              "2            2.0            7.0  \n",
              "3            0.0            5.0  \n",
              "4            0.0            3.0  \n",
              "...          ...            ...  \n",
              "6609         1.0            5.0  \n",
              "6610         1.0            3.0  \n",
              "6611         1.0            3.0  \n",
              "6612         1.0            2.0  \n",
              "6613         0.0            1.0  \n",
              "\n",
              "[6614 rows x 8 columns]"
            ]
          },
          "execution_count": 105,
          "metadata": {},
          "output_type": "execute_result"
        }
      ],
      "source": [
        "df_combined"
      ]
    },
    {
      "cell_type": "markdown",
      "metadata": {
        "colab_type": "text",
        "id": "e0MLOedB6j96"
      },
      "source": [
        "### **Convert IC50 to pIC50**\n",
        "To allow **IC50** data to be more uniformly distributed, we will convert **IC50** to the negative logarithmic scale which is essentially **-log10(IC50)**.\n",
        "\n",
        "This custom function pIC50() will accept a DataFrame as input and will:\n",
        "* Take the IC50 values from the ``standard_value`` column and converts it from nM to M by multiplying the value by 10$^{-9}$\n",
        "* Take the molar value and apply -log10\n",
        "* Delete the ``standard_value`` column and create a new ``pIC50`` column"
      ]
    },
    {
      "cell_type": "markdown",
      "metadata": {
        "colab_type": "text",
        "id": "WU5Fh1h2OaJJ"
      },
      "source": [
        "Point to note: Values greater than 100,000,000 will be fixed at 100,000,000 otherwise the negative logarithmic value will become negative."
      ]
    },
    {
      "cell_type": "code",
      "execution_count": 106,
      "metadata": {
        "colab": {
          "base_uri": "https://localhost:8080/",
          "height": 170
        },
        "colab_type": "code",
        "id": "QuUTFUpcR1wU",
        "outputId": "9d1db8ff-8de4-4dd6-8259-6a28617538eb"
      },
      "outputs": [
        {
          "data": {
            "application/vnd.microsoft.datawrangler.viewer.v0+json": {
              "columns": [
                {
                  "name": "index",
                  "rawType": "object",
                  "type": "string"
                },
                {
                  "name": "standard_value",
                  "rawType": "float64",
                  "type": "float"
                }
              ],
              "ref": "8e0d73a0-5662-4d88-92ce-fb11bca3e93d",
              "rows": [
                [
                  "count",
                  "6614.0"
                ],
                [
                  "mean",
                  "102785.77130308212"
                ],
                [
                  "std",
                  "890287.9821985569"
                ],
                [
                  "min",
                  "0.0"
                ],
                [
                  "25%",
                  "158.6175"
                ],
                [
                  "50%",
                  "2562.0"
                ],
                [
                  "75%",
                  "17100.0"
                ],
                [
                  "max",
                  "49600000.0"
                ]
              ],
              "shape": {
                "columns": 1,
                "rows": 8
              }
            },
            "text/plain": [
              "count    6.614000e+03\n",
              "mean     1.027858e+05\n",
              "std      8.902880e+05\n",
              "min      0.000000e+00\n",
              "25%      1.586175e+02\n",
              "50%      2.562000e+03\n",
              "75%      1.710000e+04\n",
              "max      4.960000e+07\n",
              "Name: standard_value, dtype: float64"
            ]
          },
          "execution_count": 106,
          "metadata": {},
          "output_type": "execute_result"
        }
      ],
      "source": [
        "df_combined.standard_value.describe()"
      ]
    },
    {
      "cell_type": "code",
      "execution_count": 107,
      "metadata": {
        "colab": {
          "base_uri": "https://localhost:8080/",
          "height": 34
        },
        "colab_type": "code",
        "id": "QyiJ0to5N6Z_",
        "outputId": "e10f18e8-1255-4636-bf2f-efbd3befde4f"
      },
      "outputs": [
        {
          "data": {
            "text/plain": [
              "np.float64(1.0)"
            ]
          },
          "execution_count": 107,
          "metadata": {},
          "output_type": "execute_result"
        }
      ],
      "source": [
        "-np.log10( (10**-9)* 100000000 )"
      ]
    },
    {
      "cell_type": "code",
      "execution_count": 108,
      "metadata": {
        "colab": {
          "base_uri": "https://localhost:8080/",
          "height": 34
        },
        "colab_type": "code",
        "id": "9S1aJkOYOP6K",
        "outputId": "85aa8a89-99f7-4d9e-dac5-3f599c2fb364"
      },
      "outputs": [
        {
          "data": {
            "text/plain": [
              "np.float64(-1.0)"
            ]
          },
          "execution_count": 108,
          "metadata": {},
          "output_type": "execute_result"
        }
      ],
      "source": [
        "-np.log10( (10**-9)* 10000000000 )"
      ]
    },
    {
      "cell_type": "markdown",
      "metadata": {
        "colab_type": "text",
        "id": "EkrTs7RfPsrH"
      },
      "source": [
        "Therefore, we will first apply the norm_value() function so that the values in the standard_value column is normalized."
      ]
    },
    {
      "cell_type": "code",
      "execution_count": 109,
      "metadata": {
        "colab": {},
        "colab_type": "code",
        "id": "iktHDDwtPDwl"
      },
      "outputs": [],
      "source": [
        "def norm_value(input_df):\n",
        "  input_df = input_df[input_df['standard_value'] != 0]\n",
        "  norm = []\n",
        "\n",
        "  for ic50 in input_df['standard_value']:\n",
        "    if ic50 > 100000000:\n",
        "      ic50 = 100000000\n",
        "    norm.append(ic50)\n",
        "\n",
        "  input_df['standard_value_norm'] = norm\n",
        "  input_df['standard_value']\n",
        "  x = input_df.drop(columns='standard_value', axis=1)\n",
        "\n",
        "  return x.reset_index(drop=True)"
      ]
    },
    {
      "cell_type": "code",
      "execution_count": 110,
      "metadata": {
        "colab": {
          "base_uri": "https://localhost:8080/",
          "height": 487
        },
        "colab_type": "code",
        "id": "EX2Mj2-ZP1Rj",
        "outputId": "7f0f6cb0-d251-4208-fbf8-19970978625e"
      },
      "outputs": [
        {
          "name": "stderr",
          "output_type": "stream",
          "text": [
            "C:\\Users\\liv_u\\AppData\\Local\\Temp\\ipykernel_19756\\3163801115.py:10: SettingWithCopyWarning: \n",
            "A value is trying to be set on a copy of a slice from a DataFrame.\n",
            "Try using .loc[row_indexer,col_indexer] = value instead\n",
            "\n",
            "See the caveats in the documentation: https://pandas.pydata.org/pandas-docs/stable/user_guide/indexing.html#returning-a-view-versus-a-copy\n",
            "  input_df['standard_value_norm'] = norm\n"
          ]
        },
        {
          "data": {
            "application/vnd.microsoft.datawrangler.viewer.v0+json": {
              "columns": [
                {
                  "name": "index",
                  "rawType": "int64",
                  "type": "integer"
                },
                {
                  "name": "molecule_chembl_id",
                  "rawType": "object",
                  "type": "string"
                },
                {
                  "name": "bioactivity_class",
                  "rawType": "object",
                  "type": "string"
                },
                {
                  "name": "canonical_smiles",
                  "rawType": "object",
                  "type": "string"
                },
                {
                  "name": "MW",
                  "rawType": "float64",
                  "type": "float"
                },
                {
                  "name": "LogP",
                  "rawType": "float64",
                  "type": "float"
                },
                {
                  "name": "NumHDonors",
                  "rawType": "float64",
                  "type": "float"
                },
                {
                  "name": "NumHAcceptors",
                  "rawType": "float64",
                  "type": "float"
                },
                {
                  "name": "standard_value_norm",
                  "rawType": "float64",
                  "type": "float"
                }
              ],
              "ref": "da7f8f98-2830-48d2-86a3-ff510e276cfb",
              "rows": [
                [
                  "0",
                  "CHEMBL1834807",
                  "intermediate",
                  "CCCCC/C=C\\C/C=C\\CCCCCCCC(=O)OCCCc1ccc2oc(-c3ccc4c(c3)OCO4)cc2c1",
                  "558.7590000000002",
                  "10.117799999999994",
                  "0.0",
                  "5.0",
                  "2700.0"
                ],
                [
                  "1",
                  "CHEMBL5188500",
                  "active",
                  "CC(=O)N1N=C(c2ccc(-c3ccccc3)cc2)CC1c1ccc2c(c1)OCO2",
                  "384.4350000000002",
                  "4.779900000000004",
                  "0.0",
                  "4.0",
                  "988.0"
                ],
                [
                  "2",
                  "CHEMBL491358",
                  "active",
                  "CCOC(=O)C1=C(C)Nc2nc3c(c(N)c2C1c1ccc(OC)c(OC)c1)CCCC3",
                  "423.5130000000003",
                  "3.9543000000000026",
                  "2.0",
                  "7.0",
                  "45.0"
                ],
                [
                  "3",
                  "CHEMBL5199361",
                  "active",
                  "CN1CCN(c2c3c(nc4ccc([N+](=O)[O-])cc24)CCCC3)CC1",
                  "326.4000000000002",
                  "2.773600000000001",
                  "0.0",
                  "5.0",
                  "245.0"
                ],
                [
                  "4",
                  "CHEMBL2158994",
                  "intermediate",
                  "CN(C)CCOc1ccc(C(=O)/C=C/c2ccccc2)cc1",
                  "295.382",
                  "3.523100000000002",
                  "0.0",
                  "3.0",
                  "4680.0"
                ],
                [
                  "5",
                  "CHEMBL1098479",
                  "inactive",
                  "C[C@H](CC[C@@H](O)C(C)(C)O)[C@H]1CC[C@@]2(C)C3=CC[C@H]4C(C)(C)C(=O)CC[C@]4(C)C3=CC[C@]12C",
                  "456.7110000000003",
                  "6.628900000000008",
                  "2.0",
                  "3.0",
                  "25080.0"
                ],
                [
                  "6",
                  "CHEMBL392385",
                  "inactive",
                  "CN(C(=O)Oc1ccc(Oc2ccc(C(F)(F)F)cn2)cc1)c1cccc(Cl)c1",
                  "422.7900000000001",
                  "6.181300000000004",
                  "0.0",
                  "4.0",
                  "50000.0"
                ],
                [
                  "7",
                  "CHEMBL574261",
                  "intermediate",
                  "CCCSc1nc2nc3c(c(N)c2s1)C1CC(C)=CC(C3)C1",
                  "331.5100000000001",
                  "4.771600000000004",
                  "1.0",
                  "5.0",
                  "7690.0"
                ],
                [
                  "8",
                  "CHEMBL130112",
                  "intermediate",
                  "CSc1nc(-c2ccc(C)cc2)nn1C(=O)N(C)c1ccccc1",
                  "338.43600000000004",
                  "4.079920000000002",
                  "0.0",
                  "5.0",
                  "2400.0"
                ],
                [
                  "9",
                  "CHEMBL4778690",
                  "intermediate",
                  "COc1cc2c(cc1OC)C(=O)/C(=C/c1ccc(N3CC[N+](C)(Cc4cccc(Br)c4)CC3)cc1)C2",
                  "548.5010000000002",
                  "5.755500000000006",
                  "0.0",
                  "4.0",
                  "1990.0"
                ],
                [
                  "10",
                  "CHEMBL4743162",
                  "intermediate",
                  "O=[N+]([O-])c1ccccc1-c1nnc(Nc2ncccn2)o1",
                  "284.235",
                  "2.1784",
                  "1.0",
                  "8.0",
                  "3388.44"
                ],
                [
                  "11",
                  "CHEMBL990",
                  "intermediate",
                  "CN(Cc1ccc(C(C)(C)C)cc1)Cc1cccc2ccccc12",
                  "317.476",
                  "5.769300000000006",
                  "0.0",
                  "1.0",
                  "6907.1"
                ],
                [
                  "12",
                  "CHEMBL1257412",
                  "inactive",
                  "CCCCCCCCCCCCCCNc1c2c(nc3ccc(OC)cc13)CCCC2",
                  "424.67300000000023",
                  "8.235200000000008",
                  "1.0",
                  "3.0",
                  "46000.0"
                ],
                [
                  "13",
                  "CHEMBL3415565",
                  "active",
                  "O=C1c2ccccc2C(=O)N1CCCCCCCNCc1ccccc1F",
                  "368.45199999999994",
                  "4.1620000000000035",
                  "1.0",
                  "3.0",
                  "329.0"
                ],
                [
                  "14",
                  "CHEMBL372491",
                  "active",
                  "COc1cc2cc(C(=O)C3CCC[N+](C)(CC4CCCCO4)CC3)sc2cc1OC",
                  "432.6060000000003",
                  "4.917000000000005",
                  "0.0",
                  "5.0",
                  "28.0"
                ],
                [
                  "15",
                  "CHEMBL4063663",
                  "inactive",
                  "COc1cc(/C=C/C(=O)Nc2ccccc2)ccc1OCCCCN1CCCC1",
                  "394.5150000000004",
                  "4.601900000000004",
                  "1.0",
                  "4.0",
                  "24350.0"
                ],
                [
                  "16",
                  "CHEMBL4205651",
                  "active",
                  "O=C(CNCc1ccccc1F)Nc1ccc2nc3n(c(=O)c2c1)CCC3",
                  "366.39600000000024",
                  "2.2100999999999997",
                  "2.0",
                  "5.0",
                  "528.0"
                ],
                [
                  "17",
                  "CHEMBL4292192",
                  "inactive",
                  "CCN(CC)c1ccc(/C=C/c2cc(N3CCCCC3)c3ccccc3n2)cc1",
                  "385.55500000000006",
                  "6.241700000000006",
                  "0.0",
                  "3.0",
                  "64100.0"
                ],
                [
                  "18",
                  "CHEMBL4287340",
                  "intermediate",
                  "CCN1CCN(C2CCN(C(=O)COc3ccc4c(c3)CCC4=O)CC2)CC1",
                  "385.5080000000003",
                  "1.8227999999999998",
                  "0.0",
                  "5.0",
                  "4900.0"
                ],
                [
                  "19",
                  "CHEMBL5273978",
                  "active",
                  "Cc1cccc(C(=O)N2Cc3ccc(N4C(=O)c5ccccc5C4=O)cc3CC2=O)c1",
                  "410.4290000000002",
                  "3.5207200000000016",
                  "0.0",
                  "4.0",
                  "25.48"
                ],
                [
                  "20",
                  "CHEMBL4580216",
                  "active",
                  "S=C(NNc1c2c(nc3ccccc13)CCCC2)Nc1ccccc1",
                  "348.475",
                  "4.427100000000003",
                  "3.0",
                  "3.0",
                  "610.0"
                ],
                [
                  "21",
                  "CHEMBL2380667",
                  "intermediate",
                  "O=C1/C(=C/c2cccc3ccccc23)CN(C(=O)[C@H]2C[C@H]3CCCN3[C@]23C(=O)Nc2cc(Cl)ccc23)C/C1=C\\c1cccc2ccccc12",
                  "664.2050000000002",
                  "7.856600000000007",
                  "1.0",
                  "4.0",
                  "5810.0"
                ],
                [
                  "22",
                  "CHEMBL422971",
                  "intermediate",
                  "O=C1/C(=C/c2cc[nH]c2)CN(Cc2ccccc2)C/C1=C\\c1cc[nH]c1",
                  "343.43",
                  "3.894700000000002",
                  "2.0",
                  "2.0",
                  "6000.0"
                ],
                [
                  "23",
                  "CHEMBL4466829",
                  "intermediate",
                  "C(=N/Nc1c2c(nc3ccccc13)CCCC2)\\c1ccc(OCc2cn(Cc3ccccc3)nn2)cc1",
                  "488.5950000000002",
                  "5.778400000000006",
                  "1.0",
                  "7.0",
                  "1050.0"
                ],
                [
                  "24",
                  "CHEMBL4634371",
                  "inactive",
                  "COc1c2c(cc3c1OCO3)[C@]13C=C[C@H](OC)C[C@@H]1[N@](C2)C[C@H]3OC(=O)c1ccco1",
                  "425.4370000000002",
                  "2.6530000000000014",
                  "0.0",
                  "8.0",
                  "100000.0"
                ],
                [
                  "25",
                  "CHEMBL496",
                  "intermediate",
                  "Oc1c(Cl)cc(Cl)c(Cl)c1Cc1c(O)c(Cl)cc(Cl)c1Cl",
                  "406.90700000000004",
                  "6.609000000000001",
                  "2.0",
                  "2.0",
                  "3014.9"
                ],
                [
                  "26",
                  "CHEMBL3623554",
                  "active",
                  "CC(C)(C)c1cccc(C(=O)C(F)F)c1",
                  "212.23899999999995",
                  "3.4319000000000024",
                  "0.0",
                  "1.0",
                  "6.05"
                ],
                [
                  "27",
                  "CHEMBL171048",
                  "intermediate",
                  "COc1cc2c(cc1OC)C(=O)C(CC1CCN(Cc3ccc([N+](=O)[O-])cc3)CC1)C2",
                  "424.49700000000024",
                  "4.269300000000004",
                  "0.0",
                  "6.0",
                  "1910.0"
                ],
                [
                  "28",
                  "CHEMBL195241",
                  "active",
                  "Cc1c(N2CCN(C)CC2)nc2ccccc2c1C(=O)NCCCCCCCNc1c2c(nc3ccccc13)CCCC2",
                  "578.8050000000002",
                  "6.5144200000000065",
                  "2.0",
                  "6.0",
                  "4.1"
                ],
                [
                  "29",
                  "CHEMBL14638",
                  "inactive",
                  "O=C(c1ccc(OCCCc2c[nH]cn2)cc1)C1CC1",
                  "270.33200000000005",
                  "3.014000000000001",
                  "1.0",
                  "3.0",
                  "86100.0"
                ],
                [
                  "30",
                  "CHEMBL4878578",
                  "inactive",
                  "Clc1ccc(CN2CCC(c3cc4ccccc4o3)CC2)cc1",
                  "325.8390000000001",
                  "5.465800000000004",
                  "0.0",
                  "2.0",
                  "98550.0"
                ],
                [
                  "31",
                  "CHEMBL1195259",
                  "inactive",
                  "C#CCNC1CCc2c(OC(=O)N(C)C)cccc21",
                  "258.321",
                  "1.9571",
                  "1.0",
                  "3.0",
                  "86000.0"
                ],
                [
                  "32",
                  "CHEMBL24519",
                  "intermediate",
                  "C[C@]12CC[C@H](O)[C@@](C)(CO)C1C[C@H](O)[C@@]1(C)Oc3cc(-c4ccncc4)oc(=O)c3C(=O)C21",
                  "455.5070000000002",
                  "2.1921999999999997",
                  "3.0",
                  "8.0",
                  "7900.0"
                ],
                [
                  "33",
                  "CHEMBL1083064",
                  "active",
                  "CNC(=O)Oc1cccc(-c2cn3ccccc3[n+]2C)c1",
                  "282.32300000000004",
                  "2.149",
                  "1.0",
                  "3.0",
                  "350.0"
                ],
                [
                  "34",
                  "CHEMBL542749",
                  "inactive",
                  "CCN(C)C(=O)Oc1cccc2c1C(N)CC2",
                  "234.29899999999995",
                  "2.0831",
                  "1.0",
                  "3.0",
                  "10500.0"
                ],
                [
                  "35",
                  "CHEMBL1929421",
                  "active",
                  "C#CCN(C)Cc1cc2cc(OCCCC3CCN(Cc4ccccc4)CC3)ccc2n1C",
                  "443.63500000000016",
                  "5.314500000000006",
                  "0.0",
                  "4.0",
                  "380.0"
                ],
                [
                  "36",
                  "CHEMBL136719",
                  "inactive",
                  "CC(=O)Oc1cccc([N+](C)(C)C)c1C",
                  "208.28099999999995",
                  "2.11702",
                  "0.0",
                  "2.0",
                  "40831.94"
                ],
                [
                  "37",
                  "CHEMBL502",
                  "active",
                  "COc1cc2c(cc1OC)C(=O)C(CC1CCN(Cc3ccccc3)CC1)C2",
                  "379.50000000000017",
                  "4.361100000000004",
                  "0.0",
                  "4.0",
                  "2.33"
                ],
                [
                  "38",
                  "CHEMBL2234518",
                  "inactive",
                  "CC1(C)CC(=O)C2=C(C1)Oc1nc3c(c(N)c1[C@H]2c1ccccc1C(F)(F)F)CCCC3",
                  "442.48100000000017",
                  "5.728900000000005",
                  "1.0",
                  "4.0",
                  "17782.79"
                ],
                [
                  "39",
                  "CHEMBL2425418",
                  "inactive",
                  "NC(=S)NNC=C1C(=O)NC(=O)NC1=O",
                  "229.221",
                  "-2.4259000000000004",
                  "5.0",
                  "5.0",
                  "119110.0"
                ],
                [
                  "40",
                  "CHEMBL383663",
                  "active",
                  "O=C(CCCCCNc1c2c(nc3cc(Cl)ccc13)CCCC2)NCCc1c[nH]c2ccccc12",
                  "489.0630000000004",
                  "6.579500000000005",
                  "3.0",
                  "3.0",
                  "5e-06"
                ],
                [
                  "41",
                  "CHEMBL4286799",
                  "active",
                  "O=C(NCCC1CCN(Cc2ccccc2)CC1)c1cc(=O)c2ccccc2o1",
                  "390.4830000000002",
                  "3.8251000000000026",
                  "1.0",
                  "4.0",
                  "110.0"
                ],
                [
                  "42",
                  "CHEMBL4439928",
                  "inactive",
                  "CC(C)Cc1ccc(C(C)C(=O)NS(=O)(=O)c2ccc(N)cc2)cc1",
                  "360.47900000000004",
                  "3.0759000000000007",
                  "2.0",
                  "4.0",
                  "600000.0"
                ],
                [
                  "43",
                  "CHEMBL421601",
                  "intermediate",
                  "CN(C)Cc1ccc(CSCCNc2cccc(F)c2C#N)o1",
                  "333.4320000000001",
                  "3.697280000000003",
                  "1.0",
                  "5.0",
                  "2100.0"
                ],
                [
                  "44",
                  "CHEMBL1669481",
                  "inactive",
                  "c1ccc2c[n+](CCC[n+]3ccc4ccccc4c3)ccc2c1",
                  "300.40500000000003",
                  "3.6583000000000023",
                  "0.0",
                  "0.0",
                  "446000.0"
                ],
                [
                  "45",
                  "CHEMBL2323351",
                  "inactive",
                  "COc1ccc(/C=N/NC(=O)CN2CCN(Cc3ccccc3)CC2)cc1OC",
                  "396.4910000000001",
                  "1.9716999999999996",
                  "1.0",
                  "6.0",
                  "81100.0"
                ],
                [
                  "46",
                  "CHEMBL101518",
                  "active",
                  "CN(CCOCCNC(=S)NC(=O)c1ccc(Cl)cc1)Cc1ccccc1",
                  "405.95100000000014",
                  "3.092900000000002",
                  "2.0",
                  "4.0",
                  "30.0"
                ],
                [
                  "47",
                  "CHEMBL4216666",
                  "intermediate",
                  "O/N=C/c1nc(CCCCNc2c3c(nc4ccc(Cl)cc24)CCCC3)ccc1O",
                  "424.9320000000003",
                  "5.1105000000000045",
                  "3.0",
                  "6.0",
                  "2300.0"
                ],
                [
                  "48",
                  "CHEMBL4170331",
                  "active",
                  "CC(=O)c1c[n+](Cc2cccc(Cl)c2)ccc1CC1Cc2cc(O)ccc2C1=O",
                  "406.88900000000024",
                  "4.181700000000004",
                  "1.0",
                  "3.0",
                  "116.5"
                ],
                [
                  "49",
                  "CHEMBL367571",
                  "active",
                  "COC1=CC(=O)[C@]2(C)[C@]3(O)Cc4c(cc(-c5cc(OC)c(OC)c(OC)c5)oc4=O)O[C@]3(C)CC[C@]2(O)C1(C)C",
                  "556.6080000000004",
                  "3.4277000000000024",
                  "2.0",
                  "10.0",
                  "420.0"
                ]
              ],
              "shape": {
                "columns": 8,
                "rows": 6613
              }
            },
            "text/html": [
              "<div>\n",
              "<style scoped>\n",
              "    .dataframe tbody tr th:only-of-type {\n",
              "        vertical-align: middle;\n",
              "    }\n",
              "\n",
              "    .dataframe tbody tr th {\n",
              "        vertical-align: top;\n",
              "    }\n",
              "\n",
              "    .dataframe thead th {\n",
              "        text-align: right;\n",
              "    }\n",
              "</style>\n",
              "<table border=\"1\" class=\"dataframe\">\n",
              "  <thead>\n",
              "    <tr style=\"text-align: right;\">\n",
              "      <th></th>\n",
              "      <th>molecule_chembl_id</th>\n",
              "      <th>bioactivity_class</th>\n",
              "      <th>canonical_smiles</th>\n",
              "      <th>MW</th>\n",
              "      <th>LogP</th>\n",
              "      <th>NumHDonors</th>\n",
              "      <th>NumHAcceptors</th>\n",
              "      <th>standard_value_norm</th>\n",
              "    </tr>\n",
              "  </thead>\n",
              "  <tbody>\n",
              "    <tr>\n",
              "      <th>0</th>\n",
              "      <td>CHEMBL1834807</td>\n",
              "      <td>intermediate</td>\n",
              "      <td>CCCCC/C=C\\C/C=C\\CCCCCCCC(=O)OCCCc1ccc2oc(-c3cc...</td>\n",
              "      <td>558.759</td>\n",
              "      <td>10.11780</td>\n",
              "      <td>0.0</td>\n",
              "      <td>5.0</td>\n",
              "      <td>2700.0</td>\n",
              "    </tr>\n",
              "    <tr>\n",
              "      <th>1</th>\n",
              "      <td>CHEMBL5188500</td>\n",
              "      <td>active</td>\n",
              "      <td>CC(=O)N1N=C(c2ccc(-c3ccccc3)cc2)CC1c1ccc2c(c1)...</td>\n",
              "      <td>384.435</td>\n",
              "      <td>4.77990</td>\n",
              "      <td>0.0</td>\n",
              "      <td>4.0</td>\n",
              "      <td>988.0</td>\n",
              "    </tr>\n",
              "    <tr>\n",
              "      <th>2</th>\n",
              "      <td>CHEMBL491358</td>\n",
              "      <td>active</td>\n",
              "      <td>CCOC(=O)C1=C(C)Nc2nc3c(c(N)c2C1c1ccc(OC)c(OC)c...</td>\n",
              "      <td>423.513</td>\n",
              "      <td>3.95430</td>\n",
              "      <td>2.0</td>\n",
              "      <td>7.0</td>\n",
              "      <td>45.0</td>\n",
              "    </tr>\n",
              "    <tr>\n",
              "      <th>3</th>\n",
              "      <td>CHEMBL5199361</td>\n",
              "      <td>active</td>\n",
              "      <td>CN1CCN(c2c3c(nc4ccc([N+](=O)[O-])cc24)CCCC3)CC1</td>\n",
              "      <td>326.400</td>\n",
              "      <td>2.77360</td>\n",
              "      <td>0.0</td>\n",
              "      <td>5.0</td>\n",
              "      <td>245.0</td>\n",
              "    </tr>\n",
              "    <tr>\n",
              "      <th>4</th>\n",
              "      <td>CHEMBL2158994</td>\n",
              "      <td>intermediate</td>\n",
              "      <td>CN(C)CCOc1ccc(C(=O)/C=C/c2ccccc2)cc1</td>\n",
              "      <td>295.382</td>\n",
              "      <td>3.52310</td>\n",
              "      <td>0.0</td>\n",
              "      <td>3.0</td>\n",
              "      <td>4680.0</td>\n",
              "    </tr>\n",
              "    <tr>\n",
              "      <th>...</th>\n",
              "      <td>...</td>\n",
              "      <td>...</td>\n",
              "      <td>...</td>\n",
              "      <td>...</td>\n",
              "      <td>...</td>\n",
              "      <td>...</td>\n",
              "      <td>...</td>\n",
              "      <td>...</td>\n",
              "    </tr>\n",
              "    <tr>\n",
              "      <th>6608</th>\n",
              "      <td>CHEMBL310918</td>\n",
              "      <td>active</td>\n",
              "      <td>O=C(CCC1CCN(Cc2cccc([N+](=O)[O-])c2)CC1)c1ccc2...</td>\n",
              "      <td>393.487</td>\n",
              "      <td>4.43790</td>\n",
              "      <td>1.0</td>\n",
              "      <td>5.0</td>\n",
              "      <td>64.0</td>\n",
              "    </tr>\n",
              "    <tr>\n",
              "      <th>6609</th>\n",
              "      <td>CHEMBL539571</td>\n",
              "      <td>inactive</td>\n",
              "      <td>C#CCNC1CCc2ccc(OC(=O)N(CC)CCCC)cc21</td>\n",
              "      <td>314.429</td>\n",
              "      <td>3.51750</td>\n",
              "      <td>1.0</td>\n",
              "      <td>3.0</td>\n",
              "      <td>72400.0</td>\n",
              "    </tr>\n",
              "    <tr>\n",
              "      <th>6610</th>\n",
              "      <td>CHEMBL130738</td>\n",
              "      <td>inactive</td>\n",
              "      <td>Cc1[nH]c(C)c(/C=C2\\CN(Cc3ccccc3)CCC2=O)c1C=O</td>\n",
              "      <td>322.408</td>\n",
              "      <td>3.30244</td>\n",
              "      <td>1.0</td>\n",
              "      <td>3.0</td>\n",
              "      <td>30000.0</td>\n",
              "    </tr>\n",
              "    <tr>\n",
              "      <th>6611</th>\n",
              "      <td>CHEMBL4453051</td>\n",
              "      <td>intermediate</td>\n",
              "      <td>c1ccc(CNC2CCN(Cc3ccccc3)CC2)cc1</td>\n",
              "      <td>280.415</td>\n",
              "      <td>3.44080</td>\n",
              "      <td>1.0</td>\n",
              "      <td>2.0</td>\n",
              "      <td>1700.0</td>\n",
              "    </tr>\n",
              "    <tr>\n",
              "      <th>6612</th>\n",
              "      <td>CHEMBL3771233</td>\n",
              "      <td>intermediate</td>\n",
              "      <td>O=C(CCc1ccccc1)N1c2ccccc2[Se]c2ccccc21</td>\n",
              "      <td>378.333</td>\n",
              "      <td>2.95250</td>\n",
              "      <td>0.0</td>\n",
              "      <td>1.0</td>\n",
              "      <td>6700.0</td>\n",
              "    </tr>\n",
              "  </tbody>\n",
              "</table>\n",
              "<p>6613 rows × 8 columns</p>\n",
              "</div>"
            ],
            "text/plain": [
              "     molecule_chembl_id bioactivity_class  \\\n",
              "0         CHEMBL1834807      intermediate   \n",
              "1         CHEMBL5188500            active   \n",
              "2          CHEMBL491358            active   \n",
              "3         CHEMBL5199361            active   \n",
              "4         CHEMBL2158994      intermediate   \n",
              "...                 ...               ...   \n",
              "6608       CHEMBL310918            active   \n",
              "6609       CHEMBL539571          inactive   \n",
              "6610       CHEMBL130738          inactive   \n",
              "6611      CHEMBL4453051      intermediate   \n",
              "6612      CHEMBL3771233      intermediate   \n",
              "\n",
              "                                       canonical_smiles       MW      LogP  \\\n",
              "0     CCCCC/C=C\\C/C=C\\CCCCCCCC(=O)OCCCc1ccc2oc(-c3cc...  558.759  10.11780   \n",
              "1     CC(=O)N1N=C(c2ccc(-c3ccccc3)cc2)CC1c1ccc2c(c1)...  384.435   4.77990   \n",
              "2     CCOC(=O)C1=C(C)Nc2nc3c(c(N)c2C1c1ccc(OC)c(OC)c...  423.513   3.95430   \n",
              "3       CN1CCN(c2c3c(nc4ccc([N+](=O)[O-])cc24)CCCC3)CC1  326.400   2.77360   \n",
              "4                  CN(C)CCOc1ccc(C(=O)/C=C/c2ccccc2)cc1  295.382   3.52310   \n",
              "...                                                 ...      ...       ...   \n",
              "6608  O=C(CCC1CCN(Cc2cccc([N+](=O)[O-])c2)CC1)c1ccc2...  393.487   4.43790   \n",
              "6609                C#CCNC1CCc2ccc(OC(=O)N(CC)CCCC)cc21  314.429   3.51750   \n",
              "6610       Cc1[nH]c(C)c(/C=C2\\CN(Cc3ccccc3)CCC2=O)c1C=O  322.408   3.30244   \n",
              "6611                    c1ccc(CNC2CCN(Cc3ccccc3)CC2)cc1  280.415   3.44080   \n",
              "6612             O=C(CCc1ccccc1)N1c2ccccc2[Se]c2ccccc21  378.333   2.95250   \n",
              "\n",
              "      NumHDonors  NumHAcceptors  standard_value_norm  \n",
              "0            0.0            5.0               2700.0  \n",
              "1            0.0            4.0                988.0  \n",
              "2            2.0            7.0                 45.0  \n",
              "3            0.0            5.0                245.0  \n",
              "4            0.0            3.0               4680.0  \n",
              "...          ...            ...                  ...  \n",
              "6608         1.0            5.0                 64.0  \n",
              "6609         1.0            3.0              72400.0  \n",
              "6610         1.0            3.0              30000.0  \n",
              "6611         1.0            2.0               1700.0  \n",
              "6612         0.0            1.0               6700.0  \n",
              "\n",
              "[6613 rows x 8 columns]"
            ]
          },
          "execution_count": 110,
          "metadata": {},
          "output_type": "execute_result"
        }
      ],
      "source": [
        "df_norm = norm_value(df_combined)\n",
        "df_norm"
      ]
    },
    {
      "cell_type": "code",
      "execution_count": 111,
      "metadata": {
        "colab": {
          "base_uri": "https://localhost:8080/",
          "height": 173
        },
        "colab_type": "code",
        "id": "hb1eKrIjRiH9",
        "outputId": "12b12341-df33-4446-e3cc-2a30ee1fe1f8"
      },
      "outputs": [
        {
          "data": {
            "application/vnd.microsoft.datawrangler.viewer.v0+json": {
              "columns": [
                {
                  "name": "index",
                  "rawType": "object",
                  "type": "string"
                },
                {
                  "name": "standard_value_norm",
                  "rawType": "float64",
                  "type": "float"
                }
              ],
              "ref": "2ab2418c-4876-4712-a1c4-fa16132165d4",
              "rows": [
                [
                  "count",
                  "6613.0"
                ],
                [
                  "mean",
                  "102801.3142898208"
                ],
                [
                  "std",
                  "890354.4058652936"
                ],
                [
                  "min",
                  "5e-06"
                ],
                [
                  "25%",
                  "159.0"
                ],
                [
                  "50%",
                  "2570.0"
                ],
                [
                  "75%",
                  "17100.0"
                ],
                [
                  "max",
                  "49600000.0"
                ]
              ],
              "shape": {
                "columns": 1,
                "rows": 8
              }
            },
            "text/plain": [
              "count    6.613000e+03\n",
              "mean     1.028013e+05\n",
              "std      8.903544e+05\n",
              "min      5.000000e-06\n",
              "25%      1.590000e+02\n",
              "50%      2.570000e+03\n",
              "75%      1.710000e+04\n",
              "max      4.960000e+07\n",
              "Name: standard_value_norm, dtype: float64"
            ]
          },
          "execution_count": 111,
          "metadata": {},
          "output_type": "execute_result"
        }
      ],
      "source": [
        "df_norm.standard_value_norm.describe()"
      ]
    },
    {
      "cell_type": "code",
      "execution_count": 112,
      "metadata": {
        "colab": {},
        "colab_type": "code",
        "id": "UXMuFQoQ4pZF"
      },
      "outputs": [],
      "source": [
        "# https://github.com/chaninlab/estrogen-receptor-alpha-qsar/blob/master/02_ER_alpha_RO5.ipynb\n",
        "\n",
        "import numpy as np\n",
        "\n",
        "def pIC50(input_df):\n",
        "    pIC50 = []\n",
        "\n",
        "    for i in input_df['standard_value_norm']:\n",
        "        molar = i*(10**-9) # Converts nM to M\n",
        "        pIC50.append(-np.log10(molar))\n",
        "\n",
        "    input_df['pIC50'] = pIC50\n",
        "    x = input_df.drop(columns = 'standard_value_norm', axis = 1) # drop normalised standard_value column    \n",
        "    x = x[x['pIC50'] != 0] #ensure pIC50 never 0 bc issues ds... ?    \n",
        "    return x"
      ]
    },
    {
      "cell_type": "code",
      "execution_count": 113,
      "metadata": {
        "colab": {
          "base_uri": "https://localhost:8080/",
          "height": 487
        },
        "colab_type": "code",
        "id": "UDKZzmK57YnS",
        "outputId": "9dde74a3-1198-4c52-a913-c0bd57fbbb4e"
      },
      "outputs": [
        {
          "data": {
            "application/vnd.microsoft.datawrangler.viewer.v0+json": {
              "columns": [
                {
                  "name": "index",
                  "rawType": "int64",
                  "type": "integer"
                },
                {
                  "name": "molecule_chembl_id",
                  "rawType": "object",
                  "type": "string"
                },
                {
                  "name": "bioactivity_class",
                  "rawType": "object",
                  "type": "string"
                },
                {
                  "name": "canonical_smiles",
                  "rawType": "object",
                  "type": "string"
                },
                {
                  "name": "MW",
                  "rawType": "float64",
                  "type": "float"
                },
                {
                  "name": "LogP",
                  "rawType": "float64",
                  "type": "float"
                },
                {
                  "name": "NumHDonors",
                  "rawType": "float64",
                  "type": "float"
                },
                {
                  "name": "NumHAcceptors",
                  "rawType": "float64",
                  "type": "float"
                },
                {
                  "name": "pIC50",
                  "rawType": "float64",
                  "type": "float"
                }
              ],
              "ref": "bdf82ab1-fc01-43e9-85cc-73f350f51ae1",
              "rows": [
                [
                  "0",
                  "CHEMBL1834807",
                  "intermediate",
                  "CCCCC/C=C\\C/C=C\\CCCCCCCC(=O)OCCCc1ccc2oc(-c3ccc4c(c3)OCO4)cc2c1",
                  "558.7590000000002",
                  "10.117799999999994",
                  "0.0",
                  "5.0",
                  "5.568636235841013"
                ],
                [
                  "1",
                  "CHEMBL5188500",
                  "active",
                  "CC(=O)N1N=C(c2ccc(-c3ccccc3)cc2)CC1c1ccc2c(c1)OCO2",
                  "384.4350000000002",
                  "4.779900000000004",
                  "0.0",
                  "4.0",
                  "6.005243055412372"
                ],
                [
                  "2",
                  "CHEMBL491358",
                  "active",
                  "CCOC(=O)C1=C(C)Nc2nc3c(c(N)c2C1c1ccc(OC)c(OC)c1)CCCC3",
                  "423.5130000000003",
                  "3.9543000000000026",
                  "2.0",
                  "7.0",
                  "7.346787486224656"
                ],
                [
                  "3",
                  "CHEMBL5199361",
                  "active",
                  "CN1CCN(c2c3c(nc4ccc([N+](=O)[O-])cc24)CCCC3)CC1",
                  "326.4000000000002",
                  "2.773600000000001",
                  "0.0",
                  "5.0",
                  "6.610833915635467"
                ],
                [
                  "4",
                  "CHEMBL2158994",
                  "intermediate",
                  "CN(C)CCOc1ccc(C(=O)/C=C/c2ccccc2)cc1",
                  "295.382",
                  "3.523100000000002",
                  "0.0",
                  "3.0",
                  "5.329754146925876"
                ],
                [
                  "5",
                  "CHEMBL1098479",
                  "inactive",
                  "C[C@H](CC[C@@H](O)C(C)(C)O)[C@H]1CC[C@@]2(C)C3=CC[C@H]4C(C)(C)C(=O)CC[C@]4(C)C3=CC[C@]12C",
                  "456.7110000000003",
                  "6.628900000000008",
                  "2.0",
                  "3.0",
                  "4.6006724678413216"
                ],
                [
                  "6",
                  "CHEMBL392385",
                  "inactive",
                  "CN(C(=O)Oc1ccc(Oc2ccc(C(F)(F)F)cn2)cc1)c1cccc(Cl)c1",
                  "422.7900000000001",
                  "6.181300000000004",
                  "0.0",
                  "4.0",
                  "4.301029995663981"
                ],
                [
                  "7",
                  "CHEMBL574261",
                  "intermediate",
                  "CCCSc1nc2nc3c(c(N)c2s1)C1CC(C)=CC(C3)C1",
                  "331.5100000000001",
                  "4.771600000000004",
                  "1.0",
                  "5.0",
                  "5.114073660198569"
                ],
                [
                  "8",
                  "CHEMBL130112",
                  "intermediate",
                  "CSc1nc(-c2ccc(C)cc2)nn1C(=O)N(C)c1ccccc1",
                  "338.43600000000004",
                  "4.079920000000002",
                  "0.0",
                  "5.0",
                  "5.619788758288394"
                ],
                [
                  "9",
                  "CHEMBL4778690",
                  "intermediate",
                  "COc1cc2c(cc1OC)C(=O)/C(=C/c1ccc(N3CC[N+](C)(Cc4cccc(Br)c4)CC3)cc1)C2",
                  "548.5010000000002",
                  "5.755500000000006",
                  "0.0",
                  "4.0",
                  "5.701146923590294"
                ],
                [
                  "10",
                  "CHEMBL4743162",
                  "intermediate",
                  "O=[N+]([O-])c1ccccc1-c1nnc(Nc2ncccn2)o1",
                  "284.235",
                  "2.1784",
                  "1.0",
                  "8.0",
                  "5.470000200122707"
                ],
                [
                  "11",
                  "CHEMBL990",
                  "intermediate",
                  "CN(Cc1ccc(C(C)(C)C)cc1)Cc1cccc2ccccc12",
                  "317.476",
                  "5.769300000000006",
                  "0.0",
                  "1.0",
                  "5.160704256295315"
                ],
                [
                  "12",
                  "CHEMBL1257412",
                  "inactive",
                  "CCCCCCCCCCCCCCNc1c2c(nc3ccc(OC)cc13)CCCC2",
                  "424.67300000000023",
                  "8.235200000000008",
                  "1.0",
                  "3.0",
                  "4.337242168318426"
                ],
                [
                  "13",
                  "CHEMBL3415565",
                  "active",
                  "O=C1c2ccccc2C(=O)N1CCCCCCCNCc1ccccc1F",
                  "368.45199999999994",
                  "4.1620000000000035",
                  "1.0",
                  "3.0",
                  "6.482804102050026"
                ],
                [
                  "14",
                  "CHEMBL372491",
                  "active",
                  "COc1cc2cc(C(=O)C3CCC[N+](C)(CC4CCCCO4)CC3)sc2cc1OC",
                  "432.6060000000003",
                  "4.917000000000005",
                  "0.0",
                  "5.0",
                  "7.552841968657781"
                ],
                [
                  "15",
                  "CHEMBL4063663",
                  "inactive",
                  "COc1cc(/C=C/C(=O)Nc2ccccc2)ccc1OCCCCN1CCCC1",
                  "394.5150000000004",
                  "4.601900000000004",
                  "1.0",
                  "4.0",
                  "4.613501034449347"
                ],
                [
                  "16",
                  "CHEMBL4205651",
                  "active",
                  "O=C(CNCc1ccccc1F)Nc1ccc2nc3n(c(=O)c2c1)CCC3",
                  "366.39600000000024",
                  "2.2100999999999997",
                  "2.0",
                  "5.0",
                  "6.277366077466188"
                ],
                [
                  "17",
                  "CHEMBL4292192",
                  "inactive",
                  "CCN(CC)c1ccc(/C=C/c2cc(N3CCCCC3)c3ccccc3n2)cc1",
                  "385.55500000000006",
                  "6.241700000000006",
                  "0.0",
                  "3.0",
                  "4.193141970481182"
                ],
                [
                  "18",
                  "CHEMBL4287340",
                  "intermediate",
                  "CCN1CCN(C2CCN(C(=O)COc3ccc4c(c3)CCC4=O)CC2)CC1",
                  "385.5080000000003",
                  "1.8227999999999998",
                  "0.0",
                  "5.0",
                  "5.309803919971486"
                ],
                [
                  "19",
                  "CHEMBL5273978",
                  "active",
                  "Cc1cccc(C(=O)N2Cc3ccc(N4C(=O)c5ccccc5C4=O)cc3CC2=O)c1",
                  "410.4290000000002",
                  "3.5207200000000016",
                  "0.0",
                  "4.0",
                  "7.593800576336688"
                ],
                [
                  "20",
                  "CHEMBL4580216",
                  "active",
                  "S=C(NNc1c2c(nc3ccccc13)CCCC2)Nc1ccccc1",
                  "348.475",
                  "4.427100000000003",
                  "3.0",
                  "3.0",
                  "6.214670164989233"
                ],
                [
                  "21",
                  "CHEMBL2380667",
                  "intermediate",
                  "O=C1/C(=C/c2cccc3ccccc23)CN(C(=O)[C@H]2C[C@H]3CCCN3[C@]23C(=O)Nc2cc(Cl)ccc23)C/C1=C\\c1cccc2ccccc12",
                  "664.2050000000002",
                  "7.856600000000007",
                  "1.0",
                  "4.0",
                  "5.235823867609669"
                ],
                [
                  "22",
                  "CHEMBL422971",
                  "intermediate",
                  "O=C1/C(=C/c2cc[nH]c2)CN(Cc2ccccc2)C/C1=C\\c1cc[nH]c1",
                  "343.43",
                  "3.894700000000002",
                  "2.0",
                  "2.0",
                  "5.221848749616356"
                ],
                [
                  "23",
                  "CHEMBL4466829",
                  "intermediate",
                  "C(=N/Nc1c2c(nc3ccccc13)CCCC2)\\c1ccc(OCc2cn(Cc3ccccc3)nn2)cc1",
                  "488.5950000000002",
                  "5.778400000000006",
                  "1.0",
                  "7.0",
                  "5.978810700930062"
                ],
                [
                  "24",
                  "CHEMBL4634371",
                  "inactive",
                  "COc1c2c(cc3c1OCO3)[C@]13C=C[C@H](OC)C[C@@H]1[N@](C2)C[C@H]3OC(=O)c1ccco1",
                  "425.4370000000002",
                  "2.6530000000000014",
                  "0.0",
                  "8.0",
                  "4.0"
                ],
                [
                  "25",
                  "CHEMBL496",
                  "intermediate",
                  "Oc1c(Cl)cc(Cl)c(Cl)c1Cc1c(O)c(Cl)cc(Cl)c1Cl",
                  "406.90700000000004",
                  "6.609000000000001",
                  "2.0",
                  "2.0",
                  "5.520727088223143"
                ],
                [
                  "26",
                  "CHEMBL3623554",
                  "active",
                  "CC(C)(C)c1cccc(C(=O)C(F)F)c1",
                  "212.23899999999995",
                  "3.4319000000000024",
                  "0.0",
                  "1.0",
                  "8.21824462534753"
                ],
                [
                  "27",
                  "CHEMBL171048",
                  "intermediate",
                  "COc1cc2c(cc1OC)C(=O)C(CC1CCN(Cc3ccc([N+](=O)[O-])cc3)CC1)C2",
                  "424.49700000000024",
                  "4.269300000000004",
                  "0.0",
                  "6.0",
                  "5.718966632752273"
                ],
                [
                  "28",
                  "CHEMBL195241",
                  "active",
                  "Cc1c(N2CCN(C)CC2)nc2ccccc2c1C(=O)NCCCCCCCNc1c2c(nc3ccccc13)CCCC2",
                  "578.8050000000002",
                  "6.5144200000000065",
                  "2.0",
                  "6.0",
                  "8.387216143280265"
                ],
                [
                  "29",
                  "CHEMBL14638",
                  "inactive",
                  "O=C(c1ccc(OCCCc2c[nH]cn2)cc1)C1CC1",
                  "270.33200000000005",
                  "3.014000000000001",
                  "1.0",
                  "3.0",
                  "4.064996848546345"
                ],
                [
                  "30",
                  "CHEMBL4878578",
                  "inactive",
                  "Clc1ccc(CN2CCC(c3cc4ccccc4o3)CC2)cc1",
                  "325.8390000000001",
                  "5.465800000000004",
                  "0.0",
                  "2.0",
                  "4.0063433713845376"
                ],
                [
                  "31",
                  "CHEMBL1195259",
                  "inactive",
                  "C#CCNC1CCc2c(OC(=O)N(C)C)cccc21",
                  "258.321",
                  "1.9571",
                  "1.0",
                  "3.0",
                  "4.0655015487564325"
                ],
                [
                  "32",
                  "CHEMBL24519",
                  "intermediate",
                  "C[C@]12CC[C@H](O)[C@@](C)(CO)C1C[C@H](O)[C@@]1(C)Oc3cc(-c4ccncc4)oc(=O)c3C(=O)C21",
                  "455.5070000000002",
                  "2.1921999999999997",
                  "3.0",
                  "8.0",
                  "5.102372908709558"
                ],
                [
                  "33",
                  "CHEMBL1083064",
                  "active",
                  "CNC(=O)Oc1cccc(-c2cn3ccccc3[n+]2C)c1",
                  "282.32300000000004",
                  "2.149",
                  "1.0",
                  "3.0",
                  "6.455931955649724"
                ],
                [
                  "34",
                  "CHEMBL542749",
                  "inactive",
                  "CCN(C)C(=O)Oc1cccc2c1C(N)CC2",
                  "234.29899999999995",
                  "2.0831",
                  "1.0",
                  "3.0",
                  "4.978810700930062"
                ],
                [
                  "35",
                  "CHEMBL1929421",
                  "active",
                  "C#CCN(C)Cc1cc2cc(OCCCC3CCN(Cc4ccccc4)CC3)ccc2n1C",
                  "443.63500000000016",
                  "5.314500000000006",
                  "0.0",
                  "4.0",
                  "6.42021640338319"
                ],
                [
                  "36",
                  "CHEMBL136719",
                  "inactive",
                  "CC(=O)Oc1cccc([N+](C)(C)C)c1C",
                  "208.28099999999995",
                  "2.11702",
                  "0.0",
                  "2.0",
                  "4.3889999854632515"
                ],
                [
                  "37",
                  "CHEMBL502",
                  "active",
                  "COc1cc2c(cc1OC)C(=O)C(CC1CCN(Cc3ccccc3)CC1)C2",
                  "379.50000000000017",
                  "4.361100000000004",
                  "0.0",
                  "4.0",
                  "8.63264407897398"
                ],
                [
                  "38",
                  "CHEMBL2234518",
                  "inactive",
                  "CC1(C)CC(=O)C2=C(C1)Oc1nc3c(c(N)c1[C@H]2c1ccccc1C(F)(F)F)CCCC3",
                  "442.48100000000017",
                  "5.728900000000005",
                  "1.0",
                  "4.0",
                  "4.750000100140428"
                ],
                [
                  "39",
                  "CHEMBL2425418",
                  "inactive",
                  "NC(=S)NNC=C1C(=O)NC(=O)NC1=O",
                  "229.221",
                  "-2.4259000000000004",
                  "5.0",
                  "5.0",
                  "3.9240517753559647"
                ],
                [
                  "40",
                  "CHEMBL383663",
                  "active",
                  "O=C(CCCCCNc1c2c(nc3cc(Cl)ccc13)CCCC2)NCCc1c[nH]c2ccccc12",
                  "489.0630000000004",
                  "6.579500000000005",
                  "3.0",
                  "3.0",
                  "14.301029995663981"
                ],
                [
                  "41",
                  "CHEMBL4286799",
                  "active",
                  "O=C(NCCC1CCN(Cc2ccccc2)CC1)c1cc(=O)c2ccccc2o1",
                  "390.4830000000002",
                  "3.8251000000000026",
                  "1.0",
                  "4.0",
                  "6.958607314841775"
                ],
                [
                  "42",
                  "CHEMBL4439928",
                  "inactive",
                  "CC(C)Cc1ccc(C(C)C(=O)NS(=O)(=O)c2ccc(N)cc2)cc1",
                  "360.47900000000004",
                  "3.0759000000000007",
                  "2.0",
                  "4.0",
                  "3.221848749616356"
                ],
                [
                  "43",
                  "CHEMBL421601",
                  "intermediate",
                  "CN(C)Cc1ccc(CSCCNc2cccc(F)c2C#N)o1",
                  "333.4320000000001",
                  "3.697280000000003",
                  "1.0",
                  "5.0",
                  "5.6777807052660805"
                ],
                [
                  "44",
                  "CHEMBL1669481",
                  "inactive",
                  "c1ccc2c[n+](CCC[n+]3ccc4ccccc4c3)ccc2c1",
                  "300.40500000000003",
                  "3.6583000000000023",
                  "0.0",
                  "0.0",
                  "3.350665141287858"
                ],
                [
                  "45",
                  "CHEMBL2323351",
                  "inactive",
                  "COc1ccc(/C=N/NC(=O)CN2CCN(Cc3ccccc3)CC2)cc1OC",
                  "396.4910000000001",
                  "1.9716999999999996",
                  "1.0",
                  "6.0",
                  "4.090979145788844"
                ],
                [
                  "46",
                  "CHEMBL101518",
                  "active",
                  "CN(CCOCCNC(=S)NC(=O)c1ccc(Cl)cc1)Cc1ccccc1",
                  "405.95100000000014",
                  "3.092900000000002",
                  "2.0",
                  "4.0",
                  "7.522878745280337"
                ],
                [
                  "47",
                  "CHEMBL4216666",
                  "intermediate",
                  "O/N=C/c1nc(CCCCNc2c3c(nc4ccc(Cl)cc24)CCCC3)ccc1O",
                  "424.9320000000003",
                  "5.1105000000000045",
                  "3.0",
                  "6.0",
                  "5.638272163982407"
                ],
                [
                  "48",
                  "CHEMBL4170331",
                  "active",
                  "CC(=O)c1c[n+](Cc2cccc(Cl)c2)ccc1CC1Cc2cc(O)ccc2C1=O",
                  "406.88900000000024",
                  "4.181700000000004",
                  "1.0",
                  "3.0",
                  "6.933674074637962"
                ],
                [
                  "49",
                  "CHEMBL367571",
                  "active",
                  "COC1=CC(=O)[C@]2(C)[C@]3(O)Cc4c(cc(-c5cc(OC)c(OC)c(OC)c5)oc4=O)O[C@]3(C)CC[C@]2(O)C1(C)C",
                  "556.6080000000004",
                  "3.4277000000000024",
                  "2.0",
                  "10.0",
                  "6.376750709602099"
                ]
              ],
              "shape": {
                "columns": 8,
                "rows": 6613
              }
            },
            "text/html": [
              "<div>\n",
              "<style scoped>\n",
              "    .dataframe tbody tr th:only-of-type {\n",
              "        vertical-align: middle;\n",
              "    }\n",
              "\n",
              "    .dataframe tbody tr th {\n",
              "        vertical-align: top;\n",
              "    }\n",
              "\n",
              "    .dataframe thead th {\n",
              "        text-align: right;\n",
              "    }\n",
              "</style>\n",
              "<table border=\"1\" class=\"dataframe\">\n",
              "  <thead>\n",
              "    <tr style=\"text-align: right;\">\n",
              "      <th></th>\n",
              "      <th>molecule_chembl_id</th>\n",
              "      <th>bioactivity_class</th>\n",
              "      <th>canonical_smiles</th>\n",
              "      <th>MW</th>\n",
              "      <th>LogP</th>\n",
              "      <th>NumHDonors</th>\n",
              "      <th>NumHAcceptors</th>\n",
              "      <th>pIC50</th>\n",
              "    </tr>\n",
              "  </thead>\n",
              "  <tbody>\n",
              "    <tr>\n",
              "      <th>0</th>\n",
              "      <td>CHEMBL1834807</td>\n",
              "      <td>intermediate</td>\n",
              "      <td>CCCCC/C=C\\C/C=C\\CCCCCCCC(=O)OCCCc1ccc2oc(-c3cc...</td>\n",
              "      <td>558.759</td>\n",
              "      <td>10.11780</td>\n",
              "      <td>0.0</td>\n",
              "      <td>5.0</td>\n",
              "      <td>5.568636</td>\n",
              "    </tr>\n",
              "    <tr>\n",
              "      <th>1</th>\n",
              "      <td>CHEMBL5188500</td>\n",
              "      <td>active</td>\n",
              "      <td>CC(=O)N1N=C(c2ccc(-c3ccccc3)cc2)CC1c1ccc2c(c1)...</td>\n",
              "      <td>384.435</td>\n",
              "      <td>4.77990</td>\n",
              "      <td>0.0</td>\n",
              "      <td>4.0</td>\n",
              "      <td>6.005243</td>\n",
              "    </tr>\n",
              "    <tr>\n",
              "      <th>2</th>\n",
              "      <td>CHEMBL491358</td>\n",
              "      <td>active</td>\n",
              "      <td>CCOC(=O)C1=C(C)Nc2nc3c(c(N)c2C1c1ccc(OC)c(OC)c...</td>\n",
              "      <td>423.513</td>\n",
              "      <td>3.95430</td>\n",
              "      <td>2.0</td>\n",
              "      <td>7.0</td>\n",
              "      <td>7.346787</td>\n",
              "    </tr>\n",
              "    <tr>\n",
              "      <th>3</th>\n",
              "      <td>CHEMBL5199361</td>\n",
              "      <td>active</td>\n",
              "      <td>CN1CCN(c2c3c(nc4ccc([N+](=O)[O-])cc24)CCCC3)CC1</td>\n",
              "      <td>326.400</td>\n",
              "      <td>2.77360</td>\n",
              "      <td>0.0</td>\n",
              "      <td>5.0</td>\n",
              "      <td>6.610834</td>\n",
              "    </tr>\n",
              "    <tr>\n",
              "      <th>4</th>\n",
              "      <td>CHEMBL2158994</td>\n",
              "      <td>intermediate</td>\n",
              "      <td>CN(C)CCOc1ccc(C(=O)/C=C/c2ccccc2)cc1</td>\n",
              "      <td>295.382</td>\n",
              "      <td>3.52310</td>\n",
              "      <td>0.0</td>\n",
              "      <td>3.0</td>\n",
              "      <td>5.329754</td>\n",
              "    </tr>\n",
              "    <tr>\n",
              "      <th>...</th>\n",
              "      <td>...</td>\n",
              "      <td>...</td>\n",
              "      <td>...</td>\n",
              "      <td>...</td>\n",
              "      <td>...</td>\n",
              "      <td>...</td>\n",
              "      <td>...</td>\n",
              "      <td>...</td>\n",
              "    </tr>\n",
              "    <tr>\n",
              "      <th>6608</th>\n",
              "      <td>CHEMBL310918</td>\n",
              "      <td>active</td>\n",
              "      <td>O=C(CCC1CCN(Cc2cccc([N+](=O)[O-])c2)CC1)c1ccc2...</td>\n",
              "      <td>393.487</td>\n",
              "      <td>4.43790</td>\n",
              "      <td>1.0</td>\n",
              "      <td>5.0</td>\n",
              "      <td>7.193820</td>\n",
              "    </tr>\n",
              "    <tr>\n",
              "      <th>6609</th>\n",
              "      <td>CHEMBL539571</td>\n",
              "      <td>inactive</td>\n",
              "      <td>C#CCNC1CCc2ccc(OC(=O)N(CC)CCCC)cc21</td>\n",
              "      <td>314.429</td>\n",
              "      <td>3.51750</td>\n",
              "      <td>1.0</td>\n",
              "      <td>3.0</td>\n",
              "      <td>4.140261</td>\n",
              "    </tr>\n",
              "    <tr>\n",
              "      <th>6610</th>\n",
              "      <td>CHEMBL130738</td>\n",
              "      <td>inactive</td>\n",
              "      <td>Cc1[nH]c(C)c(/C=C2\\CN(Cc3ccccc3)CCC2=O)c1C=O</td>\n",
              "      <td>322.408</td>\n",
              "      <td>3.30244</td>\n",
              "      <td>1.0</td>\n",
              "      <td>3.0</td>\n",
              "      <td>4.522879</td>\n",
              "    </tr>\n",
              "    <tr>\n",
              "      <th>6611</th>\n",
              "      <td>CHEMBL4453051</td>\n",
              "      <td>intermediate</td>\n",
              "      <td>c1ccc(CNC2CCN(Cc3ccccc3)CC2)cc1</td>\n",
              "      <td>280.415</td>\n",
              "      <td>3.44080</td>\n",
              "      <td>1.0</td>\n",
              "      <td>2.0</td>\n",
              "      <td>5.769551</td>\n",
              "    </tr>\n",
              "    <tr>\n",
              "      <th>6612</th>\n",
              "      <td>CHEMBL3771233</td>\n",
              "      <td>intermediate</td>\n",
              "      <td>O=C(CCc1ccccc1)N1c2ccccc2[Se]c2ccccc21</td>\n",
              "      <td>378.333</td>\n",
              "      <td>2.95250</td>\n",
              "      <td>0.0</td>\n",
              "      <td>1.0</td>\n",
              "      <td>5.173925</td>\n",
              "    </tr>\n",
              "  </tbody>\n",
              "</table>\n",
              "<p>6613 rows × 8 columns</p>\n",
              "</div>"
            ],
            "text/plain": [
              "     molecule_chembl_id bioactivity_class  \\\n",
              "0         CHEMBL1834807      intermediate   \n",
              "1         CHEMBL5188500            active   \n",
              "2          CHEMBL491358            active   \n",
              "3         CHEMBL5199361            active   \n",
              "4         CHEMBL2158994      intermediate   \n",
              "...                 ...               ...   \n",
              "6608       CHEMBL310918            active   \n",
              "6609       CHEMBL539571          inactive   \n",
              "6610       CHEMBL130738          inactive   \n",
              "6611      CHEMBL4453051      intermediate   \n",
              "6612      CHEMBL3771233      intermediate   \n",
              "\n",
              "                                       canonical_smiles       MW      LogP  \\\n",
              "0     CCCCC/C=C\\C/C=C\\CCCCCCCC(=O)OCCCc1ccc2oc(-c3cc...  558.759  10.11780   \n",
              "1     CC(=O)N1N=C(c2ccc(-c3ccccc3)cc2)CC1c1ccc2c(c1)...  384.435   4.77990   \n",
              "2     CCOC(=O)C1=C(C)Nc2nc3c(c(N)c2C1c1ccc(OC)c(OC)c...  423.513   3.95430   \n",
              "3       CN1CCN(c2c3c(nc4ccc([N+](=O)[O-])cc24)CCCC3)CC1  326.400   2.77360   \n",
              "4                  CN(C)CCOc1ccc(C(=O)/C=C/c2ccccc2)cc1  295.382   3.52310   \n",
              "...                                                 ...      ...       ...   \n",
              "6608  O=C(CCC1CCN(Cc2cccc([N+](=O)[O-])c2)CC1)c1ccc2...  393.487   4.43790   \n",
              "6609                C#CCNC1CCc2ccc(OC(=O)N(CC)CCCC)cc21  314.429   3.51750   \n",
              "6610       Cc1[nH]c(C)c(/C=C2\\CN(Cc3ccccc3)CCC2=O)c1C=O  322.408   3.30244   \n",
              "6611                    c1ccc(CNC2CCN(Cc3ccccc3)CC2)cc1  280.415   3.44080   \n",
              "6612             O=C(CCc1ccccc1)N1c2ccccc2[Se]c2ccccc21  378.333   2.95250   \n",
              "\n",
              "      NumHDonors  NumHAcceptors     pIC50  \n",
              "0            0.0            5.0  5.568636  \n",
              "1            0.0            4.0  6.005243  \n",
              "2            2.0            7.0  7.346787  \n",
              "3            0.0            5.0  6.610834  \n",
              "4            0.0            3.0  5.329754  \n",
              "...          ...            ...       ...  \n",
              "6608         1.0            5.0  7.193820  \n",
              "6609         1.0            3.0  4.140261  \n",
              "6610         1.0            3.0  4.522879  \n",
              "6611         1.0            2.0  5.769551  \n",
              "6612         0.0            1.0  5.173925  \n",
              "\n",
              "[6613 rows x 8 columns]"
            ]
          },
          "execution_count": 113,
          "metadata": {},
          "output_type": "execute_result"
        }
      ],
      "source": [
        "df_final = pIC50(df_norm)\n",
        "df_final"
      ]
    },
    {
      "cell_type": "code",
      "execution_count": 114,
      "metadata": {
        "colab": {
          "base_uri": "https://localhost:8080/",
          "height": 173
        },
        "colab_type": "code",
        "id": "BoqY53udSTYC",
        "outputId": "65595f1e-9547-4934-e958-b04825cf2316"
      },
      "outputs": [
        {
          "data": {
            "application/vnd.microsoft.datawrangler.viewer.v0+json": {
              "columns": [
                {
                  "name": "index",
                  "rawType": "object",
                  "type": "string"
                },
                {
                  "name": "pIC50",
                  "rawType": "float64",
                  "type": "float"
                }
              ],
              "ref": "1fa4696f-18a2-494c-9aff-ae1c5154271c",
              "rows": [
                [
                  "count",
                  "6613.0"
                ],
                [
                  "mean",
                  "5.804247607297301"
                ],
                [
                  "std",
                  "1.5592028119505732"
                ],
                [
                  "min",
                  "1.3045183235098026"
                ],
                [
                  "25%",
                  "4.767003889607846"
                ],
                [
                  "50%",
                  "5.590066876668706"
                ],
                [
                  "75%",
                  "6.798602875679548"
                ],
                [
                  "max",
                  "14.301029995663981"
                ]
              ],
              "shape": {
                "columns": 1,
                "rows": 8
              }
            },
            "text/plain": [
              "count    6613.000000\n",
              "mean        5.804248\n",
              "std         1.559203\n",
              "min         1.304518\n",
              "25%         4.767004\n",
              "50%         5.590067\n",
              "75%         6.798603\n",
              "max        14.301030\n",
              "Name: pIC50, dtype: float64"
            ]
          },
          "execution_count": 114,
          "metadata": {},
          "output_type": "execute_result"
        }
      ],
      "source": [
        "df_final.pIC50.describe()"
      ]
    },
    {
      "cell_type": "code",
      "execution_count": 115,
      "metadata": {},
      "outputs": [],
      "source": [
        "df_final.to_csv('./data/acetylcholinesterase_bioactivity_3class_data.csv', index=False)"
      ]
    },
    {
      "cell_type": "code",
      "execution_count": 116,
      "metadata": {},
      "outputs": [],
      "source": [
        "import pandas as pd\n",
        "df_final = pd.read_csv('./data/acetylcholinesterase_bioactivity_3class_data.csv')"
      ]
    },
    {
      "cell_type": "markdown",
      "metadata": {
        "colab_type": "text",
        "id": "05vHBWvqaQtb"
      },
      "source": [
        "### **Removing the 'intermediate' bioactivity class**\n",
        "Here, we will be removing the ``intermediate`` class from our data set."
      ]
    },
    {
      "cell_type": "code",
      "execution_count": 117,
      "metadata": {
        "colab": {
          "base_uri": "https://localhost:8080/",
          "height": 470
        },
        "colab_type": "code",
        "id": "HmrndhDW3c7Z",
        "outputId": "e3216e27-a94a-4848-8f18-c1c2533ad00f"
      },
      "outputs": [
        {
          "data": {
            "application/vnd.microsoft.datawrangler.viewer.v0+json": {
              "columns": [
                {
                  "name": "index",
                  "rawType": "int64",
                  "type": "integer"
                },
                {
                  "name": "molecule_chembl_id",
                  "rawType": "object",
                  "type": "string"
                },
                {
                  "name": "bioactivity_class",
                  "rawType": "object",
                  "type": "string"
                },
                {
                  "name": "canonical_smiles",
                  "rawType": "object",
                  "type": "string"
                },
                {
                  "name": "MW",
                  "rawType": "float64",
                  "type": "float"
                },
                {
                  "name": "LogP",
                  "rawType": "float64",
                  "type": "float"
                },
                {
                  "name": "NumHDonors",
                  "rawType": "float64",
                  "type": "float"
                },
                {
                  "name": "NumHAcceptors",
                  "rawType": "float64",
                  "type": "float"
                },
                {
                  "name": "pIC50",
                  "rawType": "float64",
                  "type": "float"
                }
              ],
              "ref": "ae201c8d-9e77-4c43-bda1-1547237dc665",
              "rows": [
                [
                  "1",
                  "CHEMBL5188500",
                  "active",
                  "CC(=O)N1N=C(c2ccc(-c3ccccc3)cc2)CC1c1ccc2c(c1)OCO2",
                  "384.4350000000002",
                  "4.779900000000004",
                  "0.0",
                  "4.0",
                  "6.005243055412372"
                ],
                [
                  "2",
                  "CHEMBL491358",
                  "active",
                  "CCOC(=O)C1=C(C)Nc2nc3c(c(N)c2C1c1ccc(OC)c(OC)c1)CCCC3",
                  "423.5130000000003",
                  "3.9543000000000026",
                  "2.0",
                  "7.0",
                  "7.346787486224656"
                ],
                [
                  "3",
                  "CHEMBL5199361",
                  "active",
                  "CN1CCN(c2c3c(nc4ccc([N+](=O)[O-])cc24)CCCC3)CC1",
                  "326.4000000000002",
                  "2.773600000000001",
                  "0.0",
                  "5.0",
                  "6.610833915635467"
                ],
                [
                  "5",
                  "CHEMBL1098479",
                  "inactive",
                  "C[C@H](CC[C@@H](O)C(C)(C)O)[C@H]1CC[C@@]2(C)C3=CC[C@H]4C(C)(C)C(=O)CC[C@]4(C)C3=CC[C@]12C",
                  "456.7110000000003",
                  "6.628900000000008",
                  "2.0",
                  "3.0",
                  "4.6006724678413216"
                ],
                [
                  "6",
                  "CHEMBL392385",
                  "inactive",
                  "CN(C(=O)Oc1ccc(Oc2ccc(C(F)(F)F)cn2)cc1)c1cccc(Cl)c1",
                  "422.7900000000001",
                  "6.181300000000004",
                  "0.0",
                  "4.0",
                  "4.301029995663981"
                ],
                [
                  "12",
                  "CHEMBL1257412",
                  "inactive",
                  "CCCCCCCCCCCCCCNc1c2c(nc3ccc(OC)cc13)CCCC2",
                  "424.6730000000002",
                  "8.235200000000008",
                  "1.0",
                  "3.0",
                  "4.337242168318426"
                ],
                [
                  "13",
                  "CHEMBL3415565",
                  "active",
                  "O=C1c2ccccc2C(=O)N1CCCCCCCNCc1ccccc1F",
                  "368.452",
                  "4.162000000000004",
                  "1.0",
                  "3.0",
                  "6.482804102050026"
                ],
                [
                  "14",
                  "CHEMBL372491",
                  "active",
                  "COc1cc2cc(C(=O)C3CCC[N+](C)(CC4CCCCO4)CC3)sc2cc1OC",
                  "432.6060000000003",
                  "4.917000000000005",
                  "0.0",
                  "5.0",
                  "7.552841968657781"
                ],
                [
                  "15",
                  "CHEMBL4063663",
                  "inactive",
                  "COc1cc(/C=C/C(=O)Nc2ccccc2)ccc1OCCCCN1CCCC1",
                  "394.5150000000004",
                  "4.601900000000004",
                  "1.0",
                  "4.0",
                  "4.613501034449347"
                ],
                [
                  "16",
                  "CHEMBL4205651",
                  "active",
                  "O=C(CNCc1ccccc1F)Nc1ccc2nc3n(c(=O)c2c1)CCC3",
                  "366.3960000000002",
                  "2.2101",
                  "2.0",
                  "5.0",
                  "6.277366077466188"
                ],
                [
                  "17",
                  "CHEMBL4292192",
                  "inactive",
                  "CCN(CC)c1ccc(/C=C/c2cc(N3CCCCC3)c3ccccc3n2)cc1",
                  "385.55500000000006",
                  "6.241700000000006",
                  "0.0",
                  "3.0",
                  "4.193141970481182"
                ],
                [
                  "19",
                  "CHEMBL5273978",
                  "active",
                  "Cc1cccc(C(=O)N2Cc3ccc(N4C(=O)c5ccccc5C4=O)cc3CC2=O)c1",
                  "410.4290000000002",
                  "3.5207200000000016",
                  "0.0",
                  "4.0",
                  "7.593800576336688"
                ],
                [
                  "20",
                  "CHEMBL4580216",
                  "active",
                  "S=C(NNc1c2c(nc3ccccc13)CCCC2)Nc1ccccc1",
                  "348.475",
                  "4.427100000000003",
                  "3.0",
                  "3.0",
                  "6.214670164989233"
                ],
                [
                  "24",
                  "CHEMBL4634371",
                  "inactive",
                  "COc1c2c(cc3c1OCO3)[C@]13C=C[C@H](OC)C[C@@H]1[N@](C2)C[C@H]3OC(=O)c1ccco1",
                  "425.4370000000002",
                  "2.6530000000000014",
                  "0.0",
                  "8.0",
                  "4.0"
                ],
                [
                  "26",
                  "CHEMBL3623554",
                  "active",
                  "CC(C)(C)c1cccc(C(=O)C(F)F)c1",
                  "212.23899999999995",
                  "3.4319000000000024",
                  "0.0",
                  "1.0",
                  "8.21824462534753"
                ],
                [
                  "28",
                  "CHEMBL195241",
                  "active",
                  "Cc1c(N2CCN(C)CC2)nc2ccccc2c1C(=O)NCCCCCCCNc1c2c(nc3ccccc13)CCCC2",
                  "578.8050000000002",
                  "6.514420000000007",
                  "2.0",
                  "6.0",
                  "8.387216143280265"
                ],
                [
                  "29",
                  "CHEMBL14638",
                  "inactive",
                  "O=C(c1ccc(OCCCc2c[nH]cn2)cc1)C1CC1",
                  "270.33200000000005",
                  "3.014000000000001",
                  "1.0",
                  "3.0",
                  "4.064996848546345"
                ],
                [
                  "30",
                  "CHEMBL4878578",
                  "inactive",
                  "Clc1ccc(CN2CCC(c3cc4ccccc4o3)CC2)cc1",
                  "325.8390000000001",
                  "5.465800000000004",
                  "0.0",
                  "2.0",
                  "4.0063433713845376"
                ],
                [
                  "31",
                  "CHEMBL1195259",
                  "inactive",
                  "C#CCNC1CCc2c(OC(=O)N(C)C)cccc21",
                  "258.321",
                  "1.9571",
                  "1.0",
                  "3.0",
                  "4.0655015487564325"
                ],
                [
                  "33",
                  "CHEMBL1083064",
                  "active",
                  "CNC(=O)Oc1cccc(-c2cn3ccccc3[n+]2C)c1",
                  "282.32300000000004",
                  "2.149",
                  "1.0",
                  "3.0",
                  "6.455931955649724"
                ],
                [
                  "34",
                  "CHEMBL542749",
                  "inactive",
                  "CCN(C)C(=O)Oc1cccc2c1C(N)CC2",
                  "234.29899999999995",
                  "2.0831",
                  "1.0",
                  "3.0",
                  "4.978810700930062"
                ],
                [
                  "35",
                  "CHEMBL1929421",
                  "active",
                  "C#CCN(C)Cc1cc2cc(OCCCC3CCN(Cc4ccccc4)CC3)ccc2n1C",
                  "443.63500000000016",
                  "5.314500000000006",
                  "0.0",
                  "4.0",
                  "6.42021640338319"
                ],
                [
                  "36",
                  "CHEMBL136719",
                  "inactive",
                  "CC(=O)Oc1cccc([N+](C)(C)C)c1C",
                  "208.28099999999995",
                  "2.11702",
                  "0.0",
                  "2.0",
                  "4.388999985463252"
                ],
                [
                  "37",
                  "CHEMBL502",
                  "active",
                  "COc1cc2c(cc1OC)C(=O)C(CC1CCN(Cc3ccccc3)CC1)C2",
                  "379.50000000000017",
                  "4.361100000000004",
                  "0.0",
                  "4.0",
                  "8.63264407897398"
                ],
                [
                  "38",
                  "CHEMBL2234518",
                  "inactive",
                  "CC1(C)CC(=O)C2=C(C1)Oc1nc3c(c(N)c1[C@H]2c1ccccc1C(F)(F)F)CCCC3",
                  "442.48100000000017",
                  "5.728900000000005",
                  "1.0",
                  "4.0",
                  "4.750000100140428"
                ],
                [
                  "39",
                  "CHEMBL2425418",
                  "inactive",
                  "NC(=S)NNC=C1C(=O)NC(=O)NC1=O",
                  "229.221",
                  "-2.4259000000000004",
                  "5.0",
                  "5.0",
                  "3.9240517753559647"
                ],
                [
                  "40",
                  "CHEMBL383663",
                  "active",
                  "O=C(CCCCCNc1c2c(nc3cc(Cl)ccc13)CCCC2)NCCc1c[nH]c2ccccc12",
                  "489.0630000000004",
                  "6.579500000000005",
                  "3.0",
                  "3.0",
                  "14.30102999566398"
                ],
                [
                  "41",
                  "CHEMBL4286799",
                  "active",
                  "O=C(NCCC1CCN(Cc2ccccc2)CC1)c1cc(=O)c2ccccc2o1",
                  "390.4830000000002",
                  "3.8251000000000026",
                  "1.0",
                  "4.0",
                  "6.958607314841775"
                ],
                [
                  "42",
                  "CHEMBL4439928",
                  "inactive",
                  "CC(C)Cc1ccc(C(C)C(=O)NS(=O)(=O)c2ccc(N)cc2)cc1",
                  "360.479",
                  "3.0759000000000007",
                  "2.0",
                  "4.0",
                  "3.221848749616356"
                ],
                [
                  "44",
                  "CHEMBL1669481",
                  "inactive",
                  "c1ccc2c[n+](CCC[n+]3ccc4ccccc4c3)ccc2c1",
                  "300.40500000000003",
                  "3.6583000000000014",
                  "0.0",
                  "0.0",
                  "3.350665141287858"
                ],
                [
                  "45",
                  "CHEMBL2323351",
                  "inactive",
                  "COc1ccc(/C=N/NC(=O)CN2CCN(Cc3ccccc3)CC2)cc1OC",
                  "396.4910000000001",
                  "1.9717",
                  "1.0",
                  "6.0",
                  "4.090979145788844"
                ],
                [
                  "46",
                  "CHEMBL101518",
                  "active",
                  "CN(CCOCCNC(=S)NC(=O)c1ccc(Cl)cc1)Cc1ccccc1",
                  "405.95100000000014",
                  "3.092900000000002",
                  "2.0",
                  "4.0",
                  "7.522878745280337"
                ],
                [
                  "48",
                  "CHEMBL4170331",
                  "active",
                  "CC(=O)c1c[n+](Cc2cccc(Cl)c2)ccc1CC1Cc2cc(O)ccc2C1=O",
                  "406.8890000000002",
                  "4.181700000000004",
                  "1.0",
                  "3.0",
                  "6.933674074637962"
                ],
                [
                  "49",
                  "CHEMBL367571",
                  "active",
                  "COC1=CC(=O)[C@]2(C)[C@]3(O)Cc4c(cc(-c5cc(OC)c(OC)c(OC)c5)oc4=O)O[C@]3(C)CC[C@]2(O)C1(C)C",
                  "556.6080000000004",
                  "3.4277000000000024",
                  "2.0",
                  "10.0",
                  "6.376750709602099"
                ],
                [
                  "50",
                  "CHEMBL4520568",
                  "inactive",
                  "N[C@@H](Cn1cc(-c2ccccc2)nn1)C(=O)NCC1CCN(Cc2ccccc2)CC1",
                  "418.5450000000002",
                  "2.3008",
                  "2.0",
                  "6.0",
                  "5.0"
                ],
                [
                  "51",
                  "CHEMBL5082773",
                  "active",
                  "COC(=O)c1c(O)cccc1CCCCCCCCNc1c2c(nc3cc(Cl)ccc13)CCCC2",
                  "495.0630000000003",
                  "7.254400000000006",
                  "2.0",
                  "5.0",
                  "8.55129368009492"
                ],
                [
                  "52",
                  "CHEMBL4753561",
                  "inactive",
                  "Cc1cc(/C=N/O)c(O)c(CNc2ccc(S(=O)(=O)Nc3nccs3)cc2)c1",
                  "418.50000000000006",
                  "3.378120000000001",
                  "4.0",
                  "8.0",
                  "2.2882771081727653"
                ],
                [
                  "53",
                  "CHEMBL1952050",
                  "inactive",
                  "CC(C)CC/N=C(/C=N/O)N(C)C",
                  "185.271",
                  "1.4526",
                  "1.0",
                  "3.0",
                  "4.769551078621726"
                ],
                [
                  "55",
                  "CHEMBL3642046",
                  "active",
                  "CC(=O)NCCc1c[nH]c2ccc(OC(=O)NCCCNc3c4c(nc5ccccc35)CCCC4)cc12",
                  "499.6150000000004",
                  "4.864100000000004",
                  "4.0",
                  "5.0",
                  "6.569151260487084"
                ],
                [
                  "56",
                  "CHEMBL4750278",
                  "active",
                  "CCOC(=O)c1c(C)nc(N2CCN(S(=O)(=O)c3ccc(N)cc3)CC2)nc1-c1ccc(OC)c(OC)c1",
                  "541.6300000000003",
                  "2.739020000000001",
                  "1.0",
                  "10.0",
                  "7.167363372403297"
                ],
                [
                  "57",
                  "CHEMBL5289994",
                  "active",
                  "COc1ccc(C(=O)N2Cc3ccc(N4C(=O)c5ccccc5C4=O)cc3CC2=O)cc1",
                  "426.42800000000017",
                  "3.220900000000002",
                  "0.0",
                  "5.0",
                  "7.086981316252039"
                ],
                [
                  "58",
                  "CHEMBL4795221",
                  "inactive",
                  "O=C(CN1CCN(C(=O)c2ccc(Br)cc2)CC1)N1CCN(CCCc2c[nH]c3ccc(F)cc23)CC1",
                  "570.5070000000003",
                  "3.604300000000002",
                  "1.0",
                  "4.0",
                  "4.404503778174426"
                ],
                [
                  "59",
                  "CHEMBL308503",
                  "inactive",
                  "CN1CC[C@@]2(C)c3cc(OC(=O)NC(C)(C)C)ccc3N(C)[C@@H]12",
                  "317.43300000000005",
                  "2.942600000000001",
                  "1.0",
                  "4.0",
                  "4.494850021680094"
                ],
                [
                  "61",
                  "CHEMBL3415560",
                  "active",
                  "O=C1c2ccccc2C(=O)N1CCCCCCCNCc1ccccc1",
                  "350.46199999999993",
                  "4.022900000000003",
                  "1.0",
                  "3.0",
                  "6.518557371497695"
                ],
                [
                  "64",
                  "CHEMBL134342",
                  "inactive",
                  "O=C(O)CCCC[C@@H]1CCSS1",
                  "206.332",
                  "2.7851000000000017",
                  "1.0",
                  "3.0",
                  "3.0"
                ],
                [
                  "66",
                  "CHEMBL3410952",
                  "active",
                  "Cc1c(C)c2c(c(C)c1O)CCC(C)(C(=O)NCCCCNc1c3c(nc4ccccc14)CCCC3)O2",
                  "501.6710000000004",
                  "5.836660000000005",
                  "3.0",
                  "5.0",
                  "6.271646217978772"
                ],
                [
                  "67",
                  "CHEMBL445124",
                  "inactive",
                  "O=C1CCN(Cc2ccccc2)C/C1=C\\c1cn(Cc2ccccc2)c2ccccc12",
                  "406.5290000000001",
                  "5.548000000000005",
                  "0.0",
                  "3.0",
                  "4.0"
                ],
                [
                  "68",
                  "CHEMBL105257",
                  "active",
                  "c1ccc2c(c1)ccc[n+]2CCCCCCCCCCC[n+]1cccc2ccccc21",
                  "412.621",
                  "6.779100000000006",
                  "0.0",
                  "0.0",
                  "8.0"
                ],
                [
                  "69",
                  "CHEMBL1783518",
                  "active",
                  "CC(C)C1=N[C@H]2CC[C@]34C[C@]35C(=O)C[C@]3(C)[C@@H]([C@H](C)N(C)Cc6ccc(C(F)(F)F)cc6)[C@H](O)C[C@@]3(C)[C@@H]5CC[C@H]4[C@]2(C)CS1",
                  "644.8879999999999",
                  "8.264600000000009",
                  "1.0",
                  "5.0",
                  "8.522878745280337"
                ],
                [
                  "70",
                  "CHEMBL74809",
                  "active",
                  "O=C(CCC1CCN(Cc2cccc(Cl)c2)CC1)c1ccc2c(c1)CCN2",
                  "382.9350000000002",
                  "5.183100000000005",
                  "1.0",
                  "3.0",
                  "7.229147988357855"
                ]
              ],
              "shape": {
                "columns": 8,
                "rows": 4951
              }
            },
            "text/html": [
              "<div>\n",
              "<style scoped>\n",
              "    .dataframe tbody tr th:only-of-type {\n",
              "        vertical-align: middle;\n",
              "    }\n",
              "\n",
              "    .dataframe tbody tr th {\n",
              "        vertical-align: top;\n",
              "    }\n",
              "\n",
              "    .dataframe thead th {\n",
              "        text-align: right;\n",
              "    }\n",
              "</style>\n",
              "<table border=\"1\" class=\"dataframe\">\n",
              "  <thead>\n",
              "    <tr style=\"text-align: right;\">\n",
              "      <th></th>\n",
              "      <th>molecule_chembl_id</th>\n",
              "      <th>bioactivity_class</th>\n",
              "      <th>canonical_smiles</th>\n",
              "      <th>MW</th>\n",
              "      <th>LogP</th>\n",
              "      <th>NumHDonors</th>\n",
              "      <th>NumHAcceptors</th>\n",
              "      <th>pIC50</th>\n",
              "    </tr>\n",
              "  </thead>\n",
              "  <tbody>\n",
              "    <tr>\n",
              "      <th>1</th>\n",
              "      <td>CHEMBL5188500</td>\n",
              "      <td>active</td>\n",
              "      <td>CC(=O)N1N=C(c2ccc(-c3ccccc3)cc2)CC1c1ccc2c(c1)...</td>\n",
              "      <td>384.435</td>\n",
              "      <td>4.77990</td>\n",
              "      <td>0.0</td>\n",
              "      <td>4.0</td>\n",
              "      <td>6.005243</td>\n",
              "    </tr>\n",
              "    <tr>\n",
              "      <th>2</th>\n",
              "      <td>CHEMBL491358</td>\n",
              "      <td>active</td>\n",
              "      <td>CCOC(=O)C1=C(C)Nc2nc3c(c(N)c2C1c1ccc(OC)c(OC)c...</td>\n",
              "      <td>423.513</td>\n",
              "      <td>3.95430</td>\n",
              "      <td>2.0</td>\n",
              "      <td>7.0</td>\n",
              "      <td>7.346787</td>\n",
              "    </tr>\n",
              "    <tr>\n",
              "      <th>3</th>\n",
              "      <td>CHEMBL5199361</td>\n",
              "      <td>active</td>\n",
              "      <td>CN1CCN(c2c3c(nc4ccc([N+](=O)[O-])cc24)CCCC3)CC1</td>\n",
              "      <td>326.400</td>\n",
              "      <td>2.77360</td>\n",
              "      <td>0.0</td>\n",
              "      <td>5.0</td>\n",
              "      <td>6.610834</td>\n",
              "    </tr>\n",
              "    <tr>\n",
              "      <th>5</th>\n",
              "      <td>CHEMBL1098479</td>\n",
              "      <td>inactive</td>\n",
              "      <td>C[C@H](CC[C@@H](O)C(C)(C)O)[C@H]1CC[C@@]2(C)C3...</td>\n",
              "      <td>456.711</td>\n",
              "      <td>6.62890</td>\n",
              "      <td>2.0</td>\n",
              "      <td>3.0</td>\n",
              "      <td>4.600672</td>\n",
              "    </tr>\n",
              "    <tr>\n",
              "      <th>6</th>\n",
              "      <td>CHEMBL392385</td>\n",
              "      <td>inactive</td>\n",
              "      <td>CN(C(=O)Oc1ccc(Oc2ccc(C(F)(F)F)cn2)cc1)c1cccc(...</td>\n",
              "      <td>422.790</td>\n",
              "      <td>6.18130</td>\n",
              "      <td>0.0</td>\n",
              "      <td>4.0</td>\n",
              "      <td>4.301030</td>\n",
              "    </tr>\n",
              "    <tr>\n",
              "      <th>...</th>\n",
              "      <td>...</td>\n",
              "      <td>...</td>\n",
              "      <td>...</td>\n",
              "      <td>...</td>\n",
              "      <td>...</td>\n",
              "      <td>...</td>\n",
              "      <td>...</td>\n",
              "      <td>...</td>\n",
              "    </tr>\n",
              "    <tr>\n",
              "      <th>6606</th>\n",
              "      <td>CHEMBL597822</td>\n",
              "      <td>active</td>\n",
              "      <td>CN(Cc1ccccc1)Cc1ccc(/C=C2\\Cc3ccc(OCCCCN4CCCCC4...</td>\n",
              "      <td>508.706</td>\n",
              "      <td>6.78590</td>\n",
              "      <td>0.0</td>\n",
              "      <td>4.0</td>\n",
              "      <td>6.744727</td>\n",
              "    </tr>\n",
              "    <tr>\n",
              "      <th>6607</th>\n",
              "      <td>CHEMBL1669482</td>\n",
              "      <td>inactive</td>\n",
              "      <td>c1ccc2c[n+](CCCC[n+]3ccc4ccccc4c3)ccc2c1</td>\n",
              "      <td>314.432</td>\n",
              "      <td>4.04840</td>\n",
              "      <td>0.0</td>\n",
              "      <td>0.0</td>\n",
              "      <td>4.443697</td>\n",
              "    </tr>\n",
              "    <tr>\n",
              "      <th>6608</th>\n",
              "      <td>CHEMBL310918</td>\n",
              "      <td>active</td>\n",
              "      <td>O=C(CCC1CCN(Cc2cccc([N+](=O)[O-])c2)CC1)c1ccc2...</td>\n",
              "      <td>393.487</td>\n",
              "      <td>4.43790</td>\n",
              "      <td>1.0</td>\n",
              "      <td>5.0</td>\n",
              "      <td>7.193820</td>\n",
              "    </tr>\n",
              "    <tr>\n",
              "      <th>6609</th>\n",
              "      <td>CHEMBL539571</td>\n",
              "      <td>inactive</td>\n",
              "      <td>C#CCNC1CCc2ccc(OC(=O)N(CC)CCCC)cc21</td>\n",
              "      <td>314.429</td>\n",
              "      <td>3.51750</td>\n",
              "      <td>1.0</td>\n",
              "      <td>3.0</td>\n",
              "      <td>4.140261</td>\n",
              "    </tr>\n",
              "    <tr>\n",
              "      <th>6610</th>\n",
              "      <td>CHEMBL130738</td>\n",
              "      <td>inactive</td>\n",
              "      <td>Cc1[nH]c(C)c(/C=C2\\CN(Cc3ccccc3)CCC2=O)c1C=O</td>\n",
              "      <td>322.408</td>\n",
              "      <td>3.30244</td>\n",
              "      <td>1.0</td>\n",
              "      <td>3.0</td>\n",
              "      <td>4.522879</td>\n",
              "    </tr>\n",
              "  </tbody>\n",
              "</table>\n",
              "<p>4951 rows × 8 columns</p>\n",
              "</div>"
            ],
            "text/plain": [
              "     molecule_chembl_id bioactivity_class  \\\n",
              "1         CHEMBL5188500            active   \n",
              "2          CHEMBL491358            active   \n",
              "3         CHEMBL5199361            active   \n",
              "5         CHEMBL1098479          inactive   \n",
              "6          CHEMBL392385          inactive   \n",
              "...                 ...               ...   \n",
              "6606       CHEMBL597822            active   \n",
              "6607      CHEMBL1669482          inactive   \n",
              "6608       CHEMBL310918            active   \n",
              "6609       CHEMBL539571          inactive   \n",
              "6610       CHEMBL130738          inactive   \n",
              "\n",
              "                                       canonical_smiles       MW     LogP  \\\n",
              "1     CC(=O)N1N=C(c2ccc(-c3ccccc3)cc2)CC1c1ccc2c(c1)...  384.435  4.77990   \n",
              "2     CCOC(=O)C1=C(C)Nc2nc3c(c(N)c2C1c1ccc(OC)c(OC)c...  423.513  3.95430   \n",
              "3       CN1CCN(c2c3c(nc4ccc([N+](=O)[O-])cc24)CCCC3)CC1  326.400  2.77360   \n",
              "5     C[C@H](CC[C@@H](O)C(C)(C)O)[C@H]1CC[C@@]2(C)C3...  456.711  6.62890   \n",
              "6     CN(C(=O)Oc1ccc(Oc2ccc(C(F)(F)F)cn2)cc1)c1cccc(...  422.790  6.18130   \n",
              "...                                                 ...      ...      ...   \n",
              "6606  CN(Cc1ccccc1)Cc1ccc(/C=C2\\Cc3ccc(OCCCCN4CCCCC4...  508.706  6.78590   \n",
              "6607           c1ccc2c[n+](CCCC[n+]3ccc4ccccc4c3)ccc2c1  314.432  4.04840   \n",
              "6608  O=C(CCC1CCN(Cc2cccc([N+](=O)[O-])c2)CC1)c1ccc2...  393.487  4.43790   \n",
              "6609                C#CCNC1CCc2ccc(OC(=O)N(CC)CCCC)cc21  314.429  3.51750   \n",
              "6610       Cc1[nH]c(C)c(/C=C2\\CN(Cc3ccccc3)CCC2=O)c1C=O  322.408  3.30244   \n",
              "\n",
              "      NumHDonors  NumHAcceptors     pIC50  \n",
              "1            0.0            4.0  6.005243  \n",
              "2            2.0            7.0  7.346787  \n",
              "3            0.0            5.0  6.610834  \n",
              "5            2.0            3.0  4.600672  \n",
              "6            0.0            4.0  4.301030  \n",
              "...          ...            ...       ...  \n",
              "6606         0.0            4.0  6.744727  \n",
              "6607         0.0            0.0  4.443697  \n",
              "6608         1.0            5.0  7.193820  \n",
              "6609         1.0            3.0  4.140261  \n",
              "6610         1.0            3.0  4.522879  \n",
              "\n",
              "[4951 rows x 8 columns]"
            ]
          },
          "execution_count": 117,
          "metadata": {},
          "output_type": "execute_result"
        }
      ],
      "source": [
        "df_2class = df_final[df_final['bioactivity_class'] != 'intermediate']\n",
        "# df_2class=df_2class.reset_index()\n",
        "df_2class"
      ]
    },
    {
      "cell_type": "code",
      "execution_count": 118,
      "metadata": {},
      "outputs": [],
      "source": [
        "df_2class.to_csv('./data/acetylcholinesterase_bioactivity_2class_data.csv')"
      ]
    },
    {
      "cell_type": "markdown",
      "metadata": {
        "colab_type": "text",
        "id": "p9vA4-hQQ8sA"
      },
      "source": [
        "---"
      ]
    },
    {
      "cell_type": "markdown",
      "metadata": {
        "colab_type": "text",
        "id": "x0vqbQWfxsZu"
      },
      "source": [
        "## **Exploratory Data Analysis (Chemical Space Analysis) via Lipinski descriptors**"
      ]
    },
    {
      "cell_type": "markdown",
      "metadata": {},
      "source": [
        "In drug discovery, exploratory data analysis = 'Chemical Space Analysis'. Think of it as a chemical universe, with each compound as stars. Active molecules will have a larger size than inactive molecules, and can be thought of as constellations. "
      ]
    },
    {
      "cell_type": "markdown",
      "metadata": {
        "colab_type": "text",
        "id": "18heJagiyHoF"
      },
      "source": [
        "### **Import library**"
      ]
    },
    {
      "cell_type": "code",
      "execution_count": 119,
      "metadata": {
        "colab": {
          "base_uri": "https://localhost:8080/",
          "height": 72
        },
        "colab_type": "code",
        "id": "0Egq_rNsxtIj",
        "outputId": "9a158a1d-ba81-4f2e-9b9e-66ae5ce78916"
      },
      "outputs": [],
      "source": [
        "import seaborn as sns\n",
        "sns.set_theme(style='ticks')\n",
        "import matplotlib.pyplot as plt"
      ]
    },
    {
      "cell_type": "code",
      "execution_count": 120,
      "metadata": {},
      "outputs": [],
      "source": [
        "# %%bash\n",
        "# mkdir ./data/Part_2_Results"
      ]
    },
    {
      "cell_type": "markdown",
      "metadata": {
        "colab_type": "text",
        "id": "NiarmFbOdG3H"
      },
      "source": [
        "### **Frequency plot of the 2 bioactivity classes**"
      ]
    },
    {
      "cell_type": "code",
      "execution_count": 121,
      "metadata": {
        "colab": {
          "base_uri": "https://localhost:8080/",
          "height": 367
        },
        "colab_type": "code",
        "id": "w2Ia0iycdMO2",
        "outputId": "34409d5f-d826-4bcb-8167-2d208fbdf5d8"
      },
      "outputs": [
        {
          "data": {
            "image/png": "[encoded data removed]",
            "text/plain": [
              "<Figure size 550x550 with 1 Axes>"
            ]
          },
          "metadata": {},
          "output_type": "display_data"
        }
      ],
      "source": [
        "plt.figure(figsize=(5.5, 5.5))\n",
        "\n",
        "sns.countplot(x='bioactivity_class', data=df_2class, edgecolor='black')\n",
        "\n",
        "plt.xlabel('Bioactivity class', fontsize=14, fontweight='bold')\n",
        "plt.ylabel('Frequency', fontsize=14, fontweight='bold')\n",
        "\n",
        "plt.savefig('./data/Part_2_Results/plot_bioactivity_class.pdf')"
      ]
    },
    {
      "cell_type": "markdown",
      "metadata": {
        "colab_type": "text",
        "id": "wB68NKVG0j68"
      },
      "source": [
        "### **Scatter plot of MW versus LogP**\n",
        "\n",
        "It can be seen that the 2 bioactivity classes are spanning similar chemical spaces as evident by the scatter plot of MW vs LogP."
      ]
    },
    {
      "cell_type": "code",
      "execution_count": 122,
      "metadata": {
        "colab": {
          "base_uri": "https://localhost:8080/",
          "height": 367
        },
        "colab_type": "code",
        "id": "F79BNwjF0nub",
        "outputId": "beca351e-2b02-49f9-8712-6ffcdcde425f"
      },
      "outputs": [
        {
          "data": {
            "image/png": "[encoded data removed]",
            "text/plain": [
              "<Figure size 550x550 with 1 Axes>"
            ]
          },
          "metadata": {},
          "output_type": "display_data"
        }
      ],
      "source": [
        "plt.figure(figsize=(5.5, 5.5))\n",
        "\n",
        "sns.scatterplot(x='MW', y='LogP', data=df_2class, hue='bioactivity_class', size='pIC50', edgecolor='black', alpha=0.7)\n",
        "\n",
        "plt.xlabel('MW', fontsize=14, fontweight='bold')\n",
        "plt.ylabel('LogP', fontsize=14, fontweight='bold')\n",
        "plt.legend(bbox_to_anchor=(1.05, 1), loc=2, borderaxespad=0)\n",
        "# plt.show()\n",
        "plt.savefig('./data/Part_2_Results/plot_MW_vs_LogP.pdf')"
      ]
    },
    {
      "cell_type": "markdown",
      "metadata": {
        "colab_type": "text",
        "id": "oLAfyRwHyJfX"
      },
      "source": [
        "### **Box plots**"
      ]
    },
    {
      "cell_type": "markdown",
      "metadata": {
        "colab_type": "text",
        "id": "1n1uIAivyOkY"
      },
      "source": [
        "#### **pIC50 value**"
      ]
    },
    {
      "cell_type": "code",
      "execution_count": 123,
      "metadata": {
        "colab": {
          "base_uri": "https://localhost:8080/",
          "height": 367
        },
        "colab_type": "code",
        "id": "EpPviw0hxue6",
        "outputId": "e152d135-be08-4916-9494-49990106efa9"
      },
      "outputs": [
        {
          "data": {
            "image/png": "[encoded data removed]",
            "text/plain": [
              "<Figure size 550x550 with 1 Axes>"
            ]
          },
          "metadata": {},
          "output_type": "display_data"
        }
      ],
      "source": [
        "plt.figure(figsize=(5.5, 5.5))\n",
        "\n",
        "sns.boxplot(x = 'bioactivity_class', y = 'pIC50', data = df_2class)\n",
        "\n",
        "plt.xlabel('Bioactivity class', fontsize=14, fontweight='bold')\n",
        "plt.ylabel('pIC50 value', fontsize=14, fontweight='bold')\n",
        "\n",
        "plt.savefig('./data/Part_2_Results/plot_ic50.pdf')"
      ]
    },
    {
      "cell_type": "markdown",
      "metadata": {
        "colab_type": "text",
        "id": "PsOqKyysCZCv"
      },
      "source": [
        "**Statistical analysis | Mann-Whitney U Test**\n",
        "\n",
        "This is a non-parametric t-test for comparing *2 unpaired groups* that are *not normally distributed*. It compares using ranked order instead of group means."
      ]
    },
    {
      "cell_type": "code",
      "execution_count": 124,
      "metadata": {
        "colab": {},
        "colab_type": "code",
        "id": "LPdV1vDnWBsh"
      },
      "outputs": [],
      "source": [
        "def mannwhitney(descriptor, verbose=False):\n",
        "  # https://machinelearningmastery.com/nonparametric-statistical-significance-tests-in-python/\n",
        "  from numpy.random import seed\n",
        "  from numpy.random import randn\n",
        "  from scipy.stats import mannwhitneyu\n",
        "\n",
        "# seed the random number generator\n",
        "  seed(1)\n",
        "\n",
        "# active and inactive\n",
        "  selection = [descriptor, 'bioactivity_class'] # descriptor vs bioactivity_class\n",
        "  df = df_2class[selection]\n",
        "\n",
        "  active = df[df.bioactivity_class == 'active']\n",
        "  active = active[descriptor]\n",
        "\n",
        "  inactive = df[df.bioactivity_class == 'inactive']\n",
        "  inactive = inactive[descriptor]\n",
        "\n",
        "# compare samples\n",
        "  stat, p = mannwhitneyu(active, inactive)\n",
        "  #print('Statistics=%.3f, p=%.3f' % (stat, p))\n",
        "\n",
        "# interpret\n",
        "  alpha = 0.05\n",
        "  if p > alpha:\n",
        "    interpretation = 'Same distribution (fail to reject H0)'\n",
        "  else:\n",
        "    interpretation = 'Different distribution (reject H0)'\n",
        "  \n",
        "  results = pd.DataFrame({'Descriptor':descriptor,\n",
        "                          'Statistics':stat,\n",
        "                          'p':p,\n",
        "                          'alpha':alpha,\n",
        "                          'Interpretation':interpretation}, index=[0])\n",
        "  filename = 'mannwhitneyu_' + descriptor + '.csv'\n",
        "  results.to_csv('./data/Part_2_Results/'+filename)\n",
        "\n",
        "  return results"
      ]
    },
    {
      "cell_type": "code",
      "execution_count": 125,
      "metadata": {
        "colab": {
          "base_uri": "https://localhost:8080/",
          "height": 79
        },
        "colab_type": "code",
        "id": "HZmUgOmdYVm5",
        "outputId": "6996e4db-2720-4df7-8691-12a5c06c4020"
      },
      "outputs": [
        {
          "data": {
            "application/vnd.microsoft.datawrangler.viewer.v0+json": {
              "columns": [
                {
                  "name": "index",
                  "rawType": "int64",
                  "type": "integer"
                },
                {
                  "name": "Descriptor",
                  "rawType": "object",
                  "type": "string"
                },
                {
                  "name": "Statistics",
                  "rawType": "float64",
                  "type": "float"
                },
                {
                  "name": "p",
                  "rawType": "float64",
                  "type": "float"
                },
                {
                  "name": "alpha",
                  "rawType": "float64",
                  "type": "float"
                },
                {
                  "name": "Interpretation",
                  "rawType": "object",
                  "type": "string"
                }
              ],
              "ref": "67620ea7-852a-4701-81aa-d82f4c33d8f0",
              "rows": [
                [
                  "0",
                  "pIC50",
                  "6059194.0",
                  "0.0",
                  "0.05",
                  "Different distribution (reject H0)"
                ]
              ],
              "shape": {
                "columns": 5,
                "rows": 1
              }
            },
            "text/html": [
              "<div>\n",
              "<style scoped>\n",
              "    .dataframe tbody tr th:only-of-type {\n",
              "        vertical-align: middle;\n",
              "    }\n",
              "\n",
              "    .dataframe tbody tr th {\n",
              "        vertical-align: top;\n",
              "    }\n",
              "\n",
              "    .dataframe thead th {\n",
              "        text-align: right;\n",
              "    }\n",
              "</style>\n",
              "<table border=\"1\" class=\"dataframe\">\n",
              "  <thead>\n",
              "    <tr style=\"text-align: right;\">\n",
              "      <th></th>\n",
              "      <th>Descriptor</th>\n",
              "      <th>Statistics</th>\n",
              "      <th>p</th>\n",
              "      <th>alpha</th>\n",
              "      <th>Interpretation</th>\n",
              "    </tr>\n",
              "  </thead>\n",
              "  <tbody>\n",
              "    <tr>\n",
              "      <th>0</th>\n",
              "      <td>pIC50</td>\n",
              "      <td>6059194.0</td>\n",
              "      <td>0.0</td>\n",
              "      <td>0.05</td>\n",
              "      <td>Different distribution (reject H0)</td>\n",
              "    </tr>\n",
              "  </tbody>\n",
              "</table>\n",
              "</div>"
            ],
            "text/plain": [
              "  Descriptor  Statistics    p  alpha                      Interpretation\n",
              "0      pIC50   6059194.0  0.0   0.05  Different distribution (reject H0)"
            ]
          },
          "execution_count": 125,
          "metadata": {},
          "output_type": "execute_result"
        }
      ],
      "source": [
        "mannwhitney('pIC50')"
      ]
    },
    {
      "cell_type": "markdown",
      "metadata": {
        "colab_type": "text",
        "id": "o2UlCwPmyTBq"
      },
      "source": [
        "#### **MW**"
      ]
    },
    {
      "cell_type": "code",
      "execution_count": 126,
      "metadata": {
        "colab": {
          "base_uri": "https://localhost:8080/",
          "height": 367
        },
        "colab_type": "code",
        "id": "ZNlEEsDEx3m6",
        "outputId": "50836563-3a3c-4bb4-9ae6-8db38aeaf6f0"
      },
      "outputs": [
        {
          "data": {
            "image/png": "[encoded data removed]",
            "text/plain": [
              "<Figure size 550x550 with 1 Axes>"
            ]
          },
          "metadata": {},
          "output_type": "display_data"
        }
      ],
      "source": [
        "plt.figure(figsize=(5.5, 5.5))\n",
        "\n",
        "sns.boxplot(x = 'bioactivity_class', y = 'MW', data = df_2class)\n",
        "\n",
        "plt.xlabel('Bioactivity class', fontsize=14, fontweight='bold')\n",
        "plt.ylabel('MW', fontsize=14, fontweight='bold')\n",
        "\n",
        "plt.savefig('./data/Part_2_Results/plot_MW.pdf')"
      ]
    },
    {
      "cell_type": "code",
      "execution_count": 127,
      "metadata": {
        "colab": {
          "base_uri": "https://localhost:8080/",
          "height": 79
        },
        "colab_type": "code",
        "id": "wRl2FvgHYqaG",
        "outputId": "182737ed-20ce-414f-850e-9c11af877d71"
      },
      "outputs": [
        {
          "data": {
            "application/vnd.microsoft.datawrangler.viewer.v0+json": {
              "columns": [
                {
                  "name": "index",
                  "rawType": "int64",
                  "type": "integer"
                },
                {
                  "name": "Descriptor",
                  "rawType": "object",
                  "type": "string"
                },
                {
                  "name": "Statistics",
                  "rawType": "float64",
                  "type": "float"
                },
                {
                  "name": "p",
                  "rawType": "float64",
                  "type": "float"
                },
                {
                  "name": "alpha",
                  "rawType": "float64",
                  "type": "float"
                },
                {
                  "name": "Interpretation",
                  "rawType": "object",
                  "type": "string"
                }
              ],
              "ref": "3abb579a-7f1e-4ea9-9079-92a55a6bf900",
              "rows": [
                [
                  "0",
                  "MW",
                  "3927549.0",
                  "4.1929812020789685e-72",
                  "0.05",
                  "Different distribution (reject H0)"
                ]
              ],
              "shape": {
                "columns": 5,
                "rows": 1
              }
            },
            "text/html": [
              "<div>\n",
              "<style scoped>\n",
              "    .dataframe tbody tr th:only-of-type {\n",
              "        vertical-align: middle;\n",
              "    }\n",
              "\n",
              "    .dataframe tbody tr th {\n",
              "        vertical-align: top;\n",
              "    }\n",
              "\n",
              "    .dataframe thead th {\n",
              "        text-align: right;\n",
              "    }\n",
              "</style>\n",
              "<table border=\"1\" class=\"dataframe\">\n",
              "  <thead>\n",
              "    <tr style=\"text-align: right;\">\n",
              "      <th></th>\n",
              "      <th>Descriptor</th>\n",
              "      <th>Statistics</th>\n",
              "      <th>p</th>\n",
              "      <th>alpha</th>\n",
              "      <th>Interpretation</th>\n",
              "    </tr>\n",
              "  </thead>\n",
              "  <tbody>\n",
              "    <tr>\n",
              "      <th>0</th>\n",
              "      <td>MW</td>\n",
              "      <td>3927549.0</td>\n",
              "      <td>4.192981e-72</td>\n",
              "      <td>0.05</td>\n",
              "      <td>Different distribution (reject H0)</td>\n",
              "    </tr>\n",
              "  </tbody>\n",
              "</table>\n",
              "</div>"
            ],
            "text/plain": [
              "  Descriptor  Statistics             p  alpha  \\\n",
              "0         MW   3927549.0  4.192981e-72   0.05   \n",
              "\n",
              "                       Interpretation  \n",
              "0  Different distribution (reject H0)  "
            ]
          },
          "execution_count": 127,
          "metadata": {},
          "output_type": "execute_result"
        }
      ],
      "source": [
        "mannwhitney('MW')"
      ]
    },
    {
      "cell_type": "markdown",
      "metadata": {
        "colab_type": "text",
        "id": "z5hyBhGqyc6J"
      },
      "source": [
        "#### **LogP**"
      ]
    },
    {
      "cell_type": "code",
      "execution_count": 128,
      "metadata": {
        "colab": {
          "base_uri": "https://localhost:8080/",
          "height": 367
        },
        "colab_type": "code",
        "id": "liEtkpI4yX9t",
        "outputId": "8aa9b4de-6df6-4da6-ed4c-f9376f290d9f"
      },
      "outputs": [
        {
          "data": {
            "image/png": "[encoded data removed]",
            "text/plain": [
              "<Figure size 550x550 with 1 Axes>"
            ]
          },
          "metadata": {},
          "output_type": "display_data"
        }
      ],
      "source": [
        "plt.figure(figsize=(5.5, 5.5))\n",
        "\n",
        "sns.boxplot(x = 'bioactivity_class', y = 'LogP', data = df_2class)\n",
        "\n",
        "plt.xlabel('Bioactivity class', fontsize=14, fontweight='bold')\n",
        "plt.ylabel('LogP', fontsize=14, fontweight='bold')\n",
        "\n",
        "plt.savefig('./data/Part_2_Results/plot_LogP.pdf')"
      ]
    },
    {
      "cell_type": "markdown",
      "metadata": {
        "colab_type": "text",
        "id": "2KgV5v_oFLXh"
      },
      "source": [
        "**Statistical analysis | Mann-Whitney U Test**"
      ]
    },
    {
      "cell_type": "code",
      "execution_count": 129,
      "metadata": {
        "colab": {
          "base_uri": "https://localhost:8080/",
          "height": 79
        },
        "colab_type": "code",
        "id": "B61UsGMIFLuE",
        "outputId": "53899c37-0603-4879-c4ed-25c07b4455d9"
      },
      "outputs": [
        {
          "data": {
            "application/vnd.microsoft.datawrangler.viewer.v0+json": {
              "columns": [
                {
                  "name": "index",
                  "rawType": "int64",
                  "type": "integer"
                },
                {
                  "name": "Descriptor",
                  "rawType": "object",
                  "type": "string"
                },
                {
                  "name": "Statistics",
                  "rawType": "float64",
                  "type": "float"
                },
                {
                  "name": "p",
                  "rawType": "float64",
                  "type": "float"
                },
                {
                  "name": "alpha",
                  "rawType": "float64",
                  "type": "float"
                },
                {
                  "name": "Interpretation",
                  "rawType": "object",
                  "type": "string"
                }
              ],
              "ref": "df64ba90-b70a-43c0-b829-321d7bb46443",
              "rows": [
                [
                  "0",
                  "LogP",
                  "4028260.5",
                  "9.737664374339893e-89",
                  "0.05",
                  "Different distribution (reject H0)"
                ]
              ],
              "shape": {
                "columns": 5,
                "rows": 1
              }
            },
            "text/html": [
              "<div>\n",
              "<style scoped>\n",
              "    .dataframe tbody tr th:only-of-type {\n",
              "        vertical-align: middle;\n",
              "    }\n",
              "\n",
              "    .dataframe tbody tr th {\n",
              "        vertical-align: top;\n",
              "    }\n",
              "\n",
              "    .dataframe thead th {\n",
              "        text-align: right;\n",
              "    }\n",
              "</style>\n",
              "<table border=\"1\" class=\"dataframe\">\n",
              "  <thead>\n",
              "    <tr style=\"text-align: right;\">\n",
              "      <th></th>\n",
              "      <th>Descriptor</th>\n",
              "      <th>Statistics</th>\n",
              "      <th>p</th>\n",
              "      <th>alpha</th>\n",
              "      <th>Interpretation</th>\n",
              "    </tr>\n",
              "  </thead>\n",
              "  <tbody>\n",
              "    <tr>\n",
              "      <th>0</th>\n",
              "      <td>LogP</td>\n",
              "      <td>4028260.5</td>\n",
              "      <td>9.737664e-89</td>\n",
              "      <td>0.05</td>\n",
              "      <td>Different distribution (reject H0)</td>\n",
              "    </tr>\n",
              "  </tbody>\n",
              "</table>\n",
              "</div>"
            ],
            "text/plain": [
              "  Descriptor  Statistics             p  alpha  \\\n",
              "0       LogP   4028260.5  9.737664e-89   0.05   \n",
              "\n",
              "                       Interpretation  \n",
              "0  Different distribution (reject H0)  "
            ]
          },
          "execution_count": 129,
          "metadata": {},
          "output_type": "execute_result"
        }
      ],
      "source": [
        "mannwhitney('LogP')"
      ]
    },
    {
      "cell_type": "markdown",
      "metadata": {
        "colab_type": "text",
        "id": "4db7LZLRym2k"
      },
      "source": [
        "#### **NumHDonors**"
      ]
    },
    {
      "cell_type": "code",
      "execution_count": 130,
      "metadata": {
        "colab": {
          "base_uri": "https://localhost:8080/",
          "height": 367
        },
        "colab_type": "code",
        "id": "iru1JPM1yg5A",
        "outputId": "4ab22853-c3de-4d99-ff3a-05b95f232333"
      },
      "outputs": [
        {
          "data": {
            "image/png": "[encoded data removed]",
            "text/plain": [
              "<Figure size 550x550 with 1 Axes>"
            ]
          },
          "metadata": {},
          "output_type": "display_data"
        }
      ],
      "source": [
        "plt.figure(figsize=(5.5, 5.5))\n",
        "\n",
        "sns.boxplot(x = 'bioactivity_class', y = 'NumHDonors', data = df_2class)\n",
        "\n",
        "plt.xlabel('Bioactivity class', fontsize=14, fontweight='bold')\n",
        "plt.ylabel('NumHDonors', fontsize=14, fontweight='bold')\n",
        "\n",
        "plt.savefig('./data/Part_2_Results/plot_NumHDonors.pdf')"
      ]
    },
    {
      "cell_type": "markdown",
      "metadata": {
        "colab_type": "text",
        "id": "vM5vZWanFe3c"
      },
      "source": [
        "**Statistical analysis | Mann-Whitney U Test**"
      ]
    },
    {
      "cell_type": "code",
      "execution_count": 131,
      "metadata": {
        "colab": {
          "base_uri": "https://localhost:8080/",
          "height": 79
        },
        "colab_type": "code",
        "id": "mS-rOqq7Fd1E",
        "outputId": "6d5609b5-8f4a-4e1b-ac76-841a1d93f212"
      },
      "outputs": [
        {
          "data": {
            "application/vnd.microsoft.datawrangler.viewer.v0+json": {
              "columns": [
                {
                  "name": "index",
                  "rawType": "int64",
                  "type": "integer"
                },
                {
                  "name": "Descriptor",
                  "rawType": "object",
                  "type": "string"
                },
                {
                  "name": "Statistics",
                  "rawType": "float64",
                  "type": "float"
                },
                {
                  "name": "p",
                  "rawType": "float64",
                  "type": "float"
                },
                {
                  "name": "alpha",
                  "rawType": "float64",
                  "type": "float"
                },
                {
                  "name": "Interpretation",
                  "rawType": "object",
                  "type": "string"
                }
              ],
              "ref": "7c7ac27b-d123-40b6-926f-092ed77f9239",
              "rows": [
                [
                  "0",
                  "NumHDonors",
                  "3426599.5",
                  "7.699476171872736e-17",
                  "0.05",
                  "Different distribution (reject H0)"
                ]
              ],
              "shape": {
                "columns": 5,
                "rows": 1
              }
            },
            "text/html": [
              "<div>\n",
              "<style scoped>\n",
              "    .dataframe tbody tr th:only-of-type {\n",
              "        vertical-align: middle;\n",
              "    }\n",
              "\n",
              "    .dataframe tbody tr th {\n",
              "        vertical-align: top;\n",
              "    }\n",
              "\n",
              "    .dataframe thead th {\n",
              "        text-align: right;\n",
              "    }\n",
              "</style>\n",
              "<table border=\"1\" class=\"dataframe\">\n",
              "  <thead>\n",
              "    <tr style=\"text-align: right;\">\n",
              "      <th></th>\n",
              "      <th>Descriptor</th>\n",
              "      <th>Statistics</th>\n",
              "      <th>p</th>\n",
              "      <th>alpha</th>\n",
              "      <th>Interpretation</th>\n",
              "    </tr>\n",
              "  </thead>\n",
              "  <tbody>\n",
              "    <tr>\n",
              "      <th>0</th>\n",
              "      <td>NumHDonors</td>\n",
              "      <td>3426599.5</td>\n",
              "      <td>7.699476e-17</td>\n",
              "      <td>0.05</td>\n",
              "      <td>Different distribution (reject H0)</td>\n",
              "    </tr>\n",
              "  </tbody>\n",
              "</table>\n",
              "</div>"
            ],
            "text/plain": [
              "   Descriptor  Statistics             p  alpha  \\\n",
              "0  NumHDonors   3426599.5  7.699476e-17   0.05   \n",
              "\n",
              "                       Interpretation  \n",
              "0  Different distribution (reject H0)  "
            ]
          },
          "execution_count": 131,
          "metadata": {},
          "output_type": "execute_result"
        }
      ],
      "source": [
        "mannwhitney('NumHDonors')"
      ]
    },
    {
      "cell_type": "markdown",
      "metadata": {
        "colab_type": "text",
        "id": "yOYQ3QiSyu7-"
      },
      "source": [
        "#### **NumHAcceptors**"
      ]
    },
    {
      "cell_type": "code",
      "execution_count": 132,
      "metadata": {
        "colab": {
          "base_uri": "https://localhost:8080/",
          "height": 367
        },
        "colab_type": "code",
        "id": "yCw6tgNCyxHf",
        "outputId": "e53b4169-d3d6-4b4e-d8cf-d0378ca54ddc"
      },
      "outputs": [
        {
          "data": {
            "image/png": "[encoded data removed]",
            "text/plain": [
              "<Figure size 550x550 with 1 Axes>"
            ]
          },
          "metadata": {},
          "output_type": "display_data"
        }
      ],
      "source": [
        "plt.figure(figsize=(5.5, 5.5))\n",
        "\n",
        "sns.boxplot(x = 'bioactivity_class', y = 'NumHAcceptors', data = df_2class)\n",
        "\n",
        "plt.xlabel('Bioactivity class', fontsize=14, fontweight='bold')\n",
        "plt.ylabel('NumHAcceptors', fontsize=14, fontweight='bold')\n",
        "\n",
        "plt.savefig('./data/Part_2_Results/plot_NumHAcceptors.pdf')"
      ]
    },
    {
      "cell_type": "code",
      "execution_count": 133,
      "metadata": {
        "colab": {
          "base_uri": "https://localhost:8080/",
          "height": 79
        },
        "colab_type": "code",
        "id": "NEQoDZctFtGG",
        "outputId": "eb994475-ed64-4633-c67b-a88e2c3ecc48"
      },
      "outputs": [
        {
          "data": {
            "application/vnd.microsoft.datawrangler.viewer.v0+json": {
              "columns": [
                {
                  "name": "index",
                  "rawType": "int64",
                  "type": "integer"
                },
                {
                  "name": "Descriptor",
                  "rawType": "object",
                  "type": "string"
                },
                {
                  "name": "Statistics",
                  "rawType": "float64",
                  "type": "float"
                },
                {
                  "name": "p",
                  "rawType": "float64",
                  "type": "float"
                },
                {
                  "name": "alpha",
                  "rawType": "float64",
                  "type": "float"
                },
                {
                  "name": "Interpretation",
                  "rawType": "object",
                  "type": "string"
                }
              ],
              "ref": "a8041067-398b-4b42-91eb-7e072defd5c4",
              "rows": [
                [
                  "0",
                  "NumHAcceptors",
                  "3251000.5",
                  "6.92746970849391e-06",
                  "0.05",
                  "Different distribution (reject H0)"
                ]
              ],
              "shape": {
                "columns": 5,
                "rows": 1
              }
            },
            "text/html": [
              "<div>\n",
              "<style scoped>\n",
              "    .dataframe tbody tr th:only-of-type {\n",
              "        vertical-align: middle;\n",
              "    }\n",
              "\n",
              "    .dataframe tbody tr th {\n",
              "        vertical-align: top;\n",
              "    }\n",
              "\n",
              "    .dataframe thead th {\n",
              "        text-align: right;\n",
              "    }\n",
              "</style>\n",
              "<table border=\"1\" class=\"dataframe\">\n",
              "  <thead>\n",
              "    <tr style=\"text-align: right;\">\n",
              "      <th></th>\n",
              "      <th>Descriptor</th>\n",
              "      <th>Statistics</th>\n",
              "      <th>p</th>\n",
              "      <th>alpha</th>\n",
              "      <th>Interpretation</th>\n",
              "    </tr>\n",
              "  </thead>\n",
              "  <tbody>\n",
              "    <tr>\n",
              "      <th>0</th>\n",
              "      <td>NumHAcceptors</td>\n",
              "      <td>3251000.5</td>\n",
              "      <td>0.000007</td>\n",
              "      <td>0.05</td>\n",
              "      <td>Different distribution (reject H0)</td>\n",
              "    </tr>\n",
              "  </tbody>\n",
              "</table>\n",
              "</div>"
            ],
            "text/plain": [
              "      Descriptor  Statistics         p  alpha  \\\n",
              "0  NumHAcceptors   3251000.5  0.000007   0.05   \n",
              "\n",
              "                       Interpretation  \n",
              "0  Different distribution (reject H0)  "
            ]
          },
          "execution_count": 133,
          "metadata": {},
          "output_type": "execute_result"
        }
      ],
      "source": [
        "mannwhitney('NumHAcceptors')"
      ]
    },
    {
      "cell_type": "markdown",
      "metadata": {
        "colab_type": "text",
        "id": "p4QjdHVjKYum"
      },
      "source": [
        "#### **Interpretation of Statistical Results**"
      ]
    },
    {
      "cell_type": "markdown",
      "metadata": {
        "colab_type": "text",
        "id": "mSoOBIqfLbDs"
      },
      "source": [
        "### **Box Plots**\n",
        "##### pIC50 values\n",
        "\n",
        "Taking a look at pIC50 values, the active vs inactive compounds displayed ***statistically significant differences***, which is to be expected since pIC50 thresholds were used to define active and inactive classes (``pIC50 > 6 = active`` and ``pIC50 < 5 = inactive``). \n",
        "\n",
        "##### Lipinski's descriptors\n",
        "\n",
        "Of the 4 Lipinski's descriptors (MW, LogP, NumHDonors and NumHAcceptors), all four exhibited ***statistically significant differences*** between the active and inactive bioactivity classes, with MannWhitney-U results rejecting the null hypothesis."
      ]
    }
  ],
  "metadata": {
    "colab": {
      "collapsed_sections": [],
      "name": "CDD-ML-Part-2-Exploratory-Data-Analysis.ipynb",
      "provenance": []
    },
    "kernelspec": {
      "display_name": "Python 3",
      "name": "python3"
    },
    "language_info": {
      "codemirror_mode": {
        "name": "ipython",
        "version": 3
      },
      "file_extension": ".py",
      "mimetype": "text/x-python",
      "name": "python",
      "nbconvert_exporter": "python",
      "pygments_lexer": "ipython3",
      "version": "3.12.5"
    }
  },
  "nbformat": 4,
  "nbformat_minor": 0
}
