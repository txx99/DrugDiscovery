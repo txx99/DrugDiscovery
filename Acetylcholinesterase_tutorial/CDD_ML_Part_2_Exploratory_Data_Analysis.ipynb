{
  "cells": [
    {
      "cell_type": "markdown",
      "metadata": {
        "colab_type": "text",
        "id": "l0Y7_lgN4jzM"
      },
      "source": [
        "# **Computational Drug Discovery [Part 2]: Exploratory Data Analysis**\n",
        "\n",
        "Based on tutorial by Chanin Nantasenamat, [*'Data Professor' YouTube channel*](http://youtube.com/dataprofessor)\n",
        "\n",
        "In **Part 2**, we will be performing Descriptor Calculation and Exploratory Data Analysis.\n",
        "\n",
        "---"
      ]
    },
    {
      "cell_type": "markdown",
      "metadata": {
        "colab_type": "text",
        "id": "o-4IOizard4P"
      },
      "source": [
        "## **Install conda and rdkit**"
      ]
    },
    {
      "cell_type": "code",
      "execution_count": 51,
      "metadata": {
        "vscode": {
          "languageId": "powershell"
        }
      },
      "outputs": [
        {
          "name": "stdout",
          "output_type": "stream",
          "text": [
            "Requirement already satisfied: rdkit in c:\\users\\liv_u\\appdata\\local\\programs\\python\\python312\\lib\\site-packages (2025.3.5)\n",
            "Requirement already satisfied: numpy in c:\\users\\liv_u\\appdata\\local\\programs\\python\\python312\\lib\\site-packages (from rdkit) (2.1.1)\n",
            "Requirement already satisfied: Pillow in c:\\users\\liv_u\\appdata\\local\\programs\\python\\python312\\lib\\site-packages (from rdkit) (10.4.0)\n"
          ]
        },
        {
          "name": "stderr",
          "output_type": "stream",
          "text": [
            "\n",
            "[notice] A new release of pip is available: 25.1.1 -> 25.2\n",
            "[notice] To update, run: python.exe -m pip install --upgrade pip\n"
          ]
        }
      ],
      "source": [
        "! pip install rdkit\n",
        "import sys\n",
        "sys.path.append('/usr/local/lib/python3.7/site-packages/')"
      ]
    },
    {
      "cell_type": "code",
      "execution_count": 52,
      "metadata": {
        "colab": {
          "base_uri": "https://localhost:8080/",
          "height": 1000
        },
        "colab_type": "code",
        "id": "H0mjQ2PcrSe5",
        "outputId": "8d2fe1f6-38d8-4733-ce31-665ae4502230",
        "vscode": {
          "languageId": "powershell"
        }
      },
      "outputs": [],
      "source": [
        "# ! wget https://repo.anaconda.com/miniconda/Miniconda3-py37_4.8.2-Linux-x86_64.sh\n",
        "# ! chmod +x Miniconda3-py37_4.8.2-Linux-x86_64.sh\n",
        "# ! bash ./Miniconda3-py37_4.8.2-Linux-x86_64.sh -b -f -p /usr/local\n",
        "# ! conda install -c rdkit rdkit -y\n",
        "# import sys\n",
        "# sys.path.append('/usr/local/lib/python3.7/site-packages/')"
      ]
    },
    {
      "cell_type": "markdown",
      "metadata": {
        "colab_type": "text",
        "id": "QmxXXFa4wTNG"
      },
      "source": [
        "## **Load bioactivity data**"
      ]
    },
    {
      "cell_type": "code",
      "execution_count": 53,
      "metadata": {
        "colab": {},
        "colab_type": "code",
        "id": "Fpu5C7HlwV9s"
      },
      "outputs": [],
      "source": [
        "import pandas as pd"
      ]
    },
    {
      "cell_type": "code",
      "execution_count": null,
      "metadata": {
        "colab": {},
        "colab_type": "code",
        "id": "GCcE8J5XwjtB"
      },
      "outputs": [
        {
          "data": {
            "application/vnd.microsoft.datawrangler.viewer.v0+json": {
              "columns": [
                {
                  "name": "index",
                  "rawType": "int64",
                  "type": "integer"
                },
                {
                  "name": "molecule_chembl_id",
                  "rawType": "object",
                  "type": "string"
                },
                {
                  "name": "canonical_smiles",
                  "rawType": "object",
                  "type": "unknown"
                },
                {
                  "name": "standard_value",
                  "rawType": "float64",
                  "type": "float"
                },
                {
                  "name": "bioactivity_class",
                  "rawType": "object",
                  "type": "string"
                }
              ],
              "ref": "00336700-836b-4fe4-9eda-0ffcb58a889b",
              "rows": [
                [
                  "0",
                  "CHEMBL133897",
                  "CCOc1nn(-c2cccc(OCc3ccccc3)c2)c(=O)o1",
                  "750.0",
                  "active"
                ],
                [
                  "1",
                  "CHEMBL336398",
                  "O=C(N1CCCCC1)n1nc(-c2ccc(Cl)cc2)nc1SCC1CC1",
                  "100.0",
                  "active"
                ],
                [
                  "2",
                  "CHEMBL131588",
                  "CN(C(=O)n1nc(-c2ccc(Cl)cc2)nc1SCC(F)(F)F)c1ccccc1",
                  "50000.0",
                  "inactive"
                ],
                [
                  "3",
                  "CHEMBL130628",
                  "O=C(N1CCCCC1)n1nc(-c2ccc(Cl)cc2)nc1SCC(F)(F)F",
                  "300.0",
                  "active"
                ],
                [
                  "4",
                  "CHEMBL130478",
                  "CSc1nc(-c2ccc(OC(F)(F)F)cc2)nn1C(=O)N(C)C",
                  "800.0",
                  "active"
                ],
                [
                  "5",
                  "CHEMBL130112",
                  "CSc1nc(-c2ccc(C)cc2)nn1C(=O)N(C)c1ccccc1",
                  "2400.0",
                  "intermediate"
                ],
                [
                  "6",
                  "CHEMBL130098",
                  "CSc1nc(-c2ccc(Cl)cc2)nn1C(=O)N(C)C",
                  "100.0",
                  "active"
                ],
                [
                  "7",
                  "CHEMBL337486",
                  "CCCCCCSc1nc(-c2ccc(Cl)cc2)nn1C(=O)N1CCOCC1",
                  "50000.0",
                  "inactive"
                ],
                [
                  "8",
                  "CHEMBL336538",
                  "COc1ccc(-c2nc(SC)n(C(=O)N(C)C)n2)cc1",
                  "800.0",
                  "active"
                ],
                [
                  "9",
                  "CHEMBL131051",
                  "CSc1nc(-c2ccc(OC(F)(F)F)cc2)nn1C(=O)N(C)c1ccccc1",
                  "50000.0",
                  "inactive"
                ],
                [
                  "10",
                  "CHEMBL341437",
                  "CCSc1nc(-c2ccc(OC)cc2)nn1C(=O)N1CCOCC1",
                  "50000.0",
                  "inactive"
                ],
                [
                  "11",
                  "CHEMBL335033",
                  "CSc1nc(-c2ccc3ccccc3c2)nn1C(=O)N(C)C",
                  "50.0",
                  "active"
                ],
                [
                  "12",
                  "CHEMBL122983",
                  "C[C@H]1C(=O)N(C(=O)NCc2ccccc2)[C@@H]1Oc1ccc(C(=O)C(C)(C)C)cc1",
                  "100000.0",
                  "inactive"
                ],
                [
                  "13",
                  "CHEMBL338720",
                  "CSc1nc(-c2ccc(-c3ccccc3)cc2)nn1C(=O)N(C)C",
                  "560.0",
                  "active"
                ],
                [
                  "14",
                  "CHEMBL339995",
                  "CSc1nc(/C=C/c2ccccc2)nn1C(=O)N(C)C",
                  "10.0",
                  "active"
                ],
                [
                  "15",
                  "CHEMBL335158",
                  "CCCCCCSc1nc(-c2ccc(Cl)cc2)nn1C(=O)N1CCCCC1",
                  "10.0",
                  "active"
                ],
                [
                  "16",
                  "CHEMBL131536",
                  "CSc1nc(-c2ccc(Cl)cc2)nn1C(=O)N(C)c1ccccc1",
                  "1400.0",
                  "intermediate"
                ],
                [
                  "17",
                  "CHEMBL106126",
                  "Cc1c(C(C)C)c(=O)on1C(=O)N1CCC[C@H](C)C1",
                  "17000.0",
                  "inactive"
                ],
                [
                  "18",
                  "CHEMBL334971",
                  "CCSc1nc(-c2ccc(OC)cc2)nn1C(=O)N(C)c1ccccc1",
                  "1100.0",
                  "intermediate"
                ],
                [
                  "19",
                  "CHEMBL336625",
                  "CCCCCCSc1nc(-c2ccc(C)cc2)nn1C(=O)N(C)c1ccccc1",
                  "50000.0",
                  "inactive"
                ],
                [
                  "20",
                  "CHEMBL130666",
                  "CSc1nc(-c2ccc(Cl)cc2)nn1C(=O)N1CCCCC1",
                  "26.0",
                  "active"
                ],
                [
                  "21",
                  "CHEMBL134061",
                  "O=C(N1CCOCC1)n1nc(-c2ccc(Cl)cc2)nc1SCC(F)(F)F",
                  "50000.0",
                  "inactive"
                ],
                [
                  "22",
                  "CHEMBL133388",
                  "CSc1nc(-c2ccc(C)cc2)nn1C(=O)N(C)C",
                  "800.0",
                  "active"
                ],
                [
                  "23",
                  "CHEMBL130645",
                  "CSc1nc(-c2ccc(Cl)cc2)nn1C(=O)N1CCOCC1",
                  "50000.0",
                  "inactive"
                ],
                [
                  "24",
                  "CHEMBL133580",
                  "CCCCCCSc1nc(-c2ccc(Cl)cc2)nn1C(=O)N(C)c1ccccc1",
                  "50000.0",
                  "inactive"
                ],
                [
                  "25",
                  "CHEMBL336524",
                  "CCSc1nc(-c2ccc(Cl)cc2)nn1C(=O)N(C)C",
                  "56.0",
                  "active"
                ],
                [
                  "26",
                  "CHEMBL336276",
                  "CCCCCCSc1nc(-c2ccc(C)cc2)nn1C(=O)N(C)C",
                  "200.0",
                  "active"
                ],
                [
                  "27",
                  "CHEMBL334395",
                  "CCCSc1nc(-c2ccc(Cl)cc2)nn1C(=O)N(C)C",
                  "300.0",
                  "active"
                ],
                [
                  "28",
                  "CHEMBL131320",
                  "Cc1ccc(-c2nc(SCC(F)(F)F)n(C(=O)N(C)C)n2)cc1",
                  "200.0",
                  "active"
                ],
                [
                  "29",
                  "CHEMBL339297",
                  "COc1nn(-c2ccc(NC(=O)c3ccc(C(C)(C)C)cc3)cc2)c(=O)o1",
                  "50000.0",
                  "inactive"
                ],
                [
                  "30",
                  "CHEMBL337714",
                  "CSc1nc(-c2ccc(C(F)(F)F)cc2)nn1C(=O)N(C)C",
                  "500.0",
                  "active"
                ],
                [
                  "31",
                  "CHEMBL122575",
                  "C[C@H]1C(=O)N(C(=O)NCc2ccccc2)[C@@H]1Oc1ccc(C(=O)O)cc1",
                  "100000.0",
                  "inactive"
                ],
                [
                  "32",
                  "CHEMBL130704",
                  "CSc1nc(-c2ccc(C)cc2)nn1C(=O)N1CCOCC1",
                  "50000.0",
                  "inactive"
                ],
                [
                  "33",
                  "CHEMBL46151",
                  "CCN(CC)CCS/C(=N\\O)C(=O)c1ccc(OC)cc1",
                  "260000.0",
                  "inactive"
                ],
                [
                  "34",
                  "CHEMBL54126",
                  "CN(C)C(=O)Oc1cccc([N+](C)(C)C)c1.[Br-]",
                  "22.0",
                  "active"
                ],
                [
                  "35",
                  "CHEMBL297316",
                  "C[N+](C)(C)CCS/C(=N\\O)C(=O)c1ccc(F)cc1.[Cl-]",
                  "1000000.0",
                  "inactive"
                ],
                [
                  "36",
                  "CHEMBL65667",
                  "CN1CC[C@@]2(C)c3cc(OC(=O)NCCCN4CCOCC4)ccc3N(C)[C@@H]12",
                  "3800.0",
                  "intermediate"
                ],
                [
                  "37",
                  "CHEMBL431519",
                  "CN1CC[C@@]2(C)c3cc(OC(=O)NCCCCCCCCCCN4CCOCC4)ccc3N(C)[C@@H]12",
                  "40.0",
                  "active"
                ],
                [
                  "38",
                  "CHEMBL296429",
                  "Cc1ccc(C(=O)/C(=N/O)SCC[N+](C)(C)C)cc1.[Cl-]",
                  "1000000.0",
                  "inactive"
                ],
                [
                  "39",
                  "CHEMBL154972",
                  "N#CC(C#N)=C1Nc2ccccc2N1CCNCc1ccc(CN2CCCCC2)o1",
                  "73.0",
                  "active"
                ],
                [
                  "40",
                  "CHEMBL152722",
                  "COc1cc(N)c(Cl)cc1C(=O)NCCNCc1ccc(CN(C)C)o1",
                  "3100.0",
                  "intermediate"
                ],
                [
                  "41",
                  "CHEMBL544022",
                  "CCN(CC)CCS/C(=N\\O)C(=O)c1ccc(Cl)cc1.Cl",
                  "520000.0",
                  "inactive"
                ],
                [
                  "42",
                  "CHEMBL349127",
                  "CN1CCN(Cc2ccc(CNCCN3CCNC3=C(C#N)C#N)o2)CC1",
                  "4500.0",
                  "intermediate"
                ],
                [
                  "43",
                  "CHEMBL156659",
                  "Oc1nc2ccccc2n1CCNCc1ccc(CN2CCCCC2)o1",
                  "1200.0",
                  "intermediate"
                ],
                [
                  "44",
                  "CHEMBL45118",
                  "CC[N+](C)(CC)CCS/C(=N\\O)C(=O)c1ccc(OC)cc1.[Cl-]",
                  "1000000.0",
                  "inactive"
                ],
                [
                  "45",
                  "CHEMBL542609",
                  "Cc1ccc(C(=O)/C(=N/O)SCCN(C)C)cc1.Cl",
                  "1000000.0",
                  "inactive"
                ],
                [
                  "46",
                  "CHEMBL155322",
                  "CC1CCCCN1Cc1ccc(CNCCN2CCNC2=C(C#N)C#N)o1",
                  "540.0",
                  "active"
                ],
                [
                  "47",
                  "CHEMBL154211",
                  "N#CC(C#N)=C1NCCN1CCNCc1ccc(CN2CCCCC2)o1",
                  "30.0",
                  "active"
                ],
                [
                  "48",
                  "CHEMBL1203537",
                  "CNC(NCCNCc1ccc(CN2CCCCC2)o1)=C(C#N)C#N.Cl",
                  "830.0",
                  "active"
                ],
                [
                  "49",
                  "CHEMBL86",
                  "CCN(CC)CCNC(=O)c1cc(Cl)c(N)cc1OC",
                  "20000.0",
                  "inactive"
                ]
              ],
              "shape": {
                "columns": 4,
                "rows": 8130
              }
            },
            "text/html": [
              "<div>\n",
              "<style scoped>\n",
              "    .dataframe tbody tr th:only-of-type {\n",
              "        vertical-align: middle;\n",
              "    }\n",
              "\n",
              "    .dataframe tbody tr th {\n",
              "        vertical-align: top;\n",
              "    }\n",
              "\n",
              "    .dataframe thead th {\n",
              "        text-align: right;\n",
              "    }\n",
              "</style>\n",
              "<table border=\"1\" class=\"dataframe\">\n",
              "  <thead>\n",
              "    <tr style=\"text-align: right;\">\n",
              "      <th></th>\n",
              "      <th>molecule_chembl_id</th>\n",
              "      <th>canonical_smiles</th>\n",
              "      <th>standard_value</th>\n",
              "      <th>bioactivity_class</th>\n",
              "    </tr>\n",
              "  </thead>\n",
              "  <tbody>\n",
              "    <tr>\n",
              "      <th>0</th>\n",
              "      <td>CHEMBL133897</td>\n",
              "      <td>CCOc1nn(-c2cccc(OCc3ccccc3)c2)c(=O)o1</td>\n",
              "      <td>750.0</td>\n",
              "      <td>active</td>\n",
              "    </tr>\n",
              "    <tr>\n",
              "      <th>1</th>\n",
              "      <td>CHEMBL336398</td>\n",
              "      <td>O=C(N1CCCCC1)n1nc(-c2ccc(Cl)cc2)nc1SCC1CC1</td>\n",
              "      <td>100.0</td>\n",
              "      <td>active</td>\n",
              "    </tr>\n",
              "    <tr>\n",
              "      <th>2</th>\n",
              "      <td>CHEMBL131588</td>\n",
              "      <td>CN(C(=O)n1nc(-c2ccc(Cl)cc2)nc1SCC(F)(F)F)c1ccccc1</td>\n",
              "      <td>50000.0</td>\n",
              "      <td>inactive</td>\n",
              "    </tr>\n",
              "    <tr>\n",
              "      <th>3</th>\n",
              "      <td>CHEMBL130628</td>\n",
              "      <td>O=C(N1CCCCC1)n1nc(-c2ccc(Cl)cc2)nc1SCC(F)(F)F</td>\n",
              "      <td>300.0</td>\n",
              "      <td>active</td>\n",
              "    </tr>\n",
              "    <tr>\n",
              "      <th>4</th>\n",
              "      <td>CHEMBL130478</td>\n",
              "      <td>CSc1nc(-c2ccc(OC(F)(F)F)cc2)nn1C(=O)N(C)C</td>\n",
              "      <td>800.0</td>\n",
              "      <td>active</td>\n",
              "    </tr>\n",
              "    <tr>\n",
              "      <th>...</th>\n",
              "      <td>...</td>\n",
              "      <td>...</td>\n",
              "      <td>...</td>\n",
              "      <td>...</td>\n",
              "    </tr>\n",
              "    <tr>\n",
              "      <th>8125</th>\n",
              "      <td>CHEMBL5398421</td>\n",
              "      <td>COc1cc(O)c2c(c1)C(=O)c1cc(O)c(O)cc1CCN2</td>\n",
              "      <td>46000.0</td>\n",
              "      <td>inactive</td>\n",
              "    </tr>\n",
              "    <tr>\n",
              "      <th>8126</th>\n",
              "      <td>CHEMBL11298</td>\n",
              "      <td>N[C@@H](CO)C(=O)O</td>\n",
              "      <td>38310.0</td>\n",
              "      <td>inactive</td>\n",
              "    </tr>\n",
              "    <tr>\n",
              "      <th>8127</th>\n",
              "      <td>CHEMBL5395312</td>\n",
              "      <td>CN1CCN(c2ccc(C(=O)Nc3cc(-c4nc5ccccc5[nH]4)n[nH...</td>\n",
              "      <td>1710.0</td>\n",
              "      <td>intermediate</td>\n",
              "    </tr>\n",
              "    <tr>\n",
              "      <th>8128</th>\n",
              "      <td>CHEMBL5399112</td>\n",
              "      <td>O=C(Nc1cc(-c2nc3ccccc3[nH]2)n[nH]1)c1ccc(N2CCN...</td>\n",
              "      <td>10000.0</td>\n",
              "      <td>inactive</td>\n",
              "    </tr>\n",
              "    <tr>\n",
              "      <th>8129</th>\n",
              "      <td>CHEMBL5402411</td>\n",
              "      <td>O=C(Nc1cc(-c2nc3ccccc3[nH]2)[nH]n1)c1ccc(N2CCO...</td>\n",
              "      <td>10000.0</td>\n",
              "      <td>inactive</td>\n",
              "    </tr>\n",
              "  </tbody>\n",
              "</table>\n",
              "<p>8130 rows × 4 columns</p>\n",
              "</div>"
            ],
            "text/plain": [
              "     molecule_chembl_id                                   canonical_smiles  \\\n",
              "0          CHEMBL133897              CCOc1nn(-c2cccc(OCc3ccccc3)c2)c(=O)o1   \n",
              "1          CHEMBL336398         O=C(N1CCCCC1)n1nc(-c2ccc(Cl)cc2)nc1SCC1CC1   \n",
              "2          CHEMBL131588  CN(C(=O)n1nc(-c2ccc(Cl)cc2)nc1SCC(F)(F)F)c1ccccc1   \n",
              "3          CHEMBL130628      O=C(N1CCCCC1)n1nc(-c2ccc(Cl)cc2)nc1SCC(F)(F)F   \n",
              "4          CHEMBL130478          CSc1nc(-c2ccc(OC(F)(F)F)cc2)nn1C(=O)N(C)C   \n",
              "...                 ...                                                ...   \n",
              "8125      CHEMBL5398421            COc1cc(O)c2c(c1)C(=O)c1cc(O)c(O)cc1CCN2   \n",
              "8126        CHEMBL11298                                  N[C@@H](CO)C(=O)O   \n",
              "8127      CHEMBL5395312  CN1CCN(c2ccc(C(=O)Nc3cc(-c4nc5ccccc5[nH]4)n[nH...   \n",
              "8128      CHEMBL5399112  O=C(Nc1cc(-c2nc3ccccc3[nH]2)n[nH]1)c1ccc(N2CCN...   \n",
              "8129      CHEMBL5402411  O=C(Nc1cc(-c2nc3ccccc3[nH]2)[nH]n1)c1ccc(N2CCO...   \n",
              "\n",
              "      standard_value bioactivity_class  \n",
              "0              750.0            active  \n",
              "1              100.0            active  \n",
              "2            50000.0          inactive  \n",
              "3              300.0            active  \n",
              "4              800.0            active  \n",
              "...              ...               ...  \n",
              "8125         46000.0          inactive  \n",
              "8126         38310.0          inactive  \n",
              "8127          1710.0      intermediate  \n",
              "8128         10000.0          inactive  \n",
              "8129         10000.0          inactive  \n",
              "\n",
              "[8130 rows x 4 columns]"
            ]
          },
          "execution_count": 54,
          "metadata": {},
          "output_type": "execute_result"
        }
      ],
      "source": [
        "df_preprocessed = pd.read_csv('./data/bioactivity_preprocessed_data.csv')\n",
        "df_preprocessed"
      ]
    },
    {
      "cell_type": "markdown",
      "metadata": {},
      "source": [
        "Clean the smiles data by removing salts/ions that are attached to the molecule, separated from the molecule by '.'. Of the multiple resulting compounds after splitting, we will assume the lrgest compund is the molecule of interest."
      ]
    },
    {
      "cell_type": "code",
      "execution_count": 55,
      "metadata": {},
      "outputs": [
        {
          "name": "stdout",
          "output_type": "stream",
          "text": [
            "nan 1850\n",
            "nan 1966\n"
          ]
        },
        {
          "data": {
            "application/vnd.microsoft.datawrangler.viewer.v0+json": {
              "columns": [
                {
                  "name": "index",
                  "rawType": "int64",
                  "type": "integer"
                },
                {
                  "name": "molecule_chembl_id",
                  "rawType": "object",
                  "type": "string"
                },
                {
                  "name": "standard_value",
                  "rawType": "float64",
                  "type": "float"
                },
                {
                  "name": "bioactivity_class",
                  "rawType": "object",
                  "type": "string"
                },
                {
                  "name": "canonical_smiles",
                  "rawType": "object",
                  "type": "string"
                }
              ],
              "ref": "1181d83e-8e6c-450e-89bf-cd1f9eadcd13",
              "rows": [
                [
                  "0",
                  "CHEMBL133897",
                  "750.0",
                  "active",
                  "CCOc1nn(-c2cccc(OCc3ccccc3)c2)c(=O)o1"
                ],
                [
                  "1",
                  "CHEMBL336398",
                  "100.0",
                  "active",
                  "O=C(N1CCCCC1)n1nc(-c2ccc(Cl)cc2)nc1SCC1CC1"
                ],
                [
                  "2",
                  "CHEMBL131588",
                  "50000.0",
                  "inactive",
                  "CN(C(=O)n1nc(-c2ccc(Cl)cc2)nc1SCC(F)(F)F)c1ccccc1"
                ],
                [
                  "3",
                  "CHEMBL130628",
                  "300.0",
                  "active",
                  "O=C(N1CCCCC1)n1nc(-c2ccc(Cl)cc2)nc1SCC(F)(F)F"
                ],
                [
                  "4",
                  "CHEMBL130478",
                  "800.0",
                  "active",
                  "CSc1nc(-c2ccc(OC(F)(F)F)cc2)nn1C(=O)N(C)C"
                ],
                [
                  "5",
                  "CHEMBL130112",
                  "2400.0",
                  "intermediate",
                  "CSc1nc(-c2ccc(C)cc2)nn1C(=O)N(C)c1ccccc1"
                ],
                [
                  "6",
                  "CHEMBL130098",
                  "100.0",
                  "active",
                  "CSc1nc(-c2ccc(Cl)cc2)nn1C(=O)N(C)C"
                ],
                [
                  "7",
                  "CHEMBL337486",
                  "50000.0",
                  "inactive",
                  "CCCCCCSc1nc(-c2ccc(Cl)cc2)nn1C(=O)N1CCOCC1"
                ],
                [
                  "8",
                  "CHEMBL336538",
                  "800.0",
                  "active",
                  "COc1ccc(-c2nc(SC)n(C(=O)N(C)C)n2)cc1"
                ],
                [
                  "9",
                  "CHEMBL131051",
                  "50000.0",
                  "inactive",
                  "CSc1nc(-c2ccc(OC(F)(F)F)cc2)nn1C(=O)N(C)c1ccccc1"
                ],
                [
                  "10",
                  "CHEMBL341437",
                  "50000.0",
                  "inactive",
                  "CCSc1nc(-c2ccc(OC)cc2)nn1C(=O)N1CCOCC1"
                ],
                [
                  "11",
                  "CHEMBL335033",
                  "50.0",
                  "active",
                  "CSc1nc(-c2ccc3ccccc3c2)nn1C(=O)N(C)C"
                ],
                [
                  "12",
                  "CHEMBL122983",
                  "100000.0",
                  "inactive",
                  "C[C@H]1C(=O)N(C(=O)NCc2ccccc2)[C@@H]1Oc1ccc(C(=O)C(C)(C)C)cc1"
                ],
                [
                  "13",
                  "CHEMBL338720",
                  "560.0",
                  "active",
                  "CSc1nc(-c2ccc(-c3ccccc3)cc2)nn1C(=O)N(C)C"
                ],
                [
                  "14",
                  "CHEMBL339995",
                  "10.0",
                  "active",
                  "CSc1nc(/C=C/c2ccccc2)nn1C(=O)N(C)C"
                ],
                [
                  "15",
                  "CHEMBL335158",
                  "10.0",
                  "active",
                  "CCCCCCSc1nc(-c2ccc(Cl)cc2)nn1C(=O)N1CCCCC1"
                ],
                [
                  "16",
                  "CHEMBL131536",
                  "1400.0",
                  "intermediate",
                  "CSc1nc(-c2ccc(Cl)cc2)nn1C(=O)N(C)c1ccccc1"
                ],
                [
                  "17",
                  "CHEMBL106126",
                  "17000.0",
                  "inactive",
                  "Cc1c(C(C)C)c(=O)on1C(=O)N1CCC[C@H](C)C1"
                ],
                [
                  "18",
                  "CHEMBL334971",
                  "1100.0",
                  "intermediate",
                  "CCSc1nc(-c2ccc(OC)cc2)nn1C(=O)N(C)c1ccccc1"
                ],
                [
                  "19",
                  "CHEMBL336625",
                  "50000.0",
                  "inactive",
                  "CCCCCCSc1nc(-c2ccc(C)cc2)nn1C(=O)N(C)c1ccccc1"
                ],
                [
                  "20",
                  "CHEMBL130666",
                  "26.0",
                  "active",
                  "CSc1nc(-c2ccc(Cl)cc2)nn1C(=O)N1CCCCC1"
                ],
                [
                  "21",
                  "CHEMBL134061",
                  "50000.0",
                  "inactive",
                  "O=C(N1CCOCC1)n1nc(-c2ccc(Cl)cc2)nc1SCC(F)(F)F"
                ],
                [
                  "22",
                  "CHEMBL133388",
                  "800.0",
                  "active",
                  "CSc1nc(-c2ccc(C)cc2)nn1C(=O)N(C)C"
                ],
                [
                  "23",
                  "CHEMBL130645",
                  "50000.0",
                  "inactive",
                  "CSc1nc(-c2ccc(Cl)cc2)nn1C(=O)N1CCOCC1"
                ],
                [
                  "24",
                  "CHEMBL133580",
                  "50000.0",
                  "inactive",
                  "CCCCCCSc1nc(-c2ccc(Cl)cc2)nn1C(=O)N(C)c1ccccc1"
                ],
                [
                  "25",
                  "CHEMBL336524",
                  "56.0",
                  "active",
                  "CCSc1nc(-c2ccc(Cl)cc2)nn1C(=O)N(C)C"
                ],
                [
                  "26",
                  "CHEMBL336276",
                  "200.0",
                  "active",
                  "CCCCCCSc1nc(-c2ccc(C)cc2)nn1C(=O)N(C)C"
                ],
                [
                  "27",
                  "CHEMBL334395",
                  "300.0",
                  "active",
                  "CCCSc1nc(-c2ccc(Cl)cc2)nn1C(=O)N(C)C"
                ],
                [
                  "28",
                  "CHEMBL131320",
                  "200.0",
                  "active",
                  "Cc1ccc(-c2nc(SCC(F)(F)F)n(C(=O)N(C)C)n2)cc1"
                ],
                [
                  "29",
                  "CHEMBL339297",
                  "50000.0",
                  "inactive",
                  "COc1nn(-c2ccc(NC(=O)c3ccc(C(C)(C)C)cc3)cc2)c(=O)o1"
                ],
                [
                  "30",
                  "CHEMBL337714",
                  "500.0",
                  "active",
                  "CSc1nc(-c2ccc(C(F)(F)F)cc2)nn1C(=O)N(C)C"
                ],
                [
                  "31",
                  "CHEMBL122575",
                  "100000.0",
                  "inactive",
                  "C[C@H]1C(=O)N(C(=O)NCc2ccccc2)[C@@H]1Oc1ccc(C(=O)O)cc1"
                ],
                [
                  "32",
                  "CHEMBL130704",
                  "50000.0",
                  "inactive",
                  "CSc1nc(-c2ccc(C)cc2)nn1C(=O)N1CCOCC1"
                ],
                [
                  "33",
                  "CHEMBL46151",
                  "260000.0",
                  "inactive",
                  "CCN(CC)CCS/C(=N\\O)C(=O)c1ccc(OC)cc1"
                ],
                [
                  "34",
                  "CHEMBL54126",
                  "22.0",
                  "active",
                  "CN(C)C(=O)Oc1cccc([N+](C)(C)C)c1"
                ],
                [
                  "35",
                  "CHEMBL297316",
                  "1000000.0",
                  "inactive",
                  "C[N+](C)(C)CCS/C(=N\\O)C(=O)c1ccc(F)cc1"
                ],
                [
                  "36",
                  "CHEMBL65667",
                  "3800.0",
                  "intermediate",
                  "CN1CC[C@@]2(C)c3cc(OC(=O)NCCCN4CCOCC4)ccc3N(C)[C@@H]12"
                ],
                [
                  "37",
                  "CHEMBL431519",
                  "40.0",
                  "active",
                  "CN1CC[C@@]2(C)c3cc(OC(=O)NCCCCCCCCCCN4CCOCC4)ccc3N(C)[C@@H]12"
                ],
                [
                  "38",
                  "CHEMBL296429",
                  "1000000.0",
                  "inactive",
                  "Cc1ccc(C(=O)/C(=N/O)SCC[N+](C)(C)C)cc1"
                ],
                [
                  "39",
                  "CHEMBL154972",
                  "73.0",
                  "active",
                  "N#CC(C#N)=C1Nc2ccccc2N1CCNCc1ccc(CN2CCCCC2)o1"
                ],
                [
                  "40",
                  "CHEMBL152722",
                  "3100.0",
                  "intermediate",
                  "COc1cc(N)c(Cl)cc1C(=O)NCCNCc1ccc(CN(C)C)o1"
                ],
                [
                  "41",
                  "CHEMBL544022",
                  "520000.0",
                  "inactive",
                  "CCN(CC)CCS/C(=N\\O)C(=O)c1ccc(Cl)cc1"
                ],
                [
                  "42",
                  "CHEMBL349127",
                  "4500.0",
                  "intermediate",
                  "CN1CCN(Cc2ccc(CNCCN3CCNC3=C(C#N)C#N)o2)CC1"
                ],
                [
                  "43",
                  "CHEMBL156659",
                  "1200.0",
                  "intermediate",
                  "Oc1nc2ccccc2n1CCNCc1ccc(CN2CCCCC2)o1"
                ],
                [
                  "44",
                  "CHEMBL45118",
                  "1000000.0",
                  "inactive",
                  "CC[N+](C)(CC)CCS/C(=N\\O)C(=O)c1ccc(OC)cc1"
                ],
                [
                  "45",
                  "CHEMBL542609",
                  "1000000.0",
                  "inactive",
                  "Cc1ccc(C(=O)/C(=N/O)SCCN(C)C)cc1"
                ],
                [
                  "46",
                  "CHEMBL155322",
                  "540.0",
                  "active",
                  "CC1CCCCN1Cc1ccc(CNCCN2CCNC2=C(C#N)C#N)o1"
                ],
                [
                  "47",
                  "CHEMBL154211",
                  "30.0",
                  "active",
                  "N#CC(C#N)=C1NCCN1CCNCc1ccc(CN2CCCCC2)o1"
                ],
                [
                  "48",
                  "CHEMBL1203537",
                  "830.0",
                  "active",
                  "CNC(NCCNCc1ccc(CN2CCCCC2)o1)=C(C#N)C#N"
                ],
                [
                  "49",
                  "CHEMBL86",
                  "20000.0",
                  "inactive",
                  "CCN(CC)CCNC(=O)c1cc(Cl)c(N)cc1OC"
                ]
              ],
              "shape": {
                "columns": 4,
                "rows": 8128
              }
            },
            "text/html": [
              "<div>\n",
              "<style scoped>\n",
              "    .dataframe tbody tr th:only-of-type {\n",
              "        vertical-align: middle;\n",
              "    }\n",
              "\n",
              "    .dataframe tbody tr th {\n",
              "        vertical-align: top;\n",
              "    }\n",
              "\n",
              "    .dataframe thead th {\n",
              "        text-align: right;\n",
              "    }\n",
              "</style>\n",
              "<table border=\"1\" class=\"dataframe\">\n",
              "  <thead>\n",
              "    <tr style=\"text-align: right;\">\n",
              "      <th></th>\n",
              "      <th>molecule_chembl_id</th>\n",
              "      <th>standard_value</th>\n",
              "      <th>bioactivity_class</th>\n",
              "      <th>canonical_smiles</th>\n",
              "    </tr>\n",
              "  </thead>\n",
              "  <tbody>\n",
              "    <tr>\n",
              "      <th>0</th>\n",
              "      <td>CHEMBL133897</td>\n",
              "      <td>750.0</td>\n",
              "      <td>active</td>\n",
              "      <td>CCOc1nn(-c2cccc(OCc3ccccc3)c2)c(=O)o1</td>\n",
              "    </tr>\n",
              "    <tr>\n",
              "      <th>1</th>\n",
              "      <td>CHEMBL336398</td>\n",
              "      <td>100.0</td>\n",
              "      <td>active</td>\n",
              "      <td>O=C(N1CCCCC1)n1nc(-c2ccc(Cl)cc2)nc1SCC1CC1</td>\n",
              "    </tr>\n",
              "    <tr>\n",
              "      <th>2</th>\n",
              "      <td>CHEMBL131588</td>\n",
              "      <td>50000.0</td>\n",
              "      <td>inactive</td>\n",
              "      <td>CN(C(=O)n1nc(-c2ccc(Cl)cc2)nc1SCC(F)(F)F)c1ccccc1</td>\n",
              "    </tr>\n",
              "    <tr>\n",
              "      <th>3</th>\n",
              "      <td>CHEMBL130628</td>\n",
              "      <td>300.0</td>\n",
              "      <td>active</td>\n",
              "      <td>O=C(N1CCCCC1)n1nc(-c2ccc(Cl)cc2)nc1SCC(F)(F)F</td>\n",
              "    </tr>\n",
              "    <tr>\n",
              "      <th>4</th>\n",
              "      <td>CHEMBL130478</td>\n",
              "      <td>800.0</td>\n",
              "      <td>active</td>\n",
              "      <td>CSc1nc(-c2ccc(OC(F)(F)F)cc2)nn1C(=O)N(C)C</td>\n",
              "    </tr>\n",
              "    <tr>\n",
              "      <th>...</th>\n",
              "      <td>...</td>\n",
              "      <td>...</td>\n",
              "      <td>...</td>\n",
              "      <td>...</td>\n",
              "    </tr>\n",
              "    <tr>\n",
              "      <th>8123</th>\n",
              "      <td>CHEMBL5398421</td>\n",
              "      <td>46000.0</td>\n",
              "      <td>inactive</td>\n",
              "      <td>COc1cc(O)c2c(c1)C(=O)c1cc(O)c(O)cc1CCN2</td>\n",
              "    </tr>\n",
              "    <tr>\n",
              "      <th>8124</th>\n",
              "      <td>CHEMBL11298</td>\n",
              "      <td>38310.0</td>\n",
              "      <td>inactive</td>\n",
              "      <td>N[C@@H](CO)C(=O)O</td>\n",
              "    </tr>\n",
              "    <tr>\n",
              "      <th>8125</th>\n",
              "      <td>CHEMBL5395312</td>\n",
              "      <td>1710.0</td>\n",
              "      <td>intermediate</td>\n",
              "      <td>CN1CCN(c2ccc(C(=O)Nc3cc(-c4nc5ccccc5[nH]4)n[nH...</td>\n",
              "    </tr>\n",
              "    <tr>\n",
              "      <th>8126</th>\n",
              "      <td>CHEMBL5399112</td>\n",
              "      <td>10000.0</td>\n",
              "      <td>inactive</td>\n",
              "      <td>O=C(Nc1cc(-c2nc3ccccc3[nH]2)n[nH]1)c1ccc(N2CCN...</td>\n",
              "    </tr>\n",
              "    <tr>\n",
              "      <th>8127</th>\n",
              "      <td>CHEMBL5402411</td>\n",
              "      <td>10000.0</td>\n",
              "      <td>inactive</td>\n",
              "      <td>O=C(Nc1cc(-c2nc3ccccc3[nH]2)[nH]n1)c1ccc(N2CCO...</td>\n",
              "    </tr>\n",
              "  </tbody>\n",
              "</table>\n",
              "<p>8128 rows × 4 columns</p>\n",
              "</div>"
            ],
            "text/plain": [
              "     molecule_chembl_id  standard_value bioactivity_class  \\\n",
              "0          CHEMBL133897           750.0            active   \n",
              "1          CHEMBL336398           100.0            active   \n",
              "2          CHEMBL131588         50000.0          inactive   \n",
              "3          CHEMBL130628           300.0            active   \n",
              "4          CHEMBL130478           800.0            active   \n",
              "...                 ...             ...               ...   \n",
              "8123      CHEMBL5398421         46000.0          inactive   \n",
              "8124        CHEMBL11298         38310.0          inactive   \n",
              "8125      CHEMBL5395312          1710.0      intermediate   \n",
              "8126      CHEMBL5399112         10000.0          inactive   \n",
              "8127      CHEMBL5402411         10000.0          inactive   \n",
              "\n",
              "                                       canonical_smiles  \n",
              "0                 CCOc1nn(-c2cccc(OCc3ccccc3)c2)c(=O)o1  \n",
              "1            O=C(N1CCCCC1)n1nc(-c2ccc(Cl)cc2)nc1SCC1CC1  \n",
              "2     CN(C(=O)n1nc(-c2ccc(Cl)cc2)nc1SCC(F)(F)F)c1ccccc1  \n",
              "3         O=C(N1CCCCC1)n1nc(-c2ccc(Cl)cc2)nc1SCC(F)(F)F  \n",
              "4             CSc1nc(-c2ccc(OC(F)(F)F)cc2)nn1C(=O)N(C)C  \n",
              "...                                                 ...  \n",
              "8123            COc1cc(O)c2c(c1)C(=O)c1cc(O)c(O)cc1CCN2  \n",
              "8124                                  N[C@@H](CO)C(=O)O  \n",
              "8125  CN1CCN(c2ccc(C(=O)Nc3cc(-c4nc5ccccc5[nH]4)n[nH...  \n",
              "8126  O=C(Nc1cc(-c2nc3ccccc3[nH]2)n[nH]1)c1ccc(N2CCN...  \n",
              "8127  O=C(Nc1cc(-c2nc3ccccc3[nH]2)[nH]n1)c1ccc(N2CCO...  \n",
              "\n",
              "[8128 rows x 4 columns]"
            ]
          },
          "execution_count": 55,
          "metadata": {},
          "output_type": "execute_result"
        }
      ],
      "source": [
        "# remove NaNs in canonical_smiles\n",
        "s = 0\n",
        "df_smile_preprocessed = df_preprocessed\n",
        "for i in df_preprocessed.canonical_smiles:\n",
        "    if type(i) == float:\n",
        "        print(i, s)\n",
        "        df_smile_preprocessed = df_smile_preprocessed.drop(s, axis=0)\n",
        "    s+=1\n",
        "df_smile_preprocessed = df_smile_preprocessed.reset_index(drop=True) #drop T == dnot save original index # in a new col\n",
        "df_smile_preprocessed\n",
        "\n",
        "\n",
        "clean_smiles = []\n",
        "for i in df_smile_preprocessed.canonical_smiles.tolist():\n",
        "    compounds = str(i).split('.')\n",
        "    longest_compound= max(compounds, key=len) # max length element after splitting compounds \n",
        "    clean_smiles.append(longest_compound)\n",
        "clean_smiles = pd.Series(clean_smiles, name = 'canonical_smiles') # series = 1D array w label\n",
        "df_clean_smiles = pd.concat([df_smile_preprocessed.drop(columns='canonical_smiles'), clean_smiles], axis=1)\n",
        "df_clean_smiles"
      ]
    },
    {
      "cell_type": "markdown",
      "metadata": {
        "colab_type": "text",
        "id": "YzN_S4Quro5S"
      },
      "source": [
        "## **Calculate Lipinski descriptors**\n",
        "Christopher Lipinski, a scientist at Pfizer, came up with a set of rule-of-thumb for evaluating the **druglikeness** of compounds. Such druglikeness is based on the Absorption, Distribution, Metabolism and Excretion (ADME) that is also known as the pharmacokinetic profile. Lipinski analyzed all orally active FDA-approved drugs in the formulation of what is to be known as the **Rule-of-Five** (all values are multiples of five) or **Lipinski's Rule**.\n",
        "\n",
        "The Lipinski's Rule stated the following:\n",
        "* Molecular weight < 500 Dalton\n",
        "* Octanol-water partition coefficient (LogP) < 5\n",
        "* Hydrogen bond donors < 5\n",
        "* Hydrogen bond acceptors < 10 "
      ]
    },
    {
      "cell_type": "markdown",
      "metadata": {
        "colab_type": "text",
        "id": "9qn_eQcnxY7C"
      },
      "source": [
        "### **Import libraries**"
      ]
    },
    {
      "cell_type": "code",
      "execution_count": 56,
      "metadata": {
        "colab": {},
        "colab_type": "code",
        "id": "CgBjIdT-rnRU"
      },
      "outputs": [],
      "source": [
        "import numpy as np\n",
        "from rdkit import Chem\n",
        "from rdkit.Chem import Descriptors, Lipinski"
      ]
    },
    {
      "cell_type": "markdown",
      "metadata": {
        "colab_type": "text",
        "id": "JsgTV-ByxdMa"
      },
      "source": [
        "### **Calculate descriptors**\n",
        "Input 'SMILES' notation of chemical information --> tells us exact atomic details of the molecule, from which we compute molecular descriptors\n",
        "\n",
        "SMILES: Simplified Molecular Input Line Entry System; ASCII strings for line notation of chemical's structure"
      ]
    },
    {
      "cell_type": "code",
      "execution_count": 57,
      "metadata": {
        "colab": {},
        "colab_type": "code",
        "id": "bCXEY7a9ugO_"
      },
      "outputs": [],
      "source": [
        "# Inspired by: https://codeocean.com/explore/capsules?query=tag:data-curation\n",
        "\n",
        "def lipinski(smiles, verbose=False):\n",
        "\n",
        "    moldata= []\n",
        "    for elem in smiles:\n",
        "        mol=Chem.MolFromSmiles(elem) # returns RDKit molecule object based on SMILES string\n",
        "        moldata.append(mol)\n",
        "       \n",
        "    baseData= np.arange(1,1) # create empty numpy array (based on range (1,1) = [])\n",
        "    i=0  \n",
        "    for mol in moldata:        \n",
        "       \n",
        "        desc_MolWt = Descriptors.MolWt(mol)\n",
        "        desc_MolLogP = Descriptors.MolLogP(mol)\n",
        "        desc_NumHDonors = Lipinski.NumHDonors(mol)\n",
        "        desc_NumHAcceptors = Lipinski.NumHAcceptors(mol)\n",
        "           \n",
        "        # store molecule's descriptors together as 1D array\n",
        "        row = np.array([desc_MolWt,\n",
        "                        desc_MolLogP,\n",
        "                        desc_NumHDonors,\n",
        "                        desc_NumHAcceptors])   \n",
        "    \n",
        "        if(i==0):\n",
        "            baseData=row\n",
        "        else:\n",
        "            baseData=np.vstack([baseData, row]) # vertical stacking of new array element (row) to priors (baseData) --> 2D array object \n",
        "        i=i+1      \n",
        "    \n",
        "    #save lipinski rule array into a df \n",
        "    columnNames=[\"MW\",\"LogP\",\"NumHDonors\",\"NumHAcceptors\"]   \n",
        "    descriptors = pd.DataFrame(data=baseData,columns=columnNames)\n",
        "    \n",
        "    return descriptors"
      ]
    },
    {
      "cell_type": "code",
      "execution_count": 58,
      "metadata": {
        "colab": {},
        "colab_type": "code",
        "id": "ThFIFw8IukMY"
      },
      "outputs": [],
      "source": [
        "\n",
        "df_lipinski = lipinski(df_clean_smiles.canonical_smiles)"
      ]
    },
    {
      "cell_type": "markdown",
      "metadata": {
        "colab_type": "text",
        "id": "gUMlPfFrxicj"
      },
      "source": [
        "### **Combine DataFrames**\n",
        "\n",
        "Let's take a look at the 2 DataFrames that will be combined."
      ]
    },
    {
      "cell_type": "code",
      "execution_count": 59,
      "metadata": {
        "colab": {
          "base_uri": "https://localhost:8080/",
          "height": 415
        },
        "colab_type": "code",
        "id": "DaezyM5vwp9n",
        "outputId": "fb750119-b086-4d9d-e9f7-190833e4dc74"
      },
      "outputs": [
        {
          "data": {
            "application/vnd.microsoft.datawrangler.viewer.v0+json": {
              "columns": [
                {
                  "name": "index",
                  "rawType": "int64",
                  "type": "integer"
                },
                {
                  "name": "MW",
                  "rawType": "float64",
                  "type": "float"
                },
                {
                  "name": "LogP",
                  "rawType": "float64",
                  "type": "float"
                },
                {
                  "name": "NumHDonors",
                  "rawType": "float64",
                  "type": "float"
                },
                {
                  "name": "NumHAcceptors",
                  "rawType": "float64",
                  "type": "float"
                }
              ],
              "ref": "bfa056b4-9595-4de7-b0e4-a533b3f1d39f",
              "rows": [
                [
                  "0",
                  "312.32500000000005",
                  "2.8032000000000004",
                  "0.0",
                  "6.0"
                ],
                [
                  "1",
                  "376.9130000000002",
                  "4.554600000000004",
                  "0.0",
                  "5.0"
                ],
                [
                  "2",
                  "426.8510000000001",
                  "5.357400000000003",
                  "0.0",
                  "5.0"
                ],
                [
                  "3",
                  "404.8450000000001",
                  "4.706900000000003",
                  "0.0",
                  "5.0"
                ],
                [
                  "4",
                  "346.33400000000006",
                  "3.095300000000001",
                  "0.0",
                  "6.0"
                ],
                [
                  "5",
                  "338.43600000000004",
                  "4.079920000000002",
                  "0.0",
                  "5.0"
                ],
                [
                  "6",
                  "296.783",
                  "2.850100000000001",
                  "0.0",
                  "5.0"
                ],
                [
                  "7",
                  "408.95500000000027",
                  "4.571200000000005",
                  "0.0",
                  "6.0"
                ],
                [
                  "8",
                  "292.364",
                  "2.2053000000000003",
                  "0.0",
                  "6.0"
                ],
                [
                  "9",
                  "408.4050000000001",
                  "4.670100000000003",
                  "0.0",
                  "6.0"
                ],
                [
                  "10",
                  "348.4280000000002",
                  "2.3659999999999997",
                  "0.0",
                  "7.0"
                ],
                [
                  "11",
                  "312.3980000000001",
                  "3.3499000000000017",
                  "0.0",
                  "5.0"
                ],
                [
                  "12",
                  "394.4710000000002",
                  "4.0084000000000035",
                  "1.0",
                  "4.0"
                ],
                [
                  "13",
                  "338.4360000000001",
                  "3.8637000000000032",
                  "0.0",
                  "5.0"
                ],
                [
                  "14",
                  "288.37600000000003",
                  "2.700100000000001",
                  "0.0",
                  "5.0"
                ],
                [
                  "15",
                  "406.9830000000003",
                  "5.724900000000006",
                  "0.0",
                  "5.0"
                ],
                [
                  "16",
                  "358.85400000000004",
                  "4.424900000000004",
                  "0.0",
                  "5.0"
                ],
                [
                  "17",
                  "266.34099999999995",
                  "2.5731200000000003",
                  "0.0",
                  "4.0"
                ],
                [
                  "18",
                  "368.4620000000001",
                  "4.170200000000003",
                  "0.0",
                  "6.0"
                ],
                [
                  "19",
                  "408.57100000000014",
                  "6.0304200000000066",
                  "0.0",
                  "5.0"
                ],
                [
                  "20",
                  "336.8480000000002",
                  "3.7744000000000026",
                  "0.0",
                  "5.0"
                ],
                [
                  "21",
                  "406.81700000000006",
                  "3.553200000000002",
                  "0.0",
                  "6.0"
                ],
                [
                  "22",
                  "276.365",
                  "2.5051200000000007",
                  "0.0",
                  "5.0"
                ],
                [
                  "23",
                  "338.82000000000016",
                  "2.620700000000001",
                  "0.0",
                  "6.0"
                ],
                [
                  "24",
                  "428.98900000000015",
                  "6.375400000000006",
                  "0.0",
                  "5.0"
                ],
                [
                  "25",
                  "310.81000000000006",
                  "3.2402000000000015",
                  "0.0",
                  "5.0"
                ],
                [
                  "26",
                  "346.5000000000001",
                  "4.455620000000004",
                  "0.0",
                  "5.0"
                ],
                [
                  "27",
                  "324.8370000000001",
                  "3.6303000000000027",
                  "0.0",
                  "5.0"
                ],
                [
                  "28",
                  "344.362",
                  "3.4376200000000017",
                  "0.0",
                  "5.0"
                ],
                [
                  "29",
                  "367.4050000000001",
                  "3.3839000000000015",
                  "1.0",
                  "6.0"
                ],
                [
                  "30",
                  "330.33500000000004",
                  "3.2155000000000022",
                  "0.0",
                  "5.0"
                ],
                [
                  "31",
                  "354.3620000000001",
                  "2.4778000000000002",
                  "2.0",
                  "4.0"
                ],
                [
                  "32",
                  "318.40200000000016",
                  "2.2757199999999997",
                  "0.0",
                  "6.0"
                ],
                [
                  "33",
                  "310.41900000000004",
                  "2.7406000000000015",
                  "1.0",
                  "6.0"
                ],
                [
                  "34",
                  "223.29599999999996",
                  "1.9437",
                  "0.0",
                  "2.0"
                ],
                [
                  "35",
                  "285.36400000000003",
                  "2.2355",
                  "1.0",
                  "4.0"
                ],
                [
                  "36",
                  "388.51200000000017",
                  "1.8663999999999992",
                  "1.0",
                  "6.0"
                ],
                [
                  "37",
                  "486.7010000000004",
                  "4.597100000000005",
                  "1.0",
                  "6.0"
                ],
                [
                  "38",
                  "281.401",
                  "2.404820000000001",
                  "1.0",
                  "4.0"
                ],
                [
                  "39",
                  "402.5020000000003",
                  "3.5459600000000027",
                  "2.0",
                  "7.0"
                ],
                [
                  "40",
                  "380.8760000000002",
                  "2.1050000000000004",
                  "3.0",
                  "6.0"
                ],
                [
                  "41",
                  "314.838",
                  "3.3854000000000015",
                  "1.0",
                  "5.0"
                ],
                [
                  "42",
                  "369.4730000000001",
                  "0.2805600000000022",
                  "2.0",
                  "8.0"
                ],
                [
                  "43",
                  "354.4540000000002",
                  "3.1106000000000016",
                  "2.0",
                  "6.0"
                ],
                [
                  "44",
                  "325.45400000000006",
                  "2.885200000000001",
                  "1.0",
                  "5.0"
                ],
                [
                  "45",
                  "266.366",
                  "2.2602200000000003",
                  "1.0",
                  "5.0"
                ],
                [
                  "46",
                  "368.4850000000001",
                  "1.90756",
                  "2.0",
                  "7.0"
                ],
                [
                  "47",
                  "354.4580000000002",
                  "1.519059999999999",
                  "2.0",
                  "7.0"
                ],
                [
                  "48",
                  "342.4470000000001",
                  "1.4228600000000002",
                  "3.0",
                  "7.0"
                ],
                [
                  "49",
                  "299.8020000000001",
                  "2.0023999999999997",
                  "2.0",
                  "4.0"
                ]
              ],
              "shape": {
                "columns": 4,
                "rows": 8128
              }
            },
            "text/html": [
              "<div>\n",
              "<style scoped>\n",
              "    .dataframe tbody tr th:only-of-type {\n",
              "        vertical-align: middle;\n",
              "    }\n",
              "\n",
              "    .dataframe tbody tr th {\n",
              "        vertical-align: top;\n",
              "    }\n",
              "\n",
              "    .dataframe thead th {\n",
              "        text-align: right;\n",
              "    }\n",
              "</style>\n",
              "<table border=\"1\" class=\"dataframe\">\n",
              "  <thead>\n",
              "    <tr style=\"text-align: right;\">\n",
              "      <th></th>\n",
              "      <th>MW</th>\n",
              "      <th>LogP</th>\n",
              "      <th>NumHDonors</th>\n",
              "      <th>NumHAcceptors</th>\n",
              "    </tr>\n",
              "  </thead>\n",
              "  <tbody>\n",
              "    <tr>\n",
              "      <th>0</th>\n",
              "      <td>312.325</td>\n",
              "      <td>2.8032</td>\n",
              "      <td>0.0</td>\n",
              "      <td>6.0</td>\n",
              "    </tr>\n",
              "    <tr>\n",
              "      <th>1</th>\n",
              "      <td>376.913</td>\n",
              "      <td>4.5546</td>\n",
              "      <td>0.0</td>\n",
              "      <td>5.0</td>\n",
              "    </tr>\n",
              "    <tr>\n",
              "      <th>2</th>\n",
              "      <td>426.851</td>\n",
              "      <td>5.3574</td>\n",
              "      <td>0.0</td>\n",
              "      <td>5.0</td>\n",
              "    </tr>\n",
              "    <tr>\n",
              "      <th>3</th>\n",
              "      <td>404.845</td>\n",
              "      <td>4.7069</td>\n",
              "      <td>0.0</td>\n",
              "      <td>5.0</td>\n",
              "    </tr>\n",
              "    <tr>\n",
              "      <th>4</th>\n",
              "      <td>346.334</td>\n",
              "      <td>3.0953</td>\n",
              "      <td>0.0</td>\n",
              "      <td>6.0</td>\n",
              "    </tr>\n",
              "    <tr>\n",
              "      <th>...</th>\n",
              "      <td>...</td>\n",
              "      <td>...</td>\n",
              "      <td>...</td>\n",
              "      <td>...</td>\n",
              "    </tr>\n",
              "    <tr>\n",
              "      <th>8123</th>\n",
              "      <td>301.298</td>\n",
              "      <td>2.0110</td>\n",
              "      <td>4.0</td>\n",
              "      <td>6.0</td>\n",
              "    </tr>\n",
              "    <tr>\n",
              "      <th>8124</th>\n",
              "      <td>105.093</td>\n",
              "      <td>-1.6094</td>\n",
              "      <td>3.0</td>\n",
              "      <td>3.0</td>\n",
              "    </tr>\n",
              "    <tr>\n",
              "      <th>8125</th>\n",
              "      <td>401.474</td>\n",
              "      <td>2.9571</td>\n",
              "      <td>3.0</td>\n",
              "      <td>5.0</td>\n",
              "    </tr>\n",
              "    <tr>\n",
              "      <th>8126</th>\n",
              "      <td>387.447</td>\n",
              "      <td>2.6149</td>\n",
              "      <td>4.0</td>\n",
              "      <td>5.0</td>\n",
              "    </tr>\n",
              "    <tr>\n",
              "      <th>8127</th>\n",
              "      <td>388.431</td>\n",
              "      <td>3.0419</td>\n",
              "      <td>3.0</td>\n",
              "      <td>5.0</td>\n",
              "    </tr>\n",
              "  </tbody>\n",
              "</table>\n",
              "<p>8128 rows × 4 columns</p>\n",
              "</div>"
            ],
            "text/plain": [
              "           MW    LogP  NumHDonors  NumHAcceptors\n",
              "0     312.325  2.8032         0.0            6.0\n",
              "1     376.913  4.5546         0.0            5.0\n",
              "2     426.851  5.3574         0.0            5.0\n",
              "3     404.845  4.7069         0.0            5.0\n",
              "4     346.334  3.0953         0.0            6.0\n",
              "...       ...     ...         ...            ...\n",
              "8123  301.298  2.0110         4.0            6.0\n",
              "8124  105.093 -1.6094         3.0            3.0\n",
              "8125  401.474  2.9571         3.0            5.0\n",
              "8126  387.447  2.6149         4.0            5.0\n",
              "8127  388.431  3.0419         3.0            5.0\n",
              "\n",
              "[8128 rows x 4 columns]"
            ]
          },
          "execution_count": 59,
          "metadata": {},
          "output_type": "execute_result"
        }
      ],
      "source": [
        "df_lipinski"
      ]
    },
    {
      "cell_type": "code",
      "execution_count": 60,
      "metadata": {
        "colab": {
          "base_uri": "https://localhost:8080/",
          "height": 415
        },
        "colab_type": "code",
        "id": "9-ChzM8_wuq_",
        "outputId": "5f5be1ae-c757-44af-cace-5a4c083a81af"
      },
      "outputs": [
        {
          "data": {
            "application/vnd.microsoft.datawrangler.viewer.v0+json": {
              "columns": [
                {
                  "name": "index",
                  "rawType": "int64",
                  "type": "integer"
                },
                {
                  "name": "molecule_chembl_id",
                  "rawType": "object",
                  "type": "string"
                },
                {
                  "name": "standard_value",
                  "rawType": "float64",
                  "type": "float"
                },
                {
                  "name": "bioactivity_class",
                  "rawType": "object",
                  "type": "string"
                },
                {
                  "name": "canonical_smiles",
                  "rawType": "object",
                  "type": "string"
                }
              ],
              "ref": "b14f094a-f14f-4121-9800-96eac4621b8a",
              "rows": [
                [
                  "0",
                  "CHEMBL133897",
                  "750.0",
                  "active",
                  "CCOc1nn(-c2cccc(OCc3ccccc3)c2)c(=O)o1"
                ],
                [
                  "1",
                  "CHEMBL336398",
                  "100.0",
                  "active",
                  "O=C(N1CCCCC1)n1nc(-c2ccc(Cl)cc2)nc1SCC1CC1"
                ],
                [
                  "2",
                  "CHEMBL131588",
                  "50000.0",
                  "inactive",
                  "CN(C(=O)n1nc(-c2ccc(Cl)cc2)nc1SCC(F)(F)F)c1ccccc1"
                ],
                [
                  "3",
                  "CHEMBL130628",
                  "300.0",
                  "active",
                  "O=C(N1CCCCC1)n1nc(-c2ccc(Cl)cc2)nc1SCC(F)(F)F"
                ],
                [
                  "4",
                  "CHEMBL130478",
                  "800.0",
                  "active",
                  "CSc1nc(-c2ccc(OC(F)(F)F)cc2)nn1C(=O)N(C)C"
                ],
                [
                  "5",
                  "CHEMBL130112",
                  "2400.0",
                  "intermediate",
                  "CSc1nc(-c2ccc(C)cc2)nn1C(=O)N(C)c1ccccc1"
                ],
                [
                  "6",
                  "CHEMBL130098",
                  "100.0",
                  "active",
                  "CSc1nc(-c2ccc(Cl)cc2)nn1C(=O)N(C)C"
                ],
                [
                  "7",
                  "CHEMBL337486",
                  "50000.0",
                  "inactive",
                  "CCCCCCSc1nc(-c2ccc(Cl)cc2)nn1C(=O)N1CCOCC1"
                ],
                [
                  "8",
                  "CHEMBL336538",
                  "800.0",
                  "active",
                  "COc1ccc(-c2nc(SC)n(C(=O)N(C)C)n2)cc1"
                ],
                [
                  "9",
                  "CHEMBL131051",
                  "50000.0",
                  "inactive",
                  "CSc1nc(-c2ccc(OC(F)(F)F)cc2)nn1C(=O)N(C)c1ccccc1"
                ],
                [
                  "10",
                  "CHEMBL341437",
                  "50000.0",
                  "inactive",
                  "CCSc1nc(-c2ccc(OC)cc2)nn1C(=O)N1CCOCC1"
                ],
                [
                  "11",
                  "CHEMBL335033",
                  "50.0",
                  "active",
                  "CSc1nc(-c2ccc3ccccc3c2)nn1C(=O)N(C)C"
                ],
                [
                  "12",
                  "CHEMBL122983",
                  "100000.0",
                  "inactive",
                  "C[C@H]1C(=O)N(C(=O)NCc2ccccc2)[C@@H]1Oc1ccc(C(=O)C(C)(C)C)cc1"
                ],
                [
                  "13",
                  "CHEMBL338720",
                  "560.0",
                  "active",
                  "CSc1nc(-c2ccc(-c3ccccc3)cc2)nn1C(=O)N(C)C"
                ],
                [
                  "14",
                  "CHEMBL339995",
                  "10.0",
                  "active",
                  "CSc1nc(/C=C/c2ccccc2)nn1C(=O)N(C)C"
                ],
                [
                  "15",
                  "CHEMBL335158",
                  "10.0",
                  "active",
                  "CCCCCCSc1nc(-c2ccc(Cl)cc2)nn1C(=O)N1CCCCC1"
                ],
                [
                  "16",
                  "CHEMBL131536",
                  "1400.0",
                  "intermediate",
                  "CSc1nc(-c2ccc(Cl)cc2)nn1C(=O)N(C)c1ccccc1"
                ],
                [
                  "17",
                  "CHEMBL106126",
                  "17000.0",
                  "inactive",
                  "Cc1c(C(C)C)c(=O)on1C(=O)N1CCC[C@H](C)C1"
                ],
                [
                  "18",
                  "CHEMBL334971",
                  "1100.0",
                  "intermediate",
                  "CCSc1nc(-c2ccc(OC)cc2)nn1C(=O)N(C)c1ccccc1"
                ],
                [
                  "19",
                  "CHEMBL336625",
                  "50000.0",
                  "inactive",
                  "CCCCCCSc1nc(-c2ccc(C)cc2)nn1C(=O)N(C)c1ccccc1"
                ],
                [
                  "20",
                  "CHEMBL130666",
                  "26.0",
                  "active",
                  "CSc1nc(-c2ccc(Cl)cc2)nn1C(=O)N1CCCCC1"
                ],
                [
                  "21",
                  "CHEMBL134061",
                  "50000.0",
                  "inactive",
                  "O=C(N1CCOCC1)n1nc(-c2ccc(Cl)cc2)nc1SCC(F)(F)F"
                ],
                [
                  "22",
                  "CHEMBL133388",
                  "800.0",
                  "active",
                  "CSc1nc(-c2ccc(C)cc2)nn1C(=O)N(C)C"
                ],
                [
                  "23",
                  "CHEMBL130645",
                  "50000.0",
                  "inactive",
                  "CSc1nc(-c2ccc(Cl)cc2)nn1C(=O)N1CCOCC1"
                ],
                [
                  "24",
                  "CHEMBL133580",
                  "50000.0",
                  "inactive",
                  "CCCCCCSc1nc(-c2ccc(Cl)cc2)nn1C(=O)N(C)c1ccccc1"
                ],
                [
                  "25",
                  "CHEMBL336524",
                  "56.0",
                  "active",
                  "CCSc1nc(-c2ccc(Cl)cc2)nn1C(=O)N(C)C"
                ],
                [
                  "26",
                  "CHEMBL336276",
                  "200.0",
                  "active",
                  "CCCCCCSc1nc(-c2ccc(C)cc2)nn1C(=O)N(C)C"
                ],
                [
                  "27",
                  "CHEMBL334395",
                  "300.0",
                  "active",
                  "CCCSc1nc(-c2ccc(Cl)cc2)nn1C(=O)N(C)C"
                ],
                [
                  "28",
                  "CHEMBL131320",
                  "200.0",
                  "active",
                  "Cc1ccc(-c2nc(SCC(F)(F)F)n(C(=O)N(C)C)n2)cc1"
                ],
                [
                  "29",
                  "CHEMBL339297",
                  "50000.0",
                  "inactive",
                  "COc1nn(-c2ccc(NC(=O)c3ccc(C(C)(C)C)cc3)cc2)c(=O)o1"
                ],
                [
                  "30",
                  "CHEMBL337714",
                  "500.0",
                  "active",
                  "CSc1nc(-c2ccc(C(F)(F)F)cc2)nn1C(=O)N(C)C"
                ],
                [
                  "31",
                  "CHEMBL122575",
                  "100000.0",
                  "inactive",
                  "C[C@H]1C(=O)N(C(=O)NCc2ccccc2)[C@@H]1Oc1ccc(C(=O)O)cc1"
                ],
                [
                  "32",
                  "CHEMBL130704",
                  "50000.0",
                  "inactive",
                  "CSc1nc(-c2ccc(C)cc2)nn1C(=O)N1CCOCC1"
                ],
                [
                  "33",
                  "CHEMBL46151",
                  "260000.0",
                  "inactive",
                  "CCN(CC)CCS/C(=N\\O)C(=O)c1ccc(OC)cc1"
                ],
                [
                  "34",
                  "CHEMBL54126",
                  "22.0",
                  "active",
                  "CN(C)C(=O)Oc1cccc([N+](C)(C)C)c1"
                ],
                [
                  "35",
                  "CHEMBL297316",
                  "1000000.0",
                  "inactive",
                  "C[N+](C)(C)CCS/C(=N\\O)C(=O)c1ccc(F)cc1"
                ],
                [
                  "36",
                  "CHEMBL65667",
                  "3800.0",
                  "intermediate",
                  "CN1CC[C@@]2(C)c3cc(OC(=O)NCCCN4CCOCC4)ccc3N(C)[C@@H]12"
                ],
                [
                  "37",
                  "CHEMBL431519",
                  "40.0",
                  "active",
                  "CN1CC[C@@]2(C)c3cc(OC(=O)NCCCCCCCCCCN4CCOCC4)ccc3N(C)[C@@H]12"
                ],
                [
                  "38",
                  "CHEMBL296429",
                  "1000000.0",
                  "inactive",
                  "Cc1ccc(C(=O)/C(=N/O)SCC[N+](C)(C)C)cc1"
                ],
                [
                  "39",
                  "CHEMBL154972",
                  "73.0",
                  "active",
                  "N#CC(C#N)=C1Nc2ccccc2N1CCNCc1ccc(CN2CCCCC2)o1"
                ],
                [
                  "40",
                  "CHEMBL152722",
                  "3100.0",
                  "intermediate",
                  "COc1cc(N)c(Cl)cc1C(=O)NCCNCc1ccc(CN(C)C)o1"
                ],
                [
                  "41",
                  "CHEMBL544022",
                  "520000.0",
                  "inactive",
                  "CCN(CC)CCS/C(=N\\O)C(=O)c1ccc(Cl)cc1"
                ],
                [
                  "42",
                  "CHEMBL349127",
                  "4500.0",
                  "intermediate",
                  "CN1CCN(Cc2ccc(CNCCN3CCNC3=C(C#N)C#N)o2)CC1"
                ],
                [
                  "43",
                  "CHEMBL156659",
                  "1200.0",
                  "intermediate",
                  "Oc1nc2ccccc2n1CCNCc1ccc(CN2CCCCC2)o1"
                ],
                [
                  "44",
                  "CHEMBL45118",
                  "1000000.0",
                  "inactive",
                  "CC[N+](C)(CC)CCS/C(=N\\O)C(=O)c1ccc(OC)cc1"
                ],
                [
                  "45",
                  "CHEMBL542609",
                  "1000000.0",
                  "inactive",
                  "Cc1ccc(C(=O)/C(=N/O)SCCN(C)C)cc1"
                ],
                [
                  "46",
                  "CHEMBL155322",
                  "540.0",
                  "active",
                  "CC1CCCCN1Cc1ccc(CNCCN2CCNC2=C(C#N)C#N)o1"
                ],
                [
                  "47",
                  "CHEMBL154211",
                  "30.0",
                  "active",
                  "N#CC(C#N)=C1NCCN1CCNCc1ccc(CN2CCCCC2)o1"
                ],
                [
                  "48",
                  "CHEMBL1203537",
                  "830.0",
                  "active",
                  "CNC(NCCNCc1ccc(CN2CCCCC2)o1)=C(C#N)C#N"
                ],
                [
                  "49",
                  "CHEMBL86",
                  "20000.0",
                  "inactive",
                  "CCN(CC)CCNC(=O)c1cc(Cl)c(N)cc1OC"
                ]
              ],
              "shape": {
                "columns": 4,
                "rows": 8128
              }
            },
            "text/html": [
              "<div>\n",
              "<style scoped>\n",
              "    .dataframe tbody tr th:only-of-type {\n",
              "        vertical-align: middle;\n",
              "    }\n",
              "\n",
              "    .dataframe tbody tr th {\n",
              "        vertical-align: top;\n",
              "    }\n",
              "\n",
              "    .dataframe thead th {\n",
              "        text-align: right;\n",
              "    }\n",
              "</style>\n",
              "<table border=\"1\" class=\"dataframe\">\n",
              "  <thead>\n",
              "    <tr style=\"text-align: right;\">\n",
              "      <th></th>\n",
              "      <th>molecule_chembl_id</th>\n",
              "      <th>standard_value</th>\n",
              "      <th>bioactivity_class</th>\n",
              "      <th>canonical_smiles</th>\n",
              "    </tr>\n",
              "  </thead>\n",
              "  <tbody>\n",
              "    <tr>\n",
              "      <th>0</th>\n",
              "      <td>CHEMBL133897</td>\n",
              "      <td>750.0</td>\n",
              "      <td>active</td>\n",
              "      <td>CCOc1nn(-c2cccc(OCc3ccccc3)c2)c(=O)o1</td>\n",
              "    </tr>\n",
              "    <tr>\n",
              "      <th>1</th>\n",
              "      <td>CHEMBL336398</td>\n",
              "      <td>100.0</td>\n",
              "      <td>active</td>\n",
              "      <td>O=C(N1CCCCC1)n1nc(-c2ccc(Cl)cc2)nc1SCC1CC1</td>\n",
              "    </tr>\n",
              "    <tr>\n",
              "      <th>2</th>\n",
              "      <td>CHEMBL131588</td>\n",
              "      <td>50000.0</td>\n",
              "      <td>inactive</td>\n",
              "      <td>CN(C(=O)n1nc(-c2ccc(Cl)cc2)nc1SCC(F)(F)F)c1ccccc1</td>\n",
              "    </tr>\n",
              "    <tr>\n",
              "      <th>3</th>\n",
              "      <td>CHEMBL130628</td>\n",
              "      <td>300.0</td>\n",
              "      <td>active</td>\n",
              "      <td>O=C(N1CCCCC1)n1nc(-c2ccc(Cl)cc2)nc1SCC(F)(F)F</td>\n",
              "    </tr>\n",
              "    <tr>\n",
              "      <th>4</th>\n",
              "      <td>CHEMBL130478</td>\n",
              "      <td>800.0</td>\n",
              "      <td>active</td>\n",
              "      <td>CSc1nc(-c2ccc(OC(F)(F)F)cc2)nn1C(=O)N(C)C</td>\n",
              "    </tr>\n",
              "    <tr>\n",
              "      <th>...</th>\n",
              "      <td>...</td>\n",
              "      <td>...</td>\n",
              "      <td>...</td>\n",
              "      <td>...</td>\n",
              "    </tr>\n",
              "    <tr>\n",
              "      <th>8123</th>\n",
              "      <td>CHEMBL5398421</td>\n",
              "      <td>46000.0</td>\n",
              "      <td>inactive</td>\n",
              "      <td>COc1cc(O)c2c(c1)C(=O)c1cc(O)c(O)cc1CCN2</td>\n",
              "    </tr>\n",
              "    <tr>\n",
              "      <th>8124</th>\n",
              "      <td>CHEMBL11298</td>\n",
              "      <td>38310.0</td>\n",
              "      <td>inactive</td>\n",
              "      <td>N[C@@H](CO)C(=O)O</td>\n",
              "    </tr>\n",
              "    <tr>\n",
              "      <th>8125</th>\n",
              "      <td>CHEMBL5395312</td>\n",
              "      <td>1710.0</td>\n",
              "      <td>intermediate</td>\n",
              "      <td>CN1CCN(c2ccc(C(=O)Nc3cc(-c4nc5ccccc5[nH]4)n[nH...</td>\n",
              "    </tr>\n",
              "    <tr>\n",
              "      <th>8126</th>\n",
              "      <td>CHEMBL5399112</td>\n",
              "      <td>10000.0</td>\n",
              "      <td>inactive</td>\n",
              "      <td>O=C(Nc1cc(-c2nc3ccccc3[nH]2)n[nH]1)c1ccc(N2CCN...</td>\n",
              "    </tr>\n",
              "    <tr>\n",
              "      <th>8127</th>\n",
              "      <td>CHEMBL5402411</td>\n",
              "      <td>10000.0</td>\n",
              "      <td>inactive</td>\n",
              "      <td>O=C(Nc1cc(-c2nc3ccccc3[nH]2)[nH]n1)c1ccc(N2CCO...</td>\n",
              "    </tr>\n",
              "  </tbody>\n",
              "</table>\n",
              "<p>8128 rows × 4 columns</p>\n",
              "</div>"
            ],
            "text/plain": [
              "     molecule_chembl_id  standard_value bioactivity_class  \\\n",
              "0          CHEMBL133897           750.0            active   \n",
              "1          CHEMBL336398           100.0            active   \n",
              "2          CHEMBL131588         50000.0          inactive   \n",
              "3          CHEMBL130628           300.0            active   \n",
              "4          CHEMBL130478           800.0            active   \n",
              "...                 ...             ...               ...   \n",
              "8123      CHEMBL5398421         46000.0          inactive   \n",
              "8124        CHEMBL11298         38310.0          inactive   \n",
              "8125      CHEMBL5395312          1710.0      intermediate   \n",
              "8126      CHEMBL5399112         10000.0          inactive   \n",
              "8127      CHEMBL5402411         10000.0          inactive   \n",
              "\n",
              "                                       canonical_smiles  \n",
              "0                 CCOc1nn(-c2cccc(OCc3ccccc3)c2)c(=O)o1  \n",
              "1            O=C(N1CCCCC1)n1nc(-c2ccc(Cl)cc2)nc1SCC1CC1  \n",
              "2     CN(C(=O)n1nc(-c2ccc(Cl)cc2)nc1SCC(F)(F)F)c1ccccc1  \n",
              "3         O=C(N1CCCCC1)n1nc(-c2ccc(Cl)cc2)nc1SCC(F)(F)F  \n",
              "4             CSc1nc(-c2ccc(OC(F)(F)F)cc2)nn1C(=O)N(C)C  \n",
              "...                                                 ...  \n",
              "8123            COc1cc(O)c2c(c1)C(=O)c1cc(O)c(O)cc1CCN2  \n",
              "8124                                  N[C@@H](CO)C(=O)O  \n",
              "8125  CN1CCN(c2ccc(C(=O)Nc3cc(-c4nc5ccccc5[nH]4)n[nH...  \n",
              "8126  O=C(Nc1cc(-c2nc3ccccc3[nH]2)n[nH]1)c1ccc(N2CCN...  \n",
              "8127  O=C(Nc1cc(-c2nc3ccccc3[nH]2)[nH]n1)c1ccc(N2CCO...  \n",
              "\n",
              "[8128 rows x 4 columns]"
            ]
          },
          "execution_count": 60,
          "metadata": {},
          "output_type": "execute_result"
        }
      ],
      "source": [
        "df_clean_smiles"
      ]
    },
    {
      "cell_type": "markdown",
      "metadata": {
        "colab_type": "text",
        "id": "eET6iZ1Aw3oe"
      },
      "source": [
        "Now, let's combine the 2 DataFrame"
      ]
    },
    {
      "cell_type": "code",
      "execution_count": 61,
      "metadata": {
        "colab": {},
        "colab_type": "code",
        "id": "L9nUZC0Ww3gp"
      },
      "outputs": [],
      "source": [
        "df_combined = pd.concat([df_clean_smiles,df_lipinski], axis=1)"
      ]
    },
    {
      "cell_type": "code",
      "execution_count": 62,
      "metadata": {
        "colab": {
          "base_uri": "https://localhost:8080/",
          "height": 487
        },
        "colab_type": "code",
        "id": "FRBfBP3QxFJp",
        "outputId": "18e69e90-6b93-4b8f-fc86-24924f6eb00c"
      },
      "outputs": [
        {
          "data": {
            "application/vnd.microsoft.datawrangler.viewer.v0+json": {
              "columns": [
                {
                  "name": "index",
                  "rawType": "int64",
                  "type": "integer"
                },
                {
                  "name": "molecule_chembl_id",
                  "rawType": "object",
                  "type": "string"
                },
                {
                  "name": "standard_value",
                  "rawType": "float64",
                  "type": "float"
                },
                {
                  "name": "bioactivity_class",
                  "rawType": "object",
                  "type": "string"
                },
                {
                  "name": "canonical_smiles",
                  "rawType": "object",
                  "type": "string"
                },
                {
                  "name": "MW",
                  "rawType": "float64",
                  "type": "float"
                },
                {
                  "name": "LogP",
                  "rawType": "float64",
                  "type": "float"
                },
                {
                  "name": "NumHDonors",
                  "rawType": "float64",
                  "type": "float"
                },
                {
                  "name": "NumHAcceptors",
                  "rawType": "float64",
                  "type": "float"
                }
              ],
              "ref": "7477ae22-2683-4abd-b189-8e71752d71f7",
              "rows": [
                [
                  "0",
                  "CHEMBL133897",
                  "750.0",
                  "active",
                  "CCOc1nn(-c2cccc(OCc3ccccc3)c2)c(=O)o1",
                  "312.32500000000005",
                  "2.8032000000000004",
                  "0.0",
                  "6.0"
                ],
                [
                  "1",
                  "CHEMBL336398",
                  "100.0",
                  "active",
                  "O=C(N1CCCCC1)n1nc(-c2ccc(Cl)cc2)nc1SCC1CC1",
                  "376.9130000000002",
                  "4.554600000000004",
                  "0.0",
                  "5.0"
                ],
                [
                  "2",
                  "CHEMBL131588",
                  "50000.0",
                  "inactive",
                  "CN(C(=O)n1nc(-c2ccc(Cl)cc2)nc1SCC(F)(F)F)c1ccccc1",
                  "426.8510000000001",
                  "5.357400000000003",
                  "0.0",
                  "5.0"
                ],
                [
                  "3",
                  "CHEMBL130628",
                  "300.0",
                  "active",
                  "O=C(N1CCCCC1)n1nc(-c2ccc(Cl)cc2)nc1SCC(F)(F)F",
                  "404.8450000000001",
                  "4.706900000000003",
                  "0.0",
                  "5.0"
                ],
                [
                  "4",
                  "CHEMBL130478",
                  "800.0",
                  "active",
                  "CSc1nc(-c2ccc(OC(F)(F)F)cc2)nn1C(=O)N(C)C",
                  "346.33400000000006",
                  "3.095300000000001",
                  "0.0",
                  "6.0"
                ],
                [
                  "5",
                  "CHEMBL130112",
                  "2400.0",
                  "intermediate",
                  "CSc1nc(-c2ccc(C)cc2)nn1C(=O)N(C)c1ccccc1",
                  "338.43600000000004",
                  "4.079920000000002",
                  "0.0",
                  "5.0"
                ],
                [
                  "6",
                  "CHEMBL130098",
                  "100.0",
                  "active",
                  "CSc1nc(-c2ccc(Cl)cc2)nn1C(=O)N(C)C",
                  "296.783",
                  "2.850100000000001",
                  "0.0",
                  "5.0"
                ],
                [
                  "7",
                  "CHEMBL337486",
                  "50000.0",
                  "inactive",
                  "CCCCCCSc1nc(-c2ccc(Cl)cc2)nn1C(=O)N1CCOCC1",
                  "408.95500000000027",
                  "4.571200000000005",
                  "0.0",
                  "6.0"
                ],
                [
                  "8",
                  "CHEMBL336538",
                  "800.0",
                  "active",
                  "COc1ccc(-c2nc(SC)n(C(=O)N(C)C)n2)cc1",
                  "292.364",
                  "2.2053000000000003",
                  "0.0",
                  "6.0"
                ],
                [
                  "9",
                  "CHEMBL131051",
                  "50000.0",
                  "inactive",
                  "CSc1nc(-c2ccc(OC(F)(F)F)cc2)nn1C(=O)N(C)c1ccccc1",
                  "408.4050000000001",
                  "4.670100000000003",
                  "0.0",
                  "6.0"
                ],
                [
                  "10",
                  "CHEMBL341437",
                  "50000.0",
                  "inactive",
                  "CCSc1nc(-c2ccc(OC)cc2)nn1C(=O)N1CCOCC1",
                  "348.4280000000002",
                  "2.3659999999999997",
                  "0.0",
                  "7.0"
                ],
                [
                  "11",
                  "CHEMBL335033",
                  "50.0",
                  "active",
                  "CSc1nc(-c2ccc3ccccc3c2)nn1C(=O)N(C)C",
                  "312.3980000000001",
                  "3.3499000000000017",
                  "0.0",
                  "5.0"
                ],
                [
                  "12",
                  "CHEMBL122983",
                  "100000.0",
                  "inactive",
                  "C[C@H]1C(=O)N(C(=O)NCc2ccccc2)[C@@H]1Oc1ccc(C(=O)C(C)(C)C)cc1",
                  "394.4710000000002",
                  "4.0084000000000035",
                  "1.0",
                  "4.0"
                ],
                [
                  "13",
                  "CHEMBL338720",
                  "560.0",
                  "active",
                  "CSc1nc(-c2ccc(-c3ccccc3)cc2)nn1C(=O)N(C)C",
                  "338.4360000000001",
                  "3.8637000000000032",
                  "0.0",
                  "5.0"
                ],
                [
                  "14",
                  "CHEMBL339995",
                  "10.0",
                  "active",
                  "CSc1nc(/C=C/c2ccccc2)nn1C(=O)N(C)C",
                  "288.37600000000003",
                  "2.700100000000001",
                  "0.0",
                  "5.0"
                ],
                [
                  "15",
                  "CHEMBL335158",
                  "10.0",
                  "active",
                  "CCCCCCSc1nc(-c2ccc(Cl)cc2)nn1C(=O)N1CCCCC1",
                  "406.9830000000003",
                  "5.724900000000006",
                  "0.0",
                  "5.0"
                ],
                [
                  "16",
                  "CHEMBL131536",
                  "1400.0",
                  "intermediate",
                  "CSc1nc(-c2ccc(Cl)cc2)nn1C(=O)N(C)c1ccccc1",
                  "358.85400000000004",
                  "4.424900000000004",
                  "0.0",
                  "5.0"
                ],
                [
                  "17",
                  "CHEMBL106126",
                  "17000.0",
                  "inactive",
                  "Cc1c(C(C)C)c(=O)on1C(=O)N1CCC[C@H](C)C1",
                  "266.34099999999995",
                  "2.5731200000000003",
                  "0.0",
                  "4.0"
                ],
                [
                  "18",
                  "CHEMBL334971",
                  "1100.0",
                  "intermediate",
                  "CCSc1nc(-c2ccc(OC)cc2)nn1C(=O)N(C)c1ccccc1",
                  "368.4620000000001",
                  "4.170200000000003",
                  "0.0",
                  "6.0"
                ],
                [
                  "19",
                  "CHEMBL336625",
                  "50000.0",
                  "inactive",
                  "CCCCCCSc1nc(-c2ccc(C)cc2)nn1C(=O)N(C)c1ccccc1",
                  "408.57100000000014",
                  "6.0304200000000066",
                  "0.0",
                  "5.0"
                ],
                [
                  "20",
                  "CHEMBL130666",
                  "26.0",
                  "active",
                  "CSc1nc(-c2ccc(Cl)cc2)nn1C(=O)N1CCCCC1",
                  "336.8480000000002",
                  "3.7744000000000026",
                  "0.0",
                  "5.0"
                ],
                [
                  "21",
                  "CHEMBL134061",
                  "50000.0",
                  "inactive",
                  "O=C(N1CCOCC1)n1nc(-c2ccc(Cl)cc2)nc1SCC(F)(F)F",
                  "406.81700000000006",
                  "3.553200000000002",
                  "0.0",
                  "6.0"
                ],
                [
                  "22",
                  "CHEMBL133388",
                  "800.0",
                  "active",
                  "CSc1nc(-c2ccc(C)cc2)nn1C(=O)N(C)C",
                  "276.365",
                  "2.5051200000000007",
                  "0.0",
                  "5.0"
                ],
                [
                  "23",
                  "CHEMBL130645",
                  "50000.0",
                  "inactive",
                  "CSc1nc(-c2ccc(Cl)cc2)nn1C(=O)N1CCOCC1",
                  "338.82000000000016",
                  "2.620700000000001",
                  "0.0",
                  "6.0"
                ],
                [
                  "24",
                  "CHEMBL133580",
                  "50000.0",
                  "inactive",
                  "CCCCCCSc1nc(-c2ccc(Cl)cc2)nn1C(=O)N(C)c1ccccc1",
                  "428.98900000000015",
                  "6.375400000000006",
                  "0.0",
                  "5.0"
                ],
                [
                  "25",
                  "CHEMBL336524",
                  "56.0",
                  "active",
                  "CCSc1nc(-c2ccc(Cl)cc2)nn1C(=O)N(C)C",
                  "310.81000000000006",
                  "3.2402000000000015",
                  "0.0",
                  "5.0"
                ],
                [
                  "26",
                  "CHEMBL336276",
                  "200.0",
                  "active",
                  "CCCCCCSc1nc(-c2ccc(C)cc2)nn1C(=O)N(C)C",
                  "346.5000000000001",
                  "4.455620000000004",
                  "0.0",
                  "5.0"
                ],
                [
                  "27",
                  "CHEMBL334395",
                  "300.0",
                  "active",
                  "CCCSc1nc(-c2ccc(Cl)cc2)nn1C(=O)N(C)C",
                  "324.8370000000001",
                  "3.6303000000000027",
                  "0.0",
                  "5.0"
                ],
                [
                  "28",
                  "CHEMBL131320",
                  "200.0",
                  "active",
                  "Cc1ccc(-c2nc(SCC(F)(F)F)n(C(=O)N(C)C)n2)cc1",
                  "344.362",
                  "3.4376200000000017",
                  "0.0",
                  "5.0"
                ],
                [
                  "29",
                  "CHEMBL339297",
                  "50000.0",
                  "inactive",
                  "COc1nn(-c2ccc(NC(=O)c3ccc(C(C)(C)C)cc3)cc2)c(=O)o1",
                  "367.4050000000001",
                  "3.3839000000000015",
                  "1.0",
                  "6.0"
                ],
                [
                  "30",
                  "CHEMBL337714",
                  "500.0",
                  "active",
                  "CSc1nc(-c2ccc(C(F)(F)F)cc2)nn1C(=O)N(C)C",
                  "330.33500000000004",
                  "3.2155000000000022",
                  "0.0",
                  "5.0"
                ],
                [
                  "31",
                  "CHEMBL122575",
                  "100000.0",
                  "inactive",
                  "C[C@H]1C(=O)N(C(=O)NCc2ccccc2)[C@@H]1Oc1ccc(C(=O)O)cc1",
                  "354.3620000000001",
                  "2.4778000000000002",
                  "2.0",
                  "4.0"
                ],
                [
                  "32",
                  "CHEMBL130704",
                  "50000.0",
                  "inactive",
                  "CSc1nc(-c2ccc(C)cc2)nn1C(=O)N1CCOCC1",
                  "318.40200000000016",
                  "2.2757199999999997",
                  "0.0",
                  "6.0"
                ],
                [
                  "33",
                  "CHEMBL46151",
                  "260000.0",
                  "inactive",
                  "CCN(CC)CCS/C(=N\\O)C(=O)c1ccc(OC)cc1",
                  "310.41900000000004",
                  "2.7406000000000015",
                  "1.0",
                  "6.0"
                ],
                [
                  "34",
                  "CHEMBL54126",
                  "22.0",
                  "active",
                  "CN(C)C(=O)Oc1cccc([N+](C)(C)C)c1",
                  "223.29599999999996",
                  "1.9437",
                  "0.0",
                  "2.0"
                ],
                [
                  "35",
                  "CHEMBL297316",
                  "1000000.0",
                  "inactive",
                  "C[N+](C)(C)CCS/C(=N\\O)C(=O)c1ccc(F)cc1",
                  "285.36400000000003",
                  "2.2355",
                  "1.0",
                  "4.0"
                ],
                [
                  "36",
                  "CHEMBL65667",
                  "3800.0",
                  "intermediate",
                  "CN1CC[C@@]2(C)c3cc(OC(=O)NCCCN4CCOCC4)ccc3N(C)[C@@H]12",
                  "388.51200000000017",
                  "1.8663999999999992",
                  "1.0",
                  "6.0"
                ],
                [
                  "37",
                  "CHEMBL431519",
                  "40.0",
                  "active",
                  "CN1CC[C@@]2(C)c3cc(OC(=O)NCCCCCCCCCCN4CCOCC4)ccc3N(C)[C@@H]12",
                  "486.7010000000004",
                  "4.597100000000005",
                  "1.0",
                  "6.0"
                ],
                [
                  "38",
                  "CHEMBL296429",
                  "1000000.0",
                  "inactive",
                  "Cc1ccc(C(=O)/C(=N/O)SCC[N+](C)(C)C)cc1",
                  "281.401",
                  "2.404820000000001",
                  "1.0",
                  "4.0"
                ],
                [
                  "39",
                  "CHEMBL154972",
                  "73.0",
                  "active",
                  "N#CC(C#N)=C1Nc2ccccc2N1CCNCc1ccc(CN2CCCCC2)o1",
                  "402.5020000000003",
                  "3.5459600000000027",
                  "2.0",
                  "7.0"
                ],
                [
                  "40",
                  "CHEMBL152722",
                  "3100.0",
                  "intermediate",
                  "COc1cc(N)c(Cl)cc1C(=O)NCCNCc1ccc(CN(C)C)o1",
                  "380.8760000000002",
                  "2.1050000000000004",
                  "3.0",
                  "6.0"
                ],
                [
                  "41",
                  "CHEMBL544022",
                  "520000.0",
                  "inactive",
                  "CCN(CC)CCS/C(=N\\O)C(=O)c1ccc(Cl)cc1",
                  "314.838",
                  "3.3854000000000015",
                  "1.0",
                  "5.0"
                ],
                [
                  "42",
                  "CHEMBL349127",
                  "4500.0",
                  "intermediate",
                  "CN1CCN(Cc2ccc(CNCCN3CCNC3=C(C#N)C#N)o2)CC1",
                  "369.4730000000001",
                  "0.2805600000000022",
                  "2.0",
                  "8.0"
                ],
                [
                  "43",
                  "CHEMBL156659",
                  "1200.0",
                  "intermediate",
                  "Oc1nc2ccccc2n1CCNCc1ccc(CN2CCCCC2)o1",
                  "354.4540000000002",
                  "3.1106000000000016",
                  "2.0",
                  "6.0"
                ],
                [
                  "44",
                  "CHEMBL45118",
                  "1000000.0",
                  "inactive",
                  "CC[N+](C)(CC)CCS/C(=N\\O)C(=O)c1ccc(OC)cc1",
                  "325.45400000000006",
                  "2.885200000000001",
                  "1.0",
                  "5.0"
                ],
                [
                  "45",
                  "CHEMBL542609",
                  "1000000.0",
                  "inactive",
                  "Cc1ccc(C(=O)/C(=N/O)SCCN(C)C)cc1",
                  "266.366",
                  "2.2602200000000003",
                  "1.0",
                  "5.0"
                ],
                [
                  "46",
                  "CHEMBL155322",
                  "540.0",
                  "active",
                  "CC1CCCCN1Cc1ccc(CNCCN2CCNC2=C(C#N)C#N)o1",
                  "368.4850000000001",
                  "1.90756",
                  "2.0",
                  "7.0"
                ],
                [
                  "47",
                  "CHEMBL154211",
                  "30.0",
                  "active",
                  "N#CC(C#N)=C1NCCN1CCNCc1ccc(CN2CCCCC2)o1",
                  "354.4580000000002",
                  "1.519059999999999",
                  "2.0",
                  "7.0"
                ],
                [
                  "48",
                  "CHEMBL1203537",
                  "830.0",
                  "active",
                  "CNC(NCCNCc1ccc(CN2CCCCC2)o1)=C(C#N)C#N",
                  "342.4470000000001",
                  "1.4228600000000002",
                  "3.0",
                  "7.0"
                ],
                [
                  "49",
                  "CHEMBL86",
                  "20000.0",
                  "inactive",
                  "CCN(CC)CCNC(=O)c1cc(Cl)c(N)cc1OC",
                  "299.8020000000001",
                  "2.0023999999999997",
                  "2.0",
                  "4.0"
                ]
              ],
              "shape": {
                "columns": 8,
                "rows": 8128
              }
            },
            "text/html": [
              "<div>\n",
              "<style scoped>\n",
              "    .dataframe tbody tr th:only-of-type {\n",
              "        vertical-align: middle;\n",
              "    }\n",
              "\n",
              "    .dataframe tbody tr th {\n",
              "        vertical-align: top;\n",
              "    }\n",
              "\n",
              "    .dataframe thead th {\n",
              "        text-align: right;\n",
              "    }\n",
              "</style>\n",
              "<table border=\"1\" class=\"dataframe\">\n",
              "  <thead>\n",
              "    <tr style=\"text-align: right;\">\n",
              "      <th></th>\n",
              "      <th>molecule_chembl_id</th>\n",
              "      <th>standard_value</th>\n",
              "      <th>bioactivity_class</th>\n",
              "      <th>canonical_smiles</th>\n",
              "      <th>MW</th>\n",
              "      <th>LogP</th>\n",
              "      <th>NumHDonors</th>\n",
              "      <th>NumHAcceptors</th>\n",
              "    </tr>\n",
              "  </thead>\n",
              "  <tbody>\n",
              "    <tr>\n",
              "      <th>0</th>\n",
              "      <td>CHEMBL133897</td>\n",
              "      <td>750.0</td>\n",
              "      <td>active</td>\n",
              "      <td>CCOc1nn(-c2cccc(OCc3ccccc3)c2)c(=O)o1</td>\n",
              "      <td>312.325</td>\n",
              "      <td>2.8032</td>\n",
              "      <td>0.0</td>\n",
              "      <td>6.0</td>\n",
              "    </tr>\n",
              "    <tr>\n",
              "      <th>1</th>\n",
              "      <td>CHEMBL336398</td>\n",
              "      <td>100.0</td>\n",
              "      <td>active</td>\n",
              "      <td>O=C(N1CCCCC1)n1nc(-c2ccc(Cl)cc2)nc1SCC1CC1</td>\n",
              "      <td>376.913</td>\n",
              "      <td>4.5546</td>\n",
              "      <td>0.0</td>\n",
              "      <td>5.0</td>\n",
              "    </tr>\n",
              "    <tr>\n",
              "      <th>2</th>\n",
              "      <td>CHEMBL131588</td>\n",
              "      <td>50000.0</td>\n",
              "      <td>inactive</td>\n",
              "      <td>CN(C(=O)n1nc(-c2ccc(Cl)cc2)nc1SCC(F)(F)F)c1ccccc1</td>\n",
              "      <td>426.851</td>\n",
              "      <td>5.3574</td>\n",
              "      <td>0.0</td>\n",
              "      <td>5.0</td>\n",
              "    </tr>\n",
              "    <tr>\n",
              "      <th>3</th>\n",
              "      <td>CHEMBL130628</td>\n",
              "      <td>300.0</td>\n",
              "      <td>active</td>\n",
              "      <td>O=C(N1CCCCC1)n1nc(-c2ccc(Cl)cc2)nc1SCC(F)(F)F</td>\n",
              "      <td>404.845</td>\n",
              "      <td>4.7069</td>\n",
              "      <td>0.0</td>\n",
              "      <td>5.0</td>\n",
              "    </tr>\n",
              "    <tr>\n",
              "      <th>4</th>\n",
              "      <td>CHEMBL130478</td>\n",
              "      <td>800.0</td>\n",
              "      <td>active</td>\n",
              "      <td>CSc1nc(-c2ccc(OC(F)(F)F)cc2)nn1C(=O)N(C)C</td>\n",
              "      <td>346.334</td>\n",
              "      <td>3.0953</td>\n",
              "      <td>0.0</td>\n",
              "      <td>6.0</td>\n",
              "    </tr>\n",
              "    <tr>\n",
              "      <th>...</th>\n",
              "      <td>...</td>\n",
              "      <td>...</td>\n",
              "      <td>...</td>\n",
              "      <td>...</td>\n",
              "      <td>...</td>\n",
              "      <td>...</td>\n",
              "      <td>...</td>\n",
              "      <td>...</td>\n",
              "    </tr>\n",
              "    <tr>\n",
              "      <th>8123</th>\n",
              "      <td>CHEMBL5398421</td>\n",
              "      <td>46000.0</td>\n",
              "      <td>inactive</td>\n",
              "      <td>COc1cc(O)c2c(c1)C(=O)c1cc(O)c(O)cc1CCN2</td>\n",
              "      <td>301.298</td>\n",
              "      <td>2.0110</td>\n",
              "      <td>4.0</td>\n",
              "      <td>6.0</td>\n",
              "    </tr>\n",
              "    <tr>\n",
              "      <th>8124</th>\n",
              "      <td>CHEMBL11298</td>\n",
              "      <td>38310.0</td>\n",
              "      <td>inactive</td>\n",
              "      <td>N[C@@H](CO)C(=O)O</td>\n",
              "      <td>105.093</td>\n",
              "      <td>-1.6094</td>\n",
              "      <td>3.0</td>\n",
              "      <td>3.0</td>\n",
              "    </tr>\n",
              "    <tr>\n",
              "      <th>8125</th>\n",
              "      <td>CHEMBL5395312</td>\n",
              "      <td>1710.0</td>\n",
              "      <td>intermediate</td>\n",
              "      <td>CN1CCN(c2ccc(C(=O)Nc3cc(-c4nc5ccccc5[nH]4)n[nH...</td>\n",
              "      <td>401.474</td>\n",
              "      <td>2.9571</td>\n",
              "      <td>3.0</td>\n",
              "      <td>5.0</td>\n",
              "    </tr>\n",
              "    <tr>\n",
              "      <th>8126</th>\n",
              "      <td>CHEMBL5399112</td>\n",
              "      <td>10000.0</td>\n",
              "      <td>inactive</td>\n",
              "      <td>O=C(Nc1cc(-c2nc3ccccc3[nH]2)n[nH]1)c1ccc(N2CCN...</td>\n",
              "      <td>387.447</td>\n",
              "      <td>2.6149</td>\n",
              "      <td>4.0</td>\n",
              "      <td>5.0</td>\n",
              "    </tr>\n",
              "    <tr>\n",
              "      <th>8127</th>\n",
              "      <td>CHEMBL5402411</td>\n",
              "      <td>10000.0</td>\n",
              "      <td>inactive</td>\n",
              "      <td>O=C(Nc1cc(-c2nc3ccccc3[nH]2)[nH]n1)c1ccc(N2CCO...</td>\n",
              "      <td>388.431</td>\n",
              "      <td>3.0419</td>\n",
              "      <td>3.0</td>\n",
              "      <td>5.0</td>\n",
              "    </tr>\n",
              "  </tbody>\n",
              "</table>\n",
              "<p>8128 rows × 8 columns</p>\n",
              "</div>"
            ],
            "text/plain": [
              "     molecule_chembl_id  standard_value bioactivity_class  \\\n",
              "0          CHEMBL133897           750.0            active   \n",
              "1          CHEMBL336398           100.0            active   \n",
              "2          CHEMBL131588         50000.0          inactive   \n",
              "3          CHEMBL130628           300.0            active   \n",
              "4          CHEMBL130478           800.0            active   \n",
              "...                 ...             ...               ...   \n",
              "8123      CHEMBL5398421         46000.0          inactive   \n",
              "8124        CHEMBL11298         38310.0          inactive   \n",
              "8125      CHEMBL5395312          1710.0      intermediate   \n",
              "8126      CHEMBL5399112         10000.0          inactive   \n",
              "8127      CHEMBL5402411         10000.0          inactive   \n",
              "\n",
              "                                       canonical_smiles       MW    LogP  \\\n",
              "0                 CCOc1nn(-c2cccc(OCc3ccccc3)c2)c(=O)o1  312.325  2.8032   \n",
              "1            O=C(N1CCCCC1)n1nc(-c2ccc(Cl)cc2)nc1SCC1CC1  376.913  4.5546   \n",
              "2     CN(C(=O)n1nc(-c2ccc(Cl)cc2)nc1SCC(F)(F)F)c1ccccc1  426.851  5.3574   \n",
              "3         O=C(N1CCCCC1)n1nc(-c2ccc(Cl)cc2)nc1SCC(F)(F)F  404.845  4.7069   \n",
              "4             CSc1nc(-c2ccc(OC(F)(F)F)cc2)nn1C(=O)N(C)C  346.334  3.0953   \n",
              "...                                                 ...      ...     ...   \n",
              "8123            COc1cc(O)c2c(c1)C(=O)c1cc(O)c(O)cc1CCN2  301.298  2.0110   \n",
              "8124                                  N[C@@H](CO)C(=O)O  105.093 -1.6094   \n",
              "8125  CN1CCN(c2ccc(C(=O)Nc3cc(-c4nc5ccccc5[nH]4)n[nH...  401.474  2.9571   \n",
              "8126  O=C(Nc1cc(-c2nc3ccccc3[nH]2)n[nH]1)c1ccc(N2CCN...  387.447  2.6149   \n",
              "8127  O=C(Nc1cc(-c2nc3ccccc3[nH]2)[nH]n1)c1ccc(N2CCO...  388.431  3.0419   \n",
              "\n",
              "      NumHDonors  NumHAcceptors  \n",
              "0            0.0            6.0  \n",
              "1            0.0            5.0  \n",
              "2            0.0            5.0  \n",
              "3            0.0            5.0  \n",
              "4            0.0            6.0  \n",
              "...          ...            ...  \n",
              "8123         4.0            6.0  \n",
              "8124         3.0            3.0  \n",
              "8125         3.0            5.0  \n",
              "8126         4.0            5.0  \n",
              "8127         3.0            5.0  \n",
              "\n",
              "[8128 rows x 8 columns]"
            ]
          },
          "execution_count": 62,
          "metadata": {},
          "output_type": "execute_result"
        }
      ],
      "source": [
        "df_combined"
      ]
    },
    {
      "cell_type": "markdown",
      "metadata": {
        "colab_type": "text",
        "id": "e0MLOedB6j96"
      },
      "source": [
        "### **Convert IC50 to pIC50**\n",
        "To allow **IC50** data to be more uniformly distributed, we will convert **IC50** to the negative logarithmic scale which is essentially **-log10(IC50)**.\n",
        "\n",
        "This custom function pIC50() will accept a DataFrame as input and will:\n",
        "* Take the IC50 values from the ``standard_value`` column and converts it from nM to M by multiplying the value by 10$^{-9}$\n",
        "* Take the molar value and apply -log10\n",
        "* Delete the ``standard_value`` column and create a new ``pIC50`` column"
      ]
    },
    {
      "cell_type": "markdown",
      "metadata": {
        "colab_type": "text",
        "id": "WU5Fh1h2OaJJ"
      },
      "source": [
        "Point to note: Values greater than 100,000,000 will be fixed at 100,000,000 otherwise the negative logarithmic value will become negative."
      ]
    },
    {
      "cell_type": "code",
      "execution_count": 63,
      "metadata": {
        "colab": {
          "base_uri": "https://localhost:8080/",
          "height": 170
        },
        "colab_type": "code",
        "id": "QuUTFUpcR1wU",
        "outputId": "9d1db8ff-8de4-4dd6-8259-6a28617538eb"
      },
      "outputs": [
        {
          "data": {
            "application/vnd.microsoft.datawrangler.viewer.v0+json": {
              "columns": [
                {
                  "name": "index",
                  "rawType": "object",
                  "type": "string"
                },
                {
                  "name": "standard_value",
                  "rawType": "float64",
                  "type": "float"
                }
              ],
              "ref": "b4d6fb6f-7ea1-4c6b-8177-0f3c44df8404",
              "rows": [
                [
                  "count",
                  "8128.0"
                ],
                [
                  "mean",
                  "96217.15940141672"
                ],
                [
                  "std",
                  "984091.6909088534"
                ],
                [
                  "min",
                  "0.0"
                ],
                [
                  "25%",
                  "100.0"
                ],
                [
                  "50%",
                  "1504.5"
                ],
                [
                  "75%",
                  "12400.0"
                ],
                [
                  "max",
                  "50000000.0"
                ]
              ],
              "shape": {
                "columns": 1,
                "rows": 8
              }
            },
            "text/plain": [
              "count    8.128000e+03\n",
              "mean     9.621716e+04\n",
              "std      9.840917e+05\n",
              "min      0.000000e+00\n",
              "25%      1.000000e+02\n",
              "50%      1.504500e+03\n",
              "75%      1.240000e+04\n",
              "max      5.000000e+07\n",
              "Name: standard_value, dtype: float64"
            ]
          },
          "execution_count": 63,
          "metadata": {},
          "output_type": "execute_result"
        }
      ],
      "source": [
        "df_combined.standard_value.describe()"
      ]
    },
    {
      "cell_type": "code",
      "execution_count": 64,
      "metadata": {
        "colab": {
          "base_uri": "https://localhost:8080/",
          "height": 34
        },
        "colab_type": "code",
        "id": "QyiJ0to5N6Z_",
        "outputId": "e10f18e8-1255-4636-bf2f-efbd3befde4f"
      },
      "outputs": [
        {
          "data": {
            "text/plain": [
              "np.float64(1.0)"
            ]
          },
          "execution_count": 64,
          "metadata": {},
          "output_type": "execute_result"
        }
      ],
      "source": [
        "-np.log10( (10**-9)* 100000000 )"
      ]
    },
    {
      "cell_type": "code",
      "execution_count": 65,
      "metadata": {
        "colab": {
          "base_uri": "https://localhost:8080/",
          "height": 34
        },
        "colab_type": "code",
        "id": "9S1aJkOYOP6K",
        "outputId": "85aa8a89-99f7-4d9e-dac5-3f599c2fb364"
      },
      "outputs": [
        {
          "data": {
            "text/plain": [
              "np.float64(-1.0)"
            ]
          },
          "execution_count": 65,
          "metadata": {},
          "output_type": "execute_result"
        }
      ],
      "source": [
        "-np.log10( (10**-9)* 10000000000 )"
      ]
    },
    {
      "cell_type": "markdown",
      "metadata": {
        "colab_type": "text",
        "id": "EkrTs7RfPsrH"
      },
      "source": [
        "Therefore, we will first apply the norm_value() function so that the values in the standard_value column is normalized."
      ]
    },
    {
      "cell_type": "code",
      "execution_count": 85,
      "metadata": {
        "colab": {},
        "colab_type": "code",
        "id": "iktHDDwtPDwl"
      },
      "outputs": [],
      "source": [
        "def norm_value(input_df):\n",
        "  input_df = input_df[input_df['standard_value'] != 0]\n",
        "  norm = []\n",
        "\n",
        "  for ic50 in input_df['standard_value']:\n",
        "    if ic50 > 100000000:\n",
        "      ic50 = 100000000\n",
        "    norm.append(ic50)\n",
        "\n",
        "  input_df['standard_value_norm'] = norm\n",
        "  input_df['standard_value']\n",
        "  x = input_df.drop(columns='standard_value', axis=1)\n",
        "\n",
        "  return x.reset_index(drop=True)"
      ]
    },
    {
      "cell_type": "code",
      "execution_count": 86,
      "metadata": {
        "colab": {
          "base_uri": "https://localhost:8080/",
          "height": 487
        },
        "colab_type": "code",
        "id": "EX2Mj2-ZP1Rj",
        "outputId": "7f0f6cb0-d251-4208-fbf8-19970978625e"
      },
      "outputs": [
        {
          "name": "stderr",
          "output_type": "stream",
          "text": [
            "C:\\Users\\liv_u\\AppData\\Local\\Temp\\ipykernel_7252\\3163801115.py:10: SettingWithCopyWarning: \n",
            "A value is trying to be set on a copy of a slice from a DataFrame.\n",
            "Try using .loc[row_indexer,col_indexer] = value instead\n",
            "\n",
            "See the caveats in the documentation: https://pandas.pydata.org/pandas-docs/stable/user_guide/indexing.html#returning-a-view-versus-a-copy\n",
            "  input_df['standard_value_norm'] = norm\n"
          ]
        },
        {
          "data": {
            "application/vnd.microsoft.datawrangler.viewer.v0+json": {
              "columns": [
                {
                  "name": "index",
                  "rawType": "int64",
                  "type": "integer"
                },
                {
                  "name": "molecule_chembl_id",
                  "rawType": "object",
                  "type": "string"
                },
                {
                  "name": "bioactivity_class",
                  "rawType": "object",
                  "type": "string"
                },
                {
                  "name": "canonical_smiles",
                  "rawType": "object",
                  "type": "string"
                },
                {
                  "name": "MW",
                  "rawType": "float64",
                  "type": "float"
                },
                {
                  "name": "LogP",
                  "rawType": "float64",
                  "type": "float"
                },
                {
                  "name": "NumHDonors",
                  "rawType": "float64",
                  "type": "float"
                },
                {
                  "name": "NumHAcceptors",
                  "rawType": "float64",
                  "type": "float"
                },
                {
                  "name": "standard_value_norm",
                  "rawType": "float64",
                  "type": "float"
                }
              ],
              "ref": "fe71ee0d-15aa-4497-9dba-72c78a8e9f82",
              "rows": [
                [
                  "0",
                  "CHEMBL133897",
                  "active",
                  "CCOc1nn(-c2cccc(OCc3ccccc3)c2)c(=O)o1",
                  "312.32500000000005",
                  "2.8032000000000004",
                  "0.0",
                  "6.0",
                  "750.0"
                ],
                [
                  "1",
                  "CHEMBL336398",
                  "active",
                  "O=C(N1CCCCC1)n1nc(-c2ccc(Cl)cc2)nc1SCC1CC1",
                  "376.9130000000002",
                  "4.554600000000004",
                  "0.0",
                  "5.0",
                  "100.0"
                ],
                [
                  "2",
                  "CHEMBL131588",
                  "inactive",
                  "CN(C(=O)n1nc(-c2ccc(Cl)cc2)nc1SCC(F)(F)F)c1ccccc1",
                  "426.8510000000001",
                  "5.357400000000003",
                  "0.0",
                  "5.0",
                  "50000.0"
                ],
                [
                  "3",
                  "CHEMBL130628",
                  "active",
                  "O=C(N1CCCCC1)n1nc(-c2ccc(Cl)cc2)nc1SCC(F)(F)F",
                  "404.8450000000001",
                  "4.706900000000003",
                  "0.0",
                  "5.0",
                  "300.0"
                ],
                [
                  "4",
                  "CHEMBL130478",
                  "active",
                  "CSc1nc(-c2ccc(OC(F)(F)F)cc2)nn1C(=O)N(C)C",
                  "346.33400000000006",
                  "3.095300000000001",
                  "0.0",
                  "6.0",
                  "800.0"
                ],
                [
                  "5",
                  "CHEMBL130112",
                  "intermediate",
                  "CSc1nc(-c2ccc(C)cc2)nn1C(=O)N(C)c1ccccc1",
                  "338.43600000000004",
                  "4.079920000000002",
                  "0.0",
                  "5.0",
                  "2400.0"
                ],
                [
                  "6",
                  "CHEMBL130098",
                  "active",
                  "CSc1nc(-c2ccc(Cl)cc2)nn1C(=O)N(C)C",
                  "296.783",
                  "2.850100000000001",
                  "0.0",
                  "5.0",
                  "100.0"
                ],
                [
                  "7",
                  "CHEMBL337486",
                  "inactive",
                  "CCCCCCSc1nc(-c2ccc(Cl)cc2)nn1C(=O)N1CCOCC1",
                  "408.95500000000027",
                  "4.571200000000005",
                  "0.0",
                  "6.0",
                  "50000.0"
                ],
                [
                  "8",
                  "CHEMBL336538",
                  "active",
                  "COc1ccc(-c2nc(SC)n(C(=O)N(C)C)n2)cc1",
                  "292.364",
                  "2.2053000000000003",
                  "0.0",
                  "6.0",
                  "800.0"
                ],
                [
                  "9",
                  "CHEMBL131051",
                  "inactive",
                  "CSc1nc(-c2ccc(OC(F)(F)F)cc2)nn1C(=O)N(C)c1ccccc1",
                  "408.4050000000001",
                  "4.670100000000003",
                  "0.0",
                  "6.0",
                  "50000.0"
                ],
                [
                  "10",
                  "CHEMBL341437",
                  "inactive",
                  "CCSc1nc(-c2ccc(OC)cc2)nn1C(=O)N1CCOCC1",
                  "348.4280000000002",
                  "2.3659999999999997",
                  "0.0",
                  "7.0",
                  "50000.0"
                ],
                [
                  "11",
                  "CHEMBL335033",
                  "active",
                  "CSc1nc(-c2ccc3ccccc3c2)nn1C(=O)N(C)C",
                  "312.3980000000001",
                  "3.3499000000000017",
                  "0.0",
                  "5.0",
                  "50.0"
                ],
                [
                  "12",
                  "CHEMBL122983",
                  "inactive",
                  "C[C@H]1C(=O)N(C(=O)NCc2ccccc2)[C@@H]1Oc1ccc(C(=O)C(C)(C)C)cc1",
                  "394.4710000000002",
                  "4.0084000000000035",
                  "1.0",
                  "4.0",
                  "100000.0"
                ],
                [
                  "13",
                  "CHEMBL338720",
                  "active",
                  "CSc1nc(-c2ccc(-c3ccccc3)cc2)nn1C(=O)N(C)C",
                  "338.4360000000001",
                  "3.8637000000000032",
                  "0.0",
                  "5.0",
                  "560.0"
                ],
                [
                  "14",
                  "CHEMBL339995",
                  "active",
                  "CSc1nc(/C=C/c2ccccc2)nn1C(=O)N(C)C",
                  "288.37600000000003",
                  "2.700100000000001",
                  "0.0",
                  "5.0",
                  "10.0"
                ],
                [
                  "15",
                  "CHEMBL335158",
                  "active",
                  "CCCCCCSc1nc(-c2ccc(Cl)cc2)nn1C(=O)N1CCCCC1",
                  "406.9830000000003",
                  "5.724900000000006",
                  "0.0",
                  "5.0",
                  "10.0"
                ],
                [
                  "16",
                  "CHEMBL131536",
                  "intermediate",
                  "CSc1nc(-c2ccc(Cl)cc2)nn1C(=O)N(C)c1ccccc1",
                  "358.85400000000004",
                  "4.424900000000004",
                  "0.0",
                  "5.0",
                  "1400.0"
                ],
                [
                  "17",
                  "CHEMBL106126",
                  "inactive",
                  "Cc1c(C(C)C)c(=O)on1C(=O)N1CCC[C@H](C)C1",
                  "266.34099999999995",
                  "2.5731200000000003",
                  "0.0",
                  "4.0",
                  "17000.0"
                ],
                [
                  "18",
                  "CHEMBL334971",
                  "intermediate",
                  "CCSc1nc(-c2ccc(OC)cc2)nn1C(=O)N(C)c1ccccc1",
                  "368.4620000000001",
                  "4.170200000000003",
                  "0.0",
                  "6.0",
                  "1100.0"
                ],
                [
                  "19",
                  "CHEMBL336625",
                  "inactive",
                  "CCCCCCSc1nc(-c2ccc(C)cc2)nn1C(=O)N(C)c1ccccc1",
                  "408.57100000000014",
                  "6.0304200000000066",
                  "0.0",
                  "5.0",
                  "50000.0"
                ],
                [
                  "20",
                  "CHEMBL130666",
                  "active",
                  "CSc1nc(-c2ccc(Cl)cc2)nn1C(=O)N1CCCCC1",
                  "336.8480000000002",
                  "3.7744000000000026",
                  "0.0",
                  "5.0",
                  "26.0"
                ],
                [
                  "21",
                  "CHEMBL134061",
                  "inactive",
                  "O=C(N1CCOCC1)n1nc(-c2ccc(Cl)cc2)nc1SCC(F)(F)F",
                  "406.81700000000006",
                  "3.553200000000002",
                  "0.0",
                  "6.0",
                  "50000.0"
                ],
                [
                  "22",
                  "CHEMBL133388",
                  "active",
                  "CSc1nc(-c2ccc(C)cc2)nn1C(=O)N(C)C",
                  "276.365",
                  "2.5051200000000007",
                  "0.0",
                  "5.0",
                  "800.0"
                ],
                [
                  "23",
                  "CHEMBL130645",
                  "inactive",
                  "CSc1nc(-c2ccc(Cl)cc2)nn1C(=O)N1CCOCC1",
                  "338.82000000000016",
                  "2.620700000000001",
                  "0.0",
                  "6.0",
                  "50000.0"
                ],
                [
                  "24",
                  "CHEMBL133580",
                  "inactive",
                  "CCCCCCSc1nc(-c2ccc(Cl)cc2)nn1C(=O)N(C)c1ccccc1",
                  "428.98900000000015",
                  "6.375400000000006",
                  "0.0",
                  "5.0",
                  "50000.0"
                ],
                [
                  "25",
                  "CHEMBL336524",
                  "active",
                  "CCSc1nc(-c2ccc(Cl)cc2)nn1C(=O)N(C)C",
                  "310.81000000000006",
                  "3.2402000000000015",
                  "0.0",
                  "5.0",
                  "56.0"
                ],
                [
                  "26",
                  "CHEMBL336276",
                  "active",
                  "CCCCCCSc1nc(-c2ccc(C)cc2)nn1C(=O)N(C)C",
                  "346.5000000000001",
                  "4.455620000000004",
                  "0.0",
                  "5.0",
                  "200.0"
                ],
                [
                  "27",
                  "CHEMBL334395",
                  "active",
                  "CCCSc1nc(-c2ccc(Cl)cc2)nn1C(=O)N(C)C",
                  "324.8370000000001",
                  "3.6303000000000027",
                  "0.0",
                  "5.0",
                  "300.0"
                ],
                [
                  "28",
                  "CHEMBL131320",
                  "active",
                  "Cc1ccc(-c2nc(SCC(F)(F)F)n(C(=O)N(C)C)n2)cc1",
                  "344.362",
                  "3.4376200000000017",
                  "0.0",
                  "5.0",
                  "200.0"
                ],
                [
                  "29",
                  "CHEMBL339297",
                  "inactive",
                  "COc1nn(-c2ccc(NC(=O)c3ccc(C(C)(C)C)cc3)cc2)c(=O)o1",
                  "367.4050000000001",
                  "3.3839000000000015",
                  "1.0",
                  "6.0",
                  "50000.0"
                ],
                [
                  "30",
                  "CHEMBL337714",
                  "active",
                  "CSc1nc(-c2ccc(C(F)(F)F)cc2)nn1C(=O)N(C)C",
                  "330.33500000000004",
                  "3.2155000000000022",
                  "0.0",
                  "5.0",
                  "500.0"
                ],
                [
                  "31",
                  "CHEMBL122575",
                  "inactive",
                  "C[C@H]1C(=O)N(C(=O)NCc2ccccc2)[C@@H]1Oc1ccc(C(=O)O)cc1",
                  "354.3620000000001",
                  "2.4778000000000002",
                  "2.0",
                  "4.0",
                  "100000.0"
                ],
                [
                  "32",
                  "CHEMBL130704",
                  "inactive",
                  "CSc1nc(-c2ccc(C)cc2)nn1C(=O)N1CCOCC1",
                  "318.40200000000016",
                  "2.2757199999999997",
                  "0.0",
                  "6.0",
                  "50000.0"
                ],
                [
                  "33",
                  "CHEMBL46151",
                  "inactive",
                  "CCN(CC)CCS/C(=N\\O)C(=O)c1ccc(OC)cc1",
                  "310.41900000000004",
                  "2.7406000000000015",
                  "1.0",
                  "6.0",
                  "260000.0"
                ],
                [
                  "34",
                  "CHEMBL54126",
                  "active",
                  "CN(C)C(=O)Oc1cccc([N+](C)(C)C)c1",
                  "223.29599999999996",
                  "1.9437",
                  "0.0",
                  "2.0",
                  "22.0"
                ],
                [
                  "35",
                  "CHEMBL297316",
                  "inactive",
                  "C[N+](C)(C)CCS/C(=N\\O)C(=O)c1ccc(F)cc1",
                  "285.36400000000003",
                  "2.2355",
                  "1.0",
                  "4.0",
                  "1000000.0"
                ],
                [
                  "36",
                  "CHEMBL65667",
                  "intermediate",
                  "CN1CC[C@@]2(C)c3cc(OC(=O)NCCCN4CCOCC4)ccc3N(C)[C@@H]12",
                  "388.51200000000017",
                  "1.8663999999999992",
                  "1.0",
                  "6.0",
                  "3800.0"
                ],
                [
                  "37",
                  "CHEMBL431519",
                  "active",
                  "CN1CC[C@@]2(C)c3cc(OC(=O)NCCCCCCCCCCN4CCOCC4)ccc3N(C)[C@@H]12",
                  "486.7010000000004",
                  "4.597100000000005",
                  "1.0",
                  "6.0",
                  "40.0"
                ],
                [
                  "38",
                  "CHEMBL296429",
                  "inactive",
                  "Cc1ccc(C(=O)/C(=N/O)SCC[N+](C)(C)C)cc1",
                  "281.401",
                  "2.404820000000001",
                  "1.0",
                  "4.0",
                  "1000000.0"
                ],
                [
                  "39",
                  "CHEMBL154972",
                  "active",
                  "N#CC(C#N)=C1Nc2ccccc2N1CCNCc1ccc(CN2CCCCC2)o1",
                  "402.5020000000003",
                  "3.5459600000000027",
                  "2.0",
                  "7.0",
                  "73.0"
                ],
                [
                  "40",
                  "CHEMBL152722",
                  "intermediate",
                  "COc1cc(N)c(Cl)cc1C(=O)NCCNCc1ccc(CN(C)C)o1",
                  "380.8760000000002",
                  "2.1050000000000004",
                  "3.0",
                  "6.0",
                  "3100.0"
                ],
                [
                  "41",
                  "CHEMBL544022",
                  "inactive",
                  "CCN(CC)CCS/C(=N\\O)C(=O)c1ccc(Cl)cc1",
                  "314.838",
                  "3.3854000000000015",
                  "1.0",
                  "5.0",
                  "520000.0"
                ],
                [
                  "42",
                  "CHEMBL349127",
                  "intermediate",
                  "CN1CCN(Cc2ccc(CNCCN3CCNC3=C(C#N)C#N)o2)CC1",
                  "369.4730000000001",
                  "0.2805600000000022",
                  "2.0",
                  "8.0",
                  "4500.0"
                ],
                [
                  "43",
                  "CHEMBL156659",
                  "intermediate",
                  "Oc1nc2ccccc2n1CCNCc1ccc(CN2CCCCC2)o1",
                  "354.4540000000002",
                  "3.1106000000000016",
                  "2.0",
                  "6.0",
                  "1200.0"
                ],
                [
                  "44",
                  "CHEMBL45118",
                  "inactive",
                  "CC[N+](C)(CC)CCS/C(=N\\O)C(=O)c1ccc(OC)cc1",
                  "325.45400000000006",
                  "2.885200000000001",
                  "1.0",
                  "5.0",
                  "1000000.0"
                ],
                [
                  "45",
                  "CHEMBL542609",
                  "inactive",
                  "Cc1ccc(C(=O)/C(=N/O)SCCN(C)C)cc1",
                  "266.366",
                  "2.2602200000000003",
                  "1.0",
                  "5.0",
                  "1000000.0"
                ],
                [
                  "46",
                  "CHEMBL155322",
                  "active",
                  "CC1CCCCN1Cc1ccc(CNCCN2CCNC2=C(C#N)C#N)o1",
                  "368.4850000000001",
                  "1.90756",
                  "2.0",
                  "7.0",
                  "540.0"
                ],
                [
                  "47",
                  "CHEMBL154211",
                  "active",
                  "N#CC(C#N)=C1NCCN1CCNCc1ccc(CN2CCCCC2)o1",
                  "354.4580000000002",
                  "1.519059999999999",
                  "2.0",
                  "7.0",
                  "30.0"
                ],
                [
                  "48",
                  "CHEMBL1203537",
                  "active",
                  "CNC(NCCNCc1ccc(CN2CCCCC2)o1)=C(C#N)C#N",
                  "342.4470000000001",
                  "1.4228600000000002",
                  "3.0",
                  "7.0",
                  "830.0"
                ],
                [
                  "49",
                  "CHEMBL86",
                  "inactive",
                  "CCN(CC)CCNC(=O)c1cc(Cl)c(N)cc1OC",
                  "299.8020000000001",
                  "2.0023999999999997",
                  "2.0",
                  "4.0",
                  "20000.0"
                ]
              ],
              "shape": {
                "columns": 8,
                "rows": 8127
              }
            },
            "text/html": [
              "<div>\n",
              "<style scoped>\n",
              "    .dataframe tbody tr th:only-of-type {\n",
              "        vertical-align: middle;\n",
              "    }\n",
              "\n",
              "    .dataframe tbody tr th {\n",
              "        vertical-align: top;\n",
              "    }\n",
              "\n",
              "    .dataframe thead th {\n",
              "        text-align: right;\n",
              "    }\n",
              "</style>\n",
              "<table border=\"1\" class=\"dataframe\">\n",
              "  <thead>\n",
              "    <tr style=\"text-align: right;\">\n",
              "      <th></th>\n",
              "      <th>molecule_chembl_id</th>\n",
              "      <th>bioactivity_class</th>\n",
              "      <th>canonical_smiles</th>\n",
              "      <th>MW</th>\n",
              "      <th>LogP</th>\n",
              "      <th>NumHDonors</th>\n",
              "      <th>NumHAcceptors</th>\n",
              "      <th>standard_value_norm</th>\n",
              "    </tr>\n",
              "  </thead>\n",
              "  <tbody>\n",
              "    <tr>\n",
              "      <th>0</th>\n",
              "      <td>CHEMBL133897</td>\n",
              "      <td>active</td>\n",
              "      <td>CCOc1nn(-c2cccc(OCc3ccccc3)c2)c(=O)o1</td>\n",
              "      <td>312.325</td>\n",
              "      <td>2.8032</td>\n",
              "      <td>0.0</td>\n",
              "      <td>6.0</td>\n",
              "      <td>750.0</td>\n",
              "    </tr>\n",
              "    <tr>\n",
              "      <th>1</th>\n",
              "      <td>CHEMBL336398</td>\n",
              "      <td>active</td>\n",
              "      <td>O=C(N1CCCCC1)n1nc(-c2ccc(Cl)cc2)nc1SCC1CC1</td>\n",
              "      <td>376.913</td>\n",
              "      <td>4.5546</td>\n",
              "      <td>0.0</td>\n",
              "      <td>5.0</td>\n",
              "      <td>100.0</td>\n",
              "    </tr>\n",
              "    <tr>\n",
              "      <th>2</th>\n",
              "      <td>CHEMBL131588</td>\n",
              "      <td>inactive</td>\n",
              "      <td>CN(C(=O)n1nc(-c2ccc(Cl)cc2)nc1SCC(F)(F)F)c1ccccc1</td>\n",
              "      <td>426.851</td>\n",
              "      <td>5.3574</td>\n",
              "      <td>0.0</td>\n",
              "      <td>5.0</td>\n",
              "      <td>50000.0</td>\n",
              "    </tr>\n",
              "    <tr>\n",
              "      <th>3</th>\n",
              "      <td>CHEMBL130628</td>\n",
              "      <td>active</td>\n",
              "      <td>O=C(N1CCCCC1)n1nc(-c2ccc(Cl)cc2)nc1SCC(F)(F)F</td>\n",
              "      <td>404.845</td>\n",
              "      <td>4.7069</td>\n",
              "      <td>0.0</td>\n",
              "      <td>5.0</td>\n",
              "      <td>300.0</td>\n",
              "    </tr>\n",
              "    <tr>\n",
              "      <th>4</th>\n",
              "      <td>CHEMBL130478</td>\n",
              "      <td>active</td>\n",
              "      <td>CSc1nc(-c2ccc(OC(F)(F)F)cc2)nn1C(=O)N(C)C</td>\n",
              "      <td>346.334</td>\n",
              "      <td>3.0953</td>\n",
              "      <td>0.0</td>\n",
              "      <td>6.0</td>\n",
              "      <td>800.0</td>\n",
              "    </tr>\n",
              "    <tr>\n",
              "      <th>...</th>\n",
              "      <td>...</td>\n",
              "      <td>...</td>\n",
              "      <td>...</td>\n",
              "      <td>...</td>\n",
              "      <td>...</td>\n",
              "      <td>...</td>\n",
              "      <td>...</td>\n",
              "      <td>...</td>\n",
              "    </tr>\n",
              "    <tr>\n",
              "      <th>8122</th>\n",
              "      <td>CHEMBL5398421</td>\n",
              "      <td>inactive</td>\n",
              "      <td>COc1cc(O)c2c(c1)C(=O)c1cc(O)c(O)cc1CCN2</td>\n",
              "      <td>301.298</td>\n",
              "      <td>2.0110</td>\n",
              "      <td>4.0</td>\n",
              "      <td>6.0</td>\n",
              "      <td>46000.0</td>\n",
              "    </tr>\n",
              "    <tr>\n",
              "      <th>8123</th>\n",
              "      <td>CHEMBL11298</td>\n",
              "      <td>inactive</td>\n",
              "      <td>N[C@@H](CO)C(=O)O</td>\n",
              "      <td>105.093</td>\n",
              "      <td>-1.6094</td>\n",
              "      <td>3.0</td>\n",
              "      <td>3.0</td>\n",
              "      <td>38310.0</td>\n",
              "    </tr>\n",
              "    <tr>\n",
              "      <th>8124</th>\n",
              "      <td>CHEMBL5395312</td>\n",
              "      <td>intermediate</td>\n",
              "      <td>CN1CCN(c2ccc(C(=O)Nc3cc(-c4nc5ccccc5[nH]4)n[nH...</td>\n",
              "      <td>401.474</td>\n",
              "      <td>2.9571</td>\n",
              "      <td>3.0</td>\n",
              "      <td>5.0</td>\n",
              "      <td>1710.0</td>\n",
              "    </tr>\n",
              "    <tr>\n",
              "      <th>8125</th>\n",
              "      <td>CHEMBL5399112</td>\n",
              "      <td>inactive</td>\n",
              "      <td>O=C(Nc1cc(-c2nc3ccccc3[nH]2)n[nH]1)c1ccc(N2CCN...</td>\n",
              "      <td>387.447</td>\n",
              "      <td>2.6149</td>\n",
              "      <td>4.0</td>\n",
              "      <td>5.0</td>\n",
              "      <td>10000.0</td>\n",
              "    </tr>\n",
              "    <tr>\n",
              "      <th>8126</th>\n",
              "      <td>CHEMBL5402411</td>\n",
              "      <td>inactive</td>\n",
              "      <td>O=C(Nc1cc(-c2nc3ccccc3[nH]2)[nH]n1)c1ccc(N2CCO...</td>\n",
              "      <td>388.431</td>\n",
              "      <td>3.0419</td>\n",
              "      <td>3.0</td>\n",
              "      <td>5.0</td>\n",
              "      <td>10000.0</td>\n",
              "    </tr>\n",
              "  </tbody>\n",
              "</table>\n",
              "<p>8127 rows × 8 columns</p>\n",
              "</div>"
            ],
            "text/plain": [
              "     molecule_chembl_id bioactivity_class  \\\n",
              "0          CHEMBL133897            active   \n",
              "1          CHEMBL336398            active   \n",
              "2          CHEMBL131588          inactive   \n",
              "3          CHEMBL130628            active   \n",
              "4          CHEMBL130478            active   \n",
              "...                 ...               ...   \n",
              "8122      CHEMBL5398421          inactive   \n",
              "8123        CHEMBL11298          inactive   \n",
              "8124      CHEMBL5395312      intermediate   \n",
              "8125      CHEMBL5399112          inactive   \n",
              "8126      CHEMBL5402411          inactive   \n",
              "\n",
              "                                       canonical_smiles       MW    LogP  \\\n",
              "0                 CCOc1nn(-c2cccc(OCc3ccccc3)c2)c(=O)o1  312.325  2.8032   \n",
              "1            O=C(N1CCCCC1)n1nc(-c2ccc(Cl)cc2)nc1SCC1CC1  376.913  4.5546   \n",
              "2     CN(C(=O)n1nc(-c2ccc(Cl)cc2)nc1SCC(F)(F)F)c1ccccc1  426.851  5.3574   \n",
              "3         O=C(N1CCCCC1)n1nc(-c2ccc(Cl)cc2)nc1SCC(F)(F)F  404.845  4.7069   \n",
              "4             CSc1nc(-c2ccc(OC(F)(F)F)cc2)nn1C(=O)N(C)C  346.334  3.0953   \n",
              "...                                                 ...      ...     ...   \n",
              "8122            COc1cc(O)c2c(c1)C(=O)c1cc(O)c(O)cc1CCN2  301.298  2.0110   \n",
              "8123                                  N[C@@H](CO)C(=O)O  105.093 -1.6094   \n",
              "8124  CN1CCN(c2ccc(C(=O)Nc3cc(-c4nc5ccccc5[nH]4)n[nH...  401.474  2.9571   \n",
              "8125  O=C(Nc1cc(-c2nc3ccccc3[nH]2)n[nH]1)c1ccc(N2CCN...  387.447  2.6149   \n",
              "8126  O=C(Nc1cc(-c2nc3ccccc3[nH]2)[nH]n1)c1ccc(N2CCO...  388.431  3.0419   \n",
              "\n",
              "      NumHDonors  NumHAcceptors  standard_value_norm  \n",
              "0            0.0            6.0                750.0  \n",
              "1            0.0            5.0                100.0  \n",
              "2            0.0            5.0              50000.0  \n",
              "3            0.0            5.0                300.0  \n",
              "4            0.0            6.0                800.0  \n",
              "...          ...            ...                  ...  \n",
              "8122         4.0            6.0              46000.0  \n",
              "8123         3.0            3.0              38310.0  \n",
              "8124         3.0            5.0               1710.0  \n",
              "8125         4.0            5.0              10000.0  \n",
              "8126         3.0            5.0              10000.0  \n",
              "\n",
              "[8127 rows x 8 columns]"
            ]
          },
          "execution_count": 86,
          "metadata": {},
          "output_type": "execute_result"
        }
      ],
      "source": [
        "df_norm = norm_value(df_combined)\n",
        "df_norm"
      ]
    },
    {
      "cell_type": "code",
      "execution_count": 87,
      "metadata": {
        "colab": {
          "base_uri": "https://localhost:8080/",
          "height": 173
        },
        "colab_type": "code",
        "id": "hb1eKrIjRiH9",
        "outputId": "12b12341-df33-4446-e3cc-2a30ee1fe1f8"
      },
      "outputs": [
        {
          "data": {
            "application/vnd.microsoft.datawrangler.viewer.v0+json": {
              "columns": [
                {
                  "name": "index",
                  "rawType": "object",
                  "type": "string"
                },
                {
                  "name": "standard_value_norm",
                  "rawType": "float64",
                  "type": "float"
                }
              ],
              "ref": "f919a422-2e9a-4475-97d0-e23ad05a8fff",
              "rows": [
                [
                  "count",
                  "8127.0"
                ],
                [
                  "mean",
                  "96228.99859907897"
                ],
                [
                  "std",
                  "984151.6622008637"
                ],
                [
                  "min",
                  "5e-06"
                ],
                [
                  "25%",
                  "100.0"
                ],
                [
                  "50%",
                  "1509.0"
                ],
                [
                  "75%",
                  "12400.0"
                ],
                [
                  "max",
                  "50000000.0"
                ]
              ],
              "shape": {
                "columns": 1,
                "rows": 8
              }
            },
            "text/plain": [
              "count    8.127000e+03\n",
              "mean     9.622900e+04\n",
              "std      9.841517e+05\n",
              "min      5.000000e-06\n",
              "25%      1.000000e+02\n",
              "50%      1.509000e+03\n",
              "75%      1.240000e+04\n",
              "max      5.000000e+07\n",
              "Name: standard_value_norm, dtype: float64"
            ]
          },
          "execution_count": 87,
          "metadata": {},
          "output_type": "execute_result"
        }
      ],
      "source": [
        "df_norm.standard_value_norm.describe()"
      ]
    },
    {
      "cell_type": "code",
      "execution_count": 92,
      "metadata": {
        "colab": {},
        "colab_type": "code",
        "id": "UXMuFQoQ4pZF"
      },
      "outputs": [],
      "source": [
        "# https://github.com/chaninlab/estrogen-receptor-alpha-qsar/blob/master/02_ER_alpha_RO5.ipynb\n",
        "\n",
        "import numpy as np\n",
        "\n",
        "def pIC50(input_df):\n",
        "    pIC50 = []\n",
        "\n",
        "    for i in input_df['standard_value_norm']:\n",
        "        molar = i*(10**-9) # Converts nM to M\n",
        "        pIC50.append(-np.log10(molar))\n",
        "\n",
        "    input_df['pIC50'] = pIC50\n",
        "    x = input_df.drop(columns = 'standard_value_norm', axis = 1) # drop normalised standard_value column         \n",
        "    return x"
      ]
    },
    {
      "cell_type": "code",
      "execution_count": 93,
      "metadata": {
        "colab": {
          "base_uri": "https://localhost:8080/",
          "height": 487
        },
        "colab_type": "code",
        "id": "UDKZzmK57YnS",
        "outputId": "9dde74a3-1198-4c52-a913-c0bd57fbbb4e"
      },
      "outputs": [
        {
          "data": {
            "application/vnd.microsoft.datawrangler.viewer.v0+json": {
              "columns": [
                {
                  "name": "index",
                  "rawType": "int64",
                  "type": "integer"
                },
                {
                  "name": "molecule_chembl_id",
                  "rawType": "object",
                  "type": "string"
                },
                {
                  "name": "bioactivity_class",
                  "rawType": "object",
                  "type": "string"
                },
                {
                  "name": "canonical_smiles",
                  "rawType": "object",
                  "type": "string"
                },
                {
                  "name": "MW",
                  "rawType": "float64",
                  "type": "float"
                },
                {
                  "name": "LogP",
                  "rawType": "float64",
                  "type": "float"
                },
                {
                  "name": "NumHDonors",
                  "rawType": "float64",
                  "type": "float"
                },
                {
                  "name": "NumHAcceptors",
                  "rawType": "float64",
                  "type": "float"
                },
                {
                  "name": "pIC50",
                  "rawType": "float64",
                  "type": "float"
                }
              ],
              "ref": "69ce083a-8045-4c7d-be72-18ddb222a2d6",
              "rows": [
                [
                  "0",
                  "CHEMBL133897",
                  "active",
                  "CCOc1nn(-c2cccc(OCc3ccccc3)c2)c(=O)o1",
                  "312.32500000000005",
                  "2.8032000000000004",
                  "0.0",
                  "6.0",
                  "6.1249387366083"
                ],
                [
                  "1",
                  "CHEMBL336398",
                  "active",
                  "O=C(N1CCCCC1)n1nc(-c2ccc(Cl)cc2)nc1SCC1CC1",
                  "376.9130000000002",
                  "4.554600000000004",
                  "0.0",
                  "5.0",
                  "7.0"
                ],
                [
                  "2",
                  "CHEMBL131588",
                  "inactive",
                  "CN(C(=O)n1nc(-c2ccc(Cl)cc2)nc1SCC(F)(F)F)c1ccccc1",
                  "426.8510000000001",
                  "5.357400000000003",
                  "0.0",
                  "5.0",
                  "4.301029995663981"
                ],
                [
                  "3",
                  "CHEMBL130628",
                  "active",
                  "O=C(N1CCCCC1)n1nc(-c2ccc(Cl)cc2)nc1SCC(F)(F)F",
                  "404.8450000000001",
                  "4.706900000000003",
                  "0.0",
                  "5.0",
                  "6.522878745280337"
                ],
                [
                  "4",
                  "CHEMBL130478",
                  "active",
                  "CSc1nc(-c2ccc(OC(F)(F)F)cc2)nn1C(=O)N(C)C",
                  "346.33400000000006",
                  "3.095300000000001",
                  "0.0",
                  "6.0",
                  "6.096910013008056"
                ],
                [
                  "5",
                  "CHEMBL130112",
                  "intermediate",
                  "CSc1nc(-c2ccc(C)cc2)nn1C(=O)N(C)c1ccccc1",
                  "338.43600000000004",
                  "4.079920000000002",
                  "0.0",
                  "5.0",
                  "5.619788758288394"
                ],
                [
                  "6",
                  "CHEMBL130098",
                  "active",
                  "CSc1nc(-c2ccc(Cl)cc2)nn1C(=O)N(C)C",
                  "296.783",
                  "2.850100000000001",
                  "0.0",
                  "5.0",
                  "7.0"
                ],
                [
                  "7",
                  "CHEMBL337486",
                  "inactive",
                  "CCCCCCSc1nc(-c2ccc(Cl)cc2)nn1C(=O)N1CCOCC1",
                  "408.95500000000027",
                  "4.571200000000005",
                  "0.0",
                  "6.0",
                  "4.301029995663981"
                ],
                [
                  "8",
                  "CHEMBL336538",
                  "active",
                  "COc1ccc(-c2nc(SC)n(C(=O)N(C)C)n2)cc1",
                  "292.364",
                  "2.2053000000000003",
                  "0.0",
                  "6.0",
                  "6.096910013008056"
                ],
                [
                  "9",
                  "CHEMBL131051",
                  "inactive",
                  "CSc1nc(-c2ccc(OC(F)(F)F)cc2)nn1C(=O)N(C)c1ccccc1",
                  "408.4050000000001",
                  "4.670100000000003",
                  "0.0",
                  "6.0",
                  "4.301029995663981"
                ],
                [
                  "10",
                  "CHEMBL341437",
                  "inactive",
                  "CCSc1nc(-c2ccc(OC)cc2)nn1C(=O)N1CCOCC1",
                  "348.4280000000002",
                  "2.3659999999999997",
                  "0.0",
                  "7.0",
                  "4.301029995663981"
                ],
                [
                  "11",
                  "CHEMBL335033",
                  "active",
                  "CSc1nc(-c2ccc3ccccc3c2)nn1C(=O)N(C)C",
                  "312.3980000000001",
                  "3.3499000000000017",
                  "0.0",
                  "5.0",
                  "7.301029995663981"
                ],
                [
                  "12",
                  "CHEMBL122983",
                  "inactive",
                  "C[C@H]1C(=O)N(C(=O)NCc2ccccc2)[C@@H]1Oc1ccc(C(=O)C(C)(C)C)cc1",
                  "394.4710000000002",
                  "4.0084000000000035",
                  "1.0",
                  "4.0",
                  "4.0"
                ],
                [
                  "13",
                  "CHEMBL338720",
                  "active",
                  "CSc1nc(-c2ccc(-c3ccccc3)cc2)nn1C(=O)N(C)C",
                  "338.4360000000001",
                  "3.8637000000000032",
                  "0.0",
                  "5.0",
                  "6.251811972993799"
                ],
                [
                  "14",
                  "CHEMBL339995",
                  "active",
                  "CSc1nc(/C=C/c2ccccc2)nn1C(=O)N(C)C",
                  "288.37600000000003",
                  "2.700100000000001",
                  "0.0",
                  "5.0",
                  "8.0"
                ],
                [
                  "15",
                  "CHEMBL335158",
                  "active",
                  "CCCCCCSc1nc(-c2ccc(Cl)cc2)nn1C(=O)N1CCCCC1",
                  "406.9830000000003",
                  "5.724900000000006",
                  "0.0",
                  "5.0",
                  "8.0"
                ],
                [
                  "16",
                  "CHEMBL131536",
                  "intermediate",
                  "CSc1nc(-c2ccc(Cl)cc2)nn1C(=O)N(C)c1ccccc1",
                  "358.85400000000004",
                  "4.424900000000004",
                  "0.0",
                  "5.0",
                  "5.853871964321762"
                ],
                [
                  "17",
                  "CHEMBL106126",
                  "inactive",
                  "Cc1c(C(C)C)c(=O)on1C(=O)N1CCC[C@H](C)C1",
                  "266.34099999999995",
                  "2.5731200000000003",
                  "0.0",
                  "4.0",
                  "4.769551078621726"
                ],
                [
                  "18",
                  "CHEMBL334971",
                  "intermediate",
                  "CCSc1nc(-c2ccc(OC)cc2)nn1C(=O)N(C)c1ccccc1",
                  "368.4620000000001",
                  "4.170200000000003",
                  "0.0",
                  "6.0",
                  "5.958607314841775"
                ],
                [
                  "19",
                  "CHEMBL336625",
                  "inactive",
                  "CCCCCCSc1nc(-c2ccc(C)cc2)nn1C(=O)N(C)c1ccccc1",
                  "408.57100000000014",
                  "6.0304200000000066",
                  "0.0",
                  "5.0",
                  "4.301029995663981"
                ],
                [
                  "20",
                  "CHEMBL130666",
                  "active",
                  "CSc1nc(-c2ccc(Cl)cc2)nn1C(=O)N1CCCCC1",
                  "336.8480000000002",
                  "3.7744000000000026",
                  "0.0",
                  "5.0",
                  "7.585026652029182"
                ],
                [
                  "21",
                  "CHEMBL134061",
                  "inactive",
                  "O=C(N1CCOCC1)n1nc(-c2ccc(Cl)cc2)nc1SCC(F)(F)F",
                  "406.81700000000006",
                  "3.553200000000002",
                  "0.0",
                  "6.0",
                  "4.301029995663981"
                ],
                [
                  "22",
                  "CHEMBL133388",
                  "active",
                  "CSc1nc(-c2ccc(C)cc2)nn1C(=O)N(C)C",
                  "276.365",
                  "2.5051200000000007",
                  "0.0",
                  "5.0",
                  "6.096910013008056"
                ],
                [
                  "23",
                  "CHEMBL130645",
                  "inactive",
                  "CSc1nc(-c2ccc(Cl)cc2)nn1C(=O)N1CCOCC1",
                  "338.82000000000016",
                  "2.620700000000001",
                  "0.0",
                  "6.0",
                  "4.301029995663981"
                ],
                [
                  "24",
                  "CHEMBL133580",
                  "inactive",
                  "CCCCCCSc1nc(-c2ccc(Cl)cc2)nn1C(=O)N(C)c1ccccc1",
                  "428.98900000000015",
                  "6.375400000000006",
                  "0.0",
                  "5.0",
                  "4.301029995663981"
                ],
                [
                  "25",
                  "CHEMBL336524",
                  "active",
                  "CCSc1nc(-c2ccc(Cl)cc2)nn1C(=O)N(C)C",
                  "310.81000000000006",
                  "3.2402000000000015",
                  "0.0",
                  "5.0",
                  "7.251811972993799"
                ],
                [
                  "26",
                  "CHEMBL336276",
                  "active",
                  "CCCCCCSc1nc(-c2ccc(C)cc2)nn1C(=O)N(C)C",
                  "346.5000000000001",
                  "4.455620000000004",
                  "0.0",
                  "5.0",
                  "6.698970004336019"
                ],
                [
                  "27",
                  "CHEMBL334395",
                  "active",
                  "CCCSc1nc(-c2ccc(Cl)cc2)nn1C(=O)N(C)C",
                  "324.8370000000001",
                  "3.6303000000000027",
                  "0.0",
                  "5.0",
                  "6.522878745280337"
                ],
                [
                  "28",
                  "CHEMBL131320",
                  "active",
                  "Cc1ccc(-c2nc(SCC(F)(F)F)n(C(=O)N(C)C)n2)cc1",
                  "344.362",
                  "3.4376200000000017",
                  "0.0",
                  "5.0",
                  "6.698970004336019"
                ],
                [
                  "29",
                  "CHEMBL339297",
                  "inactive",
                  "COc1nn(-c2ccc(NC(=O)c3ccc(C(C)(C)C)cc3)cc2)c(=O)o1",
                  "367.4050000000001",
                  "3.3839000000000015",
                  "1.0",
                  "6.0",
                  "4.301029995663981"
                ],
                [
                  "30",
                  "CHEMBL337714",
                  "active",
                  "CSc1nc(-c2ccc(C(F)(F)F)cc2)nn1C(=O)N(C)C",
                  "330.33500000000004",
                  "3.2155000000000022",
                  "0.0",
                  "5.0",
                  "6.301029995663981"
                ],
                [
                  "31",
                  "CHEMBL122575",
                  "inactive",
                  "C[C@H]1C(=O)N(C(=O)NCc2ccccc2)[C@@H]1Oc1ccc(C(=O)O)cc1",
                  "354.3620000000001",
                  "2.4778000000000002",
                  "2.0",
                  "4.0",
                  "4.0"
                ],
                [
                  "32",
                  "CHEMBL130704",
                  "inactive",
                  "CSc1nc(-c2ccc(C)cc2)nn1C(=O)N1CCOCC1",
                  "318.40200000000016",
                  "2.2757199999999997",
                  "0.0",
                  "6.0",
                  "4.301029995663981"
                ],
                [
                  "33",
                  "CHEMBL46151",
                  "inactive",
                  "CCN(CC)CCS/C(=N\\O)C(=O)c1ccc(OC)cc1",
                  "310.41900000000004",
                  "2.7406000000000015",
                  "1.0",
                  "6.0",
                  "3.585026652029182"
                ],
                [
                  "34",
                  "CHEMBL54126",
                  "active",
                  "CN(C)C(=O)Oc1cccc([N+](C)(C)C)c1",
                  "223.29599999999996",
                  "1.9437",
                  "0.0",
                  "2.0",
                  "7.657577319177793"
                ],
                [
                  "35",
                  "CHEMBL297316",
                  "inactive",
                  "C[N+](C)(C)CCS/C(=N\\O)C(=O)c1ccc(F)cc1",
                  "285.36400000000003",
                  "2.2355",
                  "1.0",
                  "4.0",
                  "3.0"
                ],
                [
                  "36",
                  "CHEMBL65667",
                  "intermediate",
                  "CN1CC[C@@]2(C)c3cc(OC(=O)NCCCN4CCOCC4)ccc3N(C)[C@@H]12",
                  "388.51200000000017",
                  "1.8663999999999992",
                  "1.0",
                  "6.0",
                  "5.42021640338319"
                ],
                [
                  "37",
                  "CHEMBL431519",
                  "active",
                  "CN1CC[C@@]2(C)c3cc(OC(=O)NCCCCCCCCCCN4CCOCC4)ccc3N(C)[C@@H]12",
                  "486.7010000000004",
                  "4.597100000000005",
                  "1.0",
                  "6.0",
                  "7.3979400086720375"
                ],
                [
                  "38",
                  "CHEMBL296429",
                  "inactive",
                  "Cc1ccc(C(=O)/C(=N/O)SCC[N+](C)(C)C)cc1",
                  "281.401",
                  "2.404820000000001",
                  "1.0",
                  "4.0",
                  "3.0"
                ],
                [
                  "39",
                  "CHEMBL154972",
                  "active",
                  "N#CC(C#N)=C1Nc2ccccc2N1CCNCc1ccc(CN2CCCCC2)o1",
                  "402.5020000000003",
                  "3.5459600000000027",
                  "2.0",
                  "7.0",
                  "7.136677139879544"
                ],
                [
                  "40",
                  "CHEMBL152722",
                  "intermediate",
                  "COc1cc(N)c(Cl)cc1C(=O)NCCNCc1ccc(CN(C)C)o1",
                  "380.8760000000002",
                  "2.1050000000000004",
                  "3.0",
                  "6.0",
                  "5.508638306165727"
                ],
                [
                  "41",
                  "CHEMBL544022",
                  "inactive",
                  "CCN(CC)CCS/C(=N\\O)C(=O)c1ccc(Cl)cc1",
                  "314.838",
                  "3.3854000000000015",
                  "1.0",
                  "5.0",
                  "3.283996656365201"
                ],
                [
                  "42",
                  "CHEMBL349127",
                  "intermediate",
                  "CN1CCN(Cc2ccc(CNCCN3CCNC3=C(C#N)C#N)o2)CC1",
                  "369.4730000000001",
                  "0.2805600000000022",
                  "2.0",
                  "8.0",
                  "5.346787486224656"
                ],
                [
                  "43",
                  "CHEMBL156659",
                  "intermediate",
                  "Oc1nc2ccccc2n1CCNCc1ccc(CN2CCCCC2)o1",
                  "354.4540000000002",
                  "3.1106000000000016",
                  "2.0",
                  "6.0",
                  "5.920818753952375"
                ],
                [
                  "44",
                  "CHEMBL45118",
                  "inactive",
                  "CC[N+](C)(CC)CCS/C(=N\\O)C(=O)c1ccc(OC)cc1",
                  "325.45400000000006",
                  "2.885200000000001",
                  "1.0",
                  "5.0",
                  "3.0"
                ],
                [
                  "45",
                  "CHEMBL542609",
                  "inactive",
                  "Cc1ccc(C(=O)/C(=N/O)SCCN(C)C)cc1",
                  "266.366",
                  "2.2602200000000003",
                  "1.0",
                  "5.0",
                  "3.0"
                ],
                [
                  "46",
                  "CHEMBL155322",
                  "active",
                  "CC1CCCCN1Cc1ccc(CNCCN2CCNC2=C(C#N)C#N)o1",
                  "368.4850000000001",
                  "1.90756",
                  "2.0",
                  "7.0",
                  "6.267606240177032"
                ],
                [
                  "47",
                  "CHEMBL154211",
                  "active",
                  "N#CC(C#N)=C1NCCN1CCNCc1ccc(CN2CCCCC2)o1",
                  "354.4580000000002",
                  "1.519059999999999",
                  "2.0",
                  "7.0",
                  "7.522878745280337"
                ],
                [
                  "48",
                  "CHEMBL1203537",
                  "active",
                  "CNC(NCCNCc1ccc(CN2CCCCC2)o1)=C(C#N)C#N",
                  "342.4470000000001",
                  "1.4228600000000002",
                  "3.0",
                  "7.0",
                  "6.080921907623926"
                ],
                [
                  "49",
                  "CHEMBL86",
                  "inactive",
                  "CCN(CC)CCNC(=O)c1cc(Cl)c(N)cc1OC",
                  "299.8020000000001",
                  "2.0023999999999997",
                  "2.0",
                  "4.0",
                  "4.698970004336019"
                ]
              ],
              "shape": {
                "columns": 8,
                "rows": 8127
              }
            },
            "text/html": [
              "<div>\n",
              "<style scoped>\n",
              "    .dataframe tbody tr th:only-of-type {\n",
              "        vertical-align: middle;\n",
              "    }\n",
              "\n",
              "    .dataframe tbody tr th {\n",
              "        vertical-align: top;\n",
              "    }\n",
              "\n",
              "    .dataframe thead th {\n",
              "        text-align: right;\n",
              "    }\n",
              "</style>\n",
              "<table border=\"1\" class=\"dataframe\">\n",
              "  <thead>\n",
              "    <tr style=\"text-align: right;\">\n",
              "      <th></th>\n",
              "      <th>molecule_chembl_id</th>\n",
              "      <th>bioactivity_class</th>\n",
              "      <th>canonical_smiles</th>\n",
              "      <th>MW</th>\n",
              "      <th>LogP</th>\n",
              "      <th>NumHDonors</th>\n",
              "      <th>NumHAcceptors</th>\n",
              "      <th>pIC50</th>\n",
              "    </tr>\n",
              "  </thead>\n",
              "  <tbody>\n",
              "    <tr>\n",
              "      <th>0</th>\n",
              "      <td>CHEMBL133897</td>\n",
              "      <td>active</td>\n",
              "      <td>CCOc1nn(-c2cccc(OCc3ccccc3)c2)c(=O)o1</td>\n",
              "      <td>312.325</td>\n",
              "      <td>2.8032</td>\n",
              "      <td>0.0</td>\n",
              "      <td>6.0</td>\n",
              "      <td>6.124939</td>\n",
              "    </tr>\n",
              "    <tr>\n",
              "      <th>1</th>\n",
              "      <td>CHEMBL336398</td>\n",
              "      <td>active</td>\n",
              "      <td>O=C(N1CCCCC1)n1nc(-c2ccc(Cl)cc2)nc1SCC1CC1</td>\n",
              "      <td>376.913</td>\n",
              "      <td>4.5546</td>\n",
              "      <td>0.0</td>\n",
              "      <td>5.0</td>\n",
              "      <td>7.000000</td>\n",
              "    </tr>\n",
              "    <tr>\n",
              "      <th>2</th>\n",
              "      <td>CHEMBL131588</td>\n",
              "      <td>inactive</td>\n",
              "      <td>CN(C(=O)n1nc(-c2ccc(Cl)cc2)nc1SCC(F)(F)F)c1ccccc1</td>\n",
              "      <td>426.851</td>\n",
              "      <td>5.3574</td>\n",
              "      <td>0.0</td>\n",
              "      <td>5.0</td>\n",
              "      <td>4.301030</td>\n",
              "    </tr>\n",
              "    <tr>\n",
              "      <th>3</th>\n",
              "      <td>CHEMBL130628</td>\n",
              "      <td>active</td>\n",
              "      <td>O=C(N1CCCCC1)n1nc(-c2ccc(Cl)cc2)nc1SCC(F)(F)F</td>\n",
              "      <td>404.845</td>\n",
              "      <td>4.7069</td>\n",
              "      <td>0.0</td>\n",
              "      <td>5.0</td>\n",
              "      <td>6.522879</td>\n",
              "    </tr>\n",
              "    <tr>\n",
              "      <th>4</th>\n",
              "      <td>CHEMBL130478</td>\n",
              "      <td>active</td>\n",
              "      <td>CSc1nc(-c2ccc(OC(F)(F)F)cc2)nn1C(=O)N(C)C</td>\n",
              "      <td>346.334</td>\n",
              "      <td>3.0953</td>\n",
              "      <td>0.0</td>\n",
              "      <td>6.0</td>\n",
              "      <td>6.096910</td>\n",
              "    </tr>\n",
              "    <tr>\n",
              "      <th>...</th>\n",
              "      <td>...</td>\n",
              "      <td>...</td>\n",
              "      <td>...</td>\n",
              "      <td>...</td>\n",
              "      <td>...</td>\n",
              "      <td>...</td>\n",
              "      <td>...</td>\n",
              "      <td>...</td>\n",
              "    </tr>\n",
              "    <tr>\n",
              "      <th>8122</th>\n",
              "      <td>CHEMBL5398421</td>\n",
              "      <td>inactive</td>\n",
              "      <td>COc1cc(O)c2c(c1)C(=O)c1cc(O)c(O)cc1CCN2</td>\n",
              "      <td>301.298</td>\n",
              "      <td>2.0110</td>\n",
              "      <td>4.0</td>\n",
              "      <td>6.0</td>\n",
              "      <td>4.337242</td>\n",
              "    </tr>\n",
              "    <tr>\n",
              "      <th>8123</th>\n",
              "      <td>CHEMBL11298</td>\n",
              "      <td>inactive</td>\n",
              "      <td>N[C@@H](CO)C(=O)O</td>\n",
              "      <td>105.093</td>\n",
              "      <td>-1.6094</td>\n",
              "      <td>3.0</td>\n",
              "      <td>3.0</td>\n",
              "      <td>4.416688</td>\n",
              "    </tr>\n",
              "    <tr>\n",
              "      <th>8124</th>\n",
              "      <td>CHEMBL5395312</td>\n",
              "      <td>intermediate</td>\n",
              "      <td>CN1CCN(c2ccc(C(=O)Nc3cc(-c4nc5ccccc5[nH]4)n[nH...</td>\n",
              "      <td>401.474</td>\n",
              "      <td>2.9571</td>\n",
              "      <td>3.0</td>\n",
              "      <td>5.0</td>\n",
              "      <td>5.767004</td>\n",
              "    </tr>\n",
              "    <tr>\n",
              "      <th>8125</th>\n",
              "      <td>CHEMBL5399112</td>\n",
              "      <td>inactive</td>\n",
              "      <td>O=C(Nc1cc(-c2nc3ccccc3[nH]2)n[nH]1)c1ccc(N2CCN...</td>\n",
              "      <td>387.447</td>\n",
              "      <td>2.6149</td>\n",
              "      <td>4.0</td>\n",
              "      <td>5.0</td>\n",
              "      <td>5.000000</td>\n",
              "    </tr>\n",
              "    <tr>\n",
              "      <th>8126</th>\n",
              "      <td>CHEMBL5402411</td>\n",
              "      <td>inactive</td>\n",
              "      <td>O=C(Nc1cc(-c2nc3ccccc3[nH]2)[nH]n1)c1ccc(N2CCO...</td>\n",
              "      <td>388.431</td>\n",
              "      <td>3.0419</td>\n",
              "      <td>3.0</td>\n",
              "      <td>5.0</td>\n",
              "      <td>5.000000</td>\n",
              "    </tr>\n",
              "  </tbody>\n",
              "</table>\n",
              "<p>8127 rows × 8 columns</p>\n",
              "</div>"
            ],
            "text/plain": [
              "     molecule_chembl_id bioactivity_class  \\\n",
              "0          CHEMBL133897            active   \n",
              "1          CHEMBL336398            active   \n",
              "2          CHEMBL131588          inactive   \n",
              "3          CHEMBL130628            active   \n",
              "4          CHEMBL130478            active   \n",
              "...                 ...               ...   \n",
              "8122      CHEMBL5398421          inactive   \n",
              "8123        CHEMBL11298          inactive   \n",
              "8124      CHEMBL5395312      intermediate   \n",
              "8125      CHEMBL5399112          inactive   \n",
              "8126      CHEMBL5402411          inactive   \n",
              "\n",
              "                                       canonical_smiles       MW    LogP  \\\n",
              "0                 CCOc1nn(-c2cccc(OCc3ccccc3)c2)c(=O)o1  312.325  2.8032   \n",
              "1            O=C(N1CCCCC1)n1nc(-c2ccc(Cl)cc2)nc1SCC1CC1  376.913  4.5546   \n",
              "2     CN(C(=O)n1nc(-c2ccc(Cl)cc2)nc1SCC(F)(F)F)c1ccccc1  426.851  5.3574   \n",
              "3         O=C(N1CCCCC1)n1nc(-c2ccc(Cl)cc2)nc1SCC(F)(F)F  404.845  4.7069   \n",
              "4             CSc1nc(-c2ccc(OC(F)(F)F)cc2)nn1C(=O)N(C)C  346.334  3.0953   \n",
              "...                                                 ...      ...     ...   \n",
              "8122            COc1cc(O)c2c(c1)C(=O)c1cc(O)c(O)cc1CCN2  301.298  2.0110   \n",
              "8123                                  N[C@@H](CO)C(=O)O  105.093 -1.6094   \n",
              "8124  CN1CCN(c2ccc(C(=O)Nc3cc(-c4nc5ccccc5[nH]4)n[nH...  401.474  2.9571   \n",
              "8125  O=C(Nc1cc(-c2nc3ccccc3[nH]2)n[nH]1)c1ccc(N2CCN...  387.447  2.6149   \n",
              "8126  O=C(Nc1cc(-c2nc3ccccc3[nH]2)[nH]n1)c1ccc(N2CCO...  388.431  3.0419   \n",
              "\n",
              "      NumHDonors  NumHAcceptors     pIC50  \n",
              "0            0.0            6.0  6.124939  \n",
              "1            0.0            5.0  7.000000  \n",
              "2            0.0            5.0  4.301030  \n",
              "3            0.0            5.0  6.522879  \n",
              "4            0.0            6.0  6.096910  \n",
              "...          ...            ...       ...  \n",
              "8122         4.0            6.0  4.337242  \n",
              "8123         3.0            3.0  4.416688  \n",
              "8124         3.0            5.0  5.767004  \n",
              "8125         4.0            5.0  5.000000  \n",
              "8126         3.0            5.0  5.000000  \n",
              "\n",
              "[8127 rows x 8 columns]"
            ]
          },
          "execution_count": 93,
          "metadata": {},
          "output_type": "execute_result"
        }
      ],
      "source": [
        "df_final = pIC50(df_norm)\n",
        "df_final"
      ]
    },
    {
      "cell_type": "code",
      "execution_count": 94,
      "metadata": {
        "colab": {
          "base_uri": "https://localhost:8080/",
          "height": 173
        },
        "colab_type": "code",
        "id": "BoqY53udSTYC",
        "outputId": "65595f1e-9547-4934-e958-b04825cf2316"
      },
      "outputs": [
        {
          "data": {
            "application/vnd.microsoft.datawrangler.viewer.v0+json": {
              "columns": [
                {
                  "name": "index",
                  "rawType": "object",
                  "type": "string"
                },
                {
                  "name": "pIC50",
                  "rawType": "float64",
                  "type": "float"
                }
              ],
              "ref": "dda63936-ec34-4319-ad2a-a324fba53524",
              "rows": [
                [
                  "count",
                  "8127.0"
                ],
                [
                  "mean",
                  "5.960072628706868"
                ],
                [
                  "std",
                  "1.5838412286894101"
                ],
                [
                  "min",
                  "1.3010299956639813"
                ],
                [
                  "25%",
                  "4.906578314837765"
                ],
                [
                  "50%",
                  "5.82131076022441"
                ],
                [
                  "75%",
                  "7.0"
                ],
                [
                  "max",
                  "14.301029995663981"
                ]
              ],
              "shape": {
                "columns": 1,
                "rows": 8
              }
            },
            "text/plain": [
              "count    8127.000000\n",
              "mean        5.960073\n",
              "std         1.583841\n",
              "min         1.301030\n",
              "25%         4.906578\n",
              "50%         5.821311\n",
              "75%         7.000000\n",
              "max        14.301030\n",
              "Name: pIC50, dtype: float64"
            ]
          },
          "execution_count": 94,
          "metadata": {},
          "output_type": "execute_result"
        }
      ],
      "source": [
        "df_final.pIC50.describe()"
      ]
    },
    {
      "cell_type": "code",
      "execution_count": null,
      "metadata": {},
      "outputs": [],
      "source": [
        "df_final.to_csv('./data/acetylcholinesterase_bioactivity_3class_data.csv', index=False)"
      ]
    },
    {
      "cell_type": "code",
      "execution_count": 1,
      "metadata": {},
      "outputs": [],
      "source": [
        "import pandas as pd\n",
        "df_final = pd.read_csv('./data/acetylcholinesterase_bioactivity_3class_data.csv')"
      ]
    },
    {
      "cell_type": "markdown",
      "metadata": {
        "colab_type": "text",
        "id": "05vHBWvqaQtb"
      },
      "source": [
        "### **Removing the 'intermediate' bioactivity class**\n",
        "Here, we will be removing the ``intermediate`` class from our data set."
      ]
    },
    {
      "cell_type": "code",
      "execution_count": 2,
      "metadata": {
        "colab": {
          "base_uri": "https://localhost:8080/",
          "height": 470
        },
        "colab_type": "code",
        "id": "HmrndhDW3c7Z",
        "outputId": "e3216e27-a94a-4848-8f18-c1c2533ad00f"
      },
      "outputs": [
        {
          "data": {
            "application/vnd.microsoft.datawrangler.viewer.v0+json": {
              "columns": [
                {
                  "name": "index",
                  "rawType": "int64",
                  "type": "integer"
                },
                {
                  "name": "molecule_chembl_id",
                  "rawType": "object",
                  "type": "string"
                },
                {
                  "name": "bioactivity_class",
                  "rawType": "object",
                  "type": "string"
                },
                {
                  "name": "canonical_smiles",
                  "rawType": "object",
                  "type": "string"
                },
                {
                  "name": "MW",
                  "rawType": "float64",
                  "type": "float"
                },
                {
                  "name": "LogP",
                  "rawType": "float64",
                  "type": "float"
                },
                {
                  "name": "NumHDonors",
                  "rawType": "float64",
                  "type": "float"
                },
                {
                  "name": "NumHAcceptors",
                  "rawType": "float64",
                  "type": "float"
                },
                {
                  "name": "pIC50",
                  "rawType": "float64",
                  "type": "float"
                }
              ],
              "ref": "390a75f9-c60e-4e7b-9fac-ddbcd0cd8931",
              "rows": [
                [
                  "0",
                  "CHEMBL133897",
                  "active",
                  "CCOc1nn(-c2cccc(OCc3ccccc3)c2)c(=O)o1",
                  "312.32500000000005",
                  "2.8032000000000004",
                  "0.0",
                  "6.0",
                  "6.1249387366083"
                ],
                [
                  "1",
                  "CHEMBL336398",
                  "active",
                  "O=C(N1CCCCC1)n1nc(-c2ccc(Cl)cc2)nc1SCC1CC1",
                  "376.9130000000002",
                  "4.554600000000004",
                  "0.0",
                  "5.0",
                  "7.0"
                ],
                [
                  "2",
                  "CHEMBL131588",
                  "inactive",
                  "CN(C(=O)n1nc(-c2ccc(Cl)cc2)nc1SCC(F)(F)F)c1ccccc1",
                  "426.8510000000001",
                  "5.357400000000003",
                  "0.0",
                  "5.0",
                  "4.301029995663981"
                ],
                [
                  "3",
                  "CHEMBL130628",
                  "active",
                  "O=C(N1CCCCC1)n1nc(-c2ccc(Cl)cc2)nc1SCC(F)(F)F",
                  "404.8450000000001",
                  "4.706900000000003",
                  "0.0",
                  "5.0",
                  "6.522878745280337"
                ],
                [
                  "4",
                  "CHEMBL130478",
                  "active",
                  "CSc1nc(-c2ccc(OC(F)(F)F)cc2)nn1C(=O)N(C)C",
                  "346.33400000000006",
                  "3.095300000000001",
                  "0.0",
                  "6.0",
                  "6.096910013008056"
                ],
                [
                  "6",
                  "CHEMBL130098",
                  "active",
                  "CSc1nc(-c2ccc(Cl)cc2)nn1C(=O)N(C)C",
                  "296.783",
                  "2.850100000000001",
                  "0.0",
                  "5.0",
                  "7.0"
                ],
                [
                  "7",
                  "CHEMBL337486",
                  "inactive",
                  "CCCCCCSc1nc(-c2ccc(Cl)cc2)nn1C(=O)N1CCOCC1",
                  "408.95500000000027",
                  "4.571200000000005",
                  "0.0",
                  "6.0",
                  "4.301029995663981"
                ],
                [
                  "8",
                  "CHEMBL336538",
                  "active",
                  "COc1ccc(-c2nc(SC)n(C(=O)N(C)C)n2)cc1",
                  "292.364",
                  "2.2053000000000003",
                  "0.0",
                  "6.0",
                  "6.096910013008056"
                ],
                [
                  "9",
                  "CHEMBL131051",
                  "inactive",
                  "CSc1nc(-c2ccc(OC(F)(F)F)cc2)nn1C(=O)N(C)c1ccccc1",
                  "408.4050000000001",
                  "4.670100000000003",
                  "0.0",
                  "6.0",
                  "4.301029995663981"
                ],
                [
                  "10",
                  "CHEMBL341437",
                  "inactive",
                  "CCSc1nc(-c2ccc(OC)cc2)nn1C(=O)N1CCOCC1",
                  "348.4280000000002",
                  "2.366",
                  "0.0",
                  "7.0",
                  "4.301029995663981"
                ],
                [
                  "11",
                  "CHEMBL335033",
                  "active",
                  "CSc1nc(-c2ccc3ccccc3c2)nn1C(=O)N(C)C",
                  "312.3980000000001",
                  "3.3499000000000017",
                  "0.0",
                  "5.0",
                  "7.301029995663981"
                ],
                [
                  "12",
                  "CHEMBL122983",
                  "inactive",
                  "C[C@H]1C(=O)N(C(=O)NCc2ccccc2)[C@@H]1Oc1ccc(C(=O)C(C)(C)C)cc1",
                  "394.4710000000002",
                  "4.008400000000004",
                  "1.0",
                  "4.0",
                  "4.0"
                ],
                [
                  "13",
                  "CHEMBL338720",
                  "active",
                  "CSc1nc(-c2ccc(-c3ccccc3)cc2)nn1C(=O)N(C)C",
                  "338.4360000000001",
                  "3.8637000000000032",
                  "0.0",
                  "5.0",
                  "6.251811972993799"
                ],
                [
                  "14",
                  "CHEMBL339995",
                  "active",
                  "CSc1nc(/C=C/c2ccccc2)nn1C(=O)N(C)C",
                  "288.37600000000003",
                  "2.700100000000001",
                  "0.0",
                  "5.0",
                  "8.0"
                ],
                [
                  "15",
                  "CHEMBL335158",
                  "active",
                  "CCCCCCSc1nc(-c2ccc(Cl)cc2)nn1C(=O)N1CCCCC1",
                  "406.9830000000003",
                  "5.724900000000006",
                  "0.0",
                  "5.0",
                  "8.0"
                ],
                [
                  "17",
                  "CHEMBL106126",
                  "inactive",
                  "Cc1c(C(C)C)c(=O)on1C(=O)N1CCC[C@H](C)C1",
                  "266.34099999999995",
                  "2.5731200000000003",
                  "0.0",
                  "4.0",
                  "4.769551078621726"
                ],
                [
                  "19",
                  "CHEMBL336625",
                  "inactive",
                  "CCCCCCSc1nc(-c2ccc(C)cc2)nn1C(=O)N(C)c1ccccc1",
                  "408.57100000000014",
                  "6.030420000000007",
                  "0.0",
                  "5.0",
                  "4.301029995663981"
                ],
                [
                  "20",
                  "CHEMBL130666",
                  "active",
                  "CSc1nc(-c2ccc(Cl)cc2)nn1C(=O)N1CCCCC1",
                  "336.8480000000002",
                  "3.774400000000002",
                  "0.0",
                  "5.0",
                  "7.585026652029182"
                ],
                [
                  "21",
                  "CHEMBL134061",
                  "inactive",
                  "O=C(N1CCOCC1)n1nc(-c2ccc(Cl)cc2)nc1SCC(F)(F)F",
                  "406.81700000000006",
                  "3.553200000000002",
                  "0.0",
                  "6.0",
                  "4.301029995663981"
                ],
                [
                  "22",
                  "CHEMBL133388",
                  "active",
                  "CSc1nc(-c2ccc(C)cc2)nn1C(=O)N(C)C",
                  "276.365",
                  "2.5051200000000007",
                  "0.0",
                  "5.0",
                  "6.096910013008056"
                ],
                [
                  "23",
                  "CHEMBL130645",
                  "inactive",
                  "CSc1nc(-c2ccc(Cl)cc2)nn1C(=O)N1CCOCC1",
                  "338.82000000000016",
                  "2.620700000000001",
                  "0.0",
                  "6.0",
                  "4.301029995663981"
                ],
                [
                  "24",
                  "CHEMBL133580",
                  "inactive",
                  "CCCCCCSc1nc(-c2ccc(Cl)cc2)nn1C(=O)N(C)c1ccccc1",
                  "428.98900000000015",
                  "6.375400000000006",
                  "0.0",
                  "5.0",
                  "4.301029995663981"
                ],
                [
                  "25",
                  "CHEMBL336524",
                  "active",
                  "CCSc1nc(-c2ccc(Cl)cc2)nn1C(=O)N(C)C",
                  "310.81000000000006",
                  "3.240200000000001",
                  "0.0",
                  "5.0",
                  "7.251811972993799"
                ],
                [
                  "26",
                  "CHEMBL336276",
                  "active",
                  "CCCCCCSc1nc(-c2ccc(C)cc2)nn1C(=O)N(C)C",
                  "346.5000000000001",
                  "4.455620000000004",
                  "0.0",
                  "5.0",
                  "6.698970004336019"
                ],
                [
                  "27",
                  "CHEMBL334395",
                  "active",
                  "CCCSc1nc(-c2ccc(Cl)cc2)nn1C(=O)N(C)C",
                  "324.8370000000001",
                  "3.6303000000000023",
                  "0.0",
                  "5.0",
                  "6.522878745280337"
                ],
                [
                  "28",
                  "CHEMBL131320",
                  "active",
                  "Cc1ccc(-c2nc(SCC(F)(F)F)n(C(=O)N(C)C)n2)cc1",
                  "344.362",
                  "3.4376200000000017",
                  "0.0",
                  "5.0",
                  "6.698970004336019"
                ],
                [
                  "29",
                  "CHEMBL339297",
                  "inactive",
                  "COc1nn(-c2ccc(NC(=O)c3ccc(C(C)(C)C)cc3)cc2)c(=O)o1",
                  "367.4050000000001",
                  "3.383900000000001",
                  "1.0",
                  "6.0",
                  "4.301029995663981"
                ],
                [
                  "30",
                  "CHEMBL337714",
                  "active",
                  "CSc1nc(-c2ccc(C(F)(F)F)cc2)nn1C(=O)N(C)C",
                  "330.33500000000004",
                  "3.2155000000000022",
                  "0.0",
                  "5.0",
                  "6.301029995663981"
                ],
                [
                  "31",
                  "CHEMBL122575",
                  "inactive",
                  "C[C@H]1C(=O)N(C(=O)NCc2ccccc2)[C@@H]1Oc1ccc(C(=O)O)cc1",
                  "354.3620000000001",
                  "2.4778",
                  "2.0",
                  "4.0",
                  "4.0"
                ],
                [
                  "32",
                  "CHEMBL130704",
                  "inactive",
                  "CSc1nc(-c2ccc(C)cc2)nn1C(=O)N1CCOCC1",
                  "318.40200000000016",
                  "2.27572",
                  "0.0",
                  "6.0",
                  "4.301029995663981"
                ],
                [
                  "33",
                  "CHEMBL46151",
                  "inactive",
                  "CCN(CC)CCS/C(=N\\O)C(=O)c1ccc(OC)cc1",
                  "310.41900000000004",
                  "2.740600000000001",
                  "1.0",
                  "6.0",
                  "3.585026652029182"
                ],
                [
                  "34",
                  "CHEMBL54126",
                  "active",
                  "CN(C)C(=O)Oc1cccc([N+](C)(C)C)c1",
                  "223.296",
                  "1.9437",
                  "0.0",
                  "2.0",
                  "7.657577319177793"
                ],
                [
                  "35",
                  "CHEMBL297316",
                  "inactive",
                  "C[N+](C)(C)CCS/C(=N\\O)C(=O)c1ccc(F)cc1",
                  "285.36400000000003",
                  "2.2355",
                  "1.0",
                  "4.0",
                  "3.0"
                ],
                [
                  "37",
                  "CHEMBL431519",
                  "active",
                  "CN1CC[C@@]2(C)c3cc(OC(=O)NCCCCCCCCCCN4CCOCC4)ccc3N(C)[C@@H]12",
                  "486.7010000000004",
                  "4.597100000000005",
                  "1.0",
                  "6.0",
                  "7.397940008672037"
                ],
                [
                  "38",
                  "CHEMBL296429",
                  "inactive",
                  "Cc1ccc(C(=O)/C(=N/O)SCC[N+](C)(C)C)cc1",
                  "281.401",
                  "2.404820000000001",
                  "1.0",
                  "4.0",
                  "3.0"
                ],
                [
                  "39",
                  "CHEMBL154972",
                  "active",
                  "N#CC(C#N)=C1Nc2ccccc2N1CCNCc1ccc(CN2CCCCC2)o1",
                  "402.5020000000003",
                  "3.5459600000000027",
                  "2.0",
                  "7.0",
                  "7.136677139879544"
                ],
                [
                  "41",
                  "CHEMBL544022",
                  "inactive",
                  "CCN(CC)CCS/C(=N\\O)C(=O)c1ccc(Cl)cc1",
                  "314.838",
                  "3.385400000000001",
                  "1.0",
                  "5.0",
                  "3.283996656365201"
                ],
                [
                  "44",
                  "CHEMBL45118",
                  "inactive",
                  "CC[N+](C)(CC)CCS/C(=N\\O)C(=O)c1ccc(OC)cc1",
                  "325.45400000000006",
                  "2.885200000000001",
                  "1.0",
                  "5.0",
                  "3.0"
                ],
                [
                  "45",
                  "CHEMBL542609",
                  "inactive",
                  "Cc1ccc(C(=O)/C(=N/O)SCCN(C)C)cc1",
                  "266.366",
                  "2.2602200000000003",
                  "1.0",
                  "5.0",
                  "3.0"
                ],
                [
                  "46",
                  "CHEMBL155322",
                  "active",
                  "CC1CCCCN1Cc1ccc(CNCCN2CCNC2=C(C#N)C#N)o1",
                  "368.4850000000001",
                  "1.90756",
                  "2.0",
                  "7.0",
                  "6.267606240177032"
                ],
                [
                  "47",
                  "CHEMBL154211",
                  "active",
                  "N#CC(C#N)=C1NCCN1CCNCc1ccc(CN2CCCCC2)o1",
                  "354.4580000000002",
                  "1.519059999999999",
                  "2.0",
                  "7.0",
                  "7.522878745280337"
                ],
                [
                  "48",
                  "CHEMBL1203537",
                  "active",
                  "CNC(NCCNCc1ccc(CN2CCCCC2)o1)=C(C#N)C#N",
                  "342.4470000000001",
                  "1.4228600000000002",
                  "3.0",
                  "7.0",
                  "6.080921907623926"
                ],
                [
                  "49",
                  "CHEMBL86",
                  "inactive",
                  "CCN(CC)CCNC(=O)c1cc(Cl)c(N)cc1OC",
                  "299.8020000000001",
                  "2.0024",
                  "2.0",
                  "4.0",
                  "4.698970004336019"
                ],
                [
                  "50",
                  "CHEMBL47375",
                  "inactive",
                  "COc1ccc(C(=O)/C(=N/O)SCC[N+](C)(C)C)cc1",
                  "297.4",
                  "2.105",
                  "1.0",
                  "5.0",
                  "3.0"
                ],
                [
                  "51",
                  "CHEMBL542360",
                  "inactive",
                  "CN(C)CCS/C(=N\\O)C(=O)c1ccc(Cl)cc1",
                  "286.784",
                  "2.605200000000001",
                  "1.0",
                  "5.0",
                  "3.0"
                ],
                [
                  "52",
                  "CHEMBL345849",
                  "active",
                  "N#CC(C#N)=C1NCCN1CCNCc1ccc(CN2CCC(O)CC2)o1",
                  "370.45700000000016",
                  "0.4898599999999996",
                  "3.0",
                  "8.0",
                  "6.4089353929735005"
                ],
                [
                  "53",
                  "CHEMBL154689",
                  "active",
                  "CN(C)Cc1ccc(CNCCN2CCNC2=C(C#N)C#N)o1",
                  "314.39300000000003",
                  "0.5947600000000013",
                  "2.0",
                  "7.0",
                  "6.4089353929735005"
                ],
                [
                  "54",
                  "CHEMBL346733",
                  "active",
                  "CCN(C)Cc1ccc(CNCCN2CCNC2=C(C#N)C#N)o1",
                  "328.42",
                  "0.98486",
                  "2.0",
                  "7.0",
                  "6.366531544420414"
                ],
                [
                  "55",
                  "CHEMBL416464",
                  "inactive",
                  "COc1ccc(C(=O)/C(=N/O)SCCN(C)C)cc1",
                  "282.36499999999995",
                  "1.9604",
                  "1.0",
                  "6.0",
                  "3.0"
                ],
                [
                  "56",
                  "CHEMBL1203539",
                  "active",
                  "CCN(CC)Cc1ccc(CNCCN2CCNC2=C(C#N)C#N)o1",
                  "342.44700000000006",
                  "1.3749600000000006",
                  "2.0",
                  "7.0",
                  "6.221848749616356"
                ]
              ],
              "shape": {
                "columns": 8,
                "rows": 6219
              }
            },
            "text/html": [
              "<div>\n",
              "<style scoped>\n",
              "    .dataframe tbody tr th:only-of-type {\n",
              "        vertical-align: middle;\n",
              "    }\n",
              "\n",
              "    .dataframe tbody tr th {\n",
              "        vertical-align: top;\n",
              "    }\n",
              "\n",
              "    .dataframe thead th {\n",
              "        text-align: right;\n",
              "    }\n",
              "</style>\n",
              "<table border=\"1\" class=\"dataframe\">\n",
              "  <thead>\n",
              "    <tr style=\"text-align: right;\">\n",
              "      <th></th>\n",
              "      <th>molecule_chembl_id</th>\n",
              "      <th>bioactivity_class</th>\n",
              "      <th>canonical_smiles</th>\n",
              "      <th>MW</th>\n",
              "      <th>LogP</th>\n",
              "      <th>NumHDonors</th>\n",
              "      <th>NumHAcceptors</th>\n",
              "      <th>pIC50</th>\n",
              "    </tr>\n",
              "  </thead>\n",
              "  <tbody>\n",
              "    <tr>\n",
              "      <th>0</th>\n",
              "      <td>CHEMBL133897</td>\n",
              "      <td>active</td>\n",
              "      <td>CCOc1nn(-c2cccc(OCc3ccccc3)c2)c(=O)o1</td>\n",
              "      <td>312.325</td>\n",
              "      <td>2.8032</td>\n",
              "      <td>0.0</td>\n",
              "      <td>6.0</td>\n",
              "      <td>6.124939</td>\n",
              "    </tr>\n",
              "    <tr>\n",
              "      <th>1</th>\n",
              "      <td>CHEMBL336398</td>\n",
              "      <td>active</td>\n",
              "      <td>O=C(N1CCCCC1)n1nc(-c2ccc(Cl)cc2)nc1SCC1CC1</td>\n",
              "      <td>376.913</td>\n",
              "      <td>4.5546</td>\n",
              "      <td>0.0</td>\n",
              "      <td>5.0</td>\n",
              "      <td>7.000000</td>\n",
              "    </tr>\n",
              "    <tr>\n",
              "      <th>2</th>\n",
              "      <td>CHEMBL131588</td>\n",
              "      <td>inactive</td>\n",
              "      <td>CN(C(=O)n1nc(-c2ccc(Cl)cc2)nc1SCC(F)(F)F)c1ccccc1</td>\n",
              "      <td>426.851</td>\n",
              "      <td>5.3574</td>\n",
              "      <td>0.0</td>\n",
              "      <td>5.0</td>\n",
              "      <td>4.301030</td>\n",
              "    </tr>\n",
              "    <tr>\n",
              "      <th>3</th>\n",
              "      <td>CHEMBL130628</td>\n",
              "      <td>active</td>\n",
              "      <td>O=C(N1CCCCC1)n1nc(-c2ccc(Cl)cc2)nc1SCC(F)(F)F</td>\n",
              "      <td>404.845</td>\n",
              "      <td>4.7069</td>\n",
              "      <td>0.0</td>\n",
              "      <td>5.0</td>\n",
              "      <td>6.522879</td>\n",
              "    </tr>\n",
              "    <tr>\n",
              "      <th>4</th>\n",
              "      <td>CHEMBL130478</td>\n",
              "      <td>active</td>\n",
              "      <td>CSc1nc(-c2ccc(OC(F)(F)F)cc2)nn1C(=O)N(C)C</td>\n",
              "      <td>346.334</td>\n",
              "      <td>3.0953</td>\n",
              "      <td>0.0</td>\n",
              "      <td>6.0</td>\n",
              "      <td>6.096910</td>\n",
              "    </tr>\n",
              "    <tr>\n",
              "      <th>...</th>\n",
              "      <td>...</td>\n",
              "      <td>...</td>\n",
              "      <td>...</td>\n",
              "      <td>...</td>\n",
              "      <td>...</td>\n",
              "      <td>...</td>\n",
              "      <td>...</td>\n",
              "      <td>...</td>\n",
              "    </tr>\n",
              "    <tr>\n",
              "      <th>8121</th>\n",
              "      <td>CHEMBL5435795</td>\n",
              "      <td>inactive</td>\n",
              "      <td>O=Cc1ccc2n1CCc1cc(O)c(O)cc1C2</td>\n",
              "      <td>243.262</td>\n",
              "      <td>1.8587</td>\n",
              "      <td>2.0</td>\n",
              "      <td>4.0</td>\n",
              "      <td>4.233810</td>\n",
              "    </tr>\n",
              "    <tr>\n",
              "      <th>8122</th>\n",
              "      <td>CHEMBL5398421</td>\n",
              "      <td>inactive</td>\n",
              "      <td>COc1cc(O)c2c(c1)C(=O)c1cc(O)c(O)cc1CCN2</td>\n",
              "      <td>301.298</td>\n",
              "      <td>2.0110</td>\n",
              "      <td>4.0</td>\n",
              "      <td>6.0</td>\n",
              "      <td>4.337242</td>\n",
              "    </tr>\n",
              "    <tr>\n",
              "      <th>8123</th>\n",
              "      <td>CHEMBL11298</td>\n",
              "      <td>inactive</td>\n",
              "      <td>N[C@@H](CO)C(=O)O</td>\n",
              "      <td>105.093</td>\n",
              "      <td>-1.6094</td>\n",
              "      <td>3.0</td>\n",
              "      <td>3.0</td>\n",
              "      <td>4.416688</td>\n",
              "    </tr>\n",
              "    <tr>\n",
              "      <th>8125</th>\n",
              "      <td>CHEMBL5399112</td>\n",
              "      <td>inactive</td>\n",
              "      <td>O=C(Nc1cc(-c2nc3ccccc3[nH]2)n[nH]1)c1ccc(N2CCN...</td>\n",
              "      <td>387.447</td>\n",
              "      <td>2.6149</td>\n",
              "      <td>4.0</td>\n",
              "      <td>5.0</td>\n",
              "      <td>5.000000</td>\n",
              "    </tr>\n",
              "    <tr>\n",
              "      <th>8126</th>\n",
              "      <td>CHEMBL5402411</td>\n",
              "      <td>inactive</td>\n",
              "      <td>O=C(Nc1cc(-c2nc3ccccc3[nH]2)[nH]n1)c1ccc(N2CCO...</td>\n",
              "      <td>388.431</td>\n",
              "      <td>3.0419</td>\n",
              "      <td>3.0</td>\n",
              "      <td>5.0</td>\n",
              "      <td>5.000000</td>\n",
              "    </tr>\n",
              "  </tbody>\n",
              "</table>\n",
              "<p>6219 rows × 8 columns</p>\n",
              "</div>"
            ],
            "text/plain": [
              "     molecule_chembl_id bioactivity_class  \\\n",
              "0          CHEMBL133897            active   \n",
              "1          CHEMBL336398            active   \n",
              "2          CHEMBL131588          inactive   \n",
              "3          CHEMBL130628            active   \n",
              "4          CHEMBL130478            active   \n",
              "...                 ...               ...   \n",
              "8121      CHEMBL5435795          inactive   \n",
              "8122      CHEMBL5398421          inactive   \n",
              "8123        CHEMBL11298          inactive   \n",
              "8125      CHEMBL5399112          inactive   \n",
              "8126      CHEMBL5402411          inactive   \n",
              "\n",
              "                                       canonical_smiles       MW    LogP  \\\n",
              "0                 CCOc1nn(-c2cccc(OCc3ccccc3)c2)c(=O)o1  312.325  2.8032   \n",
              "1            O=C(N1CCCCC1)n1nc(-c2ccc(Cl)cc2)nc1SCC1CC1  376.913  4.5546   \n",
              "2     CN(C(=O)n1nc(-c2ccc(Cl)cc2)nc1SCC(F)(F)F)c1ccccc1  426.851  5.3574   \n",
              "3         O=C(N1CCCCC1)n1nc(-c2ccc(Cl)cc2)nc1SCC(F)(F)F  404.845  4.7069   \n",
              "4             CSc1nc(-c2ccc(OC(F)(F)F)cc2)nn1C(=O)N(C)C  346.334  3.0953   \n",
              "...                                                 ...      ...     ...   \n",
              "8121                      O=Cc1ccc2n1CCc1cc(O)c(O)cc1C2  243.262  1.8587   \n",
              "8122            COc1cc(O)c2c(c1)C(=O)c1cc(O)c(O)cc1CCN2  301.298  2.0110   \n",
              "8123                                  N[C@@H](CO)C(=O)O  105.093 -1.6094   \n",
              "8125  O=C(Nc1cc(-c2nc3ccccc3[nH]2)n[nH]1)c1ccc(N2CCN...  387.447  2.6149   \n",
              "8126  O=C(Nc1cc(-c2nc3ccccc3[nH]2)[nH]n1)c1ccc(N2CCO...  388.431  3.0419   \n",
              "\n",
              "      NumHDonors  NumHAcceptors     pIC50  \n",
              "0            0.0            6.0  6.124939  \n",
              "1            0.0            5.0  7.000000  \n",
              "2            0.0            5.0  4.301030  \n",
              "3            0.0            5.0  6.522879  \n",
              "4            0.0            6.0  6.096910  \n",
              "...          ...            ...       ...  \n",
              "8121         2.0            4.0  4.233810  \n",
              "8122         4.0            6.0  4.337242  \n",
              "8123         3.0            3.0  4.416688  \n",
              "8125         4.0            5.0  5.000000  \n",
              "8126         3.0            5.0  5.000000  \n",
              "\n",
              "[6219 rows x 8 columns]"
            ]
          },
          "execution_count": 2,
          "metadata": {},
          "output_type": "execute_result"
        }
      ],
      "source": [
        "df_2class = df_final[df_final['bioactivity_class'] != 'intermediate']\n",
        "# df_2class=df_2class.reset_index()\n",
        "df_2class"
      ]
    },
    {
      "cell_type": "code",
      "execution_count": 3,
      "metadata": {},
      "outputs": [],
      "source": [
        "df_2class.to_csv('./data/acetylcholinesterase_bioactivity_2class_data.csv')"
      ]
    },
    {
      "cell_type": "markdown",
      "metadata": {
        "colab_type": "text",
        "id": "p9vA4-hQQ8sA"
      },
      "source": [
        "---"
      ]
    },
    {
      "cell_type": "markdown",
      "metadata": {
        "colab_type": "text",
        "id": "x0vqbQWfxsZu"
      },
      "source": [
        "## **Exploratory Data Analysis (Chemical Space Analysis) via Lipinski descriptors**"
      ]
    },
    {
      "cell_type": "markdown",
      "metadata": {},
      "source": [
        "In drug discovery, exploratory data analysis = 'Chemical Space Analysis'. Think of it as a chemical universe, with each compound as stars. Active molecules will have a larger size than inactive molecules, and can be thought of as constellations. "
      ]
    },
    {
      "cell_type": "markdown",
      "metadata": {
        "colab_type": "text",
        "id": "18heJagiyHoF"
      },
      "source": [
        "### **Import library**"
      ]
    },
    {
      "cell_type": "code",
      "execution_count": 4,
      "metadata": {
        "colab": {
          "base_uri": "https://localhost:8080/",
          "height": 72
        },
        "colab_type": "code",
        "id": "0Egq_rNsxtIj",
        "outputId": "9a158a1d-ba81-4f2e-9b9e-66ae5ce78916"
      },
      "outputs": [],
      "source": [
        "import seaborn as sns\n",
        "sns.set_theme(style='ticks')\n",
        "import matplotlib.pyplot as plt"
      ]
    },
    {
      "cell_type": "code",
      "execution_count": 6,
      "metadata": {},
      "outputs": [],
      "source": [
        "%%bash\n",
        "mkdir ./data/Part_2_Results"
      ]
    },
    {
      "cell_type": "markdown",
      "metadata": {
        "colab_type": "text",
        "id": "NiarmFbOdG3H"
      },
      "source": [
        "### **Frequency plot of the 2 bioactivity classes**"
      ]
    },
    {
      "cell_type": "code",
      "execution_count": 7,
      "metadata": {
        "colab": {
          "base_uri": "https://localhost:8080/",
          "height": 367
        },
        "colab_type": "code",
        "id": "w2Ia0iycdMO2",
        "outputId": "34409d5f-d826-4bcb-8167-2d208fbdf5d8"
      },
      "outputs": [
        {
          "data": {
            "image/png": "[encoded data removed]",
            "text/plain": [
              "<Figure size 550x550 with 1 Axes>"
            ]
          },
          "metadata": {},
          "output_type": "display_data"
        }
      ],
      "source": [
        "plt.figure(figsize=(5.5, 5.5))\n",
        "\n",
        "sns.countplot(x='bioactivity_class', data=df_2class, edgecolor='black')\n",
        "\n",
        "plt.xlabel('Bioactivity class', fontsize=14, fontweight='bold')\n",
        "plt.ylabel('Frequency', fontsize=14, fontweight='bold')\n",
        "\n",
        "plt.savefig('./data/Part_2_Results/plot_bioactivity_class.pdf')"
      ]
    },
    {
      "cell_type": "markdown",
      "metadata": {
        "colab_type": "text",
        "id": "wB68NKVG0j68"
      },
      "source": [
        "### **Scatter plot of MW versus LogP**\n",
        "\n",
        "It can be seen that the 2 bioactivity classes are spanning similar chemical spaces as evident by the scatter plot of MW vs LogP."
      ]
    },
    {
      "cell_type": "code",
      "execution_count": 8,
      "metadata": {},
      "outputs": [],
      "source": [
        "# df_2classMW = df_2class.MW.dropna()\n",
        "# df_2classMW"
      ]
    },
    {
      "cell_type": "code",
      "execution_count": 9,
      "metadata": {
        "colab": {
          "base_uri": "https://localhost:8080/",
          "height": 367
        },
        "colab_type": "code",
        "id": "F79BNwjF0nub",
        "outputId": "beca351e-2b02-49f9-8712-6ffcdcde425f"
      },
      "outputs": [
        {
          "data": {
            "image/png": "[encoded data removed]",
            "text/plain": [
              "<Figure size 550x550 with 1 Axes>"
            ]
          },
          "metadata": {},
          "output_type": "display_data"
        }
      ],
      "source": [
        "plt.figure(figsize=(5.5, 5.5))\n",
        "\n",
        "sns.scatterplot(x='MW', y='LogP', data=df_2class, hue='bioactivity_class', size='pIC50', edgecolor='black', alpha=0.7)\n",
        "\n",
        "plt.xlabel('MW', fontsize=14, fontweight='bold')\n",
        "plt.ylabel('LogP', fontsize=14, fontweight='bold')\n",
        "plt.legend(bbox_to_anchor=(1.05, 1), loc=2, borderaxespad=0)\n",
        "# plt.show()\n",
        "plt.savefig('./data/Part_2_Results/plot_MW_vs_LogP.pdf')"
      ]
    },
    {
      "cell_type": "markdown",
      "metadata": {
        "colab_type": "text",
        "id": "oLAfyRwHyJfX"
      },
      "source": [
        "### **Box plots**"
      ]
    },
    {
      "cell_type": "markdown",
      "metadata": {
        "colab_type": "text",
        "id": "1n1uIAivyOkY"
      },
      "source": [
        "#### **pIC50 value**"
      ]
    },
    {
      "cell_type": "code",
      "execution_count": 10,
      "metadata": {
        "colab": {
          "base_uri": "https://localhost:8080/",
          "height": 367
        },
        "colab_type": "code",
        "id": "EpPviw0hxue6",
        "outputId": "e152d135-be08-4916-9494-49990106efa9"
      },
      "outputs": [
        {
          "data": {
            "image/png": "[encoded data removed]",
            "text/plain": [
              "<Figure size 550x550 with 1 Axes>"
            ]
          },
          "metadata": {},
          "output_type": "display_data"
        }
      ],
      "source": [
        "plt.figure(figsize=(5.5, 5.5))\n",
        "\n",
        "sns.boxplot(x = 'bioactivity_class', y = 'pIC50', data = df_2class)\n",
        "\n",
        "plt.xlabel('Bioactivity class', fontsize=14, fontweight='bold')\n",
        "plt.ylabel('pIC50 value', fontsize=14, fontweight='bold')\n",
        "\n",
        "plt.savefig('./data/Part_2_Results/plot_ic50.pdf')"
      ]
    },
    {
      "cell_type": "markdown",
      "metadata": {
        "colab_type": "text",
        "id": "PsOqKyysCZCv"
      },
      "source": [
        "**Statistical analysis | Mann-Whitney U Test**\n",
        "\n",
        "This is a non-parametric t-test for comparing *2 unpaired groups* that are *not normally distributed*. It compares using ranked order instead of group means."
      ]
    },
    {
      "cell_type": "code",
      "execution_count": 11,
      "metadata": {
        "colab": {},
        "colab_type": "code",
        "id": "LPdV1vDnWBsh"
      },
      "outputs": [],
      "source": [
        "def mannwhitney(descriptor, verbose=False):\n",
        "  # https://machinelearningmastery.com/nonparametric-statistical-significance-tests-in-python/\n",
        "  from numpy.random import seed\n",
        "  from numpy.random import randn\n",
        "  from scipy.stats import mannwhitneyu\n",
        "\n",
        "# seed the random number generator\n",
        "  seed(1)\n",
        "\n",
        "# active and inactive\n",
        "  selection = [descriptor, 'bioactivity_class'] # descriptor vs bioactivity_class\n",
        "  df = df_2class[selection]\n",
        "\n",
        "  active = df[df.bioactivity_class == 'active']\n",
        "  active = active[descriptor]\n",
        "\n",
        "  inactive = df[df.bioactivity_class == 'inactive']\n",
        "  inactive = inactive[descriptor]\n",
        "\n",
        "# compare samples\n",
        "  stat, p = mannwhitneyu(active, inactive)\n",
        "  #print('Statistics=%.3f, p=%.3f' % (stat, p))\n",
        "\n",
        "# interpret\n",
        "  alpha = 0.05\n",
        "  if p > alpha:\n",
        "    interpretation = 'Same distribution (fail to reject H0)'\n",
        "  else:\n",
        "    interpretation = 'Different distribution (reject H0)'\n",
        "  \n",
        "  results = pd.DataFrame({'Descriptor':descriptor,\n",
        "                          'Statistics':stat,\n",
        "                          'p':p,\n",
        "                          'alpha':alpha,\n",
        "                          'Interpretation':interpretation}, index=[0])\n",
        "  filename = 'mannwhitneyu_' + descriptor + '.csv'\n",
        "  results.to_csv('./data/Part_2_Results/'+filename)\n",
        "\n",
        "  return results"
      ]
    },
    {
      "cell_type": "code",
      "execution_count": 12,
      "metadata": {
        "colab": {
          "base_uri": "https://localhost:8080/",
          "height": 79
        },
        "colab_type": "code",
        "id": "HZmUgOmdYVm5",
        "outputId": "6996e4db-2720-4df7-8691-12a5c06c4020"
      },
      "outputs": [
        {
          "data": {
            "application/vnd.microsoft.datawrangler.viewer.v0+json": {
              "columns": [
                {
                  "name": "index",
                  "rawType": "int64",
                  "type": "integer"
                },
                {
                  "name": "Descriptor",
                  "rawType": "object",
                  "type": "string"
                },
                {
                  "name": "Statistics",
                  "rawType": "float64",
                  "type": "float"
                },
                {
                  "name": "p",
                  "rawType": "float64",
                  "type": "float"
                },
                {
                  "name": "alpha",
                  "rawType": "float64",
                  "type": "float"
                },
                {
                  "name": "Interpretation",
                  "rawType": "object",
                  "type": "string"
                }
              ],
              "ref": "6780fa59-f0fe-4c4e-8277-8a8dd5d7d232",
              "rows": [
                [
                  "0",
                  "pIC50",
                  "9203184.0",
                  "0.0",
                  "0.05",
                  "Different distribution (reject H0)"
                ]
              ],
              "shape": {
                "columns": 5,
                "rows": 1
              }
            },
            "text/html": [
              "<div>\n",
              "<style scoped>\n",
              "    .dataframe tbody tr th:only-of-type {\n",
              "        vertical-align: middle;\n",
              "    }\n",
              "\n",
              "    .dataframe tbody tr th {\n",
              "        vertical-align: top;\n",
              "    }\n",
              "\n",
              "    .dataframe thead th {\n",
              "        text-align: right;\n",
              "    }\n",
              "</style>\n",
              "<table border=\"1\" class=\"dataframe\">\n",
              "  <thead>\n",
              "    <tr style=\"text-align: right;\">\n",
              "      <th></th>\n",
              "      <th>Descriptor</th>\n",
              "      <th>Statistics</th>\n",
              "      <th>p</th>\n",
              "      <th>alpha</th>\n",
              "      <th>Interpretation</th>\n",
              "    </tr>\n",
              "  </thead>\n",
              "  <tbody>\n",
              "    <tr>\n",
              "      <th>0</th>\n",
              "      <td>pIC50</td>\n",
              "      <td>9203184.0</td>\n",
              "      <td>0.0</td>\n",
              "      <td>0.05</td>\n",
              "      <td>Different distribution (reject H0)</td>\n",
              "    </tr>\n",
              "  </tbody>\n",
              "</table>\n",
              "</div>"
            ],
            "text/plain": [
              "  Descriptor  Statistics    p  alpha                      Interpretation\n",
              "0      pIC50   9203184.0  0.0   0.05  Different distribution (reject H0)"
            ]
          },
          "execution_count": 12,
          "metadata": {},
          "output_type": "execute_result"
        }
      ],
      "source": [
        "mannwhitney('pIC50')"
      ]
    },
    {
      "cell_type": "markdown",
      "metadata": {
        "colab_type": "text",
        "id": "o2UlCwPmyTBq"
      },
      "source": [
        "#### **MW**"
      ]
    },
    {
      "cell_type": "code",
      "execution_count": 13,
      "metadata": {
        "colab": {
          "base_uri": "https://localhost:8080/",
          "height": 367
        },
        "colab_type": "code",
        "id": "ZNlEEsDEx3m6",
        "outputId": "50836563-3a3c-4bb4-9ae6-8db38aeaf6f0"
      },
      "outputs": [
        {
          "data": {
            "image/png": "[encoded data removed]",
            "text/plain": [
              "<Figure size 550x550 with 1 Axes>"
            ]
          },
          "metadata": {},
          "output_type": "display_data"
        }
      ],
      "source": [
        "plt.figure(figsize=(5.5, 5.5))\n",
        "\n",
        "sns.boxplot(x = 'bioactivity_class', y = 'MW', data = df_2class)\n",
        "\n",
        "plt.xlabel('Bioactivity class', fontsize=14, fontweight='bold')\n",
        "plt.ylabel('MW', fontsize=14, fontweight='bold')\n",
        "\n",
        "plt.savefig('./data/Part_2_Results/plot_MW.pdf')"
      ]
    },
    {
      "cell_type": "code",
      "execution_count": 14,
      "metadata": {
        "colab": {
          "base_uri": "https://localhost:8080/",
          "height": 79
        },
        "colab_type": "code",
        "id": "wRl2FvgHYqaG",
        "outputId": "182737ed-20ce-414f-850e-9c11af877d71"
      },
      "outputs": [
        {
          "data": {
            "application/vnd.microsoft.datawrangler.viewer.v0+json": {
              "columns": [
                {
                  "name": "index",
                  "rawType": "int64",
                  "type": "integer"
                },
                {
                  "name": "Descriptor",
                  "rawType": "object",
                  "type": "string"
                },
                {
                  "name": "Statistics",
                  "rawType": "float64",
                  "type": "float"
                },
                {
                  "name": "p",
                  "rawType": "float64",
                  "type": "float"
                },
                {
                  "name": "alpha",
                  "rawType": "float64",
                  "type": "float"
                },
                {
                  "name": "Interpretation",
                  "rawType": "object",
                  "type": "string"
                }
              ],
              "ref": "6acca7b1-8061-43c3-9410-3427e4893567",
              "rows": [
                [
                  "0",
                  "MW",
                  "5382804.5",
                  "1.15656384446343e-29",
                  "0.05",
                  "Different distribution (reject H0)"
                ]
              ],
              "shape": {
                "columns": 5,
                "rows": 1
              }
            },
            "text/html": [
              "<div>\n",
              "<style scoped>\n",
              "    .dataframe tbody tr th:only-of-type {\n",
              "        vertical-align: middle;\n",
              "    }\n",
              "\n",
              "    .dataframe tbody tr th {\n",
              "        vertical-align: top;\n",
              "    }\n",
              "\n",
              "    .dataframe thead th {\n",
              "        text-align: right;\n",
              "    }\n",
              "</style>\n",
              "<table border=\"1\" class=\"dataframe\">\n",
              "  <thead>\n",
              "    <tr style=\"text-align: right;\">\n",
              "      <th></th>\n",
              "      <th>Descriptor</th>\n",
              "      <th>Statistics</th>\n",
              "      <th>p</th>\n",
              "      <th>alpha</th>\n",
              "      <th>Interpretation</th>\n",
              "    </tr>\n",
              "  </thead>\n",
              "  <tbody>\n",
              "    <tr>\n",
              "      <th>0</th>\n",
              "      <td>MW</td>\n",
              "      <td>5382804.5</td>\n",
              "      <td>1.156564e-29</td>\n",
              "      <td>0.05</td>\n",
              "      <td>Different distribution (reject H0)</td>\n",
              "    </tr>\n",
              "  </tbody>\n",
              "</table>\n",
              "</div>"
            ],
            "text/plain": [
              "  Descriptor  Statistics             p  alpha  \\\n",
              "0         MW   5382804.5  1.156564e-29   0.05   \n",
              "\n",
              "                       Interpretation  \n",
              "0  Different distribution (reject H0)  "
            ]
          },
          "execution_count": 14,
          "metadata": {},
          "output_type": "execute_result"
        }
      ],
      "source": [
        "mannwhitney('MW')"
      ]
    },
    {
      "cell_type": "markdown",
      "metadata": {
        "colab_type": "text",
        "id": "z5hyBhGqyc6J"
      },
      "source": [
        "#### **LogP**"
      ]
    },
    {
      "cell_type": "code",
      "execution_count": 15,
      "metadata": {
        "colab": {
          "base_uri": "https://localhost:8080/",
          "height": 367
        },
        "colab_type": "code",
        "id": "liEtkpI4yX9t",
        "outputId": "8aa9b4de-6df6-4da6-ed4c-f9376f290d9f"
      },
      "outputs": [
        {
          "data": {
            "image/png": "[encoded data removed]",
            "text/plain": [
              "<Figure size 550x550 with 1 Axes>"
            ]
          },
          "metadata": {},
          "output_type": "display_data"
        }
      ],
      "source": [
        "plt.figure(figsize=(5.5, 5.5))\n",
        "\n",
        "sns.boxplot(x = 'bioactivity_class', y = 'LogP', data = df_2class)\n",
        "\n",
        "plt.xlabel('Bioactivity class', fontsize=14, fontweight='bold')\n",
        "plt.ylabel('LogP', fontsize=14, fontweight='bold')\n",
        "\n",
        "plt.savefig('./data/Part_2_Results/plot_LogP.pdf')"
      ]
    },
    {
      "cell_type": "markdown",
      "metadata": {
        "colab_type": "text",
        "id": "2KgV5v_oFLXh"
      },
      "source": [
        "**Statistical analysis | Mann-Whitney U Test**"
      ]
    },
    {
      "cell_type": "code",
      "execution_count": 16,
      "metadata": {
        "colab": {
          "base_uri": "https://localhost:8080/",
          "height": 79
        },
        "colab_type": "code",
        "id": "B61UsGMIFLuE",
        "outputId": "53899c37-0603-4879-c4ed-25c07b4455d9"
      },
      "outputs": [
        {
          "data": {
            "application/vnd.microsoft.datawrangler.viewer.v0+json": {
              "columns": [
                {
                  "name": "index",
                  "rawType": "int64",
                  "type": "integer"
                },
                {
                  "name": "Descriptor",
                  "rawType": "object",
                  "type": "string"
                },
                {
                  "name": "Statistics",
                  "rawType": "float64",
                  "type": "float"
                },
                {
                  "name": "p",
                  "rawType": "float64",
                  "type": "float"
                },
                {
                  "name": "alpha",
                  "rawType": "float64",
                  "type": "float"
                },
                {
                  "name": "Interpretation",
                  "rawType": "object",
                  "type": "string"
                }
              ],
              "ref": "cc12ed45-0ff2-4660-842f-191262be9f41",
              "rows": [
                [
                  "0",
                  "LogP",
                  "5778783.0",
                  "3.846168565990389e-65",
                  "0.05",
                  "Different distribution (reject H0)"
                ]
              ],
              "shape": {
                "columns": 5,
                "rows": 1
              }
            },
            "text/html": [
              "<div>\n",
              "<style scoped>\n",
              "    .dataframe tbody tr th:only-of-type {\n",
              "        vertical-align: middle;\n",
              "    }\n",
              "\n",
              "    .dataframe tbody tr th {\n",
              "        vertical-align: top;\n",
              "    }\n",
              "\n",
              "    .dataframe thead th {\n",
              "        text-align: right;\n",
              "    }\n",
              "</style>\n",
              "<table border=\"1\" class=\"dataframe\">\n",
              "  <thead>\n",
              "    <tr style=\"text-align: right;\">\n",
              "      <th></th>\n",
              "      <th>Descriptor</th>\n",
              "      <th>Statistics</th>\n",
              "      <th>p</th>\n",
              "      <th>alpha</th>\n",
              "      <th>Interpretation</th>\n",
              "    </tr>\n",
              "  </thead>\n",
              "  <tbody>\n",
              "    <tr>\n",
              "      <th>0</th>\n",
              "      <td>LogP</td>\n",
              "      <td>5778783.0</td>\n",
              "      <td>3.846169e-65</td>\n",
              "      <td>0.05</td>\n",
              "      <td>Different distribution (reject H0)</td>\n",
              "    </tr>\n",
              "  </tbody>\n",
              "</table>\n",
              "</div>"
            ],
            "text/plain": [
              "  Descriptor  Statistics             p  alpha  \\\n",
              "0       LogP   5778783.0  3.846169e-65   0.05   \n",
              "\n",
              "                       Interpretation  \n",
              "0  Different distribution (reject H0)  "
            ]
          },
          "execution_count": 16,
          "metadata": {},
          "output_type": "execute_result"
        }
      ],
      "source": [
        "mannwhitney('LogP')"
      ]
    },
    {
      "cell_type": "markdown",
      "metadata": {
        "colab_type": "text",
        "id": "4db7LZLRym2k"
      },
      "source": [
        "#### **NumHDonors**"
      ]
    },
    {
      "cell_type": "code",
      "execution_count": 17,
      "metadata": {
        "colab": {
          "base_uri": "https://localhost:8080/",
          "height": 367
        },
        "colab_type": "code",
        "id": "iru1JPM1yg5A",
        "outputId": "4ab22853-c3de-4d99-ff3a-05b95f232333"
      },
      "outputs": [
        {
          "data": {
            "image/png": "[encoded data removed]",
            "text/plain": [
              "<Figure size 550x550 with 1 Axes>"
            ]
          },
          "metadata": {},
          "output_type": "display_data"
        }
      ],
      "source": [
        "plt.figure(figsize=(5.5, 5.5))\n",
        "\n",
        "sns.boxplot(x = 'bioactivity_class', y = 'NumHDonors', data = df_2class)\n",
        "\n",
        "plt.xlabel('Bioactivity class', fontsize=14, fontweight='bold')\n",
        "plt.ylabel('NumHDonors', fontsize=14, fontweight='bold')\n",
        "\n",
        "plt.savefig('./data/Part_2_Results/plot_NumHDonors.pdf')"
      ]
    },
    {
      "cell_type": "markdown",
      "metadata": {
        "colab_type": "text",
        "id": "vM5vZWanFe3c"
      },
      "source": [
        "**Statistical analysis | Mann-Whitney U Test**"
      ]
    },
    {
      "cell_type": "code",
      "execution_count": 18,
      "metadata": {
        "colab": {
          "base_uri": "https://localhost:8080/",
          "height": 79
        },
        "colab_type": "code",
        "id": "mS-rOqq7Fd1E",
        "outputId": "6d5609b5-8f4a-4e1b-ac76-841a1d93f212"
      },
      "outputs": [
        {
          "data": {
            "application/vnd.microsoft.datawrangler.viewer.v0+json": {
              "columns": [
                {
                  "name": "index",
                  "rawType": "int64",
                  "type": "integer"
                },
                {
                  "name": "Descriptor",
                  "rawType": "object",
                  "type": "string"
                },
                {
                  "name": "Statistics",
                  "rawType": "float64",
                  "type": "float"
                },
                {
                  "name": "p",
                  "rawType": "float64",
                  "type": "float"
                },
                {
                  "name": "alpha",
                  "rawType": "float64",
                  "type": "float"
                },
                {
                  "name": "Interpretation",
                  "rawType": "object",
                  "type": "string"
                }
              ],
              "ref": "0f7b766f-215c-4125-848f-7c31c3007083",
              "rows": [
                [
                  "0",
                  "NumHDonors",
                  "4979928.5",
                  "7.0328445146157835e-09",
                  "0.05",
                  "Different distribution (reject H0)"
                ]
              ],
              "shape": {
                "columns": 5,
                "rows": 1
              }
            },
            "text/html": [
              "<div>\n",
              "<style scoped>\n",
              "    .dataframe tbody tr th:only-of-type {\n",
              "        vertical-align: middle;\n",
              "    }\n",
              "\n",
              "    .dataframe tbody tr th {\n",
              "        vertical-align: top;\n",
              "    }\n",
              "\n",
              "    .dataframe thead th {\n",
              "        text-align: right;\n",
              "    }\n",
              "</style>\n",
              "<table border=\"1\" class=\"dataframe\">\n",
              "  <thead>\n",
              "    <tr style=\"text-align: right;\">\n",
              "      <th></th>\n",
              "      <th>Descriptor</th>\n",
              "      <th>Statistics</th>\n",
              "      <th>p</th>\n",
              "      <th>alpha</th>\n",
              "      <th>Interpretation</th>\n",
              "    </tr>\n",
              "  </thead>\n",
              "  <tbody>\n",
              "    <tr>\n",
              "      <th>0</th>\n",
              "      <td>NumHDonors</td>\n",
              "      <td>4979928.5</td>\n",
              "      <td>7.032845e-09</td>\n",
              "      <td>0.05</td>\n",
              "      <td>Different distribution (reject H0)</td>\n",
              "    </tr>\n",
              "  </tbody>\n",
              "</table>\n",
              "</div>"
            ],
            "text/plain": [
              "   Descriptor  Statistics             p  alpha  \\\n",
              "0  NumHDonors   4979928.5  7.032845e-09   0.05   \n",
              "\n",
              "                       Interpretation  \n",
              "0  Different distribution (reject H0)  "
            ]
          },
          "execution_count": 18,
          "metadata": {},
          "output_type": "execute_result"
        }
      ],
      "source": [
        "mannwhitney('NumHDonors')"
      ]
    },
    {
      "cell_type": "markdown",
      "metadata": {
        "colab_type": "text",
        "id": "yOYQ3QiSyu7-"
      },
      "source": [
        "#### **NumHAcceptors**"
      ]
    },
    {
      "cell_type": "code",
      "execution_count": 19,
      "metadata": {
        "colab": {
          "base_uri": "https://localhost:8080/",
          "height": 367
        },
        "colab_type": "code",
        "id": "yCw6tgNCyxHf",
        "outputId": "e53b4169-d3d6-4b4e-d8cf-d0378ca54ddc"
      },
      "outputs": [
        {
          "data": {
            "image/png": "[encoded data removed]",
            "text/plain": [
              "<Figure size 550x550 with 1 Axes>"
            ]
          },
          "metadata": {},
          "output_type": "display_data"
        }
      ],
      "source": [
        "plt.figure(figsize=(5.5, 5.5))\n",
        "\n",
        "sns.boxplot(x = 'bioactivity_class', y = 'NumHAcceptors', data = df_2class)\n",
        "\n",
        "plt.xlabel('Bioactivity class', fontsize=14, fontweight='bold')\n",
        "plt.ylabel('NumHAcceptors', fontsize=14, fontweight='bold')\n",
        "\n",
        "plt.savefig('./data/Part_2_Results/plot_NumHAcceptors.pdf')"
      ]
    },
    {
      "cell_type": "code",
      "execution_count": 20,
      "metadata": {
        "colab": {
          "base_uri": "https://localhost:8080/",
          "height": 79
        },
        "colab_type": "code",
        "id": "NEQoDZctFtGG",
        "outputId": "eb994475-ed64-4633-c67b-a88e2c3ecc48"
      },
      "outputs": [
        {
          "data": {
            "application/vnd.microsoft.datawrangler.viewer.v0+json": {
              "columns": [
                {
                  "name": "index",
                  "rawType": "int64",
                  "type": "integer"
                },
                {
                  "name": "Descriptor",
                  "rawType": "object",
                  "type": "string"
                },
                {
                  "name": "Statistics",
                  "rawType": "float64",
                  "type": "float"
                },
                {
                  "name": "p",
                  "rawType": "float64",
                  "type": "float"
                },
                {
                  "name": "alpha",
                  "rawType": "float64",
                  "type": "float"
                },
                {
                  "name": "Interpretation",
                  "rawType": "object",
                  "type": "string"
                }
              ],
              "ref": "df42d3a3-ee97-4d5c-9ead-6b3513f401ae",
              "rows": [
                [
                  "0",
                  "NumHAcceptors",
                  "4581438.0",
                  "0.7667389001766634",
                  "0.05",
                  "Same distribution (fail to reject H0)"
                ]
              ],
              "shape": {
                "columns": 5,
                "rows": 1
              }
            },
            "text/html": [
              "<div>\n",
              "<style scoped>\n",
              "    .dataframe tbody tr th:only-of-type {\n",
              "        vertical-align: middle;\n",
              "    }\n",
              "\n",
              "    .dataframe tbody tr th {\n",
              "        vertical-align: top;\n",
              "    }\n",
              "\n",
              "    .dataframe thead th {\n",
              "        text-align: right;\n",
              "    }\n",
              "</style>\n",
              "<table border=\"1\" class=\"dataframe\">\n",
              "  <thead>\n",
              "    <tr style=\"text-align: right;\">\n",
              "      <th></th>\n",
              "      <th>Descriptor</th>\n",
              "      <th>Statistics</th>\n",
              "      <th>p</th>\n",
              "      <th>alpha</th>\n",
              "      <th>Interpretation</th>\n",
              "    </tr>\n",
              "  </thead>\n",
              "  <tbody>\n",
              "    <tr>\n",
              "      <th>0</th>\n",
              "      <td>NumHAcceptors</td>\n",
              "      <td>4581438.0</td>\n",
              "      <td>0.766739</td>\n",
              "      <td>0.05</td>\n",
              "      <td>Same distribution (fail to reject H0)</td>\n",
              "    </tr>\n",
              "  </tbody>\n",
              "</table>\n",
              "</div>"
            ],
            "text/plain": [
              "      Descriptor  Statistics         p  alpha  \\\n",
              "0  NumHAcceptors   4581438.0  0.766739   0.05   \n",
              "\n",
              "                          Interpretation  \n",
              "0  Same distribution (fail to reject H0)  "
            ]
          },
          "execution_count": 20,
          "metadata": {},
          "output_type": "execute_result"
        }
      ],
      "source": [
        "mannwhitney('NumHAcceptors')"
      ]
    },
    {
      "cell_type": "markdown",
      "metadata": {
        "colab_type": "text",
        "id": "p4QjdHVjKYum"
      },
      "source": [
        "#### **Interpretation of Statistical Results**"
      ]
    },
    {
      "cell_type": "markdown",
      "metadata": {
        "colab_type": "text",
        "id": "mSoOBIqfLbDs"
      },
      "source": [
        "#### **Box Plots**\n",
        "##### **pIC50 values**\n",
        "\n",
        "Taking a look at pIC50 values, the active vs inactive compounds displayed ***statistically significant differences***, which is to be expected since pIC50 thresholds were used to define active and inactive classes (``pIC50 > 6 = active`` and ``pIC50 < 5 = inactive``). \n",
        "\n",
        "##### **Lipinski's descriptors**\n",
        "\n",
        "Of the 4 Lipinski's descriptors (MW, LogP, NumHDonors and NumHAcceptors),all four exhibited ***statistically significant differences*** between the active and inactive bioactivity classes, with MannWhitney-U results rejecting the null hypothesis."
      ]
    },
    {
      "cell_type": "markdown",
      "metadata": {
        "colab_type": "text",
        "id": "U-rK8l0wWnKK"
      },
      "source": [
        "## **Zip files**"
      ]
    },
    {
      "cell_type": "code",
      "execution_count": 21,
      "metadata": {
        "colab": {
          "base_uri": "https://localhost:8080/",
          "height": 243
        },
        "colab_type": "code",
        "id": "GW1ZSsfJWqbM",
        "outputId": "def6e823-0194-4848-fb5e-0d86e1ad88f4",
        "vscode": {
          "languageId": "powershell"
        }
      },
      "outputs": [
        {
          "name": "stderr",
          "output_type": "stream",
          "text": [
            "'zip' is not recognized as an internal or external command,\n",
            "operable program or batch file.\n"
          ]
        }
      ],
      "source": [
        "! zip -r results.zip . -i Part_2_Results"
      ]
    }
  ],
  "metadata": {
    "colab": {
      "collapsed_sections": [],
      "name": "CDD-ML-Part-2-Exploratory-Data-Analysis.ipynb",
      "provenance": []
    },
    "kernelspec": {
      "display_name": "Python 3",
      "name": "python3"
    },
    "language_info": {
      "codemirror_mode": {
        "name": "ipython",
        "version": 3
      },
      "file_extension": ".py",
      "mimetype": "text/x-python",
      "name": "python",
      "nbconvert_exporter": "python",
      "pygments_lexer": "ipython3",
      "version": "3.12.5"
    }
  },
  "nbformat": 4,
  "nbformat_minor": 0
}
