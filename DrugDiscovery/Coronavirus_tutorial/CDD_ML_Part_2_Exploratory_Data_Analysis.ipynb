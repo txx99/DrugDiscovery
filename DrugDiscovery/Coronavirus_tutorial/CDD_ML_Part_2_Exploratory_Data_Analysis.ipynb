{
  "cells": [
    {
      "cell_type": "markdown",
      "metadata": {
        "colab_type": "text",
        "id": "l0Y7_lgN4jzM"
      },
      "source": [
        "# **Computational Drug Discovery [Part 2]: Exploratory Data Analysis**\n",
        "\n",
        "Based on tutorial by Chanin Nantasenamat, [*'Data Professor' YouTube channel*](http://youtube.com/dataprofessor)\n",
        "\n",
        "In **Part 2**, we will be performing Descriptor Calculation and Exploratory Data Analysis.\n",
        "\n",
        "---"
      ]
    },
    {
      "cell_type": "markdown",
      "metadata": {
        "colab_type": "text",
        "id": "o-4IOizard4P"
      },
      "source": [
        "## **Install conda and rdkit**"
      ]
    },
    {
      "cell_type": "code",
      "execution_count": 88,
      "metadata": {
        "vscode": {
          "languageId": "powershell"
        }
      },
      "outputs": [
        {
          "name": "stdout",
          "output_type": "stream",
          "text": [
            "Requirement already satisfied: rdkit in c:\\users\\liv_u\\appdata\\local\\programs\\python\\python312\\lib\\site-packages (2025.3.5)\n",
            "Requirement already satisfied: numpy in c:\\users\\liv_u\\appdata\\local\\programs\\python\\python312\\lib\\site-packages (from rdkit) (2.1.1)\n",
            "Requirement already satisfied: Pillow in c:\\users\\liv_u\\appdata\\local\\programs\\python\\python312\\lib\\site-packages (from rdkit) (10.4.0)\n"
          ]
        },
        {
          "name": "stderr",
          "output_type": "stream",
          "text": [
            "\n",
            "[notice] A new release of pip is available: 25.1.1 -> 25.2\n",
            "[notice] To update, run: python.exe -m pip install --upgrade pip\n"
          ]
        }
      ],
      "source": [
        "! pip install rdkit\n",
        "import sys\n",
        "sys.path.append('/usr/local/lib/python3.7/site-packages/')"
      ]
    },
    {
      "cell_type": "code",
      "execution_count": 89,
      "metadata": {
        "colab": {
          "base_uri": "https://localhost:8080/",
          "height": 1000
        },
        "colab_type": "code",
        "id": "H0mjQ2PcrSe5",
        "outputId": "8d2fe1f6-38d8-4733-ce31-665ae4502230",
        "vscode": {
          "languageId": "powershell"
        }
      },
      "outputs": [],
      "source": [
        "# ! wget https://repo.anaconda.com/miniconda/Miniconda3-py37_4.8.2-Linux-x86_64.sh\n",
        "# ! chmod +x Miniconda3-py37_4.8.2-Linux-x86_64.sh\n",
        "# ! bash ./Miniconda3-py37_4.8.2-Linux-x86_64.sh -b -f -p /usr/local\n",
        "# ! conda install -c rdkit rdkit -y\n",
        "# import sys\n",
        "# sys.path.append('/usr/local/lib/python3.7/site-packages/')"
      ]
    },
    {
      "cell_type": "markdown",
      "metadata": {
        "colab_type": "text",
        "id": "QmxXXFa4wTNG"
      },
      "source": [
        "## **Load bioactivity data**"
      ]
    },
    {
      "cell_type": "code",
      "execution_count": 90,
      "metadata": {
        "colab": {},
        "colab_type": "code",
        "id": "Fpu5C7HlwV9s"
      },
      "outputs": [],
      "source": [
        "import pandas as pd"
      ]
    },
    {
      "cell_type": "code",
      "execution_count": 91,
      "metadata": {
        "colab": {},
        "colab_type": "code",
        "id": "GCcE8J5XwjtB"
      },
      "outputs": [
        {
          "data": {
            "application/vnd.microsoft.datawrangler.viewer.v0+json": {
              "columns": [
                {
                  "name": "index",
                  "rawType": "int64",
                  "type": "integer"
                },
                {
                  "name": "molecule_chembl_id",
                  "rawType": "object",
                  "type": "string"
                },
                {
                  "name": "canonical_smiles",
                  "rawType": "object",
                  "type": "string"
                },
                {
                  "name": "standard_value",
                  "rawType": "float64",
                  "type": "float"
                },
                {
                  "name": "bioactivity_class",
                  "rawType": "object",
                  "type": "string"
                }
              ],
              "ref": "09521a8e-bc4d-4a0c-9eba-797e5008cb2c",
              "rows": [
                [
                  "0",
                  "CHEMBL187579",
                  "Cc1noc(C)c1CN1C(=O)C(=O)c2cc(C#N)ccc21",
                  "7200.0",
                  "intermediate"
                ],
                [
                  "1",
                  "CHEMBL188487",
                  "O=C1C(=O)N(Cc2ccc(F)cc2Cl)c2ccc(I)cc21",
                  "9400.0",
                  "intermediate"
                ],
                [
                  "2",
                  "CHEMBL185698",
                  "O=C1C(=O)N(CC2COc3ccccc3O2)c2ccc(I)cc21",
                  "13500.0",
                  "inactive"
                ],
                [
                  "3",
                  "CHEMBL426082",
                  "O=C1C(=O)N(Cc2cc3ccccc3s2)c2ccccc21",
                  "13110.0",
                  "inactive"
                ],
                [
                  "4",
                  "CHEMBL187717",
                  "O=C1C(=O)N(Cc2cc3ccccc3s2)c2c1cccc2[N+](=O)[O-]",
                  "2000.0",
                  "intermediate"
                ],
                [
                  "5",
                  "CHEMBL365134",
                  "O=C1C(=O)N(Cc2cc3ccccc3s2)c2c(Br)cccc21",
                  "980.0",
                  "active"
                ],
                [
                  "6",
                  "CHEMBL187598",
                  "O=C1C(=O)N(Cc2cc3ccccc3s2)c2ccc(F)cc21",
                  "4820.0",
                  "intermediate"
                ],
                [
                  "7",
                  "CHEMBL190743",
                  "O=C1C(=O)N(Cc2cc3ccccc3s2)c2ccc(I)cc21",
                  "950.0",
                  "active"
                ],
                [
                  "8",
                  "CHEMBL365469",
                  "O=C1C(=O)N(Cc2cc3ccccc3s2)c2cccc(Cl)c21",
                  "11200.0",
                  "inactive"
                ],
                [
                  "9",
                  "CHEMBL188983",
                  "O=C1C(=O)N(C/C=C/c2cc3ccccc3s2)c2ccc(I)cc21",
                  "23500.0",
                  "inactive"
                ],
                [
                  "10",
                  "CHEMBL191575",
                  "O=C(Nc1ccc(Cl)cc1)c1ccc(CN2C(=O)C(=O)c3cc(I)ccc32)s1",
                  "12570.0",
                  "inactive"
                ],
                [
                  "11",
                  "CHEMBL370923",
                  "O=C1C(=O)N(Cc2ccc(C(=O)N3CCCCC3)s2)c2ccc(I)cc21",
                  "17500.0",
                  "inactive"
                ],
                [
                  "12",
                  "CHEMBL194398",
                  "CCOC(=O)/C=C/[C@H](C[C@@H]1CCNC1=O)NC(=O)[C@@H](CC(=O)[C@@H](NC(=O)c1cc(C)on1)C(C)C)Cc1ccccc1",
                  "45000.0",
                  "inactive"
                ],
                [
                  "13",
                  "CHEMBL196635",
                  "CCOC(=O)/C=C/[C@H](C[C@@H]1CCNC1=O)NC(=O)[C@H](CC=C(C)C)CC(=O)[C@@H](NC(=O)c1cc(C)on1)C(C)C",
                  "70000.0",
                  "inactive"
                ],
                [
                  "14",
                  "CHEMBL209287",
                  "CCCCN1C(=O)C(=O)c2cc(I)ccc21",
                  "66000.0",
                  "inactive"
                ],
                [
                  "15",
                  "CHEMBL358279",
                  "NC(=O)c1ccc2c(c1)C(=O)C(=O)N2Cc1ccc2ccccc2c1",
                  "370.0",
                  "active"
                ],
                [
                  "16",
                  "CHEMBL348660",
                  "NC(=O)c1ccc2c(c1)C(=O)C(=O)N2Cc1ccccc1",
                  "12500.0",
                  "inactive"
                ],
                [
                  "17",
                  "CHEMBL379727",
                  "CCCCN1C(=O)C(=O)c2cc(C(N)=O)ccc21",
                  "19000.0",
                  "inactive"
                ],
                [
                  "18",
                  "CHEMBL210525",
                  "CCCN1C(=O)C(=O)c2cc(C(N)=O)ccc21",
                  "25000.0",
                  "inactive"
                ],
                [
                  "19",
                  "CHEMBL148483",
                  "CN1C(=O)C(=O)c2cc(C(N)=O)ccc21",
                  "71000.0",
                  "inactive"
                ],
                [
                  "20",
                  "CHEMBL383725",
                  "O=C1C(=O)N(Cc2ccc3ccccc3c2)c2ccc(I)cc21",
                  "1100.0",
                  "intermediate"
                ],
                [
                  "21",
                  "CHEMBL118596",
                  "O=C1C(=O)N(Cc2ccccc2)c2ccc(I)cc21",
                  "50000.0",
                  "inactive"
                ],
                [
                  "22",
                  "CHEMBL208732",
                  "O=C(CSc1nccc(-c2csc(-c3ccccc3)n2)n1)Nc1cc(Cl)cc(Cl)c1",
                  "3019.95",
                  "intermediate"
                ],
                [
                  "23",
                  "CHEMBL208732",
                  "O=C(CSc1nccc(-c2csc(-c3ccccc3)n2)n1)Nc1cc(Cl)cc(Cl)c1",
                  "3000.0",
                  "intermediate"
                ],
                [
                  "24",
                  "CHEMBL210146",
                  "COc1cccc(-c2nc(SCC(=O)Nc3ccc([N+](=O)[O-])cc3)nc(O)c2C#N)c1",
                  "301995.17",
                  "inactive"
                ],
                [
                  "25",
                  "CHEMBL210146",
                  "COc1cccc(-c2nc(SCC(=O)Nc3ccc([N+](=O)[O-])cc3)nc(O)c2C#N)c1",
                  "300000.0",
                  "inactive"
                ],
                [
                  "26",
                  "CHEMBL207458",
                  "CCOC(=O)c1cnc(SCC(=O)Nc2ccc([N+](=O)[O-])cc2)nc1N",
                  "251188.64",
                  "inactive"
                ],
                [
                  "27",
                  "CHEMBL207458",
                  "CCOC(=O)c1cnc(SCC(=O)Nc2ccc([N+](=O)[O-])cc2)nc1N",
                  "250000.0",
                  "inactive"
                ],
                [
                  "28",
                  "CHEMBL207484",
                  "COC(OC)c1cc(O)nc(SCC(=O)Nc2ccc(C(F)(F)F)cc2)n1",
                  "204173.79",
                  "inactive"
                ],
                [
                  "29",
                  "CHEMBL207484",
                  "COC(OC)c1cc(O)nc(SCC(=O)Nc2ccc(C(F)(F)F)cc2)n1",
                  "200000.0",
                  "inactive"
                ],
                [
                  "30",
                  "CHEMBL207207",
                  "Cc1cc(O)nc(SCC(=O)Nc2cc(Cl)ccc2Oc2ccccc2)n1",
                  "100000.0",
                  "inactive"
                ],
                [
                  "31",
                  "CHEMBL207207",
                  "Cc1cc(O)nc(SCC(=O)Nc2cc(Cl)ccc2Oc2ccccc2)n1",
                  "100000.0",
                  "inactive"
                ],
                [
                  "32",
                  "CHEMBL210487",
                  "CCC(Sc1nc(O)c(C#N)c(-c2cccc(OC)c2)n1)C(=O)Nc1ccc(C(C)=O)cc1",
                  "60255.96",
                  "inactive"
                ],
                [
                  "33",
                  "CHEMBL210487",
                  "CCC(Sc1nc(O)c(C#N)c(-c2cccc(OC)c2)n1)C(=O)Nc1ccc(C(C)=O)cc1",
                  "60000.0",
                  "inactive"
                ],
                [
                  "34",
                  "CHEMBL380470",
                  "COc1ccc(NC(=O)CSc2nc(O)cc(-c3ccccc3)n2)cc1OC",
                  "45708.82",
                  "inactive"
                ],
                [
                  "35",
                  "CHEMBL380470",
                  "COc1ccc(NC(=O)CSc2nc(O)cc(-c3ccccc3)n2)cc1OC",
                  "45000.0",
                  "inactive"
                ],
                [
                  "36",
                  "CHEMBL210612",
                  "CC(C)c1ccc(NC(=O)CSc2nccc(-c3cccs3)n2)cc1",
                  "40738.03",
                  "inactive"
                ],
                [
                  "37",
                  "CHEMBL210612",
                  "CC(C)c1ccc(NC(=O)CSc2nccc(-c3cccs3)n2)cc1",
                  "40000.0",
                  "inactive"
                ],
                [
                  "38",
                  "CHEMBL209667",
                  "O=C(CSc1nccc(-c2cc(-c3ccccc3Cl)no2)n1)Nc1ccc(Cl)cc1",
                  "15135.61",
                  "inactive"
                ],
                [
                  "39",
                  "CHEMBL209667",
                  "O=C(CSc1nccc(-c2cc(-c3ccccc3Cl)no2)n1)Nc1ccc(Cl)cc1",
                  "15000.0",
                  "inactive"
                ],
                [
                  "40",
                  "CHEMBL210097",
                  "O=C(CSc1nccc(-c2cc(-c3ccc(Cl)cc3Cl)no2)n1)Nc1ccc(C(F)(F)F)cc1",
                  "15135.61",
                  "inactive"
                ],
                [
                  "41",
                  "CHEMBL210097",
                  "O=C(CSc1nccc(-c2cc(-c3ccc(Cl)cc3Cl)no2)n1)Nc1ccc(C(F)(F)F)cc1",
                  "15000.0",
                  "inactive"
                ],
                [
                  "42",
                  "CHEMBL378674",
                  "CSc1sc(-c2nc(C)cs2)c(C)c1-c1ccnc(SCC(=O)Nc2ccccc2Cl)n1",
                  "12022.64",
                  "inactive"
                ],
                [
                  "43",
                  "CHEMBL378674",
                  "CSc1sc(-c2nc(C)cs2)c(C)c1-c1ccnc(SCC(=O)Nc2ccccc2Cl)n1",
                  "12000.0",
                  "inactive"
                ],
                [
                  "44",
                  "CHEMBL210216",
                  "Cc1nc(SCC(=O)Nc2ccc([N+](=O)[O-])cc2)nc(O)c1C",
                  "1000000.0",
                  "inactive"
                ],
                [
                  "45",
                  "CHEMBL210216",
                  "Cc1nc(SCC(=O)Nc2ccc([N+](=O)[O-])cc2)nc(O)c1C",
                  "1000000.0",
                  "inactive"
                ],
                [
                  "46",
                  "CHEMBL210195",
                  "Cc1cc(C(F)(F)F)nc(SCC(=O)Nc2ccc(Cl)cc2F)n1",
                  "501187.23",
                  "inactive"
                ],
                [
                  "47",
                  "CHEMBL210195",
                  "Cc1cc(C(F)(F)F)nc(SCC(=O)Nc2ccc(Cl)cc2F)n1",
                  "500000.0",
                  "inactive"
                ],
                [
                  "48",
                  "CHEMBL210437",
                  "COc1ccc(-c2ccnc(SCC(=O)Nc3ccc(C(C)C)cc3)n2)cc1",
                  "407380.28",
                  "inactive"
                ],
                [
                  "49",
                  "CHEMBL210437",
                  "COc1ccc(-c2ccnc(SCC(=O)Nc3ccc(C(C)C)cc3)n2)cc1",
                  "400000.0",
                  "inactive"
                ]
              ],
              "shape": {
                "columns": 4,
                "rows": 245
              }
            },
            "text/html": [
              "<div>\n",
              "<style scoped>\n",
              "    .dataframe tbody tr th:only-of-type {\n",
              "        vertical-align: middle;\n",
              "    }\n",
              "\n",
              "    .dataframe tbody tr th {\n",
              "        vertical-align: top;\n",
              "    }\n",
              "\n",
              "    .dataframe thead th {\n",
              "        text-align: right;\n",
              "    }\n",
              "</style>\n",
              "<table border=\"1\" class=\"dataframe\">\n",
              "  <thead>\n",
              "    <tr style=\"text-align: right;\">\n",
              "      <th></th>\n",
              "      <th>molecule_chembl_id</th>\n",
              "      <th>canonical_smiles</th>\n",
              "      <th>standard_value</th>\n",
              "      <th>bioactivity_class</th>\n",
              "    </tr>\n",
              "  </thead>\n",
              "  <tbody>\n",
              "    <tr>\n",
              "      <th>0</th>\n",
              "      <td>CHEMBL187579</td>\n",
              "      <td>Cc1noc(C)c1CN1C(=O)C(=O)c2cc(C#N)ccc21</td>\n",
              "      <td>7200.00</td>\n",
              "      <td>intermediate</td>\n",
              "    </tr>\n",
              "    <tr>\n",
              "      <th>1</th>\n",
              "      <td>CHEMBL188487</td>\n",
              "      <td>O=C1C(=O)N(Cc2ccc(F)cc2Cl)c2ccc(I)cc21</td>\n",
              "      <td>9400.00</td>\n",
              "      <td>intermediate</td>\n",
              "    </tr>\n",
              "    <tr>\n",
              "      <th>2</th>\n",
              "      <td>CHEMBL185698</td>\n",
              "      <td>O=C1C(=O)N(CC2COc3ccccc3O2)c2ccc(I)cc21</td>\n",
              "      <td>13500.00</td>\n",
              "      <td>inactive</td>\n",
              "    </tr>\n",
              "    <tr>\n",
              "      <th>3</th>\n",
              "      <td>CHEMBL426082</td>\n",
              "      <td>O=C1C(=O)N(Cc2cc3ccccc3s2)c2ccccc21</td>\n",
              "      <td>13110.00</td>\n",
              "      <td>inactive</td>\n",
              "    </tr>\n",
              "    <tr>\n",
              "      <th>4</th>\n",
              "      <td>CHEMBL187717</td>\n",
              "      <td>O=C1C(=O)N(Cc2cc3ccccc3s2)c2c1cccc2[N+](=O)[O-]</td>\n",
              "      <td>2000.00</td>\n",
              "      <td>intermediate</td>\n",
              "    </tr>\n",
              "    <tr>\n",
              "      <th>...</th>\n",
              "      <td>...</td>\n",
              "      <td>...</td>\n",
              "      <td>...</td>\n",
              "      <td>...</td>\n",
              "    </tr>\n",
              "    <tr>\n",
              "      <th>240</th>\n",
              "      <td>CHEMBL4590273</td>\n",
              "      <td>Cc1cccc2nc(CSC(=S)NCc3cccnc3)cn12</td>\n",
              "      <td>380.19</td>\n",
              "      <td>active</td>\n",
              "    </tr>\n",
              "    <tr>\n",
              "      <th>241</th>\n",
              "      <td>CHEMBL5436771</td>\n",
              "      <td>S=C([S-])NCc1cccnc1.[K+]</td>\n",
              "      <td>165.00</td>\n",
              "      <td>active</td>\n",
              "    </tr>\n",
              "    <tr>\n",
              "      <th>242</th>\n",
              "      <td>CHEMBL2365410</td>\n",
              "      <td>CC(C)C[C@H](NC(=O)OCc1ccccc1)C(=O)N[C@@H](CC1C...</td>\n",
              "      <td>161.00</td>\n",
              "      <td>active</td>\n",
              "    </tr>\n",
              "    <tr>\n",
              "      <th>243</th>\n",
              "      <td>CHEMBL5436771</td>\n",
              "      <td>S=C([S-])NCc1cccnc1.[K+]</td>\n",
              "      <td>165.96</td>\n",
              "      <td>active</td>\n",
              "    </tr>\n",
              "    <tr>\n",
              "      <th>244</th>\n",
              "      <td>CHEMBL2365410</td>\n",
              "      <td>CC(C)C[C@H](NC(=O)OCc1ccccc1)C(=O)N[C@@H](CC1C...</td>\n",
              "      <td>162.18</td>\n",
              "      <td>active</td>\n",
              "    </tr>\n",
              "  </tbody>\n",
              "</table>\n",
              "<p>245 rows × 4 columns</p>\n",
              "</div>"
            ],
            "text/plain": [
              "    molecule_chembl_id                                   canonical_smiles  \\\n",
              "0         CHEMBL187579             Cc1noc(C)c1CN1C(=O)C(=O)c2cc(C#N)ccc21   \n",
              "1         CHEMBL188487             O=C1C(=O)N(Cc2ccc(F)cc2Cl)c2ccc(I)cc21   \n",
              "2         CHEMBL185698            O=C1C(=O)N(CC2COc3ccccc3O2)c2ccc(I)cc21   \n",
              "3         CHEMBL426082                O=C1C(=O)N(Cc2cc3ccccc3s2)c2ccccc21   \n",
              "4         CHEMBL187717    O=C1C(=O)N(Cc2cc3ccccc3s2)c2c1cccc2[N+](=O)[O-]   \n",
              "..                 ...                                                ...   \n",
              "240      CHEMBL4590273                  Cc1cccc2nc(CSC(=S)NCc3cccnc3)cn12   \n",
              "241      CHEMBL5436771                           S=C([S-])NCc1cccnc1.[K+]   \n",
              "242      CHEMBL2365410  CC(C)C[C@H](NC(=O)OCc1ccccc1)C(=O)N[C@@H](CC1C...   \n",
              "243      CHEMBL5436771                           S=C([S-])NCc1cccnc1.[K+]   \n",
              "244      CHEMBL2365410  CC(C)C[C@H](NC(=O)OCc1ccccc1)C(=O)N[C@@H](CC1C...   \n",
              "\n",
              "     standard_value bioactivity_class  \n",
              "0           7200.00      intermediate  \n",
              "1           9400.00      intermediate  \n",
              "2          13500.00          inactive  \n",
              "3          13110.00          inactive  \n",
              "4           2000.00      intermediate  \n",
              "..              ...               ...  \n",
              "240          380.19            active  \n",
              "241          165.00            active  \n",
              "242          161.00            active  \n",
              "243          165.96            active  \n",
              "244          162.18            active  \n",
              "\n",
              "[245 rows x 4 columns]"
            ]
          },
          "execution_count": 91,
          "metadata": {},
          "output_type": "execute_result"
        }
      ],
      "source": [
        "df_preprocessed = pd.read_csv('bioactivity_preprocessed_data.csv')\n",
        "df_preprocessed"
      ]
    },
    {
      "cell_type": "markdown",
      "metadata": {
        "colab_type": "text",
        "id": "YzN_S4Quro5S"
      },
      "source": [
        "## **Calculate Lipinski descriptors**\n",
        "Christopher Lipinski, a scientist at Pfizer, came up with a set of rule-of-thumb for evaluating the **druglikeness** of compounds. Such druglikeness is based on the Absorption, Distribution, Metabolism and Excretion (ADME) that is also known as the pharmacokinetic profile. Lipinski analyzed all orally active FDA-approved drugs in the formulation of what is to be known as the **Rule-of-Five** (all values are multiples of five) or **Lipinski's Rule**.\n",
        "\n",
        "The Lipinski's Rule stated the following:\n",
        "* Molecular weight < 500 Dalton\n",
        "* Octanol-water partition coefficient (LogP) < 5\n",
        "* Hydrogen bond donors < 5\n",
        "* Hydrogen bond acceptors < 10 "
      ]
    },
    {
      "cell_type": "markdown",
      "metadata": {
        "colab_type": "text",
        "id": "9qn_eQcnxY7C"
      },
      "source": [
        "### **Import libraries**"
      ]
    },
    {
      "cell_type": "code",
      "execution_count": 92,
      "metadata": {
        "colab": {},
        "colab_type": "code",
        "id": "CgBjIdT-rnRU"
      },
      "outputs": [],
      "source": [
        "import numpy as np\n",
        "from rdkit import Chem\n",
        "from rdkit.Chem import Descriptors, Lipinski"
      ]
    },
    {
      "cell_type": "markdown",
      "metadata": {
        "colab_type": "text",
        "id": "JsgTV-ByxdMa"
      },
      "source": [
        "### **Calculate descriptors**\n",
        "Input 'SMILES' notation of chemical information --> tells us exact atomic details of the molecule, from which we compute molecular descriptors\n",
        "\n",
        "SMILES: Simplified Molecular Input Line Entry System; ASCII strings for line notation of chemical's structure"
      ]
    },
    {
      "cell_type": "code",
      "execution_count": 93,
      "metadata": {
        "colab": {},
        "colab_type": "code",
        "id": "bCXEY7a9ugO_"
      },
      "outputs": [],
      "source": [
        "# Inspired by: https://codeocean.com/explore/capsules?query=tag:data-curation\n",
        "\n",
        "def lipinski(smiles, verbose=False):\n",
        "\n",
        "    moldata= []\n",
        "    for elem in smiles:\n",
        "        mol=Chem.MolFromSmiles(elem) # returns RDKit molecule object based on SMILES string\n",
        "        moldata.append(mol)\n",
        "       \n",
        "    baseData= np.arange(1,1) # create empty numpy array (based on range (1,1) = [])\n",
        "    i=0  \n",
        "    for mol in moldata:        \n",
        "       \n",
        "        desc_MolWt = Descriptors.MolWt(mol)\n",
        "        desc_MolLogP = Descriptors.MolLogP(mol)\n",
        "        desc_NumHDonors = Lipinski.NumHDonors(mol)\n",
        "        desc_NumHAcceptors = Lipinski.NumHAcceptors(mol)\n",
        "           \n",
        "        # store molecule's descriptors together as 1D array\n",
        "        row = np.array([desc_MolWt,\n",
        "                        desc_MolLogP,\n",
        "                        desc_NumHDonors,\n",
        "                        desc_NumHAcceptors])   \n",
        "    \n",
        "        if(i==0):\n",
        "            baseData=row\n",
        "        else:\n",
        "            baseData=np.vstack([baseData, row]) # vertical stacking of new array element (row) to priors (baseData) --> 2D array object \n",
        "        i=i+1      \n",
        "    \n",
        "    #save lipinski rule array into a df \n",
        "    columnNames=[\"MW\",\"LogP\",\"NumHDonors\",\"NumHAcceptors\"]   \n",
        "    descriptors = pd.DataFrame(data=baseData,columns=columnNames)\n",
        "    \n",
        "    return descriptors"
      ]
    },
    {
      "cell_type": "code",
      "execution_count": 94,
      "metadata": {
        "colab": {},
        "colab_type": "code",
        "id": "ThFIFw8IukMY"
      },
      "outputs": [],
      "source": [
        "df_lipinski = lipinski(df_preprocessed.canonical_smiles)"
      ]
    },
    {
      "cell_type": "markdown",
      "metadata": {
        "colab_type": "text",
        "id": "gUMlPfFrxicj"
      },
      "source": [
        "### **Combine DataFrames**\n",
        "\n",
        "Let's take a look at the 2 DataFrames that will be combined."
      ]
    },
    {
      "cell_type": "code",
      "execution_count": 95,
      "metadata": {
        "colab": {
          "base_uri": "https://localhost:8080/",
          "height": 415
        },
        "colab_type": "code",
        "id": "DaezyM5vwp9n",
        "outputId": "fb750119-b086-4d9d-e9f7-190833e4dc74"
      },
      "outputs": [
        {
          "data": {
            "application/vnd.microsoft.datawrangler.viewer.v0+json": {
              "columns": [
                {
                  "name": "index",
                  "rawType": "int64",
                  "type": "integer"
                },
                {
                  "name": "MW",
                  "rawType": "float64",
                  "type": "float"
                },
                {
                  "name": "LogP",
                  "rawType": "float64",
                  "type": "float"
                },
                {
                  "name": "NumHDonors",
                  "rawType": "float64",
                  "type": "float"
                },
                {
                  "name": "NumHAcceptors",
                  "rawType": "float64",
                  "type": "float"
                }
              ],
              "ref": "f9de2b30-65cd-4b7f-84f4-fdc1bba499ef",
              "rows": [
                [
                  "0",
                  "281.271",
                  "1.89262",
                  "0.0",
                  "5.0"
                ],
                [
                  "1",
                  "415.589",
                  "3.813200000000002",
                  "0.0",
                  "2.0"
                ],
                [
                  "2",
                  "421.19000000000005",
                  "2.6605000000000008",
                  "0.0",
                  "4.0"
                ],
                [
                  "3",
                  "293.34700000000004",
                  "3.6308000000000016",
                  "0.0",
                  "3.0"
                ],
                [
                  "4",
                  "338.3440000000001",
                  "3.5390000000000024",
                  "0.0",
                  "5.0"
                ],
                [
                  "5",
                  "372.24300000000005",
                  "4.393300000000003",
                  "0.0",
                  "3.0"
                ],
                [
                  "6",
                  "311.33700000000005",
                  "3.7699000000000016",
                  "0.0",
                  "3.0"
                ],
                [
                  "7",
                  "419.24300000000005",
                  "4.235400000000002",
                  "0.0",
                  "3.0"
                ],
                [
                  "8",
                  "327.7920000000001",
                  "4.284200000000002",
                  "0.0",
                  "3.0"
                ],
                [
                  "9",
                  "445.28100000000006",
                  "4.748600000000002",
                  "0.0",
                  "3.0"
                ],
                [
                  "10",
                  "522.7510000000001",
                  "4.987900000000002",
                  "1.0",
                  "4.0"
                ],
                [
                  "11",
                  "480.327",
                  "3.708300000000003",
                  "0.0",
                  "4.0"
                ],
                [
                  "12",
                  "580.6820000000004",
                  "2.6858200000000014",
                  "3.0",
                  "8.0"
                ],
                [
                  "13",
                  "558.6760000000003",
                  "2.7994200000000014",
                  "3.0",
                  "8.0"
                ],
                [
                  "14",
                  "329.137",
                  "2.6206000000000014",
                  "0.0",
                  "2.0"
                ],
                [
                  "15",
                  "330.34299999999996",
                  "2.6682000000000006",
                  "1.0",
                  "3.0"
                ],
                [
                  "16",
                  "280.28299999999996",
                  "1.5150000000000001",
                  "1.0",
                  "3.0"
                ],
                [
                  "17",
                  "246.26599999999996",
                  "1.1148999999999998",
                  "1.0",
                  "3.0"
                ],
                [
                  "18",
                  "232.23899999999998",
                  "0.7248",
                  "1.0",
                  "3.0"
                ],
                [
                  "19",
                  "204.18499999999997",
                  "-0.05540000000000028",
                  "1.0",
                  "3.0"
                ],
                [
                  "20",
                  "413.21400000000006",
                  "4.173900000000002",
                  "0.0",
                  "2.0"
                ],
                [
                  "21",
                  "363.15400000000005",
                  "3.0207000000000015",
                  "0.0",
                  "2.0"
                ],
                [
                  "22",
                  "473.4100000000001",
                  "6.304700000000004",
                  "1.0",
                  "6.0"
                ],
                [
                  "23",
                  "473.4100000000001",
                  "6.304700000000004",
                  "1.0",
                  "6.0"
                ],
                [
                  "24",
                  "437.4370000000002",
                  "3.3684800000000017",
                  "2.0",
                  "9.0"
                ],
                [
                  "25",
                  "437.4370000000002",
                  "3.3684800000000017",
                  "2.0",
                  "9.0"
                ],
                [
                  "26",
                  "377.3820000000001",
                  "1.8744999999999998",
                  "2.0",
                  "9.0"
                ],
                [
                  "27",
                  "377.3820000000001",
                  "1.8744999999999998",
                  "2.0",
                  "9.0"
                ],
                [
                  "28",
                  "403.38200000000006",
                  "3.223200000000001",
                  "2.0",
                  "7.0"
                ],
                [
                  "29",
                  "403.38200000000006",
                  "3.223200000000001",
                  "2.0",
                  "7.0"
                ],
                [
                  "30",
                  "401.8750000000001",
                  "4.667120000000002",
                  "2.0",
                  "6.0"
                ],
                [
                  "31",
                  "401.8750000000001",
                  "4.667120000000002",
                  "2.0",
                  "6.0"
                ],
                [
                  "32",
                  "462.53100000000023",
                  "4.441480000000004",
                  "2.0",
                  "8.0"
                ],
                [
                  "33",
                  "462.53100000000023",
                  "4.441480000000004",
                  "2.0",
                  "8.0"
                ],
                [
                  "34",
                  "397.45600000000013",
                  "3.5972000000000017",
                  "2.0",
                  "7.0"
                ],
                [
                  "35",
                  "397.45600000000013",
                  "3.5972000000000017",
                  "2.0",
                  "7.0"
                ],
                [
                  "36",
                  "369.51500000000004",
                  "5.059300000000004",
                  "1.0",
                  "5.0"
                ],
                [
                  "37",
                  "369.51500000000004",
                  "5.059300000000004",
                  "1.0",
                  "5.0"
                ],
                [
                  "38",
                  "457.3420000000001",
                  "5.8362000000000025",
                  "1.0",
                  "6.0"
                ],
                [
                  "39",
                  "457.3420000000001",
                  "5.8362000000000025",
                  "1.0",
                  "6.0"
                ],
                [
                  "40",
                  "525.3390000000002",
                  "6.855000000000004",
                  "1.0",
                  "6.0"
                ],
                [
                  "41",
                  "525.3390000000002",
                  "6.855000000000004",
                  "1.0",
                  "6.0"
                ],
                [
                  "42",
                  "519.1420000000002",
                  "7.051540000000005",
                  "1.0",
                  "8.0"
                ],
                [
                  "43",
                  "519.1420000000002",
                  "7.051540000000005",
                  "1.0",
                  "8.0"
                ],
                [
                  "44",
                  "334.3570000000001",
                  "2.43804",
                  "2.0",
                  "7.0"
                ],
                [
                  "45",
                  "334.3570000000001",
                  "2.43804",
                  "2.0",
                  "7.0"
                ],
                [
                  "46",
                  "379.766",
                  "4.327120000000001",
                  "1.0",
                  "4.0"
                ],
                [
                  "47",
                  "379.766",
                  "4.327120000000001",
                  "1.0",
                  "4.0"
                ],
                [
                  "48",
                  "393.51200000000006",
                  "5.006400000000004",
                  "1.0",
                  "5.0"
                ],
                [
                  "49",
                  "393.51200000000006",
                  "5.006400000000004",
                  "1.0",
                  "5.0"
                ]
              ],
              "shape": {
                "columns": 4,
                "rows": 245
              }
            },
            "text/html": [
              "<div>\n",
              "<style scoped>\n",
              "    .dataframe tbody tr th:only-of-type {\n",
              "        vertical-align: middle;\n",
              "    }\n",
              "\n",
              "    .dataframe tbody tr th {\n",
              "        vertical-align: top;\n",
              "    }\n",
              "\n",
              "    .dataframe thead th {\n",
              "        text-align: right;\n",
              "    }\n",
              "</style>\n",
              "<table border=\"1\" class=\"dataframe\">\n",
              "  <thead>\n",
              "    <tr style=\"text-align: right;\">\n",
              "      <th></th>\n",
              "      <th>MW</th>\n",
              "      <th>LogP</th>\n",
              "      <th>NumHDonors</th>\n",
              "      <th>NumHAcceptors</th>\n",
              "    </tr>\n",
              "  </thead>\n",
              "  <tbody>\n",
              "    <tr>\n",
              "      <th>0</th>\n",
              "      <td>281.271</td>\n",
              "      <td>1.89262</td>\n",
              "      <td>0.0</td>\n",
              "      <td>5.0</td>\n",
              "    </tr>\n",
              "    <tr>\n",
              "      <th>1</th>\n",
              "      <td>415.589</td>\n",
              "      <td>3.81320</td>\n",
              "      <td>0.0</td>\n",
              "      <td>2.0</td>\n",
              "    </tr>\n",
              "    <tr>\n",
              "      <th>2</th>\n",
              "      <td>421.190</td>\n",
              "      <td>2.66050</td>\n",
              "      <td>0.0</td>\n",
              "      <td>4.0</td>\n",
              "    </tr>\n",
              "    <tr>\n",
              "      <th>3</th>\n",
              "      <td>293.347</td>\n",
              "      <td>3.63080</td>\n",
              "      <td>0.0</td>\n",
              "      <td>3.0</td>\n",
              "    </tr>\n",
              "    <tr>\n",
              "      <th>4</th>\n",
              "      <td>338.344</td>\n",
              "      <td>3.53900</td>\n",
              "      <td>0.0</td>\n",
              "      <td>5.0</td>\n",
              "    </tr>\n",
              "    <tr>\n",
              "      <th>...</th>\n",
              "      <td>...</td>\n",
              "      <td>...</td>\n",
              "      <td>...</td>\n",
              "      <td>...</td>\n",
              "    </tr>\n",
              "    <tr>\n",
              "      <th>240</th>\n",
              "      <td>328.466</td>\n",
              "      <td>3.34562</td>\n",
              "      <td>1.0</td>\n",
              "      <td>5.0</td>\n",
              "    </tr>\n",
              "    <tr>\n",
              "      <th>241</th>\n",
              "      <td>222.379</td>\n",
              "      <td>-1.99300</td>\n",
              "      <td>1.0</td>\n",
              "      <td>3.0</td>\n",
              "    </tr>\n",
              "    <tr>\n",
              "      <th>242</th>\n",
              "      <td>485.559</td>\n",
              "      <td>0.54470</td>\n",
              "      <td>5.0</td>\n",
              "      <td>7.0</td>\n",
              "    </tr>\n",
              "    <tr>\n",
              "      <th>243</th>\n",
              "      <td>222.379</td>\n",
              "      <td>-1.99300</td>\n",
              "      <td>1.0</td>\n",
              "      <td>3.0</td>\n",
              "    </tr>\n",
              "    <tr>\n",
              "      <th>244</th>\n",
              "      <td>485.559</td>\n",
              "      <td>0.54470</td>\n",
              "      <td>5.0</td>\n",
              "      <td>7.0</td>\n",
              "    </tr>\n",
              "  </tbody>\n",
              "</table>\n",
              "<p>245 rows × 4 columns</p>\n",
              "</div>"
            ],
            "text/plain": [
              "          MW     LogP  NumHDonors  NumHAcceptors\n",
              "0    281.271  1.89262         0.0            5.0\n",
              "1    415.589  3.81320         0.0            2.0\n",
              "2    421.190  2.66050         0.0            4.0\n",
              "3    293.347  3.63080         0.0            3.0\n",
              "4    338.344  3.53900         0.0            5.0\n",
              "..       ...      ...         ...            ...\n",
              "240  328.466  3.34562         1.0            5.0\n",
              "241  222.379 -1.99300         1.0            3.0\n",
              "242  485.559  0.54470         5.0            7.0\n",
              "243  222.379 -1.99300         1.0            3.0\n",
              "244  485.559  0.54470         5.0            7.0\n",
              "\n",
              "[245 rows x 4 columns]"
            ]
          },
          "execution_count": 95,
          "metadata": {},
          "output_type": "execute_result"
        }
      ],
      "source": [
        "df_lipinski"
      ]
    },
    {
      "cell_type": "code",
      "execution_count": 96,
      "metadata": {
        "colab": {
          "base_uri": "https://localhost:8080/",
          "height": 415
        },
        "colab_type": "code",
        "id": "9-ChzM8_wuq_",
        "outputId": "5f5be1ae-c757-44af-cace-5a4c083a81af"
      },
      "outputs": [
        {
          "data": {
            "application/vnd.microsoft.datawrangler.viewer.v0+json": {
              "columns": [
                {
                  "name": "index",
                  "rawType": "int64",
                  "type": "integer"
                },
                {
                  "name": "molecule_chembl_id",
                  "rawType": "object",
                  "type": "string"
                },
                {
                  "name": "canonical_smiles",
                  "rawType": "object",
                  "type": "string"
                },
                {
                  "name": "standard_value",
                  "rawType": "float64",
                  "type": "float"
                },
                {
                  "name": "bioactivity_class",
                  "rawType": "object",
                  "type": "string"
                }
              ],
              "ref": "e63929f8-8601-4c4d-94dd-b819b12960f8",
              "rows": [
                [
                  "0",
                  "CHEMBL187579",
                  "Cc1noc(C)c1CN1C(=O)C(=O)c2cc(C#N)ccc21",
                  "7200.0",
                  "intermediate"
                ],
                [
                  "1",
                  "CHEMBL188487",
                  "O=C1C(=O)N(Cc2ccc(F)cc2Cl)c2ccc(I)cc21",
                  "9400.0",
                  "intermediate"
                ],
                [
                  "2",
                  "CHEMBL185698",
                  "O=C1C(=O)N(CC2COc3ccccc3O2)c2ccc(I)cc21",
                  "13500.0",
                  "inactive"
                ],
                [
                  "3",
                  "CHEMBL426082",
                  "O=C1C(=O)N(Cc2cc3ccccc3s2)c2ccccc21",
                  "13110.0",
                  "inactive"
                ],
                [
                  "4",
                  "CHEMBL187717",
                  "O=C1C(=O)N(Cc2cc3ccccc3s2)c2c1cccc2[N+](=O)[O-]",
                  "2000.0",
                  "intermediate"
                ],
                [
                  "5",
                  "CHEMBL365134",
                  "O=C1C(=O)N(Cc2cc3ccccc3s2)c2c(Br)cccc21",
                  "980.0",
                  "active"
                ],
                [
                  "6",
                  "CHEMBL187598",
                  "O=C1C(=O)N(Cc2cc3ccccc3s2)c2ccc(F)cc21",
                  "4820.0",
                  "intermediate"
                ],
                [
                  "7",
                  "CHEMBL190743",
                  "O=C1C(=O)N(Cc2cc3ccccc3s2)c2ccc(I)cc21",
                  "950.0",
                  "active"
                ],
                [
                  "8",
                  "CHEMBL365469",
                  "O=C1C(=O)N(Cc2cc3ccccc3s2)c2cccc(Cl)c21",
                  "11200.0",
                  "inactive"
                ],
                [
                  "9",
                  "CHEMBL188983",
                  "O=C1C(=O)N(C/C=C/c2cc3ccccc3s2)c2ccc(I)cc21",
                  "23500.0",
                  "inactive"
                ],
                [
                  "10",
                  "CHEMBL191575",
                  "O=C(Nc1ccc(Cl)cc1)c1ccc(CN2C(=O)C(=O)c3cc(I)ccc32)s1",
                  "12570.0",
                  "inactive"
                ],
                [
                  "11",
                  "CHEMBL370923",
                  "O=C1C(=O)N(Cc2ccc(C(=O)N3CCCCC3)s2)c2ccc(I)cc21",
                  "17500.0",
                  "inactive"
                ],
                [
                  "12",
                  "CHEMBL194398",
                  "CCOC(=O)/C=C/[C@H](C[C@@H]1CCNC1=O)NC(=O)[C@@H](CC(=O)[C@@H](NC(=O)c1cc(C)on1)C(C)C)Cc1ccccc1",
                  "45000.0",
                  "inactive"
                ],
                [
                  "13",
                  "CHEMBL196635",
                  "CCOC(=O)/C=C/[C@H](C[C@@H]1CCNC1=O)NC(=O)[C@H](CC=C(C)C)CC(=O)[C@@H](NC(=O)c1cc(C)on1)C(C)C",
                  "70000.0",
                  "inactive"
                ],
                [
                  "14",
                  "CHEMBL209287",
                  "CCCCN1C(=O)C(=O)c2cc(I)ccc21",
                  "66000.0",
                  "inactive"
                ],
                [
                  "15",
                  "CHEMBL358279",
                  "NC(=O)c1ccc2c(c1)C(=O)C(=O)N2Cc1ccc2ccccc2c1",
                  "370.0",
                  "active"
                ],
                [
                  "16",
                  "CHEMBL348660",
                  "NC(=O)c1ccc2c(c1)C(=O)C(=O)N2Cc1ccccc1",
                  "12500.0",
                  "inactive"
                ],
                [
                  "17",
                  "CHEMBL379727",
                  "CCCCN1C(=O)C(=O)c2cc(C(N)=O)ccc21",
                  "19000.0",
                  "inactive"
                ],
                [
                  "18",
                  "CHEMBL210525",
                  "CCCN1C(=O)C(=O)c2cc(C(N)=O)ccc21",
                  "25000.0",
                  "inactive"
                ],
                [
                  "19",
                  "CHEMBL148483",
                  "CN1C(=O)C(=O)c2cc(C(N)=O)ccc21",
                  "71000.0",
                  "inactive"
                ],
                [
                  "20",
                  "CHEMBL383725",
                  "O=C1C(=O)N(Cc2ccc3ccccc3c2)c2ccc(I)cc21",
                  "1100.0",
                  "intermediate"
                ],
                [
                  "21",
                  "CHEMBL118596",
                  "O=C1C(=O)N(Cc2ccccc2)c2ccc(I)cc21",
                  "50000.0",
                  "inactive"
                ],
                [
                  "22",
                  "CHEMBL208732",
                  "O=C(CSc1nccc(-c2csc(-c3ccccc3)n2)n1)Nc1cc(Cl)cc(Cl)c1",
                  "3019.95",
                  "intermediate"
                ],
                [
                  "23",
                  "CHEMBL208732",
                  "O=C(CSc1nccc(-c2csc(-c3ccccc3)n2)n1)Nc1cc(Cl)cc(Cl)c1",
                  "3000.0",
                  "intermediate"
                ],
                [
                  "24",
                  "CHEMBL210146",
                  "COc1cccc(-c2nc(SCC(=O)Nc3ccc([N+](=O)[O-])cc3)nc(O)c2C#N)c1",
                  "301995.17",
                  "inactive"
                ],
                [
                  "25",
                  "CHEMBL210146",
                  "COc1cccc(-c2nc(SCC(=O)Nc3ccc([N+](=O)[O-])cc3)nc(O)c2C#N)c1",
                  "300000.0",
                  "inactive"
                ],
                [
                  "26",
                  "CHEMBL207458",
                  "CCOC(=O)c1cnc(SCC(=O)Nc2ccc([N+](=O)[O-])cc2)nc1N",
                  "251188.64",
                  "inactive"
                ],
                [
                  "27",
                  "CHEMBL207458",
                  "CCOC(=O)c1cnc(SCC(=O)Nc2ccc([N+](=O)[O-])cc2)nc1N",
                  "250000.0",
                  "inactive"
                ],
                [
                  "28",
                  "CHEMBL207484",
                  "COC(OC)c1cc(O)nc(SCC(=O)Nc2ccc(C(F)(F)F)cc2)n1",
                  "204173.79",
                  "inactive"
                ],
                [
                  "29",
                  "CHEMBL207484",
                  "COC(OC)c1cc(O)nc(SCC(=O)Nc2ccc(C(F)(F)F)cc2)n1",
                  "200000.0",
                  "inactive"
                ],
                [
                  "30",
                  "CHEMBL207207",
                  "Cc1cc(O)nc(SCC(=O)Nc2cc(Cl)ccc2Oc2ccccc2)n1",
                  "100000.0",
                  "inactive"
                ],
                [
                  "31",
                  "CHEMBL207207",
                  "Cc1cc(O)nc(SCC(=O)Nc2cc(Cl)ccc2Oc2ccccc2)n1",
                  "100000.0",
                  "inactive"
                ],
                [
                  "32",
                  "CHEMBL210487",
                  "CCC(Sc1nc(O)c(C#N)c(-c2cccc(OC)c2)n1)C(=O)Nc1ccc(C(C)=O)cc1",
                  "60255.96",
                  "inactive"
                ],
                [
                  "33",
                  "CHEMBL210487",
                  "CCC(Sc1nc(O)c(C#N)c(-c2cccc(OC)c2)n1)C(=O)Nc1ccc(C(C)=O)cc1",
                  "60000.0",
                  "inactive"
                ],
                [
                  "34",
                  "CHEMBL380470",
                  "COc1ccc(NC(=O)CSc2nc(O)cc(-c3ccccc3)n2)cc1OC",
                  "45708.82",
                  "inactive"
                ],
                [
                  "35",
                  "CHEMBL380470",
                  "COc1ccc(NC(=O)CSc2nc(O)cc(-c3ccccc3)n2)cc1OC",
                  "45000.0",
                  "inactive"
                ],
                [
                  "36",
                  "CHEMBL210612",
                  "CC(C)c1ccc(NC(=O)CSc2nccc(-c3cccs3)n2)cc1",
                  "40738.03",
                  "inactive"
                ],
                [
                  "37",
                  "CHEMBL210612",
                  "CC(C)c1ccc(NC(=O)CSc2nccc(-c3cccs3)n2)cc1",
                  "40000.0",
                  "inactive"
                ],
                [
                  "38",
                  "CHEMBL209667",
                  "O=C(CSc1nccc(-c2cc(-c3ccccc3Cl)no2)n1)Nc1ccc(Cl)cc1",
                  "15135.61",
                  "inactive"
                ],
                [
                  "39",
                  "CHEMBL209667",
                  "O=C(CSc1nccc(-c2cc(-c3ccccc3Cl)no2)n1)Nc1ccc(Cl)cc1",
                  "15000.0",
                  "inactive"
                ],
                [
                  "40",
                  "CHEMBL210097",
                  "O=C(CSc1nccc(-c2cc(-c3ccc(Cl)cc3Cl)no2)n1)Nc1ccc(C(F)(F)F)cc1",
                  "15135.61",
                  "inactive"
                ],
                [
                  "41",
                  "CHEMBL210097",
                  "O=C(CSc1nccc(-c2cc(-c3ccc(Cl)cc3Cl)no2)n1)Nc1ccc(C(F)(F)F)cc1",
                  "15000.0",
                  "inactive"
                ],
                [
                  "42",
                  "CHEMBL378674",
                  "CSc1sc(-c2nc(C)cs2)c(C)c1-c1ccnc(SCC(=O)Nc2ccccc2Cl)n1",
                  "12022.64",
                  "inactive"
                ],
                [
                  "43",
                  "CHEMBL378674",
                  "CSc1sc(-c2nc(C)cs2)c(C)c1-c1ccnc(SCC(=O)Nc2ccccc2Cl)n1",
                  "12000.0",
                  "inactive"
                ],
                [
                  "44",
                  "CHEMBL210216",
                  "Cc1nc(SCC(=O)Nc2ccc([N+](=O)[O-])cc2)nc(O)c1C",
                  "1000000.0",
                  "inactive"
                ],
                [
                  "45",
                  "CHEMBL210216",
                  "Cc1nc(SCC(=O)Nc2ccc([N+](=O)[O-])cc2)nc(O)c1C",
                  "1000000.0",
                  "inactive"
                ],
                [
                  "46",
                  "CHEMBL210195",
                  "Cc1cc(C(F)(F)F)nc(SCC(=O)Nc2ccc(Cl)cc2F)n1",
                  "501187.23",
                  "inactive"
                ],
                [
                  "47",
                  "CHEMBL210195",
                  "Cc1cc(C(F)(F)F)nc(SCC(=O)Nc2ccc(Cl)cc2F)n1",
                  "500000.0",
                  "inactive"
                ],
                [
                  "48",
                  "CHEMBL210437",
                  "COc1ccc(-c2ccnc(SCC(=O)Nc3ccc(C(C)C)cc3)n2)cc1",
                  "407380.28",
                  "inactive"
                ],
                [
                  "49",
                  "CHEMBL210437",
                  "COc1ccc(-c2ccnc(SCC(=O)Nc3ccc(C(C)C)cc3)n2)cc1",
                  "400000.0",
                  "inactive"
                ]
              ],
              "shape": {
                "columns": 4,
                "rows": 245
              }
            },
            "text/html": [
              "<div>\n",
              "<style scoped>\n",
              "    .dataframe tbody tr th:only-of-type {\n",
              "        vertical-align: middle;\n",
              "    }\n",
              "\n",
              "    .dataframe tbody tr th {\n",
              "        vertical-align: top;\n",
              "    }\n",
              "\n",
              "    .dataframe thead th {\n",
              "        text-align: right;\n",
              "    }\n",
              "</style>\n",
              "<table border=\"1\" class=\"dataframe\">\n",
              "  <thead>\n",
              "    <tr style=\"text-align: right;\">\n",
              "      <th></th>\n",
              "      <th>molecule_chembl_id</th>\n",
              "      <th>canonical_smiles</th>\n",
              "      <th>standard_value</th>\n",
              "      <th>bioactivity_class</th>\n",
              "    </tr>\n",
              "  </thead>\n",
              "  <tbody>\n",
              "    <tr>\n",
              "      <th>0</th>\n",
              "      <td>CHEMBL187579</td>\n",
              "      <td>Cc1noc(C)c1CN1C(=O)C(=O)c2cc(C#N)ccc21</td>\n",
              "      <td>7200.00</td>\n",
              "      <td>intermediate</td>\n",
              "    </tr>\n",
              "    <tr>\n",
              "      <th>1</th>\n",
              "      <td>CHEMBL188487</td>\n",
              "      <td>O=C1C(=O)N(Cc2ccc(F)cc2Cl)c2ccc(I)cc21</td>\n",
              "      <td>9400.00</td>\n",
              "      <td>intermediate</td>\n",
              "    </tr>\n",
              "    <tr>\n",
              "      <th>2</th>\n",
              "      <td>CHEMBL185698</td>\n",
              "      <td>O=C1C(=O)N(CC2COc3ccccc3O2)c2ccc(I)cc21</td>\n",
              "      <td>13500.00</td>\n",
              "      <td>inactive</td>\n",
              "    </tr>\n",
              "    <tr>\n",
              "      <th>3</th>\n",
              "      <td>CHEMBL426082</td>\n",
              "      <td>O=C1C(=O)N(Cc2cc3ccccc3s2)c2ccccc21</td>\n",
              "      <td>13110.00</td>\n",
              "      <td>inactive</td>\n",
              "    </tr>\n",
              "    <tr>\n",
              "      <th>4</th>\n",
              "      <td>CHEMBL187717</td>\n",
              "      <td>O=C1C(=O)N(Cc2cc3ccccc3s2)c2c1cccc2[N+](=O)[O-]</td>\n",
              "      <td>2000.00</td>\n",
              "      <td>intermediate</td>\n",
              "    </tr>\n",
              "    <tr>\n",
              "      <th>...</th>\n",
              "      <td>...</td>\n",
              "      <td>...</td>\n",
              "      <td>...</td>\n",
              "      <td>...</td>\n",
              "    </tr>\n",
              "    <tr>\n",
              "      <th>240</th>\n",
              "      <td>CHEMBL4590273</td>\n",
              "      <td>Cc1cccc2nc(CSC(=S)NCc3cccnc3)cn12</td>\n",
              "      <td>380.19</td>\n",
              "      <td>active</td>\n",
              "    </tr>\n",
              "    <tr>\n",
              "      <th>241</th>\n",
              "      <td>CHEMBL5436771</td>\n",
              "      <td>S=C([S-])NCc1cccnc1.[K+]</td>\n",
              "      <td>165.00</td>\n",
              "      <td>active</td>\n",
              "    </tr>\n",
              "    <tr>\n",
              "      <th>242</th>\n",
              "      <td>CHEMBL2365410</td>\n",
              "      <td>CC(C)C[C@H](NC(=O)OCc1ccccc1)C(=O)N[C@@H](CC1C...</td>\n",
              "      <td>161.00</td>\n",
              "      <td>active</td>\n",
              "    </tr>\n",
              "    <tr>\n",
              "      <th>243</th>\n",
              "      <td>CHEMBL5436771</td>\n",
              "      <td>S=C([S-])NCc1cccnc1.[K+]</td>\n",
              "      <td>165.96</td>\n",
              "      <td>active</td>\n",
              "    </tr>\n",
              "    <tr>\n",
              "      <th>244</th>\n",
              "      <td>CHEMBL2365410</td>\n",
              "      <td>CC(C)C[C@H](NC(=O)OCc1ccccc1)C(=O)N[C@@H](CC1C...</td>\n",
              "      <td>162.18</td>\n",
              "      <td>active</td>\n",
              "    </tr>\n",
              "  </tbody>\n",
              "</table>\n",
              "<p>245 rows × 4 columns</p>\n",
              "</div>"
            ],
            "text/plain": [
              "    molecule_chembl_id                                   canonical_smiles  \\\n",
              "0         CHEMBL187579             Cc1noc(C)c1CN1C(=O)C(=O)c2cc(C#N)ccc21   \n",
              "1         CHEMBL188487             O=C1C(=O)N(Cc2ccc(F)cc2Cl)c2ccc(I)cc21   \n",
              "2         CHEMBL185698            O=C1C(=O)N(CC2COc3ccccc3O2)c2ccc(I)cc21   \n",
              "3         CHEMBL426082                O=C1C(=O)N(Cc2cc3ccccc3s2)c2ccccc21   \n",
              "4         CHEMBL187717    O=C1C(=O)N(Cc2cc3ccccc3s2)c2c1cccc2[N+](=O)[O-]   \n",
              "..                 ...                                                ...   \n",
              "240      CHEMBL4590273                  Cc1cccc2nc(CSC(=S)NCc3cccnc3)cn12   \n",
              "241      CHEMBL5436771                           S=C([S-])NCc1cccnc1.[K+]   \n",
              "242      CHEMBL2365410  CC(C)C[C@H](NC(=O)OCc1ccccc1)C(=O)N[C@@H](CC1C...   \n",
              "243      CHEMBL5436771                           S=C([S-])NCc1cccnc1.[K+]   \n",
              "244      CHEMBL2365410  CC(C)C[C@H](NC(=O)OCc1ccccc1)C(=O)N[C@@H](CC1C...   \n",
              "\n",
              "     standard_value bioactivity_class  \n",
              "0           7200.00      intermediate  \n",
              "1           9400.00      intermediate  \n",
              "2          13500.00          inactive  \n",
              "3          13110.00          inactive  \n",
              "4           2000.00      intermediate  \n",
              "..              ...               ...  \n",
              "240          380.19            active  \n",
              "241          165.00            active  \n",
              "242          161.00            active  \n",
              "243          165.96            active  \n",
              "244          162.18            active  \n",
              "\n",
              "[245 rows x 4 columns]"
            ]
          },
          "execution_count": 96,
          "metadata": {},
          "output_type": "execute_result"
        }
      ],
      "source": [
        "df_preprocessed"
      ]
    },
    {
      "cell_type": "markdown",
      "metadata": {
        "colab_type": "text",
        "id": "eET6iZ1Aw3oe"
      },
      "source": [
        "Now, let's combine the 2 DataFrame"
      ]
    },
    {
      "cell_type": "code",
      "execution_count": 97,
      "metadata": {
        "colab": {},
        "colab_type": "code",
        "id": "L9nUZC0Ww3gp"
      },
      "outputs": [],
      "source": [
        "df_combined = pd.concat([df_preprocessed,df_lipinski], axis=1)"
      ]
    },
    {
      "cell_type": "code",
      "execution_count": 98,
      "metadata": {
        "colab": {
          "base_uri": "https://localhost:8080/",
          "height": 487
        },
        "colab_type": "code",
        "id": "FRBfBP3QxFJp",
        "outputId": "18e69e90-6b93-4b8f-fc86-24924f6eb00c"
      },
      "outputs": [
        {
          "data": {
            "application/vnd.microsoft.datawrangler.viewer.v0+json": {
              "columns": [
                {
                  "name": "index",
                  "rawType": "int64",
                  "type": "integer"
                },
                {
                  "name": "molecule_chembl_id",
                  "rawType": "object",
                  "type": "string"
                },
                {
                  "name": "canonical_smiles",
                  "rawType": "object",
                  "type": "string"
                },
                {
                  "name": "standard_value",
                  "rawType": "float64",
                  "type": "float"
                },
                {
                  "name": "bioactivity_class",
                  "rawType": "object",
                  "type": "string"
                },
                {
                  "name": "MW",
                  "rawType": "float64",
                  "type": "float"
                },
                {
                  "name": "LogP",
                  "rawType": "float64",
                  "type": "float"
                },
                {
                  "name": "NumHDonors",
                  "rawType": "float64",
                  "type": "float"
                },
                {
                  "name": "NumHAcceptors",
                  "rawType": "float64",
                  "type": "float"
                }
              ],
              "ref": "003f07f8-7314-4dfd-ad56-7a784de9dbca",
              "rows": [
                [
                  "0",
                  "CHEMBL187579",
                  "Cc1noc(C)c1CN1C(=O)C(=O)c2cc(C#N)ccc21",
                  "7200.0",
                  "intermediate",
                  "281.271",
                  "1.89262",
                  "0.0",
                  "5.0"
                ],
                [
                  "1",
                  "CHEMBL188487",
                  "O=C1C(=O)N(Cc2ccc(F)cc2Cl)c2ccc(I)cc21",
                  "9400.0",
                  "intermediate",
                  "415.589",
                  "3.813200000000002",
                  "0.0",
                  "2.0"
                ],
                [
                  "2",
                  "CHEMBL185698",
                  "O=C1C(=O)N(CC2COc3ccccc3O2)c2ccc(I)cc21",
                  "13500.0",
                  "inactive",
                  "421.19000000000005",
                  "2.6605000000000008",
                  "0.0",
                  "4.0"
                ],
                [
                  "3",
                  "CHEMBL426082",
                  "O=C1C(=O)N(Cc2cc3ccccc3s2)c2ccccc21",
                  "13110.0",
                  "inactive",
                  "293.34700000000004",
                  "3.6308000000000016",
                  "0.0",
                  "3.0"
                ],
                [
                  "4",
                  "CHEMBL187717",
                  "O=C1C(=O)N(Cc2cc3ccccc3s2)c2c1cccc2[N+](=O)[O-]",
                  "2000.0",
                  "intermediate",
                  "338.3440000000001",
                  "3.5390000000000024",
                  "0.0",
                  "5.0"
                ],
                [
                  "5",
                  "CHEMBL365134",
                  "O=C1C(=O)N(Cc2cc3ccccc3s2)c2c(Br)cccc21",
                  "980.0",
                  "active",
                  "372.24300000000005",
                  "4.393300000000003",
                  "0.0",
                  "3.0"
                ],
                [
                  "6",
                  "CHEMBL187598",
                  "O=C1C(=O)N(Cc2cc3ccccc3s2)c2ccc(F)cc21",
                  "4820.0",
                  "intermediate",
                  "311.33700000000005",
                  "3.7699000000000016",
                  "0.0",
                  "3.0"
                ],
                [
                  "7",
                  "CHEMBL190743",
                  "O=C1C(=O)N(Cc2cc3ccccc3s2)c2ccc(I)cc21",
                  "950.0",
                  "active",
                  "419.24300000000005",
                  "4.235400000000002",
                  "0.0",
                  "3.0"
                ],
                [
                  "8",
                  "CHEMBL365469",
                  "O=C1C(=O)N(Cc2cc3ccccc3s2)c2cccc(Cl)c21",
                  "11200.0",
                  "inactive",
                  "327.7920000000001",
                  "4.284200000000002",
                  "0.0",
                  "3.0"
                ],
                [
                  "9",
                  "CHEMBL188983",
                  "O=C1C(=O)N(C/C=C/c2cc3ccccc3s2)c2ccc(I)cc21",
                  "23500.0",
                  "inactive",
                  "445.28100000000006",
                  "4.748600000000002",
                  "0.0",
                  "3.0"
                ],
                [
                  "10",
                  "CHEMBL191575",
                  "O=C(Nc1ccc(Cl)cc1)c1ccc(CN2C(=O)C(=O)c3cc(I)ccc32)s1",
                  "12570.0",
                  "inactive",
                  "522.7510000000001",
                  "4.987900000000002",
                  "1.0",
                  "4.0"
                ],
                [
                  "11",
                  "CHEMBL370923",
                  "O=C1C(=O)N(Cc2ccc(C(=O)N3CCCCC3)s2)c2ccc(I)cc21",
                  "17500.0",
                  "inactive",
                  "480.327",
                  "3.708300000000003",
                  "0.0",
                  "4.0"
                ],
                [
                  "12",
                  "CHEMBL194398",
                  "CCOC(=O)/C=C/[C@H](C[C@@H]1CCNC1=O)NC(=O)[C@@H](CC(=O)[C@@H](NC(=O)c1cc(C)on1)C(C)C)Cc1ccccc1",
                  "45000.0",
                  "inactive",
                  "580.6820000000004",
                  "2.6858200000000014",
                  "3.0",
                  "8.0"
                ],
                [
                  "13",
                  "CHEMBL196635",
                  "CCOC(=O)/C=C/[C@H](C[C@@H]1CCNC1=O)NC(=O)[C@H](CC=C(C)C)CC(=O)[C@@H](NC(=O)c1cc(C)on1)C(C)C",
                  "70000.0",
                  "inactive",
                  "558.6760000000003",
                  "2.7994200000000014",
                  "3.0",
                  "8.0"
                ],
                [
                  "14",
                  "CHEMBL209287",
                  "CCCCN1C(=O)C(=O)c2cc(I)ccc21",
                  "66000.0",
                  "inactive",
                  "329.137",
                  "2.6206000000000014",
                  "0.0",
                  "2.0"
                ],
                [
                  "15",
                  "CHEMBL358279",
                  "NC(=O)c1ccc2c(c1)C(=O)C(=O)N2Cc1ccc2ccccc2c1",
                  "370.0",
                  "active",
                  "330.34299999999996",
                  "2.6682000000000006",
                  "1.0",
                  "3.0"
                ],
                [
                  "16",
                  "CHEMBL348660",
                  "NC(=O)c1ccc2c(c1)C(=O)C(=O)N2Cc1ccccc1",
                  "12500.0",
                  "inactive",
                  "280.28299999999996",
                  "1.5150000000000001",
                  "1.0",
                  "3.0"
                ],
                [
                  "17",
                  "CHEMBL379727",
                  "CCCCN1C(=O)C(=O)c2cc(C(N)=O)ccc21",
                  "19000.0",
                  "inactive",
                  "246.26599999999996",
                  "1.1148999999999998",
                  "1.0",
                  "3.0"
                ],
                [
                  "18",
                  "CHEMBL210525",
                  "CCCN1C(=O)C(=O)c2cc(C(N)=O)ccc21",
                  "25000.0",
                  "inactive",
                  "232.23899999999998",
                  "0.7248",
                  "1.0",
                  "3.0"
                ],
                [
                  "19",
                  "CHEMBL148483",
                  "CN1C(=O)C(=O)c2cc(C(N)=O)ccc21",
                  "71000.0",
                  "inactive",
                  "204.18499999999997",
                  "-0.05540000000000028",
                  "1.0",
                  "3.0"
                ],
                [
                  "20",
                  "CHEMBL383725",
                  "O=C1C(=O)N(Cc2ccc3ccccc3c2)c2ccc(I)cc21",
                  "1100.0",
                  "intermediate",
                  "413.21400000000006",
                  "4.173900000000002",
                  "0.0",
                  "2.0"
                ],
                [
                  "21",
                  "CHEMBL118596",
                  "O=C1C(=O)N(Cc2ccccc2)c2ccc(I)cc21",
                  "50000.0",
                  "inactive",
                  "363.15400000000005",
                  "3.0207000000000015",
                  "0.0",
                  "2.0"
                ],
                [
                  "22",
                  "CHEMBL208732",
                  "O=C(CSc1nccc(-c2csc(-c3ccccc3)n2)n1)Nc1cc(Cl)cc(Cl)c1",
                  "3019.95",
                  "intermediate",
                  "473.4100000000001",
                  "6.304700000000004",
                  "1.0",
                  "6.0"
                ],
                [
                  "23",
                  "CHEMBL208732",
                  "O=C(CSc1nccc(-c2csc(-c3ccccc3)n2)n1)Nc1cc(Cl)cc(Cl)c1",
                  "3000.0",
                  "intermediate",
                  "473.4100000000001",
                  "6.304700000000004",
                  "1.0",
                  "6.0"
                ],
                [
                  "24",
                  "CHEMBL210146",
                  "COc1cccc(-c2nc(SCC(=O)Nc3ccc([N+](=O)[O-])cc3)nc(O)c2C#N)c1",
                  "301995.17",
                  "inactive",
                  "437.4370000000002",
                  "3.3684800000000017",
                  "2.0",
                  "9.0"
                ],
                [
                  "25",
                  "CHEMBL210146",
                  "COc1cccc(-c2nc(SCC(=O)Nc3ccc([N+](=O)[O-])cc3)nc(O)c2C#N)c1",
                  "300000.0",
                  "inactive",
                  "437.4370000000002",
                  "3.3684800000000017",
                  "2.0",
                  "9.0"
                ],
                [
                  "26",
                  "CHEMBL207458",
                  "CCOC(=O)c1cnc(SCC(=O)Nc2ccc([N+](=O)[O-])cc2)nc1N",
                  "251188.64",
                  "inactive",
                  "377.3820000000001",
                  "1.8744999999999998",
                  "2.0",
                  "9.0"
                ],
                [
                  "27",
                  "CHEMBL207458",
                  "CCOC(=O)c1cnc(SCC(=O)Nc2ccc([N+](=O)[O-])cc2)nc1N",
                  "250000.0",
                  "inactive",
                  "377.3820000000001",
                  "1.8744999999999998",
                  "2.0",
                  "9.0"
                ],
                [
                  "28",
                  "CHEMBL207484",
                  "COC(OC)c1cc(O)nc(SCC(=O)Nc2ccc(C(F)(F)F)cc2)n1",
                  "204173.79",
                  "inactive",
                  "403.38200000000006",
                  "3.223200000000001",
                  "2.0",
                  "7.0"
                ],
                [
                  "29",
                  "CHEMBL207484",
                  "COC(OC)c1cc(O)nc(SCC(=O)Nc2ccc(C(F)(F)F)cc2)n1",
                  "200000.0",
                  "inactive",
                  "403.38200000000006",
                  "3.223200000000001",
                  "2.0",
                  "7.0"
                ],
                [
                  "30",
                  "CHEMBL207207",
                  "Cc1cc(O)nc(SCC(=O)Nc2cc(Cl)ccc2Oc2ccccc2)n1",
                  "100000.0",
                  "inactive",
                  "401.8750000000001",
                  "4.667120000000002",
                  "2.0",
                  "6.0"
                ],
                [
                  "31",
                  "CHEMBL207207",
                  "Cc1cc(O)nc(SCC(=O)Nc2cc(Cl)ccc2Oc2ccccc2)n1",
                  "100000.0",
                  "inactive",
                  "401.8750000000001",
                  "4.667120000000002",
                  "2.0",
                  "6.0"
                ],
                [
                  "32",
                  "CHEMBL210487",
                  "CCC(Sc1nc(O)c(C#N)c(-c2cccc(OC)c2)n1)C(=O)Nc1ccc(C(C)=O)cc1",
                  "60255.96",
                  "inactive",
                  "462.53100000000023",
                  "4.441480000000004",
                  "2.0",
                  "8.0"
                ],
                [
                  "33",
                  "CHEMBL210487",
                  "CCC(Sc1nc(O)c(C#N)c(-c2cccc(OC)c2)n1)C(=O)Nc1ccc(C(C)=O)cc1",
                  "60000.0",
                  "inactive",
                  "462.53100000000023",
                  "4.441480000000004",
                  "2.0",
                  "8.0"
                ],
                [
                  "34",
                  "CHEMBL380470",
                  "COc1ccc(NC(=O)CSc2nc(O)cc(-c3ccccc3)n2)cc1OC",
                  "45708.82",
                  "inactive",
                  "397.45600000000013",
                  "3.5972000000000017",
                  "2.0",
                  "7.0"
                ],
                [
                  "35",
                  "CHEMBL380470",
                  "COc1ccc(NC(=O)CSc2nc(O)cc(-c3ccccc3)n2)cc1OC",
                  "45000.0",
                  "inactive",
                  "397.45600000000013",
                  "3.5972000000000017",
                  "2.0",
                  "7.0"
                ],
                [
                  "36",
                  "CHEMBL210612",
                  "CC(C)c1ccc(NC(=O)CSc2nccc(-c3cccs3)n2)cc1",
                  "40738.03",
                  "inactive",
                  "369.51500000000004",
                  "5.059300000000004",
                  "1.0",
                  "5.0"
                ],
                [
                  "37",
                  "CHEMBL210612",
                  "CC(C)c1ccc(NC(=O)CSc2nccc(-c3cccs3)n2)cc1",
                  "40000.0",
                  "inactive",
                  "369.51500000000004",
                  "5.059300000000004",
                  "1.0",
                  "5.0"
                ],
                [
                  "38",
                  "CHEMBL209667",
                  "O=C(CSc1nccc(-c2cc(-c3ccccc3Cl)no2)n1)Nc1ccc(Cl)cc1",
                  "15135.61",
                  "inactive",
                  "457.3420000000001",
                  "5.8362000000000025",
                  "1.0",
                  "6.0"
                ],
                [
                  "39",
                  "CHEMBL209667",
                  "O=C(CSc1nccc(-c2cc(-c3ccccc3Cl)no2)n1)Nc1ccc(Cl)cc1",
                  "15000.0",
                  "inactive",
                  "457.3420000000001",
                  "5.8362000000000025",
                  "1.0",
                  "6.0"
                ],
                [
                  "40",
                  "CHEMBL210097",
                  "O=C(CSc1nccc(-c2cc(-c3ccc(Cl)cc3Cl)no2)n1)Nc1ccc(C(F)(F)F)cc1",
                  "15135.61",
                  "inactive",
                  "525.3390000000002",
                  "6.855000000000004",
                  "1.0",
                  "6.0"
                ],
                [
                  "41",
                  "CHEMBL210097",
                  "O=C(CSc1nccc(-c2cc(-c3ccc(Cl)cc3Cl)no2)n1)Nc1ccc(C(F)(F)F)cc1",
                  "15000.0",
                  "inactive",
                  "525.3390000000002",
                  "6.855000000000004",
                  "1.0",
                  "6.0"
                ],
                [
                  "42",
                  "CHEMBL378674",
                  "CSc1sc(-c2nc(C)cs2)c(C)c1-c1ccnc(SCC(=O)Nc2ccccc2Cl)n1",
                  "12022.64",
                  "inactive",
                  "519.1420000000002",
                  "7.051540000000005",
                  "1.0",
                  "8.0"
                ],
                [
                  "43",
                  "CHEMBL378674",
                  "CSc1sc(-c2nc(C)cs2)c(C)c1-c1ccnc(SCC(=O)Nc2ccccc2Cl)n1",
                  "12000.0",
                  "inactive",
                  "519.1420000000002",
                  "7.051540000000005",
                  "1.0",
                  "8.0"
                ],
                [
                  "44",
                  "CHEMBL210216",
                  "Cc1nc(SCC(=O)Nc2ccc([N+](=O)[O-])cc2)nc(O)c1C",
                  "1000000.0",
                  "inactive",
                  "334.3570000000001",
                  "2.43804",
                  "2.0",
                  "7.0"
                ],
                [
                  "45",
                  "CHEMBL210216",
                  "Cc1nc(SCC(=O)Nc2ccc([N+](=O)[O-])cc2)nc(O)c1C",
                  "1000000.0",
                  "inactive",
                  "334.3570000000001",
                  "2.43804",
                  "2.0",
                  "7.0"
                ],
                [
                  "46",
                  "CHEMBL210195",
                  "Cc1cc(C(F)(F)F)nc(SCC(=O)Nc2ccc(Cl)cc2F)n1",
                  "501187.23",
                  "inactive",
                  "379.766",
                  "4.327120000000001",
                  "1.0",
                  "4.0"
                ],
                [
                  "47",
                  "CHEMBL210195",
                  "Cc1cc(C(F)(F)F)nc(SCC(=O)Nc2ccc(Cl)cc2F)n1",
                  "500000.0",
                  "inactive",
                  "379.766",
                  "4.327120000000001",
                  "1.0",
                  "4.0"
                ],
                [
                  "48",
                  "CHEMBL210437",
                  "COc1ccc(-c2ccnc(SCC(=O)Nc3ccc(C(C)C)cc3)n2)cc1",
                  "407380.28",
                  "inactive",
                  "393.51200000000006",
                  "5.006400000000004",
                  "1.0",
                  "5.0"
                ],
                [
                  "49",
                  "CHEMBL210437",
                  "COc1ccc(-c2ccnc(SCC(=O)Nc3ccc(C(C)C)cc3)n2)cc1",
                  "400000.0",
                  "inactive",
                  "393.51200000000006",
                  "5.006400000000004",
                  "1.0",
                  "5.0"
                ]
              ],
              "shape": {
                "columns": 8,
                "rows": 245
              }
            },
            "text/html": [
              "<div>\n",
              "<style scoped>\n",
              "    .dataframe tbody tr th:only-of-type {\n",
              "        vertical-align: middle;\n",
              "    }\n",
              "\n",
              "    .dataframe tbody tr th {\n",
              "        vertical-align: top;\n",
              "    }\n",
              "\n",
              "    .dataframe thead th {\n",
              "        text-align: right;\n",
              "    }\n",
              "</style>\n",
              "<table border=\"1\" class=\"dataframe\">\n",
              "  <thead>\n",
              "    <tr style=\"text-align: right;\">\n",
              "      <th></th>\n",
              "      <th>molecule_chembl_id</th>\n",
              "      <th>canonical_smiles</th>\n",
              "      <th>standard_value</th>\n",
              "      <th>bioactivity_class</th>\n",
              "      <th>MW</th>\n",
              "      <th>LogP</th>\n",
              "      <th>NumHDonors</th>\n",
              "      <th>NumHAcceptors</th>\n",
              "    </tr>\n",
              "  </thead>\n",
              "  <tbody>\n",
              "    <tr>\n",
              "      <th>0</th>\n",
              "      <td>CHEMBL187579</td>\n",
              "      <td>Cc1noc(C)c1CN1C(=O)C(=O)c2cc(C#N)ccc21</td>\n",
              "      <td>7200.00</td>\n",
              "      <td>intermediate</td>\n",
              "      <td>281.271</td>\n",
              "      <td>1.89262</td>\n",
              "      <td>0.0</td>\n",
              "      <td>5.0</td>\n",
              "    </tr>\n",
              "    <tr>\n",
              "      <th>1</th>\n",
              "      <td>CHEMBL188487</td>\n",
              "      <td>O=C1C(=O)N(Cc2ccc(F)cc2Cl)c2ccc(I)cc21</td>\n",
              "      <td>9400.00</td>\n",
              "      <td>intermediate</td>\n",
              "      <td>415.589</td>\n",
              "      <td>3.81320</td>\n",
              "      <td>0.0</td>\n",
              "      <td>2.0</td>\n",
              "    </tr>\n",
              "    <tr>\n",
              "      <th>2</th>\n",
              "      <td>CHEMBL185698</td>\n",
              "      <td>O=C1C(=O)N(CC2COc3ccccc3O2)c2ccc(I)cc21</td>\n",
              "      <td>13500.00</td>\n",
              "      <td>inactive</td>\n",
              "      <td>421.190</td>\n",
              "      <td>2.66050</td>\n",
              "      <td>0.0</td>\n",
              "      <td>4.0</td>\n",
              "    </tr>\n",
              "    <tr>\n",
              "      <th>3</th>\n",
              "      <td>CHEMBL426082</td>\n",
              "      <td>O=C1C(=O)N(Cc2cc3ccccc3s2)c2ccccc21</td>\n",
              "      <td>13110.00</td>\n",
              "      <td>inactive</td>\n",
              "      <td>293.347</td>\n",
              "      <td>3.63080</td>\n",
              "      <td>0.0</td>\n",
              "      <td>3.0</td>\n",
              "    </tr>\n",
              "    <tr>\n",
              "      <th>4</th>\n",
              "      <td>CHEMBL187717</td>\n",
              "      <td>O=C1C(=O)N(Cc2cc3ccccc3s2)c2c1cccc2[N+](=O)[O-]</td>\n",
              "      <td>2000.00</td>\n",
              "      <td>intermediate</td>\n",
              "      <td>338.344</td>\n",
              "      <td>3.53900</td>\n",
              "      <td>0.0</td>\n",
              "      <td>5.0</td>\n",
              "    </tr>\n",
              "    <tr>\n",
              "      <th>...</th>\n",
              "      <td>...</td>\n",
              "      <td>...</td>\n",
              "      <td>...</td>\n",
              "      <td>...</td>\n",
              "      <td>...</td>\n",
              "      <td>...</td>\n",
              "      <td>...</td>\n",
              "      <td>...</td>\n",
              "    </tr>\n",
              "    <tr>\n",
              "      <th>240</th>\n",
              "      <td>CHEMBL4590273</td>\n",
              "      <td>Cc1cccc2nc(CSC(=S)NCc3cccnc3)cn12</td>\n",
              "      <td>380.19</td>\n",
              "      <td>active</td>\n",
              "      <td>328.466</td>\n",
              "      <td>3.34562</td>\n",
              "      <td>1.0</td>\n",
              "      <td>5.0</td>\n",
              "    </tr>\n",
              "    <tr>\n",
              "      <th>241</th>\n",
              "      <td>CHEMBL5436771</td>\n",
              "      <td>S=C([S-])NCc1cccnc1.[K+]</td>\n",
              "      <td>165.00</td>\n",
              "      <td>active</td>\n",
              "      <td>222.379</td>\n",
              "      <td>-1.99300</td>\n",
              "      <td>1.0</td>\n",
              "      <td>3.0</td>\n",
              "    </tr>\n",
              "    <tr>\n",
              "      <th>242</th>\n",
              "      <td>CHEMBL2365410</td>\n",
              "      <td>CC(C)C[C@H](NC(=O)OCc1ccccc1)C(=O)N[C@@H](CC1C...</td>\n",
              "      <td>161.00</td>\n",
              "      <td>active</td>\n",
              "      <td>485.559</td>\n",
              "      <td>0.54470</td>\n",
              "      <td>5.0</td>\n",
              "      <td>7.0</td>\n",
              "    </tr>\n",
              "    <tr>\n",
              "      <th>243</th>\n",
              "      <td>CHEMBL5436771</td>\n",
              "      <td>S=C([S-])NCc1cccnc1.[K+]</td>\n",
              "      <td>165.96</td>\n",
              "      <td>active</td>\n",
              "      <td>222.379</td>\n",
              "      <td>-1.99300</td>\n",
              "      <td>1.0</td>\n",
              "      <td>3.0</td>\n",
              "    </tr>\n",
              "    <tr>\n",
              "      <th>244</th>\n",
              "      <td>CHEMBL2365410</td>\n",
              "      <td>CC(C)C[C@H](NC(=O)OCc1ccccc1)C(=O)N[C@@H](CC1C...</td>\n",
              "      <td>162.18</td>\n",
              "      <td>active</td>\n",
              "      <td>485.559</td>\n",
              "      <td>0.54470</td>\n",
              "      <td>5.0</td>\n",
              "      <td>7.0</td>\n",
              "    </tr>\n",
              "  </tbody>\n",
              "</table>\n",
              "<p>245 rows × 8 columns</p>\n",
              "</div>"
            ],
            "text/plain": [
              "    molecule_chembl_id                                   canonical_smiles  \\\n",
              "0         CHEMBL187579             Cc1noc(C)c1CN1C(=O)C(=O)c2cc(C#N)ccc21   \n",
              "1         CHEMBL188487             O=C1C(=O)N(Cc2ccc(F)cc2Cl)c2ccc(I)cc21   \n",
              "2         CHEMBL185698            O=C1C(=O)N(CC2COc3ccccc3O2)c2ccc(I)cc21   \n",
              "3         CHEMBL426082                O=C1C(=O)N(Cc2cc3ccccc3s2)c2ccccc21   \n",
              "4         CHEMBL187717    O=C1C(=O)N(Cc2cc3ccccc3s2)c2c1cccc2[N+](=O)[O-]   \n",
              "..                 ...                                                ...   \n",
              "240      CHEMBL4590273                  Cc1cccc2nc(CSC(=S)NCc3cccnc3)cn12   \n",
              "241      CHEMBL5436771                           S=C([S-])NCc1cccnc1.[K+]   \n",
              "242      CHEMBL2365410  CC(C)C[C@H](NC(=O)OCc1ccccc1)C(=O)N[C@@H](CC1C...   \n",
              "243      CHEMBL5436771                           S=C([S-])NCc1cccnc1.[K+]   \n",
              "244      CHEMBL2365410  CC(C)C[C@H](NC(=O)OCc1ccccc1)C(=O)N[C@@H](CC1C...   \n",
              "\n",
              "     standard_value bioactivity_class       MW     LogP  NumHDonors  \\\n",
              "0           7200.00      intermediate  281.271  1.89262         0.0   \n",
              "1           9400.00      intermediate  415.589  3.81320         0.0   \n",
              "2          13500.00          inactive  421.190  2.66050         0.0   \n",
              "3          13110.00          inactive  293.347  3.63080         0.0   \n",
              "4           2000.00      intermediate  338.344  3.53900         0.0   \n",
              "..              ...               ...      ...      ...         ...   \n",
              "240          380.19            active  328.466  3.34562         1.0   \n",
              "241          165.00            active  222.379 -1.99300         1.0   \n",
              "242          161.00            active  485.559  0.54470         5.0   \n",
              "243          165.96            active  222.379 -1.99300         1.0   \n",
              "244          162.18            active  485.559  0.54470         5.0   \n",
              "\n",
              "     NumHAcceptors  \n",
              "0              5.0  \n",
              "1              2.0  \n",
              "2              4.0  \n",
              "3              3.0  \n",
              "4              5.0  \n",
              "..             ...  \n",
              "240            5.0  \n",
              "241            3.0  \n",
              "242            7.0  \n",
              "243            3.0  \n",
              "244            7.0  \n",
              "\n",
              "[245 rows x 8 columns]"
            ]
          },
          "execution_count": 98,
          "metadata": {},
          "output_type": "execute_result"
        }
      ],
      "source": [
        "df_combined"
      ]
    },
    {
      "cell_type": "markdown",
      "metadata": {
        "colab_type": "text",
        "id": "e0MLOedB6j96"
      },
      "source": [
        "### **Convert IC50 to pIC50**\n",
        "To allow **IC50** data to be more uniformly distributed, we will convert **IC50** to the negative logarithmic scale which is essentially **-log10(IC50)**.\n",
        "\n",
        "This custom function pIC50() will accept a DataFrame as input and will:\n",
        "* Take the IC50 values from the ``standard_value`` column and converts it from nM to M by multiplying the value by 10$^{-9}$\n",
        "* Take the molar value and apply -log10\n",
        "* Delete the ``standard_value`` column and create a new ``pIC50`` column"
      ]
    },
    {
      "cell_type": "markdown",
      "metadata": {
        "colab_type": "text",
        "id": "WU5Fh1h2OaJJ"
      },
      "source": [
        "Point to note: Values greater than 100,000,000 will be fixed at 100,000,000 otherwise the negative logarithmic value will become negative."
      ]
    },
    {
      "cell_type": "code",
      "execution_count": 99,
      "metadata": {
        "colab": {
          "base_uri": "https://localhost:8080/",
          "height": 170
        },
        "colab_type": "code",
        "id": "QuUTFUpcR1wU",
        "outputId": "9d1db8ff-8de4-4dd6-8259-6a28617538eb"
      },
      "outputs": [
        {
          "data": {
            "application/vnd.microsoft.datawrangler.viewer.v0+json": {
              "columns": [
                {
                  "name": "index",
                  "rawType": "object",
                  "type": "string"
                },
                {
                  "name": "standard_value",
                  "rawType": "float64",
                  "type": "float"
                }
              ],
              "ref": "ef43586d-7022-40da-8d34-ae7b7c4e505a",
              "rows": [
                [
                  "count",
                  "245.0"
                ],
                [
                  "mean",
                  "68938.78216326532"
                ],
                [
                  "std",
                  "185196.232288099"
                ],
                [
                  "min",
                  "50.0"
                ],
                [
                  "25%",
                  "5000.0"
                ],
                [
                  "50%",
                  "15000.0"
                ],
                [
                  "75%",
                  "47000.0"
                ],
                [
                  "max",
                  "2000000.0"
                ]
              ],
              "shape": {
                "columns": 1,
                "rows": 8
              }
            },
            "text/plain": [
              "count    2.450000e+02\n",
              "mean     6.893878e+04\n",
              "std      1.851962e+05\n",
              "min      5.000000e+01\n",
              "25%      5.000000e+03\n",
              "50%      1.500000e+04\n",
              "75%      4.700000e+04\n",
              "max      2.000000e+06\n",
              "Name: standard_value, dtype: float64"
            ]
          },
          "execution_count": 99,
          "metadata": {},
          "output_type": "execute_result"
        }
      ],
      "source": [
        "df_combined.standard_value.describe()"
      ]
    },
    {
      "cell_type": "code",
      "execution_count": 100,
      "metadata": {
        "colab": {
          "base_uri": "https://localhost:8080/",
          "height": 34
        },
        "colab_type": "code",
        "id": "QyiJ0to5N6Z_",
        "outputId": "e10f18e8-1255-4636-bf2f-efbd3befde4f"
      },
      "outputs": [
        {
          "data": {
            "text/plain": [
              "np.float64(1.0)"
            ]
          },
          "execution_count": 100,
          "metadata": {},
          "output_type": "execute_result"
        }
      ],
      "source": [
        "-np.log10( (10**-9)* 100000000 )"
      ]
    },
    {
      "cell_type": "code",
      "execution_count": 101,
      "metadata": {
        "colab": {
          "base_uri": "https://localhost:8080/",
          "height": 34
        },
        "colab_type": "code",
        "id": "9S1aJkOYOP6K",
        "outputId": "85aa8a89-99f7-4d9e-dac5-3f599c2fb364"
      },
      "outputs": [
        {
          "data": {
            "text/plain": [
              "np.float64(-1.0)"
            ]
          },
          "execution_count": 101,
          "metadata": {},
          "output_type": "execute_result"
        }
      ],
      "source": [
        "-np.log10( (10**-9)* 10000000000 )"
      ]
    },
    {
      "cell_type": "markdown",
      "metadata": {
        "colab_type": "text",
        "id": "EkrTs7RfPsrH"
      },
      "source": [
        "Therefore, we will first apply the norm_value() function so that the values in the standard_value column is normalized."
      ]
    },
    {
      "cell_type": "code",
      "execution_count": 102,
      "metadata": {
        "colab": {},
        "colab_type": "code",
        "id": "iktHDDwtPDwl"
      },
      "outputs": [],
      "source": [
        "def norm_value(input_df):\n",
        "  norm = []\n",
        "\n",
        "  for ic50 in input_df['standard_value']:\n",
        "    if ic50 > 100000000:\n",
        "      ic50 = 100000000\n",
        "    norm.append(ic50)\n",
        "\n",
        "  input_df['standard_value_norm'] = norm\n",
        "  input_df['standard_value']\n",
        "  x = input_df.drop(columns='standard_value', axis=1)\n",
        "        \n",
        "  return x"
      ]
    },
    {
      "cell_type": "code",
      "execution_count": 103,
      "metadata": {
        "colab": {
          "base_uri": "https://localhost:8080/",
          "height": 487
        },
        "colab_type": "code",
        "id": "EX2Mj2-ZP1Rj",
        "outputId": "7f0f6cb0-d251-4208-fbf8-19970978625e"
      },
      "outputs": [],
      "source": [
        "df_norm = norm_value(df_combined)"
      ]
    },
    {
      "cell_type": "code",
      "execution_count": 104,
      "metadata": {
        "colab": {
          "base_uri": "https://localhost:8080/",
          "height": 173
        },
        "colab_type": "code",
        "id": "hb1eKrIjRiH9",
        "outputId": "12b12341-df33-4446-e3cc-2a30ee1fe1f8"
      },
      "outputs": [
        {
          "data": {
            "application/vnd.microsoft.datawrangler.viewer.v0+json": {
              "columns": [
                {
                  "name": "index",
                  "rawType": "object",
                  "type": "string"
                },
                {
                  "name": "standard_value_norm",
                  "rawType": "float64",
                  "type": "float"
                }
              ],
              "ref": "c6a893ec-1251-4da7-b5b5-f79ef433658e",
              "rows": [
                [
                  "count",
                  "245.0"
                ],
                [
                  "mean",
                  "68938.78216326532"
                ],
                [
                  "std",
                  "185196.232288099"
                ],
                [
                  "min",
                  "50.0"
                ],
                [
                  "25%",
                  "5000.0"
                ],
                [
                  "50%",
                  "15000.0"
                ],
                [
                  "75%",
                  "47000.0"
                ],
                [
                  "max",
                  "2000000.0"
                ]
              ],
              "shape": {
                "columns": 1,
                "rows": 8
              }
            },
            "text/plain": [
              "count    2.450000e+02\n",
              "mean     6.893878e+04\n",
              "std      1.851962e+05\n",
              "min      5.000000e+01\n",
              "25%      5.000000e+03\n",
              "50%      1.500000e+04\n",
              "75%      4.700000e+04\n",
              "max      2.000000e+06\n",
              "Name: standard_value_norm, dtype: float64"
            ]
          },
          "execution_count": 104,
          "metadata": {},
          "output_type": "execute_result"
        }
      ],
      "source": [
        "df_norm.standard_value_norm.describe()"
      ]
    },
    {
      "cell_type": "code",
      "execution_count": 105,
      "metadata": {
        "colab": {},
        "colab_type": "code",
        "id": "UXMuFQoQ4pZF"
      },
      "outputs": [],
      "source": [
        "# https://github.com/chaninlab/estrogen-receptor-alpha-qsar/blob/master/02_ER_alpha_RO5.ipynb\n",
        "\n",
        "import numpy as np\n",
        "\n",
        "def pIC50(input):\n",
        "    pIC50 = []\n",
        "\n",
        "    for i in input['standard_value_norm']:\n",
        "        molar = i*(10**-9) # Converts nM to M\n",
        "        pIC50.append(-np.log10(molar))\n",
        "\n",
        "    input['pIC50'] = pIC50\n",
        "    x = input.drop(columns = 'standard_value_norm', axis = 1) # drop standard_value, column         \n",
        "    return x"
      ]
    },
    {
      "cell_type": "code",
      "execution_count": 106,
      "metadata": {
        "colab": {
          "base_uri": "https://localhost:8080/",
          "height": 487
        },
        "colab_type": "code",
        "id": "UDKZzmK57YnS",
        "outputId": "9dde74a3-1198-4c52-a913-c0bd57fbbb4e"
      },
      "outputs": [
        {
          "data": {
            "application/vnd.microsoft.datawrangler.viewer.v0+json": {
              "columns": [
                {
                  "name": "index",
                  "rawType": "int64",
                  "type": "integer"
                },
                {
                  "name": "molecule_chembl_id",
                  "rawType": "object",
                  "type": "string"
                },
                {
                  "name": "canonical_smiles",
                  "rawType": "object",
                  "type": "string"
                },
                {
                  "name": "bioactivity_class",
                  "rawType": "object",
                  "type": "string"
                },
                {
                  "name": "MW",
                  "rawType": "float64",
                  "type": "float"
                },
                {
                  "name": "LogP",
                  "rawType": "float64",
                  "type": "float"
                },
                {
                  "name": "NumHDonors",
                  "rawType": "float64",
                  "type": "float"
                },
                {
                  "name": "NumHAcceptors",
                  "rawType": "float64",
                  "type": "float"
                },
                {
                  "name": "pIC50",
                  "rawType": "float64",
                  "type": "float"
                }
              ],
              "ref": "a45d96f0-5e2d-406c-a351-1c994dddabf0",
              "rows": [
                [
                  "0",
                  "CHEMBL187579",
                  "Cc1noc(C)c1CN1C(=O)C(=O)c2cc(C#N)ccc21",
                  "intermediate",
                  "281.271",
                  "1.89262",
                  "0.0",
                  "5.0",
                  "5.142667503568732"
                ],
                [
                  "1",
                  "CHEMBL188487",
                  "O=C1C(=O)N(Cc2ccc(F)cc2Cl)c2ccc(I)cc21",
                  "intermediate",
                  "415.589",
                  "3.813200000000002",
                  "0.0",
                  "2.0",
                  "5.026872146400302"
                ],
                [
                  "2",
                  "CHEMBL185698",
                  "O=C1C(=O)N(CC2COc3ccccc3O2)c2ccc(I)cc21",
                  "inactive",
                  "421.19000000000005",
                  "2.6605000000000008",
                  "0.0",
                  "4.0",
                  "4.8696662315049934"
                ],
                [
                  "3",
                  "CHEMBL426082",
                  "O=C1C(=O)N(Cc2cc3ccccc3s2)c2ccccc21",
                  "inactive",
                  "293.34700000000004",
                  "3.6308000000000016",
                  "0.0",
                  "3.0",
                  "4.8823973083099155"
                ],
                [
                  "4",
                  "CHEMBL187717",
                  "O=C1C(=O)N(Cc2cc3ccccc3s2)c2c1cccc2[N+](=O)[O-]",
                  "intermediate",
                  "338.3440000000001",
                  "3.5390000000000024",
                  "0.0",
                  "5.0",
                  "5.698970004336019"
                ],
                [
                  "5",
                  "CHEMBL365134",
                  "O=C1C(=O)N(Cc2cc3ccccc3s2)c2c(Br)cccc21",
                  "active",
                  "372.24300000000005",
                  "4.393300000000003",
                  "0.0",
                  "3.0",
                  "6.008773924307505"
                ],
                [
                  "6",
                  "CHEMBL187598",
                  "O=C1C(=O)N(Cc2cc3ccccc3s2)c2ccc(F)cc21",
                  "intermediate",
                  "311.33700000000005",
                  "3.7699000000000016",
                  "0.0",
                  "3.0",
                  "5.31695296176115"
                ],
                [
                  "7",
                  "CHEMBL190743",
                  "O=C1C(=O)N(Cc2cc3ccccc3s2)c2ccc(I)cc21",
                  "active",
                  "419.24300000000005",
                  "4.235400000000002",
                  "0.0",
                  "3.0",
                  "6.022276394711152"
                ],
                [
                  "8",
                  "CHEMBL365469",
                  "O=C1C(=O)N(Cc2cc3ccccc3s2)c2cccc(Cl)c21",
                  "inactive",
                  "327.7920000000001",
                  "4.284200000000002",
                  "0.0",
                  "3.0",
                  "4.950781977329818"
                ],
                [
                  "9",
                  "CHEMBL188983",
                  "O=C1C(=O)N(C/C=C/c2cc3ccccc3s2)c2ccc(I)cc21",
                  "inactive",
                  "445.28100000000006",
                  "4.748600000000002",
                  "0.0",
                  "3.0",
                  "4.628932137728263"
                ],
                [
                  "10",
                  "CHEMBL191575",
                  "O=C(Nc1ccc(Cl)cc1)c1ccc(CN2C(=O)C(=O)c3cc(I)ccc32)s1",
                  "inactive",
                  "522.7510000000001",
                  "4.987900000000002",
                  "1.0",
                  "4.0",
                  "4.900664722314042"
                ],
                [
                  "11",
                  "CHEMBL370923",
                  "O=C1C(=O)N(Cc2ccc(C(=O)N3CCCCC3)s2)c2ccc(I)cc21",
                  "inactive",
                  "480.327",
                  "3.708300000000003",
                  "0.0",
                  "4.0",
                  "4.756961951313706"
                ],
                [
                  "12",
                  "CHEMBL194398",
                  "CCOC(=O)/C=C/[C@H](C[C@@H]1CCNC1=O)NC(=O)[C@@H](CC(=O)[C@@H](NC(=O)c1cc(C)on1)C(C)C)Cc1ccccc1",
                  "inactive",
                  "580.6820000000004",
                  "2.6858200000000014",
                  "3.0",
                  "8.0",
                  "4.346787486224656"
                ],
                [
                  "13",
                  "CHEMBL196635",
                  "CCOC(=O)/C=C/[C@H](C[C@@H]1CCNC1=O)NC(=O)[C@H](CC=C(C)C)CC(=O)[C@@H](NC(=O)c1cc(C)on1)C(C)C",
                  "inactive",
                  "558.6760000000003",
                  "2.7994200000000014",
                  "3.0",
                  "8.0",
                  "4.154901959985743"
                ],
                [
                  "14",
                  "CHEMBL209287",
                  "CCCCN1C(=O)C(=O)c2cc(I)ccc21",
                  "inactive",
                  "329.137",
                  "2.6206000000000014",
                  "0.0",
                  "2.0",
                  "4.180456064458132"
                ],
                [
                  "15",
                  "CHEMBL358279",
                  "NC(=O)c1ccc2c(c1)C(=O)C(=O)N2Cc1ccc2ccccc2c1",
                  "active",
                  "330.34299999999996",
                  "2.6682000000000006",
                  "1.0",
                  "3.0",
                  "6.431798275933005"
                ],
                [
                  "16",
                  "CHEMBL348660",
                  "NC(=O)c1ccc2c(c1)C(=O)C(=O)N2Cc1ccccc1",
                  "inactive",
                  "280.28299999999996",
                  "1.5150000000000001",
                  "1.0",
                  "3.0",
                  "4.903089986991944"
                ],
                [
                  "17",
                  "CHEMBL379727",
                  "CCCCN1C(=O)C(=O)c2cc(C(N)=O)ccc21",
                  "inactive",
                  "246.26599999999996",
                  "1.1148999999999998",
                  "1.0",
                  "3.0",
                  "4.721246399047171"
                ],
                [
                  "18",
                  "CHEMBL210525",
                  "CCCN1C(=O)C(=O)c2cc(C(N)=O)ccc21",
                  "inactive",
                  "232.23899999999998",
                  "0.7248",
                  "1.0",
                  "3.0",
                  "4.6020599913279625"
                ],
                [
                  "19",
                  "CHEMBL148483",
                  "CN1C(=O)C(=O)c2cc(C(N)=O)ccc21",
                  "inactive",
                  "204.18499999999997",
                  "-0.05540000000000028",
                  "1.0",
                  "3.0",
                  "4.1487416512809245"
                ],
                [
                  "20",
                  "CHEMBL383725",
                  "O=C1C(=O)N(Cc2ccc3ccccc3c2)c2ccc(I)cc21",
                  "intermediate",
                  "413.21400000000006",
                  "4.173900000000002",
                  "0.0",
                  "2.0",
                  "5.958607314841775"
                ],
                [
                  "21",
                  "CHEMBL118596",
                  "O=C1C(=O)N(Cc2ccccc2)c2ccc(I)cc21",
                  "inactive",
                  "363.15400000000005",
                  "3.0207000000000015",
                  "0.0",
                  "2.0",
                  "4.301029995663981"
                ],
                [
                  "22",
                  "CHEMBL208732",
                  "O=C(CSc1nccc(-c2csc(-c3ccccc3)n2)n1)Nc1cc(Cl)cc(Cl)c1",
                  "intermediate",
                  "473.4100000000001",
                  "6.304700000000004",
                  "1.0",
                  "6.0",
                  "5.5200002474083645"
                ],
                [
                  "23",
                  "CHEMBL208732",
                  "O=C(CSc1nccc(-c2csc(-c3ccccc3)n2)n1)Nc1cc(Cl)cc(Cl)c1",
                  "intermediate",
                  "473.4100000000001",
                  "6.304700000000004",
                  "1.0",
                  "6.0",
                  "5.522878745280337"
                ],
                [
                  "24",
                  "CHEMBL210146",
                  "COc1cccc(-c2nc(SCC(=O)Nc3ccc([N+](=O)[O-])cc3)nc(O)c2C#N)c1",
                  "inactive",
                  "437.4370000000002",
                  "3.3684800000000017",
                  "2.0",
                  "9.0",
                  "3.5200000029339815"
                ],
                [
                  "25",
                  "CHEMBL210146",
                  "COc1cccc(-c2nc(SCC(=O)Nc3ccc([N+](=O)[O-])cc3)nc(O)c2C#N)c1",
                  "inactive",
                  "437.4370000000002",
                  "3.3684800000000017",
                  "2.0",
                  "9.0",
                  "3.5228787452803374"
                ],
                [
                  "26",
                  "CHEMBL207458",
                  "CCOC(=O)c1cnc(SCC(=O)Nc2ccc([N+](=O)[O-])cc2)nc1N",
                  "inactive",
                  "377.3820000000001",
                  "1.8744999999999998",
                  "2.0",
                  "9.0",
                  "3.6000000054478725"
                ],
                [
                  "27",
                  "CHEMBL207458",
                  "CCOC(=O)c1cnc(SCC(=O)Nc2ccc([N+](=O)[O-])cc2)nc1N",
                  "inactive",
                  "377.3820000000001",
                  "1.8744999999999998",
                  "2.0",
                  "9.0",
                  "3.6020599913279625"
                ],
                [
                  "28",
                  "CHEMBL207484",
                  "COC(OC)c1cc(O)nc(SCC(=O)Nc2ccc(C(F)(F)F)cc2)n1",
                  "inactive",
                  "403.38200000000006",
                  "3.223200000000001",
                  "2.0",
                  "7.0",
                  "3.690000009501577"
                ],
                [
                  "29",
                  "CHEMBL207484",
                  "COC(OC)c1cc(O)nc(SCC(=O)Nc2ccc(C(F)(F)F)cc2)n1",
                  "inactive",
                  "403.38200000000006",
                  "3.223200000000001",
                  "2.0",
                  "7.0",
                  "3.6989700043360187"
                ],
                [
                  "30",
                  "CHEMBL207207",
                  "Cc1cc(O)nc(SCC(=O)Nc2cc(Cl)ccc2Oc2ccccc2)n1",
                  "inactive",
                  "401.8750000000001",
                  "4.667120000000002",
                  "2.0",
                  "6.0",
                  "4.0"
                ],
                [
                  "31",
                  "CHEMBL207207",
                  "Cc1cc(O)nc(SCC(=O)Nc2cc(Cl)ccc2Oc2ccccc2)n1",
                  "inactive",
                  "401.8750000000001",
                  "4.667120000000002",
                  "2.0",
                  "6.0",
                  "4.0"
                ],
                [
                  "32",
                  "CHEMBL210487",
                  "CCC(Sc1nc(O)c(C#N)c(-c2cccc(OC)c2)n1)C(=O)Nc1ccc(C(C)=O)cc1",
                  "inactive",
                  "462.53100000000023",
                  "4.441480000000004",
                  "2.0",
                  "8.0",
                  "4.219999989963101"
                ],
                [
                  "33",
                  "CHEMBL210487",
                  "CCC(Sc1nc(O)c(C#N)c(-c2cccc(OC)c2)n1)C(=O)Nc1ccc(C(C)=O)cc1",
                  "inactive",
                  "462.53100000000023",
                  "4.441480000000004",
                  "2.0",
                  "8.0",
                  "4.221848749616356"
                ],
                [
                  "34",
                  "CHEMBL380470",
                  "COc1ccc(NC(=O)CSc2nc(O)cc(-c3ccccc3)n2)cc1OC",
                  "inactive",
                  "397.45600000000013",
                  "3.5972000000000017",
                  "2.0",
                  "7.0",
                  "4.339999990132752"
                ],
                [
                  "35",
                  "CHEMBL380470",
                  "COc1ccc(NC(=O)CSc2nc(O)cc(-c3ccccc3)n2)cc1OC",
                  "inactive",
                  "397.45600000000013",
                  "3.5972000000000017",
                  "2.0",
                  "7.0",
                  "4.346787486224656"
                ],
                [
                  "36",
                  "CHEMBL210612",
                  "CC(C)c1ccc(NC(=O)CSc2nccc(-c3cccs3)n2)cc1",
                  "inactive",
                  "369.51500000000004",
                  "5.059300000000004",
                  "1.0",
                  "5.0",
                  "4.389999976337708"
                ],
                [
                  "37",
                  "CHEMBL210612",
                  "CC(C)c1ccc(NC(=O)CSc2nccc(-c3cccs3)n2)cc1",
                  "inactive",
                  "369.51500000000004",
                  "5.059300000000004",
                  "1.0",
                  "5.0",
                  "4.3979400086720375"
                ],
                [
                  "38",
                  "CHEMBL209667",
                  "O=C(CSc1nccc(-c2cc(-c3ccccc3Cl)no2)n1)Nc1ccc(Cl)cc1",
                  "inactive",
                  "457.3420000000001",
                  "5.8362000000000025",
                  "1.0",
                  "6.0",
                  "4.820000071285178"
                ],
                [
                  "39",
                  "CHEMBL209667",
                  "O=C(CSc1nccc(-c2cc(-c3ccccc3Cl)no2)n1)Nc1ccc(Cl)cc1",
                  "inactive",
                  "457.3420000000001",
                  "5.8362000000000025",
                  "1.0",
                  "6.0",
                  "4.823908740944319"
                ],
                [
                  "40",
                  "CHEMBL210097",
                  "O=C(CSc1nccc(-c2cc(-c3ccc(Cl)cc3Cl)no2)n1)Nc1ccc(C(F)(F)F)cc1",
                  "inactive",
                  "525.3390000000002",
                  "6.855000000000004",
                  "1.0",
                  "6.0",
                  "4.820000071285178"
                ],
                [
                  "41",
                  "CHEMBL210097",
                  "O=C(CSc1nccc(-c2cc(-c3ccc(Cl)cc3Cl)no2)n1)Nc1ccc(C(F)(F)F)cc1",
                  "inactive",
                  "525.3390000000002",
                  "6.855000000000004",
                  "1.0",
                  "6.0",
                  "4.823908740944319"
                ],
                [
                  "42",
                  "CHEMBL378674",
                  "CSc1sc(-c2nc(C)cs2)c(C)c1-c1ccnc(SCC(=O)Nc2ccccc2Cl)n1",
                  "inactive",
                  "519.1420000000002",
                  "7.051540000000005",
                  "1.0",
                  "8.0",
                  "4.920000156997057"
                ],
                [
                  "43",
                  "CHEMBL378674",
                  "CSc1sc(-c2nc(C)cs2)c(C)c1-c1ccnc(SCC(=O)Nc2ccccc2Cl)n1",
                  "inactive",
                  "519.1420000000002",
                  "7.051540000000005",
                  "1.0",
                  "8.0",
                  "4.920818753952375"
                ],
                [
                  "44",
                  "CHEMBL210216",
                  "Cc1nc(SCC(=O)Nc2ccc([N+](=O)[O-])cc2)nc(O)c1C",
                  "inactive",
                  "334.3570000000001",
                  "2.43804",
                  "2.0",
                  "7.0",
                  "3.0"
                ],
                [
                  "45",
                  "CHEMBL210216",
                  "Cc1nc(SCC(=O)Nc2ccc([N+](=O)[O-])cc2)nc(O)c1C",
                  "inactive",
                  "334.3570000000001",
                  "2.43804",
                  "2.0",
                  "7.0",
                  "3.0"
                ],
                [
                  "46",
                  "CHEMBL210195",
                  "Cc1cc(C(F)(F)F)nc(SCC(=O)Nc2ccc(Cl)cc2F)n1",
                  "inactive",
                  "379.766",
                  "4.327120000000001",
                  "1.0",
                  "4.0",
                  "3.3000000031431456"
                ],
                [
                  "47",
                  "CHEMBL210195",
                  "Cc1cc(C(F)(F)F)nc(SCC(=O)Nc2ccc(Cl)cc2F)n1",
                  "inactive",
                  "379.766",
                  "4.327120000000001",
                  "1.0",
                  "4.0",
                  "3.3010299956639813"
                ],
                [
                  "48",
                  "CHEMBL210437",
                  "COc1ccc(-c2ccnc(SCC(=O)Nc3ccc(C(C)C)cc3)n2)cc1",
                  "inactive",
                  "393.51200000000006",
                  "5.006400000000004",
                  "1.0",
                  "5.0",
                  "3.389999997659038"
                ],
                [
                  "49",
                  "CHEMBL210437",
                  "COc1ccc(-c2ccnc(SCC(=O)Nc3ccc(C(C)C)cc3)n2)cc1",
                  "inactive",
                  "393.51200000000006",
                  "5.006400000000004",
                  "1.0",
                  "5.0",
                  "3.3979400086720375"
                ]
              ],
              "shape": {
                "columns": 8,
                "rows": 245
              }
            },
            "text/html": [
              "<div>\n",
              "<style scoped>\n",
              "    .dataframe tbody tr th:only-of-type {\n",
              "        vertical-align: middle;\n",
              "    }\n",
              "\n",
              "    .dataframe tbody tr th {\n",
              "        vertical-align: top;\n",
              "    }\n",
              "\n",
              "    .dataframe thead th {\n",
              "        text-align: right;\n",
              "    }\n",
              "</style>\n",
              "<table border=\"1\" class=\"dataframe\">\n",
              "  <thead>\n",
              "    <tr style=\"text-align: right;\">\n",
              "      <th></th>\n",
              "      <th>molecule_chembl_id</th>\n",
              "      <th>canonical_smiles</th>\n",
              "      <th>bioactivity_class</th>\n",
              "      <th>MW</th>\n",
              "      <th>LogP</th>\n",
              "      <th>NumHDonors</th>\n",
              "      <th>NumHAcceptors</th>\n",
              "      <th>pIC50</th>\n",
              "    </tr>\n",
              "  </thead>\n",
              "  <tbody>\n",
              "    <tr>\n",
              "      <th>0</th>\n",
              "      <td>CHEMBL187579</td>\n",
              "      <td>Cc1noc(C)c1CN1C(=O)C(=O)c2cc(C#N)ccc21</td>\n",
              "      <td>intermediate</td>\n",
              "      <td>281.271</td>\n",
              "      <td>1.89262</td>\n",
              "      <td>0.0</td>\n",
              "      <td>5.0</td>\n",
              "      <td>5.142668</td>\n",
              "    </tr>\n",
              "    <tr>\n",
              "      <th>1</th>\n",
              "      <td>CHEMBL188487</td>\n",
              "      <td>O=C1C(=O)N(Cc2ccc(F)cc2Cl)c2ccc(I)cc21</td>\n",
              "      <td>intermediate</td>\n",
              "      <td>415.589</td>\n",
              "      <td>3.81320</td>\n",
              "      <td>0.0</td>\n",
              "      <td>2.0</td>\n",
              "      <td>5.026872</td>\n",
              "    </tr>\n",
              "    <tr>\n",
              "      <th>2</th>\n",
              "      <td>CHEMBL185698</td>\n",
              "      <td>O=C1C(=O)N(CC2COc3ccccc3O2)c2ccc(I)cc21</td>\n",
              "      <td>inactive</td>\n",
              "      <td>421.190</td>\n",
              "      <td>2.66050</td>\n",
              "      <td>0.0</td>\n",
              "      <td>4.0</td>\n",
              "      <td>4.869666</td>\n",
              "    </tr>\n",
              "    <tr>\n",
              "      <th>3</th>\n",
              "      <td>CHEMBL426082</td>\n",
              "      <td>O=C1C(=O)N(Cc2cc3ccccc3s2)c2ccccc21</td>\n",
              "      <td>inactive</td>\n",
              "      <td>293.347</td>\n",
              "      <td>3.63080</td>\n",
              "      <td>0.0</td>\n",
              "      <td>3.0</td>\n",
              "      <td>4.882397</td>\n",
              "    </tr>\n",
              "    <tr>\n",
              "      <th>4</th>\n",
              "      <td>CHEMBL187717</td>\n",
              "      <td>O=C1C(=O)N(Cc2cc3ccccc3s2)c2c1cccc2[N+](=O)[O-]</td>\n",
              "      <td>intermediate</td>\n",
              "      <td>338.344</td>\n",
              "      <td>3.53900</td>\n",
              "      <td>0.0</td>\n",
              "      <td>5.0</td>\n",
              "      <td>5.698970</td>\n",
              "    </tr>\n",
              "    <tr>\n",
              "      <th>...</th>\n",
              "      <td>...</td>\n",
              "      <td>...</td>\n",
              "      <td>...</td>\n",
              "      <td>...</td>\n",
              "      <td>...</td>\n",
              "      <td>...</td>\n",
              "      <td>...</td>\n",
              "      <td>...</td>\n",
              "    </tr>\n",
              "    <tr>\n",
              "      <th>240</th>\n",
              "      <td>CHEMBL4590273</td>\n",
              "      <td>Cc1cccc2nc(CSC(=S)NCc3cccnc3)cn12</td>\n",
              "      <td>active</td>\n",
              "      <td>328.466</td>\n",
              "      <td>3.34562</td>\n",
              "      <td>1.0</td>\n",
              "      <td>5.0</td>\n",
              "      <td>6.419999</td>\n",
              "    </tr>\n",
              "    <tr>\n",
              "      <th>241</th>\n",
              "      <td>CHEMBL5436771</td>\n",
              "      <td>S=C([S-])NCc1cccnc1.[K+]</td>\n",
              "      <td>active</td>\n",
              "      <td>222.379</td>\n",
              "      <td>-1.99300</td>\n",
              "      <td>1.0</td>\n",
              "      <td>3.0</td>\n",
              "      <td>6.782516</td>\n",
              "    </tr>\n",
              "    <tr>\n",
              "      <th>242</th>\n",
              "      <td>CHEMBL2365410</td>\n",
              "      <td>CC(C)C[C@H](NC(=O)OCc1ccccc1)C(=O)N[C@@H](CC1C...</td>\n",
              "      <td>active</td>\n",
              "      <td>485.559</td>\n",
              "      <td>0.54470</td>\n",
              "      <td>5.0</td>\n",
              "      <td>7.0</td>\n",
              "      <td>6.793174</td>\n",
              "    </tr>\n",
              "    <tr>\n",
              "      <th>243</th>\n",
              "      <td>CHEMBL5436771</td>\n",
              "      <td>S=C([S-])NCc1cccnc1.[K+]</td>\n",
              "      <td>active</td>\n",
              "      <td>222.379</td>\n",
              "      <td>-1.99300</td>\n",
              "      <td>1.0</td>\n",
              "      <td>3.0</td>\n",
              "      <td>6.779997</td>\n",
              "    </tr>\n",
              "    <tr>\n",
              "      <th>244</th>\n",
              "      <td>CHEMBL2365410</td>\n",
              "      <td>CC(C)C[C@H](NC(=O)OCc1ccccc1)C(=O)N[C@@H](CC1C...</td>\n",
              "      <td>active</td>\n",
              "      <td>485.559</td>\n",
              "      <td>0.54470</td>\n",
              "      <td>5.0</td>\n",
              "      <td>7.0</td>\n",
              "      <td>6.790003</td>\n",
              "    </tr>\n",
              "  </tbody>\n",
              "</table>\n",
              "<p>245 rows × 8 columns</p>\n",
              "</div>"
            ],
            "text/plain": [
              "    molecule_chembl_id                                   canonical_smiles  \\\n",
              "0         CHEMBL187579             Cc1noc(C)c1CN1C(=O)C(=O)c2cc(C#N)ccc21   \n",
              "1         CHEMBL188487             O=C1C(=O)N(Cc2ccc(F)cc2Cl)c2ccc(I)cc21   \n",
              "2         CHEMBL185698            O=C1C(=O)N(CC2COc3ccccc3O2)c2ccc(I)cc21   \n",
              "3         CHEMBL426082                O=C1C(=O)N(Cc2cc3ccccc3s2)c2ccccc21   \n",
              "4         CHEMBL187717    O=C1C(=O)N(Cc2cc3ccccc3s2)c2c1cccc2[N+](=O)[O-]   \n",
              "..                 ...                                                ...   \n",
              "240      CHEMBL4590273                  Cc1cccc2nc(CSC(=S)NCc3cccnc3)cn12   \n",
              "241      CHEMBL5436771                           S=C([S-])NCc1cccnc1.[K+]   \n",
              "242      CHEMBL2365410  CC(C)C[C@H](NC(=O)OCc1ccccc1)C(=O)N[C@@H](CC1C...   \n",
              "243      CHEMBL5436771                           S=C([S-])NCc1cccnc1.[K+]   \n",
              "244      CHEMBL2365410  CC(C)C[C@H](NC(=O)OCc1ccccc1)C(=O)N[C@@H](CC1C...   \n",
              "\n",
              "    bioactivity_class       MW     LogP  NumHDonors  NumHAcceptors     pIC50  \n",
              "0        intermediate  281.271  1.89262         0.0            5.0  5.142668  \n",
              "1        intermediate  415.589  3.81320         0.0            2.0  5.026872  \n",
              "2            inactive  421.190  2.66050         0.0            4.0  4.869666  \n",
              "3            inactive  293.347  3.63080         0.0            3.0  4.882397  \n",
              "4        intermediate  338.344  3.53900         0.0            5.0  5.698970  \n",
              "..                ...      ...      ...         ...            ...       ...  \n",
              "240            active  328.466  3.34562         1.0            5.0  6.419999  \n",
              "241            active  222.379 -1.99300         1.0            3.0  6.782516  \n",
              "242            active  485.559  0.54470         5.0            7.0  6.793174  \n",
              "243            active  222.379 -1.99300         1.0            3.0  6.779997  \n",
              "244            active  485.559  0.54470         5.0            7.0  6.790003  \n",
              "\n",
              "[245 rows x 8 columns]"
            ]
          },
          "execution_count": 106,
          "metadata": {},
          "output_type": "execute_result"
        }
      ],
      "source": [
        "df_final = pIC50(df_norm)\n",
        "df_final"
      ]
    },
    {
      "cell_type": "code",
      "execution_count": 107,
      "metadata": {
        "colab": {
          "base_uri": "https://localhost:8080/",
          "height": 173
        },
        "colab_type": "code",
        "id": "BoqY53udSTYC",
        "outputId": "65595f1e-9547-4934-e958-b04825cf2316"
      },
      "outputs": [
        {
          "data": {
            "application/vnd.microsoft.datawrangler.viewer.v0+json": {
              "columns": [
                {
                  "name": "index",
                  "rawType": "object",
                  "type": "string"
                },
                {
                  "name": "pIC50",
                  "rawType": "float64",
                  "type": "float"
                }
              ],
              "ref": "45f991d5-4c68-4eea-ae9b-2e660178b78d",
              "rows": [
                [
                  "count",
                  "245.0"
                ],
                [
                  "mean",
                  "4.894584513686481"
                ],
                [
                  "std",
                  "0.9113381052259341"
                ],
                [
                  "min",
                  "2.6989700043360187"
                ],
                [
                  "25%",
                  "4.327902142064283"
                ],
                [
                  "50%",
                  "4.823908740944319"
                ],
                [
                  "75%",
                  "5.301029995663981"
                ],
                [
                  "max",
                  "7.301029995663981"
                ]
              ],
              "shape": {
                "columns": 1,
                "rows": 8
              }
            },
            "text/plain": [
              "count    245.000000\n",
              "mean       4.894585\n",
              "std        0.911338\n",
              "min        2.698970\n",
              "25%        4.327902\n",
              "50%        4.823909\n",
              "75%        5.301030\n",
              "max        7.301030\n",
              "Name: pIC50, dtype: float64"
            ]
          },
          "execution_count": 107,
          "metadata": {},
          "output_type": "execute_result"
        }
      ],
      "source": [
        "df_final.pIC50.describe()"
      ]
    },
    {
      "cell_type": "markdown",
      "metadata": {
        "colab_type": "text",
        "id": "05vHBWvqaQtb"
      },
      "source": [
        "### **Removing the 'intermediate' bioactivity class**\n",
        "Here, we will be removing the ``intermediate`` class from our data set."
      ]
    },
    {
      "cell_type": "code",
      "execution_count": 56,
      "metadata": {
        "colab": {
          "base_uri": "https://localhost:8080/",
          "height": 470
        },
        "colab_type": "code",
        "id": "HmrndhDW3c7Z",
        "outputId": "e3216e27-a94a-4848-8f18-c1c2533ad00f"
      },
      "outputs": [
        {
          "data": {
            "application/vnd.microsoft.datawrangler.viewer.v0+json": {
              "columns": [
                {
                  "name": "index",
                  "rawType": "int64",
                  "type": "integer"
                },
                {
                  "name": "molecule_chembl_id",
                  "rawType": "object",
                  "type": "string"
                },
                {
                  "name": "canonical_smiles",
                  "rawType": "object",
                  "type": "string"
                },
                {
                  "name": "bioactivity_class",
                  "rawType": "object",
                  "type": "string"
                },
                {
                  "name": "MW",
                  "rawType": "float64",
                  "type": "float"
                },
                {
                  "name": "LogP",
                  "rawType": "float64",
                  "type": "float"
                },
                {
                  "name": "NumHDonors",
                  "rawType": "float64",
                  "type": "float"
                },
                {
                  "name": "NumHAcceptors",
                  "rawType": "float64",
                  "type": "float"
                },
                {
                  "name": "pIC50",
                  "rawType": "float64",
                  "type": "float"
                }
              ],
              "ref": "26f5209c-c914-4d9b-a2e8-d05c2ed38aae",
              "rows": [
                [
                  "2",
                  "CHEMBL185698",
                  "O=C1C(=O)N(CC2COc3ccccc3O2)c2ccc(I)cc21",
                  "inactive",
                  "421.19000000000005",
                  "2.6605000000000008",
                  "0.0",
                  "4.0",
                  "4.8696662315049934"
                ],
                [
                  "3",
                  "CHEMBL426082",
                  "O=C1C(=O)N(Cc2cc3ccccc3s2)c2ccccc21",
                  "inactive",
                  "293.34700000000004",
                  "3.6308000000000016",
                  "0.0",
                  "3.0",
                  "4.8823973083099155"
                ],
                [
                  "5",
                  "CHEMBL365134",
                  "O=C1C(=O)N(Cc2cc3ccccc3s2)c2c(Br)cccc21",
                  "active",
                  "372.24300000000005",
                  "4.393300000000003",
                  "0.0",
                  "3.0",
                  "6.008773924307505"
                ],
                [
                  "7",
                  "CHEMBL190743",
                  "O=C1C(=O)N(Cc2cc3ccccc3s2)c2ccc(I)cc21",
                  "active",
                  "419.24300000000005",
                  "4.235400000000002",
                  "0.0",
                  "3.0",
                  "6.022276394711152"
                ],
                [
                  "8",
                  "CHEMBL365469",
                  "O=C1C(=O)N(Cc2cc3ccccc3s2)c2cccc(Cl)c21",
                  "inactive",
                  "327.7920000000001",
                  "4.284200000000002",
                  "0.0",
                  "3.0",
                  "4.950781977329818"
                ],
                [
                  "9",
                  "CHEMBL188983",
                  "O=C1C(=O)N(C/C=C/c2cc3ccccc3s2)c2ccc(I)cc21",
                  "inactive",
                  "445.28100000000006",
                  "4.748600000000002",
                  "0.0",
                  "3.0",
                  "4.628932137728263"
                ],
                [
                  "10",
                  "CHEMBL191575",
                  "O=C(Nc1ccc(Cl)cc1)c1ccc(CN2C(=O)C(=O)c3cc(I)ccc32)s1",
                  "inactive",
                  "522.7510000000001",
                  "4.987900000000002",
                  "1.0",
                  "4.0",
                  "4.900664722314042"
                ],
                [
                  "11",
                  "CHEMBL370923",
                  "O=C1C(=O)N(Cc2ccc(C(=O)N3CCCCC3)s2)c2ccc(I)cc21",
                  "inactive",
                  "480.327",
                  "3.708300000000003",
                  "0.0",
                  "4.0",
                  "4.756961951313706"
                ],
                [
                  "12",
                  "CHEMBL194398",
                  "CCOC(=O)/C=C/[C@H](C[C@@H]1CCNC1=O)NC(=O)[C@@H](CC(=O)[C@@H](NC(=O)c1cc(C)on1)C(C)C)Cc1ccccc1",
                  "inactive",
                  "580.6820000000004",
                  "2.6858200000000014",
                  "3.0",
                  "8.0",
                  "4.346787486224656"
                ],
                [
                  "13",
                  "CHEMBL196635",
                  "CCOC(=O)/C=C/[C@H](C[C@@H]1CCNC1=O)NC(=O)[C@H](CC=C(C)C)CC(=O)[C@@H](NC(=O)c1cc(C)on1)C(C)C",
                  "inactive",
                  "558.6760000000003",
                  "2.7994200000000014",
                  "3.0",
                  "8.0",
                  "4.154901959985743"
                ],
                [
                  "14",
                  "CHEMBL209287",
                  "CCCCN1C(=O)C(=O)c2cc(I)ccc21",
                  "inactive",
                  "329.137",
                  "2.6206000000000014",
                  "0.0",
                  "2.0",
                  "4.180456064458132"
                ],
                [
                  "15",
                  "CHEMBL358279",
                  "NC(=O)c1ccc2c(c1)C(=O)C(=O)N2Cc1ccc2ccccc2c1",
                  "active",
                  "330.34299999999996",
                  "2.6682000000000006",
                  "1.0",
                  "3.0",
                  "6.431798275933005"
                ],
                [
                  "16",
                  "CHEMBL348660",
                  "NC(=O)c1ccc2c(c1)C(=O)C(=O)N2Cc1ccccc1",
                  "inactive",
                  "280.28299999999996",
                  "1.5150000000000001",
                  "1.0",
                  "3.0",
                  "4.903089986991944"
                ],
                [
                  "17",
                  "CHEMBL379727",
                  "CCCCN1C(=O)C(=O)c2cc(C(N)=O)ccc21",
                  "inactive",
                  "246.26599999999996",
                  "1.1148999999999998",
                  "1.0",
                  "3.0",
                  "4.721246399047171"
                ],
                [
                  "18",
                  "CHEMBL210525",
                  "CCCN1C(=O)C(=O)c2cc(C(N)=O)ccc21",
                  "inactive",
                  "232.23899999999998",
                  "0.7248",
                  "1.0",
                  "3.0",
                  "4.6020599913279625"
                ],
                [
                  "19",
                  "CHEMBL148483",
                  "CN1C(=O)C(=O)c2cc(C(N)=O)ccc21",
                  "inactive",
                  "204.18499999999997",
                  "-0.05540000000000028",
                  "1.0",
                  "3.0",
                  "4.1487416512809245"
                ],
                [
                  "21",
                  "CHEMBL118596",
                  "O=C1C(=O)N(Cc2ccccc2)c2ccc(I)cc21",
                  "inactive",
                  "363.15400000000005",
                  "3.0207000000000015",
                  "0.0",
                  "2.0",
                  "4.301029995663981"
                ],
                [
                  "24",
                  "CHEMBL210146",
                  "COc1cccc(-c2nc(SCC(=O)Nc3ccc([N+](=O)[O-])cc3)nc(O)c2C#N)c1",
                  "inactive",
                  "437.4370000000002",
                  "3.3684800000000017",
                  "2.0",
                  "9.0",
                  "3.5200000029339815"
                ],
                [
                  "25",
                  "CHEMBL210146",
                  "COc1cccc(-c2nc(SCC(=O)Nc3ccc([N+](=O)[O-])cc3)nc(O)c2C#N)c1",
                  "inactive",
                  "437.4370000000002",
                  "3.3684800000000017",
                  "2.0",
                  "9.0",
                  "3.5228787452803374"
                ],
                [
                  "26",
                  "CHEMBL207458",
                  "CCOC(=O)c1cnc(SCC(=O)Nc2ccc([N+](=O)[O-])cc2)nc1N",
                  "inactive",
                  "377.3820000000001",
                  "1.8744999999999998",
                  "2.0",
                  "9.0",
                  "3.6000000054478725"
                ],
                [
                  "27",
                  "CHEMBL207458",
                  "CCOC(=O)c1cnc(SCC(=O)Nc2ccc([N+](=O)[O-])cc2)nc1N",
                  "inactive",
                  "377.3820000000001",
                  "1.8744999999999998",
                  "2.0",
                  "9.0",
                  "3.6020599913279625"
                ],
                [
                  "28",
                  "CHEMBL207484",
                  "COC(OC)c1cc(O)nc(SCC(=O)Nc2ccc(C(F)(F)F)cc2)n1",
                  "inactive",
                  "403.38200000000006",
                  "3.223200000000001",
                  "2.0",
                  "7.0",
                  "3.690000009501577"
                ],
                [
                  "29",
                  "CHEMBL207484",
                  "COC(OC)c1cc(O)nc(SCC(=O)Nc2ccc(C(F)(F)F)cc2)n1",
                  "inactive",
                  "403.38200000000006",
                  "3.223200000000001",
                  "2.0",
                  "7.0",
                  "3.6989700043360187"
                ],
                [
                  "30",
                  "CHEMBL207207",
                  "Cc1cc(O)nc(SCC(=O)Nc2cc(Cl)ccc2Oc2ccccc2)n1",
                  "inactive",
                  "401.8750000000001",
                  "4.667120000000002",
                  "2.0",
                  "6.0",
                  "4.0"
                ],
                [
                  "31",
                  "CHEMBL207207",
                  "Cc1cc(O)nc(SCC(=O)Nc2cc(Cl)ccc2Oc2ccccc2)n1",
                  "inactive",
                  "401.8750000000001",
                  "4.667120000000002",
                  "2.0",
                  "6.0",
                  "4.0"
                ],
                [
                  "32",
                  "CHEMBL210487",
                  "CCC(Sc1nc(O)c(C#N)c(-c2cccc(OC)c2)n1)C(=O)Nc1ccc(C(C)=O)cc1",
                  "inactive",
                  "462.53100000000023",
                  "4.441480000000004",
                  "2.0",
                  "8.0",
                  "4.219999989963101"
                ],
                [
                  "33",
                  "CHEMBL210487",
                  "CCC(Sc1nc(O)c(C#N)c(-c2cccc(OC)c2)n1)C(=O)Nc1ccc(C(C)=O)cc1",
                  "inactive",
                  "462.53100000000023",
                  "4.441480000000004",
                  "2.0",
                  "8.0",
                  "4.221848749616356"
                ],
                [
                  "34",
                  "CHEMBL380470",
                  "COc1ccc(NC(=O)CSc2nc(O)cc(-c3ccccc3)n2)cc1OC",
                  "inactive",
                  "397.45600000000013",
                  "3.5972000000000017",
                  "2.0",
                  "7.0",
                  "4.339999990132752"
                ],
                [
                  "35",
                  "CHEMBL380470",
                  "COc1ccc(NC(=O)CSc2nc(O)cc(-c3ccccc3)n2)cc1OC",
                  "inactive",
                  "397.45600000000013",
                  "3.5972000000000017",
                  "2.0",
                  "7.0",
                  "4.346787486224656"
                ],
                [
                  "36",
                  "CHEMBL210612",
                  "CC(C)c1ccc(NC(=O)CSc2nccc(-c3cccs3)n2)cc1",
                  "inactive",
                  "369.51500000000004",
                  "5.059300000000004",
                  "1.0",
                  "5.0",
                  "4.389999976337708"
                ],
                [
                  "37",
                  "CHEMBL210612",
                  "CC(C)c1ccc(NC(=O)CSc2nccc(-c3cccs3)n2)cc1",
                  "inactive",
                  "369.51500000000004",
                  "5.059300000000004",
                  "1.0",
                  "5.0",
                  "4.3979400086720375"
                ],
                [
                  "38",
                  "CHEMBL209667",
                  "O=C(CSc1nccc(-c2cc(-c3ccccc3Cl)no2)n1)Nc1ccc(Cl)cc1",
                  "inactive",
                  "457.3420000000001",
                  "5.8362000000000025",
                  "1.0",
                  "6.0",
                  "4.820000071285178"
                ],
                [
                  "39",
                  "CHEMBL209667",
                  "O=C(CSc1nccc(-c2cc(-c3ccccc3Cl)no2)n1)Nc1ccc(Cl)cc1",
                  "inactive",
                  "457.3420000000001",
                  "5.8362000000000025",
                  "1.0",
                  "6.0",
                  "4.823908740944319"
                ],
                [
                  "40",
                  "CHEMBL210097",
                  "O=C(CSc1nccc(-c2cc(-c3ccc(Cl)cc3Cl)no2)n1)Nc1ccc(C(F)(F)F)cc1",
                  "inactive",
                  "525.3390000000002",
                  "6.855000000000004",
                  "1.0",
                  "6.0",
                  "4.820000071285178"
                ],
                [
                  "41",
                  "CHEMBL210097",
                  "O=C(CSc1nccc(-c2cc(-c3ccc(Cl)cc3Cl)no2)n1)Nc1ccc(C(F)(F)F)cc1",
                  "inactive",
                  "525.3390000000002",
                  "6.855000000000004",
                  "1.0",
                  "6.0",
                  "4.823908740944319"
                ],
                [
                  "42",
                  "CHEMBL378674",
                  "CSc1sc(-c2nc(C)cs2)c(C)c1-c1ccnc(SCC(=O)Nc2ccccc2Cl)n1",
                  "inactive",
                  "519.1420000000002",
                  "7.051540000000005",
                  "1.0",
                  "8.0",
                  "4.920000156997057"
                ],
                [
                  "43",
                  "CHEMBL378674",
                  "CSc1sc(-c2nc(C)cs2)c(C)c1-c1ccnc(SCC(=O)Nc2ccccc2Cl)n1",
                  "inactive",
                  "519.1420000000002",
                  "7.051540000000005",
                  "1.0",
                  "8.0",
                  "4.920818753952375"
                ],
                [
                  "44",
                  "CHEMBL210216",
                  "Cc1nc(SCC(=O)Nc2ccc([N+](=O)[O-])cc2)nc(O)c1C",
                  "inactive",
                  "334.3570000000001",
                  "2.43804",
                  "2.0",
                  "7.0",
                  "3.0"
                ],
                [
                  "45",
                  "CHEMBL210216",
                  "Cc1nc(SCC(=O)Nc2ccc([N+](=O)[O-])cc2)nc(O)c1C",
                  "inactive",
                  "334.3570000000001",
                  "2.43804",
                  "2.0",
                  "7.0",
                  "3.0"
                ],
                [
                  "46",
                  "CHEMBL210195",
                  "Cc1cc(C(F)(F)F)nc(SCC(=O)Nc2ccc(Cl)cc2F)n1",
                  "inactive",
                  "379.766",
                  "4.327120000000001",
                  "1.0",
                  "4.0",
                  "3.3000000031431456"
                ],
                [
                  "47",
                  "CHEMBL210195",
                  "Cc1cc(C(F)(F)F)nc(SCC(=O)Nc2ccc(Cl)cc2F)n1",
                  "inactive",
                  "379.766",
                  "4.327120000000001",
                  "1.0",
                  "4.0",
                  "3.3010299956639813"
                ],
                [
                  "48",
                  "CHEMBL210437",
                  "COc1ccc(-c2ccnc(SCC(=O)Nc3ccc(C(C)C)cc3)n2)cc1",
                  "inactive",
                  "393.51200000000006",
                  "5.006400000000004",
                  "1.0",
                  "5.0",
                  "3.389999997659038"
                ],
                [
                  "49",
                  "CHEMBL210437",
                  "COc1ccc(-c2ccnc(SCC(=O)Nc3ccc(C(C)C)cc3)n2)cc1",
                  "inactive",
                  "393.51200000000006",
                  "5.006400000000004",
                  "1.0",
                  "5.0",
                  "3.3979400086720375"
                ],
                [
                  "50",
                  "CHEMBL378677",
                  "CC(C)(C)c1ccc(NC(=O)CSc2nc(O)c(C#N)c(C3CCCCC3)n2)cc1",
                  "inactive",
                  "424.5700000000003",
                  "5.129880000000004",
                  "2.0",
                  "6.0",
                  "3.44999999906189"
                ],
                [
                  "51",
                  "CHEMBL378677",
                  "CC(C)(C)c1ccc(NC(=O)CSc2nc(O)c(C#N)c(C3CCCCC3)n2)cc1",
                  "inactive",
                  "424.5700000000003",
                  "5.129880000000004",
                  "2.0",
                  "6.0",
                  "3.4559319556497243"
                ],
                [
                  "52",
                  "CHEMBL210972",
                  "CC(Sc1nc(O)c(C#N)c(-c2ccccc2)n1)C(=O)Nc1ccc(Cl)cc1",
                  "inactive",
                  "410.8860000000001",
                  "4.493580000000002",
                  "2.0",
                  "6.0",
                  "3.5200000029339815"
                ],
                [
                  "53",
                  "CHEMBL210972",
                  "CC(Sc1nc(O)c(C#N)c(-c2ccccc2)n1)C(=O)Nc1ccc(Cl)cc1",
                  "inactive",
                  "410.8860000000001",
                  "4.493580000000002",
                  "2.0",
                  "6.0",
                  "3.5228787452803374"
                ],
                [
                  "54",
                  "CHEMBL210145",
                  "CCOc1ccc(N2C(=O)CC(Sc3nc(C)cc(C)n3)C2=O)cc1",
                  "inactive",
                  "357.43500000000006",
                  "2.9163400000000017",
                  "0.0",
                  "6.0",
                  "3.5200000029339815"
                ],
                [
                  "55",
                  "CHEMBL210145",
                  "CCOc1ccc(N2C(=O)CC(Sc3nc(C)cc(C)n3)C2=O)cc1",
                  "inactive",
                  "357.43500000000006",
                  "2.9163400000000017",
                  "0.0",
                  "6.0",
                  "3.5228787452803374"
                ],
                [
                  "56",
                  "CHEMBL377225",
                  "N#Cc1c(O)nc(SCC(=O)Nc2cccc(C(F)(F)F)c2)nc1-c1ccccc1",
                  "inactive",
                  "430.41100000000006",
                  "4.470480000000003",
                  "2.0",
                  "6.0",
                  "3.690000009501577"
                ]
              ],
              "shape": {
                "columns": 8,
                "rows": 198
              }
            },
            "text/html": [
              "<div>\n",
              "<style scoped>\n",
              "    .dataframe tbody tr th:only-of-type {\n",
              "        vertical-align: middle;\n",
              "    }\n",
              "\n",
              "    .dataframe tbody tr th {\n",
              "        vertical-align: top;\n",
              "    }\n",
              "\n",
              "    .dataframe thead th {\n",
              "        text-align: right;\n",
              "    }\n",
              "</style>\n",
              "<table border=\"1\" class=\"dataframe\">\n",
              "  <thead>\n",
              "    <tr style=\"text-align: right;\">\n",
              "      <th></th>\n",
              "      <th>molecule_chembl_id</th>\n",
              "      <th>canonical_smiles</th>\n",
              "      <th>bioactivity_class</th>\n",
              "      <th>MW</th>\n",
              "      <th>LogP</th>\n",
              "      <th>NumHDonors</th>\n",
              "      <th>NumHAcceptors</th>\n",
              "      <th>pIC50</th>\n",
              "    </tr>\n",
              "  </thead>\n",
              "  <tbody>\n",
              "    <tr>\n",
              "      <th>2</th>\n",
              "      <td>CHEMBL185698</td>\n",
              "      <td>O=C1C(=O)N(CC2COc3ccccc3O2)c2ccc(I)cc21</td>\n",
              "      <td>inactive</td>\n",
              "      <td>421.190</td>\n",
              "      <td>2.66050</td>\n",
              "      <td>0.0</td>\n",
              "      <td>4.0</td>\n",
              "      <td>4.869666</td>\n",
              "    </tr>\n",
              "    <tr>\n",
              "      <th>3</th>\n",
              "      <td>CHEMBL426082</td>\n",
              "      <td>O=C1C(=O)N(Cc2cc3ccccc3s2)c2ccccc21</td>\n",
              "      <td>inactive</td>\n",
              "      <td>293.347</td>\n",
              "      <td>3.63080</td>\n",
              "      <td>0.0</td>\n",
              "      <td>3.0</td>\n",
              "      <td>4.882397</td>\n",
              "    </tr>\n",
              "    <tr>\n",
              "      <th>5</th>\n",
              "      <td>CHEMBL365134</td>\n",
              "      <td>O=C1C(=O)N(Cc2cc3ccccc3s2)c2c(Br)cccc21</td>\n",
              "      <td>active</td>\n",
              "      <td>372.243</td>\n",
              "      <td>4.39330</td>\n",
              "      <td>0.0</td>\n",
              "      <td>3.0</td>\n",
              "      <td>6.008774</td>\n",
              "    </tr>\n",
              "    <tr>\n",
              "      <th>7</th>\n",
              "      <td>CHEMBL190743</td>\n",
              "      <td>O=C1C(=O)N(Cc2cc3ccccc3s2)c2ccc(I)cc21</td>\n",
              "      <td>active</td>\n",
              "      <td>419.243</td>\n",
              "      <td>4.23540</td>\n",
              "      <td>0.0</td>\n",
              "      <td>3.0</td>\n",
              "      <td>6.022276</td>\n",
              "    </tr>\n",
              "    <tr>\n",
              "      <th>8</th>\n",
              "      <td>CHEMBL365469</td>\n",
              "      <td>O=C1C(=O)N(Cc2cc3ccccc3s2)c2cccc(Cl)c21</td>\n",
              "      <td>inactive</td>\n",
              "      <td>327.792</td>\n",
              "      <td>4.28420</td>\n",
              "      <td>0.0</td>\n",
              "      <td>3.0</td>\n",
              "      <td>4.950782</td>\n",
              "    </tr>\n",
              "    <tr>\n",
              "      <th>...</th>\n",
              "      <td>...</td>\n",
              "      <td>...</td>\n",
              "      <td>...</td>\n",
              "      <td>...</td>\n",
              "      <td>...</td>\n",
              "      <td>...</td>\n",
              "      <td>...</td>\n",
              "      <td>...</td>\n",
              "    </tr>\n",
              "    <tr>\n",
              "      <th>240</th>\n",
              "      <td>CHEMBL4590273</td>\n",
              "      <td>Cc1cccc2nc(CSC(=S)NCc3cccnc3)cn12</td>\n",
              "      <td>active</td>\n",
              "      <td>328.466</td>\n",
              "      <td>3.34562</td>\n",
              "      <td>1.0</td>\n",
              "      <td>5.0</td>\n",
              "      <td>6.419999</td>\n",
              "    </tr>\n",
              "    <tr>\n",
              "      <th>241</th>\n",
              "      <td>CHEMBL5436771</td>\n",
              "      <td>S=C([S-])NCc1cccnc1.[K+]</td>\n",
              "      <td>active</td>\n",
              "      <td>222.379</td>\n",
              "      <td>-1.99300</td>\n",
              "      <td>1.0</td>\n",
              "      <td>3.0</td>\n",
              "      <td>6.782516</td>\n",
              "    </tr>\n",
              "    <tr>\n",
              "      <th>242</th>\n",
              "      <td>CHEMBL2365410</td>\n",
              "      <td>CC(C)C[C@H](NC(=O)OCc1ccccc1)C(=O)N[C@@H](CC1C...</td>\n",
              "      <td>active</td>\n",
              "      <td>485.559</td>\n",
              "      <td>0.54470</td>\n",
              "      <td>5.0</td>\n",
              "      <td>7.0</td>\n",
              "      <td>6.793174</td>\n",
              "    </tr>\n",
              "    <tr>\n",
              "      <th>243</th>\n",
              "      <td>CHEMBL5436771</td>\n",
              "      <td>S=C([S-])NCc1cccnc1.[K+]</td>\n",
              "      <td>active</td>\n",
              "      <td>222.379</td>\n",
              "      <td>-1.99300</td>\n",
              "      <td>1.0</td>\n",
              "      <td>3.0</td>\n",
              "      <td>6.779997</td>\n",
              "    </tr>\n",
              "    <tr>\n",
              "      <th>244</th>\n",
              "      <td>CHEMBL2365410</td>\n",
              "      <td>CC(C)C[C@H](NC(=O)OCc1ccccc1)C(=O)N[C@@H](CC1C...</td>\n",
              "      <td>active</td>\n",
              "      <td>485.559</td>\n",
              "      <td>0.54470</td>\n",
              "      <td>5.0</td>\n",
              "      <td>7.0</td>\n",
              "      <td>6.790003</td>\n",
              "    </tr>\n",
              "  </tbody>\n",
              "</table>\n",
              "<p>198 rows × 8 columns</p>\n",
              "</div>"
            ],
            "text/plain": [
              "    molecule_chembl_id                                   canonical_smiles  \\\n",
              "2         CHEMBL185698            O=C1C(=O)N(CC2COc3ccccc3O2)c2ccc(I)cc21   \n",
              "3         CHEMBL426082                O=C1C(=O)N(Cc2cc3ccccc3s2)c2ccccc21   \n",
              "5         CHEMBL365134            O=C1C(=O)N(Cc2cc3ccccc3s2)c2c(Br)cccc21   \n",
              "7         CHEMBL190743             O=C1C(=O)N(Cc2cc3ccccc3s2)c2ccc(I)cc21   \n",
              "8         CHEMBL365469            O=C1C(=O)N(Cc2cc3ccccc3s2)c2cccc(Cl)c21   \n",
              "..                 ...                                                ...   \n",
              "240      CHEMBL4590273                  Cc1cccc2nc(CSC(=S)NCc3cccnc3)cn12   \n",
              "241      CHEMBL5436771                           S=C([S-])NCc1cccnc1.[K+]   \n",
              "242      CHEMBL2365410  CC(C)C[C@H](NC(=O)OCc1ccccc1)C(=O)N[C@@H](CC1C...   \n",
              "243      CHEMBL5436771                           S=C([S-])NCc1cccnc1.[K+]   \n",
              "244      CHEMBL2365410  CC(C)C[C@H](NC(=O)OCc1ccccc1)C(=O)N[C@@H](CC1C...   \n",
              "\n",
              "    bioactivity_class       MW     LogP  NumHDonors  NumHAcceptors     pIC50  \n",
              "2            inactive  421.190  2.66050         0.0            4.0  4.869666  \n",
              "3            inactive  293.347  3.63080         0.0            3.0  4.882397  \n",
              "5              active  372.243  4.39330         0.0            3.0  6.008774  \n",
              "7              active  419.243  4.23540         0.0            3.0  6.022276  \n",
              "8            inactive  327.792  4.28420         0.0            3.0  4.950782  \n",
              "..                ...      ...      ...         ...            ...       ...  \n",
              "240            active  328.466  3.34562         1.0            5.0  6.419999  \n",
              "241            active  222.379 -1.99300         1.0            3.0  6.782516  \n",
              "242            active  485.559  0.54470         5.0            7.0  6.793174  \n",
              "243            active  222.379 -1.99300         1.0            3.0  6.779997  \n",
              "244            active  485.559  0.54470         5.0            7.0  6.790003  \n",
              "\n",
              "[198 rows x 8 columns]"
            ]
          },
          "execution_count": 56,
          "metadata": {},
          "output_type": "execute_result"
        }
      ],
      "source": [
        "df_2class = df_final[df_final['bioactivity_class'] != 'intermediate']\n",
        "df_2class"
      ]
    },
    {
      "cell_type": "markdown",
      "metadata": {
        "colab_type": "text",
        "id": "p9vA4-hQQ8sA"
      },
      "source": [
        "---"
      ]
    },
    {
      "cell_type": "markdown",
      "metadata": {
        "colab_type": "text",
        "id": "x0vqbQWfxsZu"
      },
      "source": [
        "## **Exploratory Data Analysis (Chemical Space Analysis) via Lipinski descriptors**"
      ]
    },
    {
      "cell_type": "markdown",
      "metadata": {
        "colab_type": "text",
        "id": "18heJagiyHoF"
      },
      "source": [
        "### **Import library**"
      ]
    },
    {
      "cell_type": "code",
      "execution_count": 108,
      "metadata": {
        "colab": {
          "base_uri": "https://localhost:8080/",
          "height": 72
        },
        "colab_type": "code",
        "id": "0Egq_rNsxtIj",
        "outputId": "9a158a1d-ba81-4f2e-9b9e-66ae5ce78916"
      },
      "outputs": [],
      "source": [
        "import seaborn as sns\n",
        "sns.set_theme(style='ticks')\n",
        "import matplotlib.pyplot as plt"
      ]
    },
    {
      "cell_type": "markdown",
      "metadata": {
        "colab_type": "text",
        "id": "NiarmFbOdG3H"
      },
      "source": [
        "### **Frequency plot of the 2 bioactivity classes**"
      ]
    },
    {
      "cell_type": "code",
      "execution_count": null,
      "metadata": {
        "colab": {
          "base_uri": "https://localhost:8080/",
          "height": 367
        },
        "colab_type": "code",
        "id": "w2Ia0iycdMO2",
        "outputId": "34409d5f-d826-4bcb-8167-2d208fbdf5d8"
      },
      "outputs": [
        {
          "data": {
            "image/png": "[encoded data removed]",
            "text/plain": [
              "<Figure size 550x550 with 1 Axes>"
            ]
          },
          "metadata": {},
          "output_type": "display_data"
        }
      ],
      "source": [
        "plt.figure(figsize=(5.5, 5.5))\n",
        "\n",
        "sns.countplot(x='bioactivity_class', data=df_2class, edgecolor='black')\n",
        "\n",
        "plt.xlabel('Bioactivity class', fontsize=14, fontweight='bold')\n",
        "plt.ylabel('Frequency', fontsize=14, fontweight='bold')\n",
        "\n",
        "plt.savefig('Part_2_Results/plot_bioactivity_class.pdf')"
      ]
    },
    {
      "cell_type": "markdown",
      "metadata": {
        "colab_type": "text",
        "id": "wB68NKVG0j68"
      },
      "source": [
        "### **Scatter plot of MW versus LogP**\n",
        "\n",
        "It can be seen that the 2 bioactivity classes are spanning similar chemical spaces as evident by the scatter plot of MW vs LogP."
      ]
    },
    {
      "cell_type": "code",
      "execution_count": null,
      "metadata": {
        "colab": {
          "base_uri": "https://localhost:8080/",
          "height": 367
        },
        "colab_type": "code",
        "id": "F79BNwjF0nub",
        "outputId": "beca351e-2b02-49f9-8712-6ffcdcde425f"
      },
      "outputs": [
        {
          "data": {
            "image/png": "[encoded data removed]",
            "text/plain": [
              "<Figure size 550x550 with 1 Axes>"
            ]
          },
          "metadata": {},
          "output_type": "display_data"
        }
      ],
      "source": [
        "plt.figure(figsize=(5.5, 5.5))\n",
        "\n",
        "sns.scatterplot(x='MW', y='LogP', data=df_2class, hue='bioactivity_class', size='pIC50', edgecolor='black', alpha=0.7)\n",
        "\n",
        "plt.xlabel('MW', fontsize=14, fontweight='bold')\n",
        "plt.ylabel('LogP', fontsize=14, fontweight='bold')\n",
        "plt.legend(bbox_to_anchor=(1.05, 1), loc=2, borderaxespad=0)\n",
        "plt.savefig('Part_2_Results/plot_MW_vs_LogP.pdf')"
      ]
    },
    {
      "cell_type": "markdown",
      "metadata": {
        "colab_type": "text",
        "id": "oLAfyRwHyJfX"
      },
      "source": [
        "### **Box plots**"
      ]
    },
    {
      "cell_type": "markdown",
      "metadata": {
        "colab_type": "text",
        "id": "1n1uIAivyOkY"
      },
      "source": [
        "#### **pIC50 value**"
      ]
    },
    {
      "cell_type": "code",
      "execution_count": null,
      "metadata": {
        "colab": {
          "base_uri": "https://localhost:8080/",
          "height": 367
        },
        "colab_type": "code",
        "id": "EpPviw0hxue6",
        "outputId": "e152d135-be08-4916-9494-49990106efa9"
      },
      "outputs": [
        {
          "data": {
            "image/png": "[encoded data removed]",
            "text/plain": [
              "<Figure size 550x550 with 1 Axes>"
            ]
          },
          "metadata": {},
          "output_type": "display_data"
        }
      ],
      "source": [
        "plt.figure(figsize=(5.5, 5.5))\n",
        "\n",
        "sns.boxplot(x = 'bioactivity_class', y = 'pIC50', data = df_2class)\n",
        "\n",
        "plt.xlabel('Bioactivity class', fontsize=14, fontweight='bold')\n",
        "plt.ylabel('pIC50 value', fontsize=14, fontweight='bold')\n",
        "\n",
        "plt.savefig('Part_2_Results/plot_ic50.pdf')"
      ]
    },
    {
      "cell_type": "markdown",
      "metadata": {
        "colab_type": "text",
        "id": "PsOqKyysCZCv"
      },
      "source": [
        "**Statistical analysis | Mann-Whitney U Test**"
      ]
    },
    {
      "cell_type": "code",
      "execution_count": null,
      "metadata": {
        "colab": {},
        "colab_type": "code",
        "id": "LPdV1vDnWBsh"
      },
      "outputs": [],
      "source": [
        "def mannwhitney(descriptor, verbose=False):\n",
        "  # https://machinelearningmastery.com/nonparametric-statistical-significance-tests-in-python/\n",
        "  from numpy.random import seed\n",
        "  from numpy.random import randn\n",
        "  from scipy.stats import mannwhitneyu\n",
        "\n",
        "# seed the random number generator\n",
        "  seed(1)\n",
        "\n",
        "# actives and inactives\n",
        "  selection = [descriptor, 'bioactivity_class']\n",
        "  df = df_2class[selection]\n",
        "  active = df[df.bioactivity_class == 'active']\n",
        "  active = active[descriptor]\n",
        "\n",
        "  selection = [descriptor, 'bioactivity_class']\n",
        "  df = df_2class[selection]\n",
        "  inactive = df[df.bioactivity_class == 'inactive']\n",
        "  inactive = inactive[descriptor]\n",
        "\n",
        "# compare samples\n",
        "  stat, p = mannwhitneyu(active, inactive)\n",
        "  #print('Statistics=%.3f, p=%.3f' % (stat, p))\n",
        "\n",
        "# interpret\n",
        "  alpha = 0.05\n",
        "  if p > alpha:\n",
        "    interpretation = 'Same distribution (fail to reject H0)'\n",
        "  else:\n",
        "    interpretation = 'Different distribution (reject H0)'\n",
        "  \n",
        "  results = pd.DataFrame({'Descriptor':descriptor,\n",
        "                          'Statistics':stat,\n",
        "                          'p':p,\n",
        "                          'alpha':alpha,\n",
        "                          'Interpretation':interpretation}, index=[0])\n",
        "  filename = 'mannwhitneyu_' + descriptor + '.csv'\n",
        "  results.to_csv('Part_2_Results/'+filename)\n",
        "\n",
        "  return results"
      ]
    },
    {
      "cell_type": "code",
      "execution_count": 119,
      "metadata": {
        "colab": {
          "base_uri": "https://localhost:8080/",
          "height": 79
        },
        "colab_type": "code",
        "id": "HZmUgOmdYVm5",
        "outputId": "6996e4db-2720-4df7-8691-12a5c06c4020"
      },
      "outputs": [
        {
          "data": {
            "application/vnd.microsoft.datawrangler.viewer.v0+json": {
              "columns": [
                {
                  "name": "index",
                  "rawType": "int64",
                  "type": "integer"
                },
                {
                  "name": "Descriptor",
                  "rawType": "object",
                  "type": "string"
                },
                {
                  "name": "Statistics",
                  "rawType": "float64",
                  "type": "float"
                },
                {
                  "name": "p",
                  "rawType": "float64",
                  "type": "float"
                },
                {
                  "name": "alpha",
                  "rawType": "float64",
                  "type": "float"
                },
                {
                  "name": "Interpretation",
                  "rawType": "object",
                  "type": "string"
                }
              ],
              "ref": "777b86c4-083a-49f7-9771-b0ee7372b8fe",
              "rows": [
                [
                  "0",
                  "pIC50",
                  "5576.0",
                  "4.7609134174143327e-20",
                  "0.05",
                  "Different distribution (reject H0)"
                ]
              ],
              "shape": {
                "columns": 5,
                "rows": 1
              }
            },
            "text/html": [
              "<div>\n",
              "<style scoped>\n",
              "    .dataframe tbody tr th:only-of-type {\n",
              "        vertical-align: middle;\n",
              "    }\n",
              "\n",
              "    .dataframe tbody tr th {\n",
              "        vertical-align: top;\n",
              "    }\n",
              "\n",
              "    .dataframe thead th {\n",
              "        text-align: right;\n",
              "    }\n",
              "</style>\n",
              "<table border=\"1\" class=\"dataframe\">\n",
              "  <thead>\n",
              "    <tr style=\"text-align: right;\">\n",
              "      <th></th>\n",
              "      <th>Descriptor</th>\n",
              "      <th>Statistics</th>\n",
              "      <th>p</th>\n",
              "      <th>alpha</th>\n",
              "      <th>Interpretation</th>\n",
              "    </tr>\n",
              "  </thead>\n",
              "  <tbody>\n",
              "    <tr>\n",
              "      <th>0</th>\n",
              "      <td>pIC50</td>\n",
              "      <td>5576.0</td>\n",
              "      <td>4.760913e-20</td>\n",
              "      <td>0.05</td>\n",
              "      <td>Different distribution (reject H0)</td>\n",
              "    </tr>\n",
              "  </tbody>\n",
              "</table>\n",
              "</div>"
            ],
            "text/plain": [
              "  Descriptor  Statistics             p  alpha  \\\n",
              "0      pIC50      5576.0  4.760913e-20   0.05   \n",
              "\n",
              "                       Interpretation  \n",
              "0  Different distribution (reject H0)  "
            ]
          },
          "execution_count": 119,
          "metadata": {},
          "output_type": "execute_result"
        }
      ],
      "source": [
        "mannwhitney('pIC50')"
      ]
    },
    {
      "cell_type": "markdown",
      "metadata": {
        "colab_type": "text",
        "id": "o2UlCwPmyTBq"
      },
      "source": [
        "#### **MW**"
      ]
    },
    {
      "cell_type": "code",
      "execution_count": null,
      "metadata": {
        "colab": {
          "base_uri": "https://localhost:8080/",
          "height": 367
        },
        "colab_type": "code",
        "id": "ZNlEEsDEx3m6",
        "outputId": "50836563-3a3c-4bb4-9ae6-8db38aeaf6f0"
      },
      "outputs": [
        {
          "data": {
            "image/png": "[encoded data removed]",
            "text/plain": [
              "<Figure size 550x550 with 1 Axes>"
            ]
          },
          "metadata": {},
          "output_type": "display_data"
        }
      ],
      "source": [
        "plt.figure(figsize=(5.5, 5.5))\n",
        "\n",
        "sns.boxplot(x = 'bioactivity_class', y = 'MW', data = df_2class)\n",
        "\n",
        "plt.xlabel('Bioactivity class', fontsize=14, fontweight='bold')\n",
        "plt.ylabel('MW', fontsize=14, fontweight='bold')\n",
        "\n",
        "plt.savefig('Part_2_Results/plot_MW.pdf')"
      ]
    },
    {
      "cell_type": "code",
      "execution_count": 121,
      "metadata": {
        "colab": {
          "base_uri": "https://localhost:8080/",
          "height": 79
        },
        "colab_type": "code",
        "id": "wRl2FvgHYqaG",
        "outputId": "182737ed-20ce-414f-850e-9c11af877d71"
      },
      "outputs": [
        {
          "data": {
            "application/vnd.microsoft.datawrangler.viewer.v0+json": {
              "columns": [
                {
                  "name": "index",
                  "rawType": "int64",
                  "type": "integer"
                },
                {
                  "name": "Descriptor",
                  "rawType": "object",
                  "type": "string"
                },
                {
                  "name": "Statistics",
                  "rawType": "float64",
                  "type": "float"
                },
                {
                  "name": "p",
                  "rawType": "float64",
                  "type": "float"
                },
                {
                  "name": "alpha",
                  "rawType": "float64",
                  "type": "float"
                },
                {
                  "name": "Interpretation",
                  "rawType": "object",
                  "type": "string"
                }
              ],
              "ref": "14d5e2fa-5338-48c3-b2ad-26d79b4710bd",
              "rows": [
                [
                  "0",
                  "MW",
                  "1996.5",
                  "0.00928633200689973",
                  "0.05",
                  "Different distribution (reject H0)"
                ]
              ],
              "shape": {
                "columns": 5,
                "rows": 1
              }
            },
            "text/html": [
              "<div>\n",
              "<style scoped>\n",
              "    .dataframe tbody tr th:only-of-type {\n",
              "        vertical-align: middle;\n",
              "    }\n",
              "\n",
              "    .dataframe tbody tr th {\n",
              "        vertical-align: top;\n",
              "    }\n",
              "\n",
              "    .dataframe thead th {\n",
              "        text-align: right;\n",
              "    }\n",
              "</style>\n",
              "<table border=\"1\" class=\"dataframe\">\n",
              "  <thead>\n",
              "    <tr style=\"text-align: right;\">\n",
              "      <th></th>\n",
              "      <th>Descriptor</th>\n",
              "      <th>Statistics</th>\n",
              "      <th>p</th>\n",
              "      <th>alpha</th>\n",
              "      <th>Interpretation</th>\n",
              "    </tr>\n",
              "  </thead>\n",
              "  <tbody>\n",
              "    <tr>\n",
              "      <th>0</th>\n",
              "      <td>MW</td>\n",
              "      <td>1996.5</td>\n",
              "      <td>0.009286</td>\n",
              "      <td>0.05</td>\n",
              "      <td>Different distribution (reject H0)</td>\n",
              "    </tr>\n",
              "  </tbody>\n",
              "</table>\n",
              "</div>"
            ],
            "text/plain": [
              "  Descriptor  Statistics         p  alpha                      Interpretation\n",
              "0         MW      1996.5  0.009286   0.05  Different distribution (reject H0)"
            ]
          },
          "execution_count": 121,
          "metadata": {},
          "output_type": "execute_result"
        }
      ],
      "source": [
        "mannwhitney('MW')"
      ]
    },
    {
      "cell_type": "markdown",
      "metadata": {
        "colab_type": "text",
        "id": "z5hyBhGqyc6J"
      },
      "source": [
        "#### **LogP**"
      ]
    },
    {
      "cell_type": "code",
      "execution_count": null,
      "metadata": {
        "colab": {
          "base_uri": "https://localhost:8080/",
          "height": 367
        },
        "colab_type": "code",
        "id": "liEtkpI4yX9t",
        "outputId": "8aa9b4de-6df6-4da6-ed4c-f9376f290d9f"
      },
      "outputs": [
        {
          "data": {
            "image/png": "[encoded data removed]",
            "text/plain": [
              "<Figure size 550x550 with 1 Axes>"
            ]
          },
          "metadata": {},
          "output_type": "display_data"
        }
      ],
      "source": [
        "plt.figure(figsize=(5.5, 5.5))\n",
        "\n",
        "sns.boxplot(x = 'bioactivity_class', y = 'LogP', data = df_2class)\n",
        "\n",
        "plt.xlabel('Bioactivity class', fontsize=14, fontweight='bold')\n",
        "plt.ylabel('LogP', fontsize=14, fontweight='bold')\n",
        "\n",
        "plt.savefig('Part_2_Results/plot_LogP.pdf')"
      ]
    },
    {
      "cell_type": "markdown",
      "metadata": {
        "colab_type": "text",
        "id": "2KgV5v_oFLXh"
      },
      "source": [
        "**Statistical analysis | Mann-Whitney U Test**"
      ]
    },
    {
      "cell_type": "code",
      "execution_count": 123,
      "metadata": {
        "colab": {
          "base_uri": "https://localhost:8080/",
          "height": 79
        },
        "colab_type": "code",
        "id": "B61UsGMIFLuE",
        "outputId": "53899c37-0603-4879-c4ed-25c07b4455d9"
      },
      "outputs": [
        {
          "data": {
            "application/vnd.microsoft.datawrangler.viewer.v0+json": {
              "columns": [
                {
                  "name": "index",
                  "rawType": "int64",
                  "type": "integer"
                },
                {
                  "name": "Descriptor",
                  "rawType": "object",
                  "type": "string"
                },
                {
                  "name": "Statistics",
                  "rawType": "float64",
                  "type": "float"
                },
                {
                  "name": "p",
                  "rawType": "float64",
                  "type": "float"
                },
                {
                  "name": "alpha",
                  "rawType": "float64",
                  "type": "float"
                },
                {
                  "name": "Interpretation",
                  "rawType": "object",
                  "type": "string"
                }
              ],
              "ref": "46ad4a23-456e-4f9f-bb18-5a5fc3bdbea6",
              "rows": [
                [
                  "0",
                  "LogP",
                  "2222.5",
                  "0.06315540999648801",
                  "0.05",
                  "Same distribution (fail to reject H0)"
                ]
              ],
              "shape": {
                "columns": 5,
                "rows": 1
              }
            },
            "text/html": [
              "<div>\n",
              "<style scoped>\n",
              "    .dataframe tbody tr th:only-of-type {\n",
              "        vertical-align: middle;\n",
              "    }\n",
              "\n",
              "    .dataframe tbody tr th {\n",
              "        vertical-align: top;\n",
              "    }\n",
              "\n",
              "    .dataframe thead th {\n",
              "        text-align: right;\n",
              "    }\n",
              "</style>\n",
              "<table border=\"1\" class=\"dataframe\">\n",
              "  <thead>\n",
              "    <tr style=\"text-align: right;\">\n",
              "      <th></th>\n",
              "      <th>Descriptor</th>\n",
              "      <th>Statistics</th>\n",
              "      <th>p</th>\n",
              "      <th>alpha</th>\n",
              "      <th>Interpretation</th>\n",
              "    </tr>\n",
              "  </thead>\n",
              "  <tbody>\n",
              "    <tr>\n",
              "      <th>0</th>\n",
              "      <td>LogP</td>\n",
              "      <td>2222.5</td>\n",
              "      <td>0.063155</td>\n",
              "      <td>0.05</td>\n",
              "      <td>Same distribution (fail to reject H0)</td>\n",
              "    </tr>\n",
              "  </tbody>\n",
              "</table>\n",
              "</div>"
            ],
            "text/plain": [
              "  Descriptor  Statistics         p  alpha  \\\n",
              "0       LogP      2222.5  0.063155   0.05   \n",
              "\n",
              "                          Interpretation  \n",
              "0  Same distribution (fail to reject H0)  "
            ]
          },
          "execution_count": 123,
          "metadata": {},
          "output_type": "execute_result"
        }
      ],
      "source": [
        "mannwhitney('LogP')"
      ]
    },
    {
      "cell_type": "markdown",
      "metadata": {
        "colab_type": "text",
        "id": "4db7LZLRym2k"
      },
      "source": [
        "#### **NumHDonors**"
      ]
    },
    {
      "cell_type": "code",
      "execution_count": null,
      "metadata": {
        "colab": {
          "base_uri": "https://localhost:8080/",
          "height": 367
        },
        "colab_type": "code",
        "id": "iru1JPM1yg5A",
        "outputId": "4ab22853-c3de-4d99-ff3a-05b95f232333"
      },
      "outputs": [
        {
          "data": {
            "image/png": "[encoded data removed]",
            "text/plain": [
              "<Figure size 550x550 with 1 Axes>"
            ]
          },
          "metadata": {},
          "output_type": "display_data"
        }
      ],
      "source": [
        "plt.figure(figsize=(5.5, 5.5))\n",
        "\n",
        "sns.boxplot(x = 'bioactivity_class', y = 'NumHDonors', data = df_2class)\n",
        "\n",
        "plt.xlabel('Bioactivity class', fontsize=14, fontweight='bold')\n",
        "plt.ylabel('NumHDonors', fontsize=14, fontweight='bold')\n",
        "\n",
        "plt.savefig('Part_2_Results/plot_NumHDonors.pdf')"
      ]
    },
    {
      "cell_type": "markdown",
      "metadata": {
        "colab_type": "text",
        "id": "vM5vZWanFe3c"
      },
      "source": [
        "**Statistical analysis | Mann-Whitney U Test**"
      ]
    },
    {
      "cell_type": "code",
      "execution_count": 125,
      "metadata": {
        "colab": {
          "base_uri": "https://localhost:8080/",
          "height": 79
        },
        "colab_type": "code",
        "id": "mS-rOqq7Fd1E",
        "outputId": "6d5609b5-8f4a-4e1b-ac76-841a1d93f212"
      },
      "outputs": [
        {
          "data": {
            "application/vnd.microsoft.datawrangler.viewer.v0+json": {
              "columns": [
                {
                  "name": "index",
                  "rawType": "int64",
                  "type": "integer"
                },
                {
                  "name": "Descriptor",
                  "rawType": "object",
                  "type": "string"
                },
                {
                  "name": "Statistics",
                  "rawType": "float64",
                  "type": "float"
                },
                {
                  "name": "p",
                  "rawType": "float64",
                  "type": "float"
                },
                {
                  "name": "alpha",
                  "rawType": "float64",
                  "type": "float"
                },
                {
                  "name": "Interpretation",
                  "rawType": "object",
                  "type": "string"
                }
              ],
              "ref": "1755eea8-0ff9-467d-9909-4f34cb1a3932",
              "rows": [
                [
                  "0",
                  "NumHDonors",
                  "1831.5",
                  "0.001048607501434215",
                  "0.05",
                  "Different distribution (reject H0)"
                ]
              ],
              "shape": {
                "columns": 5,
                "rows": 1
              }
            },
            "text/html": [
              "<div>\n",
              "<style scoped>\n",
              "    .dataframe tbody tr th:only-of-type {\n",
              "        vertical-align: middle;\n",
              "    }\n",
              "\n",
              "    .dataframe tbody tr th {\n",
              "        vertical-align: top;\n",
              "    }\n",
              "\n",
              "    .dataframe thead th {\n",
              "        text-align: right;\n",
              "    }\n",
              "</style>\n",
              "<table border=\"1\" class=\"dataframe\">\n",
              "  <thead>\n",
              "    <tr style=\"text-align: right;\">\n",
              "      <th></th>\n",
              "      <th>Descriptor</th>\n",
              "      <th>Statistics</th>\n",
              "      <th>p</th>\n",
              "      <th>alpha</th>\n",
              "      <th>Interpretation</th>\n",
              "    </tr>\n",
              "  </thead>\n",
              "  <tbody>\n",
              "    <tr>\n",
              "      <th>0</th>\n",
              "      <td>NumHDonors</td>\n",
              "      <td>1831.5</td>\n",
              "      <td>0.001049</td>\n",
              "      <td>0.05</td>\n",
              "      <td>Different distribution (reject H0)</td>\n",
              "    </tr>\n",
              "  </tbody>\n",
              "</table>\n",
              "</div>"
            ],
            "text/plain": [
              "   Descriptor  Statistics         p  alpha                      Interpretation\n",
              "0  NumHDonors      1831.5  0.001049   0.05  Different distribution (reject H0)"
            ]
          },
          "execution_count": 125,
          "metadata": {},
          "output_type": "execute_result"
        }
      ],
      "source": [
        "mannwhitney('NumHDonors')"
      ]
    },
    {
      "cell_type": "markdown",
      "metadata": {
        "colab_type": "text",
        "id": "yOYQ3QiSyu7-"
      },
      "source": [
        "#### **NumHAcceptors**"
      ]
    },
    {
      "cell_type": "code",
      "execution_count": null,
      "metadata": {
        "colab": {
          "base_uri": "https://localhost:8080/",
          "height": 367
        },
        "colab_type": "code",
        "id": "yCw6tgNCyxHf",
        "outputId": "e53b4169-d3d6-4b4e-d8cf-d0378ca54ddc"
      },
      "outputs": [
        {
          "data": {
            "image/png": "[encoded data removed]",
            "text/plain": [
              "<Figure size 550x550 with 1 Axes>"
            ]
          },
          "metadata": {},
          "output_type": "display_data"
        }
      ],
      "source": [
        "plt.figure(figsize=(5.5, 5.5))\n",
        "\n",
        "sns.boxplot(x = 'bioactivity_class', y = 'NumHAcceptors', data = df_2class)\n",
        "\n",
        "plt.xlabel('Bioactivity class', fontsize=14, fontweight='bold')\n",
        "plt.ylabel('NumHAcceptors', fontsize=14, fontweight='bold')\n",
        "\n",
        "plt.savefig('Part_2_Results/plot_NumHAcceptors.pdf')"
      ]
    },
    {
      "cell_type": "code",
      "execution_count": 127,
      "metadata": {
        "colab": {
          "base_uri": "https://localhost:8080/",
          "height": 79
        },
        "colab_type": "code",
        "id": "NEQoDZctFtGG",
        "outputId": "eb994475-ed64-4633-c67b-a88e2c3ecc48"
      },
      "outputs": [
        {
          "data": {
            "application/vnd.microsoft.datawrangler.viewer.v0+json": {
              "columns": [
                {
                  "name": "index",
                  "rawType": "int64",
                  "type": "integer"
                },
                {
                  "name": "Descriptor",
                  "rawType": "object",
                  "type": "string"
                },
                {
                  "name": "Statistics",
                  "rawType": "float64",
                  "type": "float"
                },
                {
                  "name": "p",
                  "rawType": "float64",
                  "type": "float"
                },
                {
                  "name": "alpha",
                  "rawType": "float64",
                  "type": "float"
                },
                {
                  "name": "Interpretation",
                  "rawType": "object",
                  "type": "string"
                }
              ],
              "ref": "d97bced5-16cc-4327-9ec2-6dcd9beb809f",
              "rows": [
                [
                  "0",
                  "NumHAcceptors",
                  "2033.5",
                  "0.012124271376546081",
                  "0.05",
                  "Different distribution (reject H0)"
                ]
              ],
              "shape": {
                "columns": 5,
                "rows": 1
              }
            },
            "text/html": [
              "<div>\n",
              "<style scoped>\n",
              "    .dataframe tbody tr th:only-of-type {\n",
              "        vertical-align: middle;\n",
              "    }\n",
              "\n",
              "    .dataframe tbody tr th {\n",
              "        vertical-align: top;\n",
              "    }\n",
              "\n",
              "    .dataframe thead th {\n",
              "        text-align: right;\n",
              "    }\n",
              "</style>\n",
              "<table border=\"1\" class=\"dataframe\">\n",
              "  <thead>\n",
              "    <tr style=\"text-align: right;\">\n",
              "      <th></th>\n",
              "      <th>Descriptor</th>\n",
              "      <th>Statistics</th>\n",
              "      <th>p</th>\n",
              "      <th>alpha</th>\n",
              "      <th>Interpretation</th>\n",
              "    </tr>\n",
              "  </thead>\n",
              "  <tbody>\n",
              "    <tr>\n",
              "      <th>0</th>\n",
              "      <td>NumHAcceptors</td>\n",
              "      <td>2033.5</td>\n",
              "      <td>0.012124</td>\n",
              "      <td>0.05</td>\n",
              "      <td>Different distribution (reject H0)</td>\n",
              "    </tr>\n",
              "  </tbody>\n",
              "</table>\n",
              "</div>"
            ],
            "text/plain": [
              "      Descriptor  Statistics         p  alpha  \\\n",
              "0  NumHAcceptors      2033.5  0.012124   0.05   \n",
              "\n",
              "                       Interpretation  \n",
              "0  Different distribution (reject H0)  "
            ]
          },
          "execution_count": 127,
          "metadata": {},
          "output_type": "execute_result"
        }
      ],
      "source": [
        "mannwhitney('NumHAcceptors')"
      ]
    },
    {
      "cell_type": "markdown",
      "metadata": {
        "colab_type": "text",
        "id": "p4QjdHVjKYum"
      },
      "source": [
        "#### **Interpretation of Statistical Results**"
      ]
    },
    {
      "cell_type": "markdown",
      "metadata": {
        "colab_type": "text",
        "id": "mSoOBIqfLbDs"
      },
      "source": [
        "##### **Box Plots**\n",
        "\n",
        "###### **pIC50 values**\n",
        "\n",
        "Taking a look at pIC50 values, the **actives** and **inactives** displayed ***statistically significant difference***, which is to be expected since threshold values (``IC50 < 1,000 nM = Actives while IC50 > 10,000 nM = Inactives``, corresponding to ``pIC50 > 6 = Actives and pIC50 < 5 = Inactives``) were used to define actives and inactives.\n",
        "\n",
        "###### **Lipinski's descriptors**\n",
        "\n",
        "Of the 4 Lipinski's descriptors (MW, LogP, NumHDonors and NumHAcceptors), only LogP exhibited ***no difference*** between the **actives** and **inactives** while the other 3 descriptors (MW, NumHDonors and NumHAcceptors) shows ***statistically significant difference*** between **actives** and **inactives**."
      ]
    },
    {
      "cell_type": "markdown",
      "metadata": {
        "colab_type": "text",
        "id": "U-rK8l0wWnKK"
      },
      "source": [
        "## **Zip files**"
      ]
    },
    {
      "cell_type": "code",
      "execution_count": 128,
      "metadata": {
        "colab": {
          "base_uri": "https://localhost:8080/",
          "height": 243
        },
        "colab_type": "code",
        "id": "GW1ZSsfJWqbM",
        "outputId": "def6e823-0194-4848-fb5e-0d86e1ad88f4"
      },
      "outputs": [
        {
          "name": "stderr",
          "output_type": "stream",
          "text": [
            "'zip' is not recognized as an internal or external command,\n",
            "operable program or batch file.\n"
          ]
        }
      ],
      "source": [
        "! zip -r results.zip . -i *.csv *.pdf"
      ]
    },
    {
      "cell_type": "code",
      "execution_count": 0,
      "metadata": {
        "colab": {},
        "colab_type": "code",
        "id": "LMWOG2UIXEg-"
      },
      "outputs": [],
      "source": []
    }
  ],
  "metadata": {
    "colab": {
      "collapsed_sections": [],
      "name": "CDD-ML-Part-2-Exploratory-Data-Analysis.ipynb",
      "provenance": []
    },
    "kernelspec": {
      "display_name": "Python 3",
      "name": "python3"
    },
    "language_info": {
      "codemirror_mode": {
        "name": "ipython",
        "version": 3
      },
      "file_extension": ".py",
      "mimetype": "text/x-python",
      "name": "python",
      "nbconvert_exporter": "python",
      "pygments_lexer": "ipython3",
      "version": "3.12.5"
    }
  },
  "nbformat": 4,
  "nbformat_minor": 0
}
